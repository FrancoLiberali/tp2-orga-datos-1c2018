{
 "cells": [
  {
   "cell_type": "code",
   "execution_count": 3,
   "metadata": {},
   "outputs": [],
   "source": [
    "import pandas as pd\n",
    "import numpy as np\n",
    "import matplotlib.pyplot as plt\n",
    "\n",
    "%matplotlib inline"
   ]
  },
  {
   "cell_type": "code",
   "execution_count": 4,
   "metadata": {},
   "outputs": [],
   "source": [
    "vistas        = pd.read_csv('~/orga-datos/datos_preprocesados/fiuba_3_vistas.csv')"
   ]
  },
  {
   "cell_type": "code",
   "execution_count": 5,
   "metadata": {},
   "outputs": [],
   "source": [
    "postulaciones = pd.read_csv('~/orga-datos/datos_preprocesados/fiuba_4_postulaciones.csv')"
   ]
  },
  {
   "cell_type": "code",
   "execution_count": 20,
   "metadata": {},
   "outputs": [],
   "source": [
    "avisos_online = pd.read_csv('~/orga-datos/datos_preprocesados/fiuba_5_avisos_online.csv')"
   ]
  },
  {
   "cell_type": "code",
   "execution_count": 15,
   "metadata": {},
   "outputs": [],
   "source": [
    "avisos_detalle = pd.read_csv('~/orga-datos/datos_preprocesados/fiuba_6_avisos_detalle.csv')"
   ]
  },
  {
   "cell_type": "code",
   "execution_count": 16,
   "metadata": {},
   "outputs": [
    {
     "data": {
      "text/html": [
       "<div>\n",
       "<style scoped>\n",
       "    .dataframe tbody tr th:only-of-type {\n",
       "        vertical-align: middle;\n",
       "    }\n",
       "\n",
       "    .dataframe tbody tr th {\n",
       "        vertical-align: top;\n",
       "    }\n",
       "\n",
       "    .dataframe thead th {\n",
       "        text-align: right;\n",
       "    }\n",
       "</style>\n",
       "<table border=\"1\" class=\"dataframe\">\n",
       "  <thead>\n",
       "    <tr style=\"text-align: right;\">\n",
       "      <th></th>\n",
       "      <th>idaviso</th>\n",
       "      <th>idpais</th>\n",
       "      <th>titulo</th>\n",
       "      <th>descripcion</th>\n",
       "      <th>nombre_zona</th>\n",
       "      <th>ciudad</th>\n",
       "      <th>mapacalle</th>\n",
       "      <th>tipo_de_trabajo</th>\n",
       "      <th>nivel_laboral</th>\n",
       "      <th>nombre_area</th>\n",
       "      <th>denominacion_empresa</th>\n",
       "    </tr>\n",
       "  </thead>\n",
       "  <tbody>\n",
       "    <tr>\n",
       "      <th>0</th>\n",
       "      <td>1001284385</td>\n",
       "      <td>1</td>\n",
       "      <td>Dejanos tu CV</td>\n",
       "      <td>&lt;p&gt;&lt;br /&gt;Si est&amp;aacute;s interesado en ser par...</td>\n",
       "      <td>Corrientes</td>\n",
       "      <td>NaN</td>\n",
       "      <td>NaN</td>\n",
       "      <td>Full-time</td>\n",
       "      <td>NaN</td>\n",
       "      <td>Otros</td>\n",
       "      <td>Establecimiento Las Marías</td>\n",
       "    </tr>\n",
       "    <tr>\n",
       "      <th>1</th>\n",
       "      <td>1110092955</td>\n",
       "      <td>1</td>\n",
       "      <td>para línea de producción (ref. 28376)</td>\n",
       "      <td>&lt;p&gt;Empresas vinculadas a la industria automotr...</td>\n",
       "      <td>GBA Oeste</td>\n",
       "      <td>NaN</td>\n",
       "      <td>NaN</td>\n",
       "      <td>Full-time</td>\n",
       "      <td>NaN</td>\n",
       "      <td>Producción</td>\n",
       "      <td>RANDSTAD</td>\n",
       "    </tr>\n",
       "    <tr>\n",
       "      <th>2</th>\n",
       "      <td>1110092958</td>\n",
       "      <td>1</td>\n",
       "      <td>para mantenimiento (ref. 27181)</td>\n",
       "      <td>&lt;p style=\"display: inline !important;\"&gt;Empresa...</td>\n",
       "      <td>GBA Oeste</td>\n",
       "      <td>NaN</td>\n",
       "      <td>NaN</td>\n",
       "      <td>Full-time</td>\n",
       "      <td>NaN</td>\n",
       "      <td>Mantenimiento</td>\n",
       "      <td>RANDSTAD</td>\n",
       "    </tr>\n",
       "    <tr>\n",
       "      <th>3</th>\n",
       "      <td>1110391074</td>\n",
       "      <td>1</td>\n",
       "      <td>Trabajá con nosotros</td>\n",
       "      <td>&lt;p&gt;&lt;strong&gt;Trabaj&amp;aacute; con nosotros&lt;/strong...</td>\n",
       "      <td>Cordoba</td>\n",
       "      <td>NaN</td>\n",
       "      <td>NaN</td>\n",
       "      <td>Full-time</td>\n",
       "      <td>NaN</td>\n",
       "      <td>Ingeniería  Industrial</td>\n",
       "      <td>Coca Cola Andina Argentina</td>\n",
       "    </tr>\n",
       "    <tr>\n",
       "      <th>4</th>\n",
       "      <td>1110669632</td>\n",
       "      <td>1</td>\n",
       "      <td>Técnico de Mantenimiento</td>\n",
       "      <td>&lt;p&gt;Experiencia en f&amp;aacute;bricas cosm&amp;eacute;...</td>\n",
       "      <td>GBA Oeste</td>\n",
       "      <td>NaN</td>\n",
       "      <td>, Lanús</td>\n",
       "      <td>Full-time</td>\n",
       "      <td>NaN</td>\n",
       "      <td>Mantenimiento</td>\n",
       "      <td>PLUMARI S A</td>\n",
       "    </tr>\n",
       "  </tbody>\n",
       "</table>\n",
       "</div>"
      ],
      "text/plain": [
       "      idaviso  idpais                                 titulo  \\\n",
       "0  1001284385       1                          Dejanos tu CV   \n",
       "1  1110092955       1  para línea de producción (ref. 28376)   \n",
       "2  1110092958       1        para mantenimiento (ref. 27181)   \n",
       "3  1110391074       1                   Trabajá con nosotros   \n",
       "4  1110669632       1               Técnico de Mantenimiento   \n",
       "\n",
       "                                         descripcion nombre_zona ciudad  \\\n",
       "0  <p><br />Si est&aacute;s interesado en ser par...  Corrientes    NaN   \n",
       "1  <p>Empresas vinculadas a la industria automotr...   GBA Oeste    NaN   \n",
       "2  <p style=\"display: inline !important;\">Empresa...   GBA Oeste    NaN   \n",
       "3  <p><strong>Trabaj&aacute; con nosotros</strong...     Cordoba    NaN   \n",
       "4  <p>Experiencia en f&aacute;bricas cosm&eacute;...   GBA Oeste    NaN   \n",
       "\n",
       "  mapacalle tipo_de_trabajo nivel_laboral             nombre_area  \\\n",
       "0       NaN       Full-time           NaN                   Otros   \n",
       "1       NaN       Full-time           NaN              Producción   \n",
       "2       NaN       Full-time           NaN           Mantenimiento   \n",
       "3       NaN       Full-time           NaN  Ingeniería  Industrial   \n",
       "4   , Lanús       Full-time           NaN           Mantenimiento   \n",
       "\n",
       "         denominacion_empresa  \n",
       "0  Establecimiento Las Marías  \n",
       "1                    RANDSTAD  \n",
       "2                    RANDSTAD  \n",
       "3  Coca Cola Andina Argentina  \n",
       "4                 PLUMARI S A  "
      ]
     },
     "execution_count": 16,
     "metadata": {},
     "output_type": "execute_result"
    }
   ],
   "source": [
    "avisos_detalle.head()"
   ]
  },
  {
   "cell_type": "code",
   "execution_count": 17,
   "metadata": {},
   "outputs": [
    {
     "data": {
      "text/plain": [
       "25288"
      ]
     },
     "execution_count": 17,
     "metadata": {},
     "output_type": "execute_result"
    }
   ],
   "source": [
    "len(avisos_detalle)"
   ]
  },
  {
   "cell_type": "code",
   "execution_count": 18,
   "metadata": {},
   "outputs": [],
   "source": [
    "# Estas columnas no aportan suficiente información\n",
    "# idpais: Siempre vale 1\n",
    "# ciudad: Hay alrededor de 50 registros con esta información, el resto es NaN\n",
    "# mapacalle: Hay sólo 683 registros con esta información.\n",
    "avisos_detalle = avisos_detalle.drop(axis=1, labels=['idpais', 'ciudad', 'mapacalle'])"
   ]
  },
  {
   "cell_type": "code",
   "execution_count": 19,
   "metadata": {},
   "outputs": [
    {
     "data": {
      "text/plain": [
       "count     188.000000\n",
       "mean      134.510638\n",
       "std       331.906396\n",
       "min         1.000000\n",
       "25%         7.000000\n",
       "50%        36.500000\n",
       "75%       118.250000\n",
       "max      3153.000000\n",
       "Name: nombre_area, dtype: float64"
      ]
     },
     "execution_count": 19,
     "metadata": {},
     "output_type": "execute_result"
    }
   ],
   "source": [
    "(avisos_detalle['nombre_area'].value_counts()).describe()"
   ]
  },
  {
   "cell_type": "code",
   "execution_count": 20,
   "metadata": {},
   "outputs": [
    {
     "data": {
      "text/plain": [
       "21638"
      ]
     },
     "execution_count": 20,
     "metadata": {},
     "output_type": "execute_result"
    }
   ],
   "source": [
    "avisos_detalle['nombre_area'].value_counts()[(avisos_detalle['nombre_area'].value_counts() > 100)].sum()"
   ]
  },
  {
   "cell_type": "code",
   "execution_count": 21,
   "metadata": {},
   "outputs": [
    {
     "data": {
      "text/html": [
       "<div>\n",
       "<style scoped>\n",
       "    .dataframe tbody tr th:only-of-type {\n",
       "        vertical-align: middle;\n",
       "    }\n",
       "\n",
       "    .dataframe tbody tr th {\n",
       "        vertical-align: top;\n",
       "    }\n",
       "\n",
       "    .dataframe thead th {\n",
       "        text-align: right;\n",
       "    }\n",
       "</style>\n",
       "<table border=\"1\" class=\"dataframe\">\n",
       "  <thead>\n",
       "    <tr style=\"text-align: right;\">\n",
       "      <th></th>\n",
       "      <th>idaviso</th>\n",
       "      <th>titulo</th>\n",
       "      <th>descripcion</th>\n",
       "      <th>nombre_zona</th>\n",
       "      <th>tipo_de_trabajo</th>\n",
       "      <th>nivel_laboral</th>\n",
       "      <th>nombre_area</th>\n",
       "      <th>denominacion_empresa</th>\n",
       "    </tr>\n",
       "  </thead>\n",
       "  <tbody>\n",
       "    <tr>\n",
       "      <th>0</th>\n",
       "      <td>1001284385</td>\n",
       "      <td>Dejanos tu CV</td>\n",
       "      <td>&lt;p&gt;&lt;br /&gt;Si est&amp;aacute;s interesado en ser par...</td>\n",
       "      <td>Corrientes</td>\n",
       "      <td>Full-time</td>\n",
       "      <td>NaN</td>\n",
       "      <td>Otros</td>\n",
       "      <td>Establecimiento Las Marías</td>\n",
       "    </tr>\n",
       "    <tr>\n",
       "      <th>1</th>\n",
       "      <td>1110092955</td>\n",
       "      <td>para línea de producción (ref. 28376)</td>\n",
       "      <td>&lt;p&gt;Empresas vinculadas a la industria automotr...</td>\n",
       "      <td>GBA Oeste</td>\n",
       "      <td>Full-time</td>\n",
       "      <td>NaN</td>\n",
       "      <td>Producción</td>\n",
       "      <td>RANDSTAD</td>\n",
       "    </tr>\n",
       "    <tr>\n",
       "      <th>2</th>\n",
       "      <td>1110092958</td>\n",
       "      <td>para mantenimiento (ref. 27181)</td>\n",
       "      <td>&lt;p style=\"display: inline !important;\"&gt;Empresa...</td>\n",
       "      <td>GBA Oeste</td>\n",
       "      <td>Full-time</td>\n",
       "      <td>NaN</td>\n",
       "      <td>Mantenimiento</td>\n",
       "      <td>RANDSTAD</td>\n",
       "    </tr>\n",
       "    <tr>\n",
       "      <th>3</th>\n",
       "      <td>1110391074</td>\n",
       "      <td>Trabajá con nosotros</td>\n",
       "      <td>&lt;p&gt;&lt;strong&gt;Trabaj&amp;aacute; con nosotros&lt;/strong...</td>\n",
       "      <td>Cordoba</td>\n",
       "      <td>Full-time</td>\n",
       "      <td>NaN</td>\n",
       "      <td>Ingeniería  Industrial</td>\n",
       "      <td>Coca Cola Andina Argentina</td>\n",
       "    </tr>\n",
       "    <tr>\n",
       "      <th>4</th>\n",
       "      <td>1110669632</td>\n",
       "      <td>Técnico de Mantenimiento</td>\n",
       "      <td>&lt;p&gt;Experiencia en f&amp;aacute;bricas cosm&amp;eacute;...</td>\n",
       "      <td>GBA Oeste</td>\n",
       "      <td>Full-time</td>\n",
       "      <td>NaN</td>\n",
       "      <td>Mantenimiento</td>\n",
       "      <td>PLUMARI S A</td>\n",
       "    </tr>\n",
       "  </tbody>\n",
       "</table>\n",
       "</div>"
      ],
      "text/plain": [
       "      idaviso                                 titulo  \\\n",
       "0  1001284385                          Dejanos tu CV   \n",
       "1  1110092955  para línea de producción (ref. 28376)   \n",
       "2  1110092958        para mantenimiento (ref. 27181)   \n",
       "3  1110391074                   Trabajá con nosotros   \n",
       "4  1110669632               Técnico de Mantenimiento   \n",
       "\n",
       "                                         descripcion nombre_zona  \\\n",
       "0  <p><br />Si est&aacute;s interesado en ser par...  Corrientes   \n",
       "1  <p>Empresas vinculadas a la industria automotr...   GBA Oeste   \n",
       "2  <p style=\"display: inline !important;\">Empresa...   GBA Oeste   \n",
       "3  <p><strong>Trabaj&aacute; con nosotros</strong...     Cordoba   \n",
       "4  <p>Experiencia en f&aacute;bricas cosm&eacute;...   GBA Oeste   \n",
       "\n",
       "  tipo_de_trabajo nivel_laboral             nombre_area  \\\n",
       "0       Full-time           NaN                   Otros   \n",
       "1       Full-time           NaN              Producción   \n",
       "2       Full-time           NaN           Mantenimiento   \n",
       "3       Full-time           NaN  Ingeniería  Industrial   \n",
       "4       Full-time           NaN           Mantenimiento   \n",
       "\n",
       "         denominacion_empresa  \n",
       "0  Establecimiento Las Marías  \n",
       "1                    RANDSTAD  \n",
       "2                    RANDSTAD  \n",
       "3  Coca Cola Andina Argentina  \n",
       "4                 PLUMARI S A  "
      ]
     },
     "execution_count": 21,
     "metadata": {},
     "output_type": "execute_result"
    }
   ],
   "source": [
    "avisos_detalle.head()"
   ]
  },
  {
   "cell_type": "code",
   "execution_count": 22,
   "metadata": {},
   "outputs": [],
   "source": [
    "desc = avisos_detalle.iloc[1]['descripcion']"
   ]
  },
  {
   "cell_type": "code",
   "execution_count": 85,
   "metadata": {},
   "outputs": [],
   "source": [
    "from descripcion_parser import parse as dp_parse"
   ]
  },
  {
   "cell_type": "code",
   "execution_count": 86,
   "metadata": {},
   "outputs": [],
   "source": [
    "avisos_detalle['descripcion'] = avisos_detalle['descripcion'].map(dp_parse)"
   ]
  },
  {
   "cell_type": "code",
   "execution_count": 72,
   "metadata": {},
   "outputs": [
    {
     "data": {
      "text/html": [
       "<div>\n",
       "<style scoped>\n",
       "    .dataframe tbody tr th:only-of-type {\n",
       "        vertical-align: middle;\n",
       "    }\n",
       "\n",
       "    .dataframe tbody tr th {\n",
       "        vertical-align: top;\n",
       "    }\n",
       "\n",
       "    .dataframe thead th {\n",
       "        text-align: right;\n",
       "    }\n",
       "</style>\n",
       "<table border=\"1\" class=\"dataframe\">\n",
       "  <thead>\n",
       "    <tr style=\"text-align: right;\">\n",
       "      <th></th>\n",
       "      <th>idaviso</th>\n",
       "      <th>titulo</th>\n",
       "      <th>descripcion</th>\n",
       "      <th>nombre_zona</th>\n",
       "      <th>tipo_de_trabajo</th>\n",
       "      <th>nivel_laboral</th>\n",
       "      <th>nombre_area</th>\n",
       "      <th>denominacion_empresa</th>\n",
       "    </tr>\n",
       "  </thead>\n",
       "  <tbody>\n",
       "    <tr>\n",
       "      <th>0</th>\n",
       "      <td>1001284385</td>\n",
       "      <td>Dejanos tu CV</td>\n",
       "      <td>si estas interesado ser parte del grupo marias...</td>\n",
       "      <td>Corrientes</td>\n",
       "      <td>Full-time</td>\n",
       "      <td>NaN</td>\n",
       "      <td>Otros</td>\n",
       "      <td>Establecimiento Las Marías</td>\n",
       "    </tr>\n",
       "    <tr>\n",
       "      <th>1</th>\n",
       "      <td>1110092955</td>\n",
       "      <td>para línea de producción (ref. 28376)</td>\n",
       "      <td>empresas vinculadas industria automotriz zarat...</td>\n",
       "      <td>GBA Oeste</td>\n",
       "      <td>Full-time</td>\n",
       "      <td>NaN</td>\n",
       "      <td>Producción</td>\n",
       "      <td>RANDSTAD</td>\n",
       "    </tr>\n",
       "    <tr>\n",
       "      <th>2</th>\n",
       "      <td>1110092958</td>\n",
       "      <td>para mantenimiento (ref. 27181)</td>\n",
       "      <td>empresas vinculadas industria automotriz zarat...</td>\n",
       "      <td>GBA Oeste</td>\n",
       "      <td>Full-time</td>\n",
       "      <td>NaN</td>\n",
       "      <td>Mantenimiento</td>\n",
       "      <td>RANDSTAD</td>\n",
       "    </tr>\n",
       "    <tr>\n",
       "      <th>3</th>\n",
       "      <td>1110391074</td>\n",
       "      <td>Trabajá con nosotros</td>\n",
       "      <td>trabaja nosotros te invitamos formar parte del...</td>\n",
       "      <td>Cordoba</td>\n",
       "      <td>Full-time</td>\n",
       "      <td>NaN</td>\n",
       "      <td>Ingeniería  Industrial</td>\n",
       "      <td>Coca Cola Andina Argentina</td>\n",
       "    </tr>\n",
       "    <tr>\n",
       "      <th>4</th>\n",
       "      <td>1110669632</td>\n",
       "      <td>Técnico de Mantenimiento</td>\n",
       "      <td>experiencia fabricas cosmeticas alimenticias f...</td>\n",
       "      <td>GBA Oeste</td>\n",
       "      <td>Full-time</td>\n",
       "      <td>NaN</td>\n",
       "      <td>Mantenimiento</td>\n",
       "      <td>PLUMARI S A</td>\n",
       "    </tr>\n",
       "  </tbody>\n",
       "</table>\n",
       "</div>"
      ],
      "text/plain": [
       "      idaviso                                 titulo  \\\n",
       "0  1001284385                          Dejanos tu CV   \n",
       "1  1110092955  para línea de producción (ref. 28376)   \n",
       "2  1110092958        para mantenimiento (ref. 27181)   \n",
       "3  1110391074                   Trabajá con nosotros   \n",
       "4  1110669632               Técnico de Mantenimiento   \n",
       "\n",
       "                                         descripcion nombre_zona  \\\n",
       "0  si estas interesado ser parte del grupo marias...  Corrientes   \n",
       "1  empresas vinculadas industria automotriz zarat...   GBA Oeste   \n",
       "2  empresas vinculadas industria automotriz zarat...   GBA Oeste   \n",
       "3  trabaja nosotros te invitamos formar parte del...     Cordoba   \n",
       "4  experiencia fabricas cosmeticas alimenticias f...   GBA Oeste   \n",
       "\n",
       "  tipo_de_trabajo nivel_laboral             nombre_area  \\\n",
       "0       Full-time           NaN                   Otros   \n",
       "1       Full-time           NaN              Producción   \n",
       "2       Full-time           NaN           Mantenimiento   \n",
       "3       Full-time           NaN  Ingeniería  Industrial   \n",
       "4       Full-time           NaN           Mantenimiento   \n",
       "\n",
       "         denominacion_empresa  \n",
       "0  Establecimiento Las Marías  \n",
       "1                    RANDSTAD  \n",
       "2                    RANDSTAD  \n",
       "3  Coca Cola Andina Argentina  \n",
       "4                 PLUMARI S A  "
      ]
     },
     "execution_count": 72,
     "metadata": {},
     "output_type": "execute_result"
    }
   ],
   "source": [
    "avisos_detalle.head()"
   ]
  },
  {
   "cell_type": "code",
   "execution_count": 26,
   "metadata": {},
   "outputs": [
    {
     "data": {
      "text/plain": [
       "'idaviso'"
      ]
     },
     "execution_count": 26,
     "metadata": {},
     "output_type": "execute_result"
    }
   ],
   "source": [
    "avisos_detalle.columns[0]"
   ]
  },
  {
   "cell_type": "code",
   "execution_count": 27,
   "metadata": {},
   "outputs": [],
   "source": [
    "postulantes = pd.read_csv('/home/luciano/orga-datos/datos_preprocesados/postulantes.csv')"
   ]
  },
  {
   "cell_type": "code",
   "execution_count": 29,
   "metadata": {},
   "outputs": [
    {
     "data": {
      "text/html": [
       "<div>\n",
       "<style scoped>\n",
       "    .dataframe tbody tr th:only-of-type {\n",
       "        vertical-align: middle;\n",
       "    }\n",
       "\n",
       "    .dataframe tbody tr th {\n",
       "        vertical-align: top;\n",
       "    }\n",
       "\n",
       "    .dataframe thead th {\n",
       "        text-align: right;\n",
       "    }\n",
       "</style>\n",
       "<table border=\"1\" class=\"dataframe\">\n",
       "  <thead>\n",
       "    <tr style=\"text-align: right;\">\n",
       "      <th></th>\n",
       "      <th>idpostulante</th>\n",
       "      <th>Doctorado</th>\n",
       "      <th>Master</th>\n",
       "      <th>Otro</th>\n",
       "      <th>Posgrado</th>\n",
       "      <th>Secundario</th>\n",
       "      <th>Terciario/Técnico</th>\n",
       "      <th>Universitario</th>\n",
       "      <th>fechanacimiento</th>\n",
       "      <th>sexo</th>\n",
       "    </tr>\n",
       "  </thead>\n",
       "  <tbody>\n",
       "    <tr>\n",
       "      <th>0</th>\n",
       "      <td>0z5Dmrd</td>\n",
       "      <td>0</td>\n",
       "      <td>0</td>\n",
       "      <td>0</td>\n",
       "      <td>0</td>\n",
       "      <td>0</td>\n",
       "      <td>0</td>\n",
       "      <td>Graduado</td>\n",
       "      <td>1965-10-22</td>\n",
       "      <td>MASC</td>\n",
       "    </tr>\n",
       "    <tr>\n",
       "      <th>1</th>\n",
       "      <td>0z5JW1r</td>\n",
       "      <td>0</td>\n",
       "      <td>0</td>\n",
       "      <td>0</td>\n",
       "      <td>0</td>\n",
       "      <td>0</td>\n",
       "      <td>0</td>\n",
       "      <td>Abandonado</td>\n",
       "      <td>1971-04-09</td>\n",
       "      <td>MASC</td>\n",
       "    </tr>\n",
       "    <tr>\n",
       "      <th>2</th>\n",
       "      <td>0z5VvGv</td>\n",
       "      <td>0</td>\n",
       "      <td>0</td>\n",
       "      <td>0</td>\n",
       "      <td>0</td>\n",
       "      <td>Graduado</td>\n",
       "      <td>0</td>\n",
       "      <td>0</td>\n",
       "      <td>1987-10-18</td>\n",
       "      <td>MASC</td>\n",
       "    </tr>\n",
       "    <tr>\n",
       "      <th>3</th>\n",
       "      <td>0zB01pE</td>\n",
       "      <td>0</td>\n",
       "      <td>0</td>\n",
       "      <td>0</td>\n",
       "      <td>0</td>\n",
       "      <td>0</td>\n",
       "      <td>0</td>\n",
       "      <td>Abandonado</td>\n",
       "      <td>1989-12-01</td>\n",
       "      <td>MASC</td>\n",
       "    </tr>\n",
       "    <tr>\n",
       "      <th>4</th>\n",
       "      <td>0zB026d</td>\n",
       "      <td>0</td>\n",
       "      <td>0</td>\n",
       "      <td>0</td>\n",
       "      <td>0</td>\n",
       "      <td>0</td>\n",
       "      <td>Graduado</td>\n",
       "      <td>0</td>\n",
       "      <td>1978-02-23</td>\n",
       "      <td>FEM</td>\n",
       "    </tr>\n",
       "  </tbody>\n",
       "</table>\n",
       "</div>"
      ],
      "text/plain": [
       "  idpostulante Doctorado Master Otro Posgrado Secundario Terciario/Técnico  \\\n",
       "0      0z5Dmrd         0      0    0        0          0                 0   \n",
       "1      0z5JW1r         0      0    0        0          0                 0   \n",
       "2      0z5VvGv         0      0    0        0   Graduado                 0   \n",
       "3      0zB01pE         0      0    0        0          0                 0   \n",
       "4      0zB026d         0      0    0        0          0          Graduado   \n",
       "\n",
       "  Universitario fechanacimiento  sexo  \n",
       "0      Graduado      1965-10-22  MASC  \n",
       "1    Abandonado      1971-04-09  MASC  \n",
       "2             0      1987-10-18  MASC  \n",
       "3    Abandonado      1989-12-01  MASC  \n",
       "4             0      1978-02-23   FEM  "
      ]
     },
     "execution_count": 29,
     "metadata": {},
     "output_type": "execute_result"
    }
   ],
   "source": [
    "postulantes.head()"
   ]
  },
  {
   "cell_type": "code",
   "execution_count": 30,
   "metadata": {},
   "outputs": [
    {
     "data": {
      "text/html": [
       "<div>\n",
       "<style scoped>\n",
       "    .dataframe tbody tr th:only-of-type {\n",
       "        vertical-align: middle;\n",
       "    }\n",
       "\n",
       "    .dataframe tbody tr th {\n",
       "        vertical-align: top;\n",
       "    }\n",
       "\n",
       "    .dataframe thead th {\n",
       "        text-align: right;\n",
       "    }\n",
       "</style>\n",
       "<table border=\"1\" class=\"dataframe\">\n",
       "  <thead>\n",
       "    <tr style=\"text-align: right;\">\n",
       "      <th></th>\n",
       "      <th>idpostulante</th>\n",
       "      <th>Doctorado</th>\n",
       "      <th>Master</th>\n",
       "      <th>Otro</th>\n",
       "      <th>Posgrado</th>\n",
       "      <th>Secundario</th>\n",
       "      <th>Terciario/Técnico</th>\n",
       "      <th>Universitario</th>\n",
       "      <th>fechanacimiento</th>\n",
       "      <th>sexo</th>\n",
       "    </tr>\n",
       "  </thead>\n",
       "  <tbody>\n",
       "    <tr>\n",
       "      <th>69266</th>\n",
       "      <td>6M9ZQR</td>\n",
       "      <td>0</td>\n",
       "      <td>0</td>\n",
       "      <td>0</td>\n",
       "      <td>0</td>\n",
       "      <td>0</td>\n",
       "      <td>0</td>\n",
       "      <td>Graduado</td>\n",
       "      <td>1976-03-29</td>\n",
       "      <td>FEM</td>\n",
       "    </tr>\n",
       "  </tbody>\n",
       "</table>\n",
       "</div>"
      ],
      "text/plain": [
       "      idpostulante Doctorado Master Otro Posgrado Secundario  \\\n",
       "69266       6M9ZQR         0      0    0        0          0   \n",
       "\n",
       "      Terciario/Técnico Universitario fechanacimiento sexo  \n",
       "69266                 0      Graduado      1976-03-29  FEM  "
      ]
     },
     "execution_count": 30,
     "metadata": {},
     "output_type": "execute_result"
    }
   ],
   "source": [
    "postulantes[postulantes['idpostulante'] == '6M9ZQR']"
   ]
  },
  {
   "cell_type": "code",
   "execution_count": 31,
   "metadata": {},
   "outputs": [
    {
     "data": {
      "text/html": [
       "<div>\n",
       "<style scoped>\n",
       "    .dataframe tbody tr th:only-of-type {\n",
       "        vertical-align: middle;\n",
       "    }\n",
       "\n",
       "    .dataframe tbody tr th {\n",
       "        vertical-align: top;\n",
       "    }\n",
       "\n",
       "    .dataframe thead th {\n",
       "        text-align: right;\n",
       "    }\n",
       "</style>\n",
       "<table border=\"1\" class=\"dataframe\">\n",
       "  <thead>\n",
       "    <tr style=\"text-align: right;\">\n",
       "      <th></th>\n",
       "      <th>idaviso</th>\n",
       "      <th>titulo</th>\n",
       "      <th>descripcion</th>\n",
       "      <th>nombre_zona</th>\n",
       "      <th>tipo_de_trabajo</th>\n",
       "      <th>nivel_laboral</th>\n",
       "      <th>nombre_area</th>\n",
       "      <th>denominacion_empresa</th>\n",
       "    </tr>\n",
       "  </thead>\n",
       "  <tbody>\n",
       "    <tr>\n",
       "      <th>19938</th>\n",
       "      <td>739260</td>\n",
       "      <td>Asistente Comercial</td>\n",
       "      <td>Nuestro cliente es una empresa nac. ubicada en...</td>\n",
       "      <td>Capital Federal</td>\n",
       "      <td>Full-time</td>\n",
       "      <td>Jefe / Supervisor / Responsable</td>\n",
       "      <td>Comercial</td>\n",
       "      <td>BUMERAN.COM ARGENTINA</td>\n",
       "    </tr>\n",
       "  </tbody>\n",
       "</table>\n",
       "</div>"
      ],
      "text/plain": [
       "       idaviso               titulo  \\\n",
       "19938   739260  Asistente Comercial   \n",
       "\n",
       "                                             descripcion      nombre_zona  \\\n",
       "19938  Nuestro cliente es una empresa nac. ubicada en...  Capital Federal   \n",
       "\n",
       "      tipo_de_trabajo                    nivel_laboral nombre_area  \\\n",
       "19938       Full-time  Jefe / Supervisor / Responsable   Comercial   \n",
       "\n",
       "        denominacion_empresa  \n",
       "19938  BUMERAN.COM ARGENTINA  "
      ]
     },
     "execution_count": 31,
     "metadata": {},
     "output_type": "execute_result"
    }
   ],
   "source": [
    "avisos_detalle[avisos_detalle['idaviso'] == 739260]"
   ]
  },
  {
   "cell_type": "code",
   "execution_count": 33,
   "metadata": {},
   "outputs": [],
   "source": [
    "desc_1 = avisos_detalle['descripcion'][0]\n",
    "desc_2 = avisos_detalle['descripcion'][1]"
   ]
  },
  {
   "cell_type": "code",
   "execution_count": 34,
   "metadata": {},
   "outputs": [
    {
     "data": {
      "text/plain": [
       "'Si estás interesado en ser parte del Grupo Las Marías ingresá y dejanos tus datos.'"
      ]
     },
     "execution_count": 34,
     "metadata": {},
     "output_type": "execute_result"
    }
   ],
   "source": [
    "dp_parse(desc_1)"
   ]
  },
  {
   "cell_type": "code",
   "execution_count": 35,
   "metadata": {},
   "outputs": [
    {
     "data": {
      "text/plain": [
       "'Empresas vinculadas a la industria automotriz en Zárate y Campana estarán seleccionando candidatos para desempeñarse en tareas de línea de producción para sus plantas industriales.\\xa0 Los interesados deberán contar con estudios secundarios completos, tener 18 años o más y tener disponibilidad para trabajar en turnos rotativos.\\xa0 \\r\\n \\r\\n Si estas interesado postulate a la referencia elegida. \\r\\n También podes enviarnos tu CV por mail a: cvcampana@randstad.com.ar . \\r\\n'"
      ]
     },
     "execution_count": 35,
     "metadata": {},
     "output_type": "execute_result"
    }
   ],
   "source": [
    "desc_2"
   ]
  },
  {
   "cell_type": "code",
   "execution_count": 36,
   "metadata": {},
   "outputs": [
    {
     "data": {
      "text/plain": [
       "'Empresas vinculadas a la industria automotriz en Zárate y Campana estarán seleccionando candidatos para desempeñarse en tareas de línea de producción para sus plantas industriales.\\xa0 Los interesados deberán contar con estudios secundarios completos, tener 18 años o más y tener disponibilidad para trabajar en turnos rotativos.\\xa0 \\r\\n \\r\\n Si estas interesado postulate a la referencia elegida. \\r\\n También podes enviarnos tu CV por mail a: cvcampana@randstad.com.ar . \\r\\n'"
      ]
     },
     "execution_count": 36,
     "metadata": {},
     "output_type": "execute_result"
    }
   ],
   "source": [
    "desc_2"
   ]
  },
  {
   "cell_type": "code",
   "execution_count": 37,
   "metadata": {},
   "outputs": [
    {
     "data": {
      "text/plain": [
       "82"
      ]
     },
     "execution_count": 37,
     "metadata": {},
     "output_type": "execute_result"
    }
   ],
   "source": [
    "len(desc_1)"
   ]
  },
  {
   "cell_type": "code",
   "execution_count": 38,
   "metadata": {},
   "outputs": [],
   "source": [
    "from sklearn.feature_extraction.text import TfidfVectorizer\n",
    "import numpy as np\n",
    "from sklearn.metrics.pairwise import cosine_similarity\n",
    "from sklearn.cluster import KMeans\n",
    "\n",
    "esp_stop_words = set([\"0\",\"1\",\"2\",\"3\",\"4\",\"5\",\"6\",\"7\",\"8\",\"9\",\"_\",\"a\",\"actualmente\",\"acuerdo\",\"adelante\",\"ademas\",\"además\",\"adrede\",\"afirmó\",\"agregó\",\"ahi\",\"ahora\",\"ahí\",\"al\",\"algo\",\"alguna\",\"algunas\",\"alguno\",\"algunos\",\"algún\",\"alli\",\"allí\",\"alrededor\",\"ambos\",\"ampleamos\",\"antano\",\"antaño\",\"ante\",\"anterior\",\"antes\",\"apenas\",\"aproximadamente\",\"aquel\",\"aquella\",\"aquellas\",\"aquello\",\"aquellos\",\"aqui\",\"aquél\",\"aquélla\",\"aquéllas\",\"aquéllos\",\"aquí\",\"arriba\",\"arribaabajo\",\"aseguró\",\"asi\",\"así\",\"atras\",\"aun\",\"aunque\",\"ayer\",\"añadió\",\"aún\",\"b\",\"bajo\",\"bastante\",\"bien\",\"breve\",\"buen\",\"buena\",\"buenas\",\"bueno\",\"buenos\",\"c\",\"cada\",\"casi\",\"cerca\",\"cierta\",\"ciertas\",\"cierto\",\"ciertos\",\"cinco\",\"claro\",\"comentó\",\"como\",\"con\",\"conmigo\",\"conocer\",\"conseguimos\",\"conseguir\",\"considera\",\"consideró\",\"consigo\",\"consigue\",\"consiguen\",\"consigues\",\"contigo\",\"contra\",\"cosas\",\"creo\",\"cual\",\"cuales\",\"cualquier\",\"cuando\",\"cuanta\",\"cuantas\",\"cuanto\",\"cuantos\",\"cuatro\",\"cuenta\",\"cuál\",\"cuáles\",\"cuándo\",\"cuánta\",\"cuántas\",\"cuánto\",\"cuántos\",\"cómo\",\"d\",\"da\",\"dado\",\"dan\",\"dar\",\"de\",\"debajo\",\"debe\",\"deben\",\"debido\",\"decir\",\"dejó\",\"del\",\"delante\",\"demasiado\",\"demás\",\"dentro\",\"deprisa\",\"desde\",\"despacio\",\"despues\",\"después\",\"detras\",\"detrás\",\"dia\",\"dias\",\"dice\",\"dicen\",\"dicho\",\"dieron\",\"diferente\",\"diferentes\",\"dijeron\",\"dijo\",\"dio\",\"donde\",\"dos\",\"durante\",\"día\",\"días\",\"dónde\",\"e\",\"ejemplo\",\"el\",\"ella\",\"ellas\",\"ello\",\"ellos\",\"embargo\",\"empleais\",\"emplean\",\"emplear\",\"empleas\",\"empleo\",\"en\",\"encima\",\"encuentra\",\"enfrente\",\"enseguida\",\"entonces\",\"entre\",\"era\",\"erais\",\"eramos\",\"eran\",\"eras\",\"eres\",\"es\",\"esa\",\"esas\",\"ese\",\"eso\",\"esos\",\"esta\",\"estaba\",\"estabais\",\"estaban\",\"estabas\",\"estad\",\"estada\",\"estadas\",\"estado\",\"estados\",\"estais\",\"estamos\",\"estan\",\"estando\",\"estar\",\"estaremos\",\"estará\",\"estarán\",\"estarás\",\"estaré\",\"estaréis\",\"estaría\",\"estaríais\",\"estaríamos\",\"estarían\",\"estarías\",\"estas\",\"este\",\"estemos\",\"esto\",\"estos\",\"estoy\",\"estuve\",\"estuviera\",\"estuvierais\",\"estuvieran\",\"estuvieras\",\"estuvieron\",\"estuviese\",\"estuvieseis\",\"estuviesen\",\"estuvieses\",\"estuvimos\",\"estuviste\",\"estuvisteis\",\"estuviéramos\",\"estuviésemos\",\"estuvo\",\"está\",\"estábamos\",\"estáis\",\"están\",\"estás\",\"esté\",\"estéis\",\"estén\",\"estés\",\"ex\",\"excepto\",\"existe\",\"existen\",\"explicó\",\"expresó\",\"f\",\"fin\",\"final\",\"fue\",\"fuera\",\"fuerais\",\"fueran\",\"fueras\",\"fueron\",\"fuese\",\"fueseis\",\"fuesen\",\"fueses\",\"fui\",\"fuimos\",\"fuiste\",\"fuisteis\",\"fuéramos\",\"fuésemos\",\"g\",\"general\",\"gran\",\"grandes\",\"gueno\",\"h\",\"ha\",\"haber\",\"habia\",\"habida\",\"habidas\",\"habido\",\"habidos\",\"habiendo\",\"habla\",\"hablan\",\"habremos\",\"habrá\",\"habrán\",\"habrás\",\"habré\",\"habréis\",\"habría\",\"habríais\",\"habríamos\",\"habrían\",\"habrías\",\"habéis\",\"había\",\"habíais\",\"habíamos\",\"habían\",\"habías\",\"hace\",\"haceis\",\"hacemos\",\"hacen\",\"hacer\",\"hacerlo\",\"haces\",\"hacia\",\"haciendo\",\"hago\",\"han\",\"has\",\"hasta\",\"hay\",\"haya\",\"hayamos\",\"hayan\",\"hayas\",\"hayáis\",\"he\",\"hecho\",\"hemos\",\"hicieron\",\"hizo\",\"horas\",\"hoy\",\"hube\",\"hubiera\",\"hubierais\",\"hubieran\",\"hubieras\",\"hubieron\",\"hubiese\",\"hubieseis\",\"hubiesen\",\"hubieses\",\"hubimos\",\"hubiste\",\"hubisteis\",\"hubiéramos\",\"hubiésemos\",\"hubo\",\"i\",\"igual\",\"incluso\",\"indicó\",\"informo\",\"informó\",\"intenta\",\"intentais\",\"intentamos\",\"intentan\",\"intentar\",\"intentas\",\"intento\",\"ir\",\"j\",\"junto\",\"k\",\"l\",\"la\",\"lado\",\"largo\",\"las\",\"le\",\"lejos\",\"les\",\"llegó\",\"lleva\",\"llevar\",\"lo\",\"los\",\"luego\",\"lugar\",\"m\",\"mal\",\"manera\",\"manifestó\",\"mas\",\"mayor\",\"me\",\"mediante\",\"medio\",\"mejor\",\"mencionó\",\"menos\",\"menudo\",\"mi\",\"mia\",\"mias\",\"mientras\",\"mio\",\"mios\",\"mis\",\"misma\",\"mismas\",\"mismo\",\"mismos\",\"modo\",\"momento\",\"mucha\",\"muchas\",\"mucho\",\"muchos\",\"muy\",\"más\",\"mí\",\"mía\",\"mías\",\"mío\",\"míos\",\"n\",\"nada\",\"nadie\",\"ni\",\"ninguna\",\"ningunas\",\"ninguno\",\"ningunos\",\"ningún\",\"no\",\"nos\",\"nosotras\",\"nosotros\",\"nuestra\",\"nuestras\",\"nuestro\",\"nuestros\",\"nueva\",\"nuevas\",\"nuevo\",\"nuevos\",\"nunca\",\"o\",\"ocho\",\"os\",\"otra\",\"otras\",\"otro\",\"otros\",\"p\",\"pais\",\"para\",\"parece\",\"parte\",\"partir\",\"pasada\",\"pasado\",\"paìs\",\"peor\",\"pero\",\"pesar\",\"poca\",\"pocas\",\"poco\",\"pocos\",\"podeis\",\"podemos\",\"poder\",\"podria\",\"podriais\",\"podriamos\",\"podrian\",\"podrias\",\"podrá\",\"podrán\",\"podría\",\"podrían\",\"poner\",\"por\",\"por qué\",\"porque\",\"posible\",\"primer\",\"primera\",\"primero\",\"primeros\",\"principalmente\",\"pronto\",\"propia\",\"propias\",\"propio\",\"propios\",\"proximo\",\"próximo\",\"próximos\",\"pudo\",\"pueda\",\"puede\",\"pueden\",\"puedo\",\"pues\",\"q\",\"qeu\",\"que\",\"quedó\",\"queremos\",\"quien\",\"quienes\",\"quiere\",\"quiza\",\"quizas\",\"quizá\",\"quizás\",\"quién\",\"quiénes\",\"qué\",\"r\",\"raras\",\"realizado\",\"realizar\",\"realizó\",\"repente\",\"respecto\",\"s\",\"sabe\",\"sabeis\",\"sabemos\",\"saben\",\"saber\",\"sabes\",\"sal\",\"salvo\",\"se\",\"sea\",\"seamos\",\"sean\",\"seas\",\"segun\",\"segunda\",\"segundo\",\"según\",\"seis\",\"ser\",\"sera\",\"seremos\",\"será\",\"serán\",\"serás\",\"seré\",\"seréis\",\"sería\",\"seríais\",\"seríamos\",\"serían\",\"serías\",\"seáis\",\"señaló\",\"si\",\"sido\",\"siempre\",\"siendo\",\"siete\",\"sigue\",\"siguiente\",\"sin\",\"sino\",\"sobre\",\"sois\",\"sola\",\"solamente\",\"solas\",\"solo\",\"solos\",\"somos\",\"son\",\"soy\",\"soyos\",\"su\",\"supuesto\",\"sus\",\"suya\",\"suyas\",\"suyo\",\"suyos\",\"sé\",\"sí\",\"sólo\",\"t\",\"tal\",\"tambien\",\"también\",\"tampoco\",\"tan\",\"tanto\",\"tarde\",\"te\",\"temprano\",\"tendremos\",\"tendrá\",\"tendrán\",\"tendrás\",\"tendré\",\"tendréis\",\"tendría\",\"tendríais\",\"tendríamos\",\"tendrían\",\"tendrías\",\"tened\",\"teneis\",\"tenemos\",\"tener\",\"tenga\",\"tengamos\",\"tengan\",\"tengas\",\"tengo\",\"tengáis\",\"tenida\",\"tenidas\",\"tenido\",\"tenidos\",\"teniendo\",\"tenéis\",\"tenía\",\"teníais\",\"teníamos\",\"tenían\",\"tenías\",\"tercera\",\"ti\",\"tiempo\",\"tiene\",\"tienen\",\"tienes\",\"toda\",\"todas\",\"todavia\",\"todavía\",\"todo\",\"todos\",\"total\",\"trabaja\",\"trabajais\",\"trabajamos\",\"trabajan\",\"trabajar\",\"trabajas\",\"trabajo\",\"tras\",\"trata\",\"través\",\"tres\",\"tu\",\"tus\",\"tuve\",\"tuviera\",\"tuvierais\",\"tuvieran\",\"tuvieras\",\"tuvieron\",\"tuviese\",\"tuvieseis\",\"tuviesen\",\"tuvieses\",\"tuvimos\",\"tuviste\",\"tuvisteis\",\"tuviéramos\",\"tuviésemos\",\"tuvo\",\"tuya\",\"tuyas\",\"tuyo\",\"tuyos\",\"tú\",\"u\",\"ultimo\",\"un\",\"una\",\"unas\",\"uno\",\"unos\",\"usa\",\"usais\",\"usamos\",\"usan\",\"usar\",\"usas\",\"uso\",\"usted\",\"ustedes\",\"v\",\"va\",\"vais\",\"valor\",\"vamos\",\"van\",\"varias\",\"varios\",\"vaya\",\"veces\",\"ver\",\"verdad\",\"verdadera\",\"verdadero\",\"vez\",\"vosotras\",\"vosotros\",\"voy\",\"vuestra\",\"vuestras\",\"vuestro\",\"vuestros\",\"w\",\"x\",\"y\",\"ya\",\"yo\",\"z\",\"él\",\"éramos\",\"ésa\",\"ésas\",\"ése\",\"ésos\",\"ésta\",\"éstas\",\"éste\",\"éstos\",\"última\",\"últimas\",\"último\",\"últimos\"])\n",
    "#esp_stop_words = set(['el', 'la', 'los', \n",
    "#        'les', 'que', 'para', 'las', 'como', 'donde', 'a', 'y', \n",
    "#        'o', 'por', 'pero', 'sobre', 'sin', 'en', 'con', 'tras',\n",
    "#        'contra', 'queres', 'trabajo', 'se', 'de', 'requisito', 'requisitos',\n",
    "#        'plata'])\n",
    "\n",
    "tfidf_vectorizer = TfidfVectorizer(strip_accents='unicode', stop_words = esp_stop_words)\n",
    "tfidf_matrix = tfidf_vectorizer.fit_transform(avisos_detalle['descripcion'])"
   ]
  },
  {
   "cell_type": "code",
   "execution_count": 29,
   "metadata": {},
   "outputs": [
    {
     "data": {
      "text/plain": [
       "<19685x33504 sparse matrix of type '<class 'numpy.float64'>'\n",
       "\twith 1395379 stored elements in Compressed Sparse Row format>"
      ]
     },
     "execution_count": 29,
     "metadata": {},
     "output_type": "execute_result"
    }
   ],
   "source": [
    "tfidf_matrix"
   ]
  },
  {
   "cell_type": "code",
   "execution_count": 39,
   "metadata": {},
   "outputs": [],
   "source": [
    "from numpy.linalg import svd\n",
    "from scipy.sparse.linalg import svds\n",
    "from scipy.sparse import csr_matrix\n",
    "u, s, vt = svds(tfidf_matrix, k=50)"
   ]
  },
  {
   "cell_type": "code",
   "execution_count": 40,
   "metadata": {},
   "outputs": [],
   "source": [
    "s = s[::-1]"
   ]
  },
  {
   "cell_type": "code",
   "execution_count": 41,
   "metadata": {},
   "outputs": [
    {
     "data": {
      "text/plain": [
       "[<matplotlib.lines.Line2D at 0x7f5f30a5ae80>]"
      ]
     },
     "execution_count": 41,
     "metadata": {},
     "output_type": "execute_result"
    },
    {
     "data": {
      "image/png": "[encoded data removed]",
      "text/plain": [
       "<Figure size 432x288 with 1 Axes>"
      ]
     },
     "metadata": {},
     "output_type": "display_data"
    }
   ],
   "source": [
    "plt.plot(s)\n",
    "#s[:25]"
   ]
  },
  {
   "cell_type": "code",
   "execution_count": 42,
   "metadata": {},
   "outputs": [],
   "source": [
    "def calcular_distancias(id_1, id_2):\n",
    "    dist = np.linalg.norm(u[id_1]-u[id_2])\n",
    "    print('Desc 1:', avisos_detalle['descripcion'][id_1])\n",
    "    print()\n",
    "    print('Desc 2:', avisos_detalle['descripcion'][id_2])\n",
    "    return dist"
   ]
  },
  {
   "cell_type": "code",
   "execution_count": 43,
   "metadata": {},
   "outputs": [
    {
     "name": "stdout",
     "output_type": "stream",
     "text": [
      "Desc 1: Si estás interesado en ser parte del Grupo Las Marías ingresá y dejanos tus datos.\n",
      "\n",
      "Desc 2: Empresas vinculadas a la industria automotriz en Zárate y Campana estarán seleccionando candidatos para desempeñarse en tareas de línea de producción para sus plantas industriales.  Los interesados deberán contar con estudios secundarios completos, tener 18 años o más y tener disponibilidad para trabajar en turnos rotativos.  \n",
      " \n",
      " Si estas interesado postulate a la referencia elegida. \n",
      " También podes enviarnos tu CV por mail a: cvcampana@randstad.com.ar . \n",
      "\n"
     ]
    },
    {
     "data": {
      "text/plain": [
       "0.03811510320765986"
      ]
     },
     "execution_count": 43,
     "metadata": {},
     "output_type": "execute_result"
    }
   ],
   "source": [
    "calcular_distancias(0, 1)"
   ]
  },
  {
   "cell_type": "code",
   "execution_count": 44,
   "metadata": {},
   "outputs": [
    {
     "name": "stdout",
     "output_type": "stream",
     "text": [
      "Desc 1: Si estás interesado en ser parte del Grupo Las Marías ingresá y dejanos tus datos.\n",
      "\n",
      "Desc 2: Empresas vinculadas a la industria automotriz en Zárate y Campana estarán seleccionando candidatos para desempeñarse en tareas de mantenimiento para sus plantas industriales.  Los interesados deberán contar con estudios secundarios técnicos completos , tener 18 años o más y tener disponibilidad para trabajar en turnos rotativos.  \n",
      " \n",
      " Si estas interesado postulate a la referencia elegida en  www.randstad.com.ar .. \n",
      " También podes enviarnos tu CV por mail a: cvcampana@randstad.com.ar .  \n",
      "\n"
     ]
    },
    {
     "data": {
      "text/plain": [
       "0.032241494937407626"
      ]
     },
     "execution_count": 44,
     "metadata": {},
     "output_type": "execute_result"
    }
   ],
   "source": [
    "calcular_distancias(0, 2)"
   ]
  },
  {
   "cell_type": "code",
   "execution_count": 40,
   "metadata": {},
   "outputs": [],
   "source": [
    "desc = \"buscamos un chofer para manejar taxis con licencia profesional en caba horario extendido se trabaja feriados con experiencia en el rubro con probable\""
   ]
  },
  {
   "cell_type": "code",
   "execution_count": 49,
   "metadata": {},
   "outputs": [],
   "source": [
    "avisos_detalle[avisos_detalle['descripcion'].str.contains('enfermer')]['descripcion']\n",
    "desc_2681 = avisos_detalle['descripcion'][2681]\n",
    "desc_233 = avisos_detalle['descripcion'][233]"
   ]
  },
  {
   "cell_type": "code",
   "execution_count": 50,
   "metadata": {},
   "outputs": [
    {
     "data": {
      "text/plain": [
       "'Se solicitan enfermeros con matricula habilitante para cubrir guardias: Pediatricas Diurnas (Día por medio de 8 a 20) Pediatricas Nocturnas (Noche por Medio de 20 a 8) Adultos Diurno (Día por medio de 8 a 20) Enviar CV para concertar entrevista'"
      ]
     },
     "execution_count": 50,
     "metadata": {},
     "output_type": "execute_result"
    }
   ],
   "source": [
    "desc_2681"
   ]
  },
  {
   "cell_type": "code",
   "execution_count": 51,
   "metadata": {},
   "outputs": [
    {
     "data": {
      "text/plain": [
       "'Nos encontramos en búsqueda de un enfermero para integrar el equipo médico del Centro de Distribución de Buenos Aires ubicado en Santos Lugares. \\xa0 Principales Responsabilidades: \\xa0 -Asistir los primeros auxilios o emergencias que sucedan en el centro de distribución. -Llevar indicadores de la salud de los empleados. -Dar Charlas informativas sobre temas de salud y prevención -Realizar evaluaciones ergonómicas de los puestos de trabajo, entre otras tareas \\xa0 Requisitos: \\xa0 -Auxiliar de enfermería o afín, graduado \\xa0 - Proactividad para sugerir oportunidades de mejora en el servicio. \\xa0 Contamos con un interesante paquete de beneficios! \\xa0 Lugar de trabajo: Santos Lugares, Provincia de Buenos Aires Horario: Lunes a viernes de 18 a 2am. Domingo de 00 a 6am Modalidad de trabajo: Efectivo, full-time \\xa0'"
      ]
     },
     "execution_count": 51,
     "metadata": {},
     "output_type": "execute_result"
    }
   ],
   "source": [
    "desc_233"
   ]
  },
  {
   "cell_type": "code",
   "execution_count": 52,
   "metadata": {},
   "outputs": [
    {
     "name": "stdout",
     "output_type": "stream",
     "text": [
      "Desc 1: Se solicitan enfermeros con matricula habilitante para cubrir guardias: Pediatricas Diurnas (Día por medio de 8 a 20) Pediatricas Nocturnas (Noche por Medio de 20 a 8) Adultos Diurno (Día por medio de 8 a 20) Enviar CV para concertar entrevista\n",
      "\n",
      "Desc 2: Nos encontramos en búsqueda de un enfermero para integrar el equipo médico del Centro de Distribución de Buenos Aires ubicado en Santos Lugares.   Principales Responsabilidades:   -Asistir los primeros auxilios o emergencias que sucedan en el centro de distribución. -Llevar indicadores de la salud de los empleados. -Dar Charlas informativas sobre temas de salud y prevención -Realizar evaluaciones ergonómicas de los puestos de trabajo, entre otras tareas   Requisitos:   -Auxiliar de enfermería o afín, graduado   - Proactividad para sugerir oportunidades de mejora en el servicio.   Contamos con un interesante paquete de beneficios!   Lugar de trabajo: Santos Lugares, Provincia de Buenos Aires Horario: Lunes a viernes de 18 a 2am. Domingo de 00 a 6am Modalidad de trabajo: Efectivo, full-time  \n"
     ]
    },
    {
     "data": {
      "text/plain": [
       "0.027132692092240774"
      ]
     },
     "execution_count": 52,
     "metadata": {},
     "output_type": "execute_result"
    }
   ],
   "source": [
    "calcular_distancias(2681, 233)"
   ]
  },
  {
   "cell_type": "code",
   "execution_count": 54,
   "metadata": {},
   "outputs": [
    {
     "name": "stdout",
     "output_type": "stream",
     "text": [
      "Desc 1: Empresas vinculadas a la industria automotriz en Zárate y Campana estarán seleccionando candidatos para desempeñarse en tareas de línea de producción para sus plantas industriales.  Los interesados deberán contar con estudios secundarios completos, tener 18 años o más y tener disponibilidad para trabajar en turnos rotativos.  \n",
      " \n",
      " Si estas interesado postulate a la referencia elegida. \n",
      " También podes enviarnos tu CV por mail a: cvcampana@randstad.com.ar . \n",
      "\n",
      "\n",
      "Desc 2: Se solicitan enfermeros con matricula habilitante para cubrir guardias: Pediatricas Diurnas (Día por medio de 8 a 20) Pediatricas Nocturnas (Noche por Medio de 20 a 8) Adultos Diurno (Día por medio de 8 a 20) Enviar CV para concertar entrevista\n"
     ]
    },
    {
     "data": {
      "text/plain": [
       "0.038006980879228734"
      ]
     },
     "execution_count": 54,
     "metadata": {},
     "output_type": "execute_result"
    }
   ],
   "source": [
    "calcular_distancias(1, 2681)"
   ]
  },
  {
   "cell_type": "code",
   "execution_count": 38,
   "metadata": {},
   "outputs": [
    {
     "data": {
      "text/plain": [
       "59.507487490829966"
      ]
     },
     "execution_count": 38,
     "metadata": {},
     "output_type": "execute_result"
    }
   ],
   "source": [
    "singular_values = s\n",
    "energy_total = sum(singular_values**2)\n",
    "sv_pow = singular_values**2\n",
    "energy_percentage = ((sv_pow / energy_total) * 100)\n",
    "#print(energy_percentage)\n",
    "sum(energy_percentage[:250])"
   ]
  },
  {
   "cell_type": "code",
   "execution_count": 60,
   "metadata": {},
   "outputs": [],
   "source": [
    "from sklearn.cluster import KMeans\n",
    "\n",
    "clusters = KMeans().fit_transform(u)"
   ]
  },
  {
   "cell_type": "code",
   "execution_count": 61,
   "metadata": {},
   "outputs": [
    {
     "data": {
      "text/plain": [
       "array([[0.02964121, 0.11650268, 0.0273621 , ..., 0.01483655, 0.10157156,\n",
       "        0.01424319],\n",
       "       [0.03990982, 0.12329781, 0.04570592, ..., 0.03948776, 0.11140439,\n",
       "        0.03971529],\n",
       "       [0.0351485 , 0.12306078, 0.04107938, ..., 0.03398198, 0.10930788,\n",
       "        0.03472056],\n",
       "       ...,\n",
       "       [0.06169409, 0.12741304, 0.06052413, ..., 0.05437904, 0.11561116,\n",
       "        0.05526805],\n",
       "       [0.04930207, 0.12006235, 0.04772258, ..., 0.0405727 , 0.10609153,\n",
       "        0.04166948],\n",
       "       [0.05122228, 0.11597695, 0.0493275 , ..., 0.04310548, 0.10772133,\n",
       "        0.04251906]])"
      ]
     },
     "execution_count": 61,
     "metadata": {},
     "output_type": "execute_result"
    }
   ],
   "source": [
    "clusters"
   ]
  },
  {
   "cell_type": "code",
   "execution_count": 59,
   "metadata": {},
   "outputs": [
    {
     "data": {
      "text/plain": [
       "array([0, 0, 0, ..., 0, 0, 0], dtype=int32)"
      ]
     },
     "execution_count": 59,
     "metadata": {},
     "output_type": "execute_result"
    }
   ],
   "source": [
    "clusters.labels_"
   ]
  },
  {
   "cell_type": "code",
   "execution_count": 90,
   "metadata": {},
   "outputs": [
    {
     "data": {
      "text/plain": [
       "0                                    Otros\n",
       "1                               Producción\n",
       "2                            Mantenimiento\n",
       "3                   Ingeniería  Industrial\n",
       "4                            Mantenimiento\n",
       "5                      Atención al Cliente\n",
       "6                               Transporte\n",
       "7                 Mantenimiento y Limpieza\n",
       "8                 Mantenimiento y Limpieza\n",
       "9        Planeamiento económico-financiero\n",
       "10                               Impuestos\n",
       "11                            Programación\n",
       "12                                   Redes\n",
       "13                               Comercial\n",
       "14                                 Compras\n",
       "15                     Atención al Cliente\n",
       "16                                  Ventas\n",
       "17                                  Ventas\n",
       "18                Mantenimiento y Limpieza\n",
       "19                               Logística\n",
       "20                                 Compras\n",
       "21                                  Ventas\n",
       "22                               Comercial\n",
       "23                                  Ventas\n",
       "24                              Producción\n",
       "25                                Sistemas\n",
       "26         Almacén / Depósito / Expedición\n",
       "27                                 Seguros\n",
       "28                              Producción\n",
       "29                              Producción\n",
       "                       ...                \n",
       "25258                           Producción\n",
       "25259                         Construcción\n",
       "25260                    Dirección de Obra\n",
       "25261                            Comercial\n",
       "25262                    Diseño Industrial\n",
       "25263                         Construcción\n",
       "25264                       Administración\n",
       "25265                               Ventas\n",
       "25266                       Administración\n",
       "25267                       Administración\n",
       "25268                               Ventas\n",
       "25269                       Administración\n",
       "25270                            Comercial\n",
       "25271                            Seguridad\n",
       "25272                                Legal\n",
       "25273                            Comercial\n",
       "25274                           Diseño Web\n",
       "25275                        Recepcionista\n",
       "25276      Almacén / Depósito / Expedición\n",
       "25277                         Programación\n",
       "25278                            Selección\n",
       "25279                           Producción\n",
       "25280                            Comercial\n",
       "25281                       Abastecimiento\n",
       "25282                      Soporte Técnico\n",
       "25283                       Administración\n",
       "25284                       Administración\n",
       "25285                       Administración\n",
       "25286                         Programación\n",
       "25287                     Recursos Humanos\n",
       "Name: nombre_area, Length: 25288, dtype: object"
      ]
     },
     "execution_count": 90,
     "metadata": {},
     "output_type": "execute_result"
    }
   ],
   "source": []
  },
  {
   "cell_type": "code",
   "execution_count": 93,
   "metadata": {},
   "outputs": [],
   "source": [
    "vistas = vistas.set_index('idAviso')"
   ]
  },
  {
   "cell_type": "code",
   "execution_count": 95,
   "metadata": {},
   "outputs": [
    {
     "data": {
      "text/html": [
       "<div>\n",
       "<style scoped>\n",
       "    .dataframe tbody tr th:only-of-type {\n",
       "        vertical-align: middle;\n",
       "    }\n",
       "\n",
       "    .dataframe tbody tr th {\n",
       "        vertical-align: top;\n",
       "    }\n",
       "\n",
       "    .dataframe thead th {\n",
       "        text-align: right;\n",
       "    }\n",
       "</style>\n",
       "<table border=\"1\" class=\"dataframe\">\n",
       "  <thead>\n",
       "    <tr style=\"text-align: right;\">\n",
       "      <th></th>\n",
       "      <th>timestamp</th>\n",
       "      <th>idpostulante</th>\n",
       "    </tr>\n",
       "    <tr>\n",
       "      <th>idAviso</th>\n",
       "      <th></th>\n",
       "      <th></th>\n",
       "    </tr>\n",
       "  </thead>\n",
       "  <tbody>\n",
       "    <tr>\n",
       "      <th>1112221816</th>\n",
       "      <td>2018-02-23T13:52:56.736-0500</td>\n",
       "      <td>jkM6x5B</td>\n",
       "    </tr>\n",
       "    <tr>\n",
       "      <th>1112285749</th>\n",
       "      <td>2018-02-23T13:43:42.914-0500</td>\n",
       "      <td>969rkW8</td>\n",
       "    </tr>\n",
       "    <tr>\n",
       "      <th>1112284691</th>\n",
       "      <td>2018-02-23T13:48:12.591-0500</td>\n",
       "      <td>qek3DX9</td>\n",
       "    </tr>\n",
       "    <tr>\n",
       "      <th>1112108225</th>\n",
       "      <td>2018-02-23T13:59:59.315-0500</td>\n",
       "      <td>bOV8b2E</td>\n",
       "    </tr>\n",
       "    <tr>\n",
       "      <th>1112289407</th>\n",
       "      <td>2018-02-23T14:04:40.485-0500</td>\n",
       "      <td>qe2W9Ra</td>\n",
       "    </tr>\n",
       "  </tbody>\n",
       "</table>\n",
       "</div>"
      ],
      "text/plain": [
       "                               timestamp idpostulante\n",
       "idAviso                                              \n",
       "1112221816  2018-02-23T13:52:56.736-0500      jkM6x5B\n",
       "1112285749  2018-02-23T13:43:42.914-0500      969rkW8\n",
       "1112284691  2018-02-23T13:48:12.591-0500      qek3DX9\n",
       "1112108225  2018-02-23T13:59:59.315-0500      bOV8b2E\n",
       "1112289407  2018-02-23T14:04:40.485-0500      qe2W9Ra"
      ]
     },
     "execution_count": 95,
     "metadata": {},
     "output_type": "execute_result"
    }
   ],
   "source": [
    "vistas.head()"
   ]
  },
  {
   "cell_type": "code",
   "execution_count": 99,
   "metadata": {},
   "outputs": [
    {
     "data": {
      "text/plain": [
       "timestamp       2018-02-23T14:04:40.485-0500\n",
       "idpostulante                         qe2W9Ra\n",
       "Name: 1112289407, dtype: object"
      ]
     },
     "execution_count": 99,
     "metadata": {},
     "output_type": "execute_result"
    }
   ],
   "source": [
    "vistas.loc[1112289407]"
   ]
  },
  {
   "cell_type": "code",
   "execution_count": 102,
   "metadata": {},
   "outputs": [
    {
     "data": {
      "text/plain": [
       "1112414205    1\n",
       "1112378747    1\n",
       "1112402610    1\n",
       "1807736       1\n",
       "1112392123    1\n",
       "1112335734    1\n",
       "1112407413    1\n",
       "1112413577    1\n",
       "1792704       1\n",
       "1112445339    1\n",
       "1808368       1\n",
       "1112483182    1\n",
       "1112420448    1\n",
       "1772907       1\n",
       "1112424863    1\n",
       "1410838       1\n",
       "1286129       1\n",
       "1797479       1\n",
       "1801573       1\n",
       "1803642       1\n",
       "1112403375    1\n",
       "1807768       1\n",
       "1112425528    1\n",
       "1111489941    1\n",
       "1112264083    1\n",
       "1112473920    1\n",
       "1760657       1\n",
       "1001729423    1\n",
       "1002317198    1\n",
       "1785229       1\n",
       "             ..\n",
       "1112487907    1\n",
       "1807047       1\n",
       "1112277503    1\n",
       "1802949       1\n",
       "1804996       1\n",
       "1112128194    1\n",
       "1112412914    1\n",
       "1112363711    1\n",
       "1792702       1\n",
       "1112420600    1\n",
       "1112367833    1\n",
       "1112444645    1\n",
       "1002293996    1\n",
       "1112412919    1\n",
       "1112349430    1\n",
       "1112408821    1\n",
       "1807352       1\n",
       "1112357618    1\n",
       "1112484592    1\n",
       "1112462063    1\n",
       "1112423744    1\n",
       "1112306395    1\n",
       "1112389077    1\n",
       "1743590       1\n",
       "1110475493    1\n",
       "1111208675    1\n",
       "1489634       1\n",
       "1001738975    1\n",
       "1112492561    1\n",
       "1112342528    1\n",
       "Name: idAviso, Length: 42286, dtype: int64"
      ]
     },
     "execution_count": 102,
     "metadata": {},
     "output_type": "execute_result"
    }
   ],
   "source": [
    "vistas.reset_index()['idAviso'].value_counts()"
   ]
  },
  {
   "cell_type": "code",
   "execution_count": 108,
   "metadata": {},
   "outputs": [
    {
     "data": {
      "text/plain": [
       "16754298"
      ]
     },
     "execution_count": 108,
     "metadata": {},
     "output_type": "execute_result"
    }
   ],
   "source": [
    "len(vistas)"
   ]
  },
  {
   "cell_type": "code",
   "execution_count": 11,
   "metadata": {},
   "outputs": [
    {
     "ename": "KeyboardInterrupt",
     "evalue": "",
     "output_type": "error",
     "traceback": [
      "\u001b[0;31m---------------------------------------------------------------------------\u001b[0m",
      "\u001b[0;31mKeyboardInterrupt\u001b[0m                         Traceback (most recent call last)",
      "\u001b[0;32m<ipython-input-11-8fc505e0e78d>\u001b[0m in \u001b[0;36m<module>\u001b[0;34m()\u001b[0m\n\u001b[0;32m----> 1\u001b[0;31m \u001b[0mvistas\u001b[0m\u001b[0;34m[\u001b[0m\u001b[0;34m'timestamp'\u001b[0m\u001b[0;34m]\u001b[0m \u001b[0;34m=\u001b[0m \u001b[0mpd\u001b[0m\u001b[0;34m.\u001b[0m\u001b[0mto_datetime\u001b[0m\u001b[0;34m(\u001b[0m\u001b[0mvistas\u001b[0m\u001b[0;34m[\u001b[0m\u001b[0;34m'timestamp'\u001b[0m\u001b[0;34m]\u001b[0m\u001b[0;34m)\u001b[0m\u001b[0;34m\u001b[0m\u001b[0m\n\u001b[0m",
      "\u001b[0;32m/usr/local/lib/python3.5/dist-packages/pandas/core/tools/datetimes.py\u001b[0m in \u001b[0;36mto_datetime\u001b[0;34m(arg, errors, dayfirst, yearfirst, utc, box, format, exact, unit, infer_datetime_format, origin)\u001b[0m\n\u001b[1;32m    371\u001b[0m     \u001b[0;32melif\u001b[0m \u001b[0misinstance\u001b[0m\u001b[0;34m(\u001b[0m\u001b[0marg\u001b[0m\u001b[0;34m,\u001b[0m \u001b[0mABCSeries\u001b[0m\u001b[0;34m)\u001b[0m\u001b[0;34m:\u001b[0m\u001b[0;34m\u001b[0m\u001b[0m\n\u001b[1;32m    372\u001b[0m         \u001b[0;32mfrom\u001b[0m \u001b[0mpandas\u001b[0m \u001b[0;32mimport\u001b[0m \u001b[0mSeries\u001b[0m\u001b[0;34m\u001b[0m\u001b[0m\n\u001b[0;32m--> 373\u001b[0;31m         \u001b[0mvalues\u001b[0m \u001b[0;34m=\u001b[0m \u001b[0m_convert_listlike\u001b[0m\u001b[0;34m(\u001b[0m\u001b[0marg\u001b[0m\u001b[0;34m.\u001b[0m\u001b[0m_values\u001b[0m\u001b[0;34m,\u001b[0m \u001b[0;32mTrue\u001b[0m\u001b[0;34m,\u001b[0m \u001b[0mformat\u001b[0m\u001b[0;34m)\u001b[0m\u001b[0;34m\u001b[0m\u001b[0m\n\u001b[0m\u001b[1;32m    374\u001b[0m         \u001b[0mresult\u001b[0m \u001b[0;34m=\u001b[0m \u001b[0mSeries\u001b[0m\u001b[0;34m(\u001b[0m\u001b[0mvalues\u001b[0m\u001b[0;34m,\u001b[0m \u001b[0mindex\u001b[0m\u001b[0;34m=\u001b[0m\u001b[0marg\u001b[0m\u001b[0;34m.\u001b[0m\u001b[0mindex\u001b[0m\u001b[0;34m,\u001b[0m \u001b[0mname\u001b[0m\u001b[0;34m=\u001b[0m\u001b[0marg\u001b[0m\u001b[0;34m.\u001b[0m\u001b[0mname\u001b[0m\u001b[0;34m)\u001b[0m\u001b[0;34m\u001b[0m\u001b[0m\n\u001b[1;32m    375\u001b[0m     \u001b[0;32melif\u001b[0m \u001b[0misinstance\u001b[0m\u001b[0;34m(\u001b[0m\u001b[0marg\u001b[0m\u001b[0;34m,\u001b[0m \u001b[0;34m(\u001b[0m\u001b[0mABCDataFrame\u001b[0m\u001b[0;34m,\u001b[0m \u001b[0mMutableMapping\u001b[0m\u001b[0;34m)\u001b[0m\u001b[0;34m)\u001b[0m\u001b[0;34m:\u001b[0m\u001b[0;34m\u001b[0m\u001b[0m\n",
      "\u001b[0;32m/usr/local/lib/python3.5/dist-packages/pandas/core/tools/datetimes.py\u001b[0m in \u001b[0;36m_convert_listlike\u001b[0;34m(arg, box, format, name, tz)\u001b[0m\n\u001b[1;32m    292\u001b[0m                     \u001b[0mdayfirst\u001b[0m\u001b[0;34m=\u001b[0m\u001b[0mdayfirst\u001b[0m\u001b[0;34m,\u001b[0m\u001b[0;34m\u001b[0m\u001b[0m\n\u001b[1;32m    293\u001b[0m                     \u001b[0myearfirst\u001b[0m\u001b[0;34m=\u001b[0m\u001b[0myearfirst\u001b[0m\u001b[0;34m,\u001b[0m\u001b[0;34m\u001b[0m\u001b[0m\n\u001b[0;32m--> 294\u001b[0;31m                     \u001b[0mrequire_iso8601\u001b[0m\u001b[0;34m=\u001b[0m\u001b[0mrequire_iso8601\u001b[0m\u001b[0;34m\u001b[0m\u001b[0m\n\u001b[0m\u001b[1;32m    295\u001b[0m                 )\n\u001b[1;32m    296\u001b[0m \u001b[0;34m\u001b[0m\u001b[0m\n",
      "\u001b[0;32mpandas/_libs/tslib.pyx\u001b[0m in \u001b[0;36mpandas._libs.tslib.array_to_datetime\u001b[0;34m()\u001b[0m\n",
      "\u001b[0;32mpandas/_libs/tslib.pyx\u001b[0m in \u001b[0;36mpandas._libs.tslib.array_to_datetime\u001b[0;34m()\u001b[0m\n",
      "\u001b[0;32mpandas/_libs/tslib.pyx\u001b[0m in \u001b[0;36mpandas._libs.tslib.array_to_datetime\u001b[0;34m()\u001b[0m\n",
      "\u001b[0;32m/usr/local/lib/python3.5/dist-packages/pytz/__init__.py\u001b[0m in \u001b[0;36mFixedOffset\u001b[0;34m(offset, _tzinfos)\u001b[0m\n\u001b[1;32m    408\u001b[0m \u001b[0;34m\u001b[0m\u001b[0m\n\u001b[1;32m    409\u001b[0m \u001b[0;34m\u001b[0m\u001b[0m\n\u001b[0;32m--> 410\u001b[0;31m \u001b[0;32mdef\u001b[0m \u001b[0mFixedOffset\u001b[0m\u001b[0;34m(\u001b[0m\u001b[0moffset\u001b[0m\u001b[0;34m,\u001b[0m \u001b[0m_tzinfos\u001b[0m\u001b[0;34m=\u001b[0m\u001b[0;34m{\u001b[0m\u001b[0;34m}\u001b[0m\u001b[0;34m)\u001b[0m\u001b[0;34m:\u001b[0m\u001b[0;34m\u001b[0m\u001b[0m\n\u001b[0m\u001b[1;32m    411\u001b[0m     \"\"\"return a fixed-offset timezone based off a number of minutes.\n\u001b[1;32m    412\u001b[0m \u001b[0;34m\u001b[0m\u001b[0m\n",
      "\u001b[0;31mKeyboardInterrupt\u001b[0m: "
     ]
    }
   ],
   "source": [
    "vistas['timestamp'] = pd.to_datetime(vistas['timestamp'])"
   ]
  },
  {
   "cell_type": "code",
   "execution_count": null,
   "metadata": {},
   "outputs": [],
   "source": []
  }
 ],
 "metadata": {
  "kernelspec": {
   "display_name": "Python 3",
   "language": "python",
   "name": "python3"
  },
  "language_info": {
   "codemirror_mode": {
    "name": "ipython",
    "version": 3
   },
   "file_extension": ".py",
   "mimetype": "text/x-python",
   "name": "python",
   "nbconvert_exporter": "python",
   "pygments_lexer": "ipython3",
   "version": "3.5.2"
  }
 },
 "nbformat": 4,
 "nbformat_minor": 2
}
