{
 "cells": [
  {
   "cell_type": "code",
   "execution_count": 1,
   "metadata": {},
   "outputs": [],
   "source": [
    "import pandas as pd\n",
    "import numpy as np"
   ]
  },
  {
   "cell_type": "code",
   "execution_count": 2,
   "metadata": {},
   "outputs": [],
   "source": [
    "def appendear_archivos(archivo, incluir_desde = True, drop_only_full_duplicates = False):\n",
    "    df2 = pd.read_csv('../../hasta_15_abril/' + archivo)\n",
    "    df3 = pd.read_csv('../../datos_navent_fiuba/' + archivo)\n",
    "    \n",
    "    if incluir_desde:\n",
    "        df = pd.read_csv('../../desde_15_abril/' + archivo)\n",
    "        df = df3.append(df2.append(df))\n",
    "    else:\n",
    "        df = df3.append(df2)\n",
    "    \n",
    "    if drop_only_full_duplicates:\n",
    "        df = df.drop_duplicates()\n",
    "    else:\n",
    "        df = df.drop_duplicates(subset=df.columns[0], keep='last')\n",
    "    \n",
    "    df.to_csv('../../datos_preprocesados/' + archivo, index=False)"
   ]
  },
  {
   "cell_type": "code",
   "execution_count": 3,
   "metadata": {},
   "outputs": [],
   "source": [
    "appendear_archivos('fiuba_1_postulantes_educacion.csv')"
   ]
  },
  {
   "cell_type": "code",
   "execution_count": 4,
   "metadata": {},
   "outputs": [],
   "source": [
    "appendear_archivos('fiuba_2_postulantes_genero_y_edad.csv')"
   ]
  },
  {
   "cell_type": "code",
   "execution_count": 5,
   "metadata": {},
   "outputs": [],
   "source": [
    "appendear_archivos('fiuba_3_vistas.csv', drop_only_full_duplicates = True)"
   ]
  },
  {
   "cell_type": "code",
   "execution_count": 6,
   "metadata": {},
   "outputs": [],
   "source": [
    "appendear_archivos('fiuba_4_postulaciones.csv', incluir_desde = False, drop_only_full_duplicates = True)"
   ]
  },
  {
   "cell_type": "code",
   "execution_count": 7,
   "metadata": {},
   "outputs": [],
   "source": [
    "appendear_archivos('fiuba_5_avisos_online.csv', incluir_desde = False)"
   ]
  },
  {
   "cell_type": "code",
   "execution_count": 8,
   "metadata": {},
   "outputs": [],
   "source": [
    "appendear_archivos('fiuba_6_avisos_detalle.csv')"
   ]
  },
  {
   "cell_type": "code",
   "execution_count": 9,
   "metadata": {},
   "outputs": [],
   "source": [
    "df = pd.read_csv('../../datos_preprocesados/fiuba_6_avisos_detalle.csv')\n",
    "df2 = pd.read_csv('../../missing/fiuba_6_avisos_detalle.csv')\n",
    "df = df2.append(df).drop_duplicates(subset=df.columns[0], keep='last')    \n",
    "df.to_csv('../../datos_preprocesados/fiuba_6_avisos_detalle.csv', index=False)"
   ]
  },
  {
   "cell_type": "code",
   "execution_count": null,
   "metadata": {},
   "outputs": [],
   "source": []
  }
 ],
 "metadata": {
  "kernelspec": {
   "display_name": "Python 3",
   "language": "python",
   "name": "python3"
  },
  "language_info": {
   "codemirror_mode": {
    "name": "ipython",
    "version": 3
   },
   "file_extension": ".py",
   "mimetype": "text/x-python",
   "name": "python",
   "nbconvert_exporter": "python",
   "pygments_lexer": "ipython3",
   "version": "3.6.4"
  }
 },
 "nbformat": 4,
 "nbformat_minor": 2
}
