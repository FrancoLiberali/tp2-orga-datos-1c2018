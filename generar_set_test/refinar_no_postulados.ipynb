{
 "cells": [
  {
   "cell_type": "markdown",
   "metadata": {},
   "source": [
    "# Generador de no-postulados random\n",
    "Este notebook toma un archivo preprocesado de no postulaciones random y mediante un Random Forest realiza un refinamiento iterativo eliminando aquellos registros random con alta probabilidad de ser falsa.\n",
    "\n",
    "La idea sería algo del estilo aprendizaje semi-supervisado\n",
    "\n",
    "**El mismo resultado que genera este notebook se puede obtener corriendo generar_no_postulados.py**"
   ]
  },
  {
   "cell_type": "code",
   "execution_count": 1,
   "metadata": {},
   "outputs": [],
   "source": [
    "import math\n",
    "\n",
    "import pandas as pd\n",
    "import numpy as np\n",
    "\n",
    "from sklearn.ensemble import RandomForestClassifier\n",
    "from sklearn.model_selection import train_test_split, cross_val_score\n",
    "from sklearn.metrics import roc_auc_score\n",
    "\n",
    "%matplotlib inline"
   ]
  },
  {
   "cell_type": "markdown",
   "metadata": {},
   "source": [
    "## Constantes definidas\n",
    "- `DATASET_SAMPLE_SIZE`: La cantidad de registros que se desean mantener\n",
    "- `TEST_SIZE_PERCENT`: Define el porcentaje del set de entrenamiento que se utilizará para validar los entrenamientos. Es a fines informativos, la información no se utiliza para realimentar el proceso.\n",
    "- `RANDOM_SEED`: Se utiliza una semilla aleatoria fija para que el test se mantenga determinista.\n",
    "- `MIN_SAMPLES_NO_POSTULADOS`: Mínima cantidad de samples que deben entrar en una iteración. Para evitar que el filtro elimine todo."
   ]
  },
  {
   "cell_type": "code",
   "execution_count": 2,
   "metadata": {},
   "outputs": [],
   "source": [
    "DATASET_SAMPLE_SIZE = 500000\n",
    "\n",
    "# Porcentaje del set de entrenamiento que se usa para validar\n",
    "TEST_SIZE_PERCENT = 0.2\n",
    "\n",
    "# Semilla aleatoria fija para mantener la ejecución determinista.\n",
    "RANDOM_SEED = 12\n",
    "\n",
    "# Umbral de probabilidad aceptable para considerar una no postulación predicha como válida\n",
    "#UMBRAL_PROB_NO_POSTULADO = 0.25\n",
    "\n",
    "# Mínima cantidad de no postulados para agregar en una iteración\n",
    "MIN_SAMPLES_NO_POSTULADOS = 10"
   ]
  },
  {
   "cell_type": "markdown",
   "metadata": {},
   "source": [
    "### Los archivos ya deben tener los features creados. \n",
    "\n",
    "Ambos archivos se crearon de la siguiente forma: \n",
    "- Ejecutar el notebook `generar_set_test.ipynb`\n",
    "- Ejecutar `python3 preprocesar_set.py test.csv test-preprocesado.csv` para cada archivo CSV."
   ]
  },
  {
   "cell_type": "code",
   "execution_count": 3,
   "metadata": {},
   "outputs": [],
   "source": [
    "entrenamiento = pd.read_csv('/home/luciano/orga-datos/training-set-no-random-preprocesado.csv')\n",
    "no_postulados = pd.read_csv('/home/luciano/orga-datos/training-set-no-postulados-random-preprocesado.csv')"
   ]
  },
  {
   "cell_type": "code",
   "execution_count": 4,
   "metadata": {},
   "outputs": [
    {
     "data": {
      "text/html": [
       "<div>\n",
       "<style scoped>\n",
       "    .dataframe tbody tr th:only-of-type {\n",
       "        vertical-align: middle;\n",
       "    }\n",
       "\n",
       "    .dataframe tbody tr th {\n",
       "        vertical-align: top;\n",
       "    }\n",
       "\n",
       "    .dataframe thead th {\n",
       "        text-align: right;\n",
       "    }\n",
       "</style>\n",
       "<table border=\"1\" class=\"dataframe\">\n",
       "  <thead>\n",
       "    <tr style=\"text-align: right;\">\n",
       "      <th></th>\n",
       "      <th>idaviso</th>\n",
       "      <th>idpostulante</th>\n",
       "      <th>edad_postulante</th>\n",
       "      <th>sexo_postulante</th>\n",
       "      <th>nivel_educativo_postulante</th>\n",
       "      <th>hay_informacion_basica</th>\n",
       "      <th>num_vistas</th>\n",
       "      <th>cantidad_vistas</th>\n",
       "      <th>cantidad_postulaciones</th>\n",
       "      <th>cant_vistas_nombre_area</th>\n",
       "      <th>...</th>\n",
       "      <th>cant_postulaciones_nombre_area</th>\n",
       "      <th>cant_postulaciones_nombre_zona</th>\n",
       "      <th>cant_postulaciones_tipo_de_trabajo</th>\n",
       "      <th>cant_postulaciones_denominacion_empresa</th>\n",
       "      <th>desc_score</th>\n",
       "      <th>edad_media</th>\n",
       "      <th>sexo_medio</th>\n",
       "      <th>nivel_educativo_medio</th>\n",
       "      <th>hay_informacion_media_aviso</th>\n",
       "      <th>sepostulo</th>\n",
       "    </tr>\n",
       "  </thead>\n",
       "  <tbody>\n",
       "    <tr>\n",
       "      <th>0</th>\n",
       "      <td>1112370921</td>\n",
       "      <td>LNKj9Jr</td>\n",
       "      <td>25.0</td>\n",
       "      <td>-1.0</td>\n",
       "      <td>4.0</td>\n",
       "      <td>1</td>\n",
       "      <td>1</td>\n",
       "      <td>12</td>\n",
       "      <td>5</td>\n",
       "      <td>2</td>\n",
       "      <td>...</td>\n",
       "      <td>1</td>\n",
       "      <td>4</td>\n",
       "      <td>1</td>\n",
       "      <td>1</td>\n",
       "      <td>153</td>\n",
       "      <td>30.370326</td>\n",
       "      <td>-0.363088</td>\n",
       "      <td>2.838359</td>\n",
       "      <td>1</td>\n",
       "      <td>1</td>\n",
       "    </tr>\n",
       "    <tr>\n",
       "      <th>1</th>\n",
       "      <td>1112353843</td>\n",
       "      <td>YdDO2V</td>\n",
       "      <td>34.0</td>\n",
       "      <td>1.0</td>\n",
       "      <td>4.0</td>\n",
       "      <td>1</td>\n",
       "      <td>1</td>\n",
       "      <td>35</td>\n",
       "      <td>38</td>\n",
       "      <td>5</td>\n",
       "      <td>...</td>\n",
       "      <td>4</td>\n",
       "      <td>34</td>\n",
       "      <td>34</td>\n",
       "      <td>2</td>\n",
       "      <td>669</td>\n",
       "      <td>33.182573</td>\n",
       "      <td>0.867220</td>\n",
       "      <td>3.607884</td>\n",
       "      <td>1</td>\n",
       "      <td>0</td>\n",
       "    </tr>\n",
       "    <tr>\n",
       "      <th>2</th>\n",
       "      <td>1112448587</td>\n",
       "      <td>6QY4DR</td>\n",
       "      <td>50.0</td>\n",
       "      <td>-1.0</td>\n",
       "      <td>4.0</td>\n",
       "      <td>1</td>\n",
       "      <td>3</td>\n",
       "      <td>308</td>\n",
       "      <td>70</td>\n",
       "      <td>18</td>\n",
       "      <td>...</td>\n",
       "      <td>0</td>\n",
       "      <td>189</td>\n",
       "      <td>9</td>\n",
       "      <td>0</td>\n",
       "      <td>1053</td>\n",
       "      <td>25.934911</td>\n",
       "      <td>-0.137081</td>\n",
       "      <td>2.238412</td>\n",
       "      <td>1</td>\n",
       "      <td>0</td>\n",
       "    </tr>\n",
       "    <tr>\n",
       "      <th>3</th>\n",
       "      <td>1112468192</td>\n",
       "      <td>wVYmGBL</td>\n",
       "      <td>34.0</td>\n",
       "      <td>1.0</td>\n",
       "      <td>4.0</td>\n",
       "      <td>1</td>\n",
       "      <td>1</td>\n",
       "      <td>129</td>\n",
       "      <td>27</td>\n",
       "      <td>32</td>\n",
       "      <td>...</td>\n",
       "      <td>12</td>\n",
       "      <td>46</td>\n",
       "      <td>34</td>\n",
       "      <td>0</td>\n",
       "      <td>1563</td>\n",
       "      <td>27.467018</td>\n",
       "      <td>0.189974</td>\n",
       "      <td>2.236148</td>\n",
       "      <td>1</td>\n",
       "      <td>0</td>\n",
       "    </tr>\n",
       "    <tr>\n",
       "      <th>4</th>\n",
       "      <td>1112451122</td>\n",
       "      <td>aa1LaN</td>\n",
       "      <td>36.0</td>\n",
       "      <td>1.0</td>\n",
       "      <td>6.0</td>\n",
       "      <td>1</td>\n",
       "      <td>2</td>\n",
       "      <td>49</td>\n",
       "      <td>3</td>\n",
       "      <td>18</td>\n",
       "      <td>...</td>\n",
       "      <td>2</td>\n",
       "      <td>3</td>\n",
       "      <td>3</td>\n",
       "      <td>0</td>\n",
       "      <td>210</td>\n",
       "      <td>28.613636</td>\n",
       "      <td>-0.186364</td>\n",
       "      <td>2.447727</td>\n",
       "      <td>1</td>\n",
       "      <td>0</td>\n",
       "    </tr>\n",
       "  </tbody>\n",
       "</table>\n",
       "<p>5 rows × 23 columns</p>\n",
       "</div>"
      ],
      "text/plain": [
       "      idaviso idpostulante  edad_postulante  sexo_postulante  \\\n",
       "0  1112370921      LNKj9Jr             25.0             -1.0   \n",
       "1  1112353843       YdDO2V             34.0              1.0   \n",
       "2  1112448587       6QY4DR             50.0             -1.0   \n",
       "3  1112468192      wVYmGBL             34.0              1.0   \n",
       "4  1112451122       aa1LaN             36.0              1.0   \n",
       "\n",
       "   nivel_educativo_postulante  hay_informacion_basica  num_vistas  \\\n",
       "0                         4.0                       1           1   \n",
       "1                         4.0                       1           1   \n",
       "2                         4.0                       1           3   \n",
       "3                         4.0                       1           1   \n",
       "4                         6.0                       1           2   \n",
       "\n",
       "   cantidad_vistas  cantidad_postulaciones  cant_vistas_nombre_area  \\\n",
       "0               12                       5                        2   \n",
       "1               35                      38                        5   \n",
       "2              308                      70                       18   \n",
       "3              129                      27                       32   \n",
       "4               49                       3                       18   \n",
       "\n",
       "     ...      cant_postulaciones_nombre_area  cant_postulaciones_nombre_zona  \\\n",
       "0    ...                                   1                               4   \n",
       "1    ...                                   4                              34   \n",
       "2    ...                                   0                             189   \n",
       "3    ...                                  12                              46   \n",
       "4    ...                                   2                               3   \n",
       "\n",
       "   cant_postulaciones_tipo_de_trabajo  \\\n",
       "0                                   1   \n",
       "1                                  34   \n",
       "2                                   9   \n",
       "3                                  34   \n",
       "4                                   3   \n",
       "\n",
       "   cant_postulaciones_denominacion_empresa  desc_score  edad_media  \\\n",
       "0                                        1         153   30.370326   \n",
       "1                                        2         669   33.182573   \n",
       "2                                        0        1053   25.934911   \n",
       "3                                        0        1563   27.467018   \n",
       "4                                        0         210   28.613636   \n",
       "\n",
       "   sexo_medio  nivel_educativo_medio  hay_informacion_media_aviso  sepostulo  \n",
       "0   -0.363088               2.838359                            1          1  \n",
       "1    0.867220               3.607884                            1          0  \n",
       "2   -0.137081               2.238412                            1          0  \n",
       "3    0.189974               2.236148                            1          0  \n",
       "4   -0.186364               2.447727                            1          0  \n",
       "\n",
       "[5 rows x 23 columns]"
      ]
     },
     "execution_count": 4,
     "metadata": {},
     "output_type": "execute_result"
    }
   ],
   "source": [
    "entrenamiento.head()"
   ]
  },
  {
   "cell_type": "code",
   "execution_count": 5,
   "metadata": {},
   "outputs": [],
   "source": [
    "X = entrenamiento.drop(axis=1, labels=['idaviso', 'idpostulante', 'sepostulo'])\n",
    "y = entrenamiento['sepostulo']"
   ]
  },
  {
   "cell_type": "code",
   "execution_count": 6,
   "metadata": {},
   "outputs": [],
   "source": [
    "no_postulados_set = no_postulados.drop(axis=1, labels=['idaviso', 'idpostulante'])"
   ]
  },
  {
   "cell_type": "code",
   "execution_count": 7,
   "metadata": {},
   "outputs": [],
   "source": [
    "X_train, X_test, y_train, y_test = train_test_split(X, y, test_size=TEST_SIZE_PERCENT, random_state=RANDOM_SEED)"
   ]
  },
  {
   "cell_type": "code",
   "execution_count": 8,
   "metadata": {},
   "outputs": [],
   "source": [
    "clasificador = RandomForestClassifier(\n",
    "        n_estimators=10, \n",
    "        criterion='entropy', \n",
    "        max_features='sqrt', \n",
    "        min_samples_split=20, \n",
    "        n_jobs=-1, \n",
    "        random_state=RANDOM_SEED, \n",
    "        verbose=10\n",
    "    )"
   ]
  },
  {
   "cell_type": "code",
   "execution_count": 9,
   "metadata": {},
   "outputs": [
    {
     "name": "stdout",
     "output_type": "stream",
     "text": [
      "building tree 1 of 10\n",
      "building tree 2 of 10\n",
      "building tree 3 of 10\n",
      "building tree 4 of 10\n",
      "building tree 5 of 10\n",
      "building tree 6 of 10\n",
      "building tree 7 of 10\n",
      "building tree 8 of 10\n"
     ]
    },
    {
     "name": "stderr",
     "output_type": "stream",
     "text": [
      "[Parallel(n_jobs=-1)]: Done   5 out of  10 | elapsed:   10.4s remaining:   10.4s\n"
     ]
    },
    {
     "name": "stdout",
     "output_type": "stream",
     "text": [
      "building tree 9 of 10\n",
      "building tree 10 of 10\n"
     ]
    },
    {
     "name": "stderr",
     "output_type": "stream",
     "text": [
      "[Parallel(n_jobs=-1)]: Done   7 out of  10 | elapsed:   12.2s remaining:    5.2s\n",
      "[Parallel(n_jobs=-1)]: Done  10 out of  10 | elapsed:   16.3s finished\n"
     ]
    },
    {
     "data": {
      "text/plain": [
       "RandomForestClassifier(bootstrap=True, class_weight=None, criterion='entropy',\n",
       "            max_depth=None, max_features='sqrt', max_leaf_nodes=None,\n",
       "            min_impurity_decrease=0.0, min_impurity_split=None,\n",
       "            min_samples_leaf=1, min_samples_split=20,\n",
       "            min_weight_fraction_leaf=0.0, n_estimators=10, n_jobs=-1,\n",
       "            oob_score=False, random_state=12, verbose=10, warm_start=False)"
      ]
     },
     "execution_count": 9,
     "metadata": {},
     "output_type": "execute_result"
    }
   ],
   "source": [
    "clasificador.fit(X_train, y_train)"
   ]
  },
  {
   "cell_type": "code",
   "execution_count": 10,
   "metadata": {},
   "outputs": [
    {
     "name": "stderr",
     "output_type": "stream",
     "text": [
      "[Parallel(n_jobs=4)]: Done   5 out of  10 | elapsed:    0.5s remaining:    0.5s\n",
      "[Parallel(n_jobs=4)]: Done   7 out of  10 | elapsed:    0.5s remaining:    0.2s\n",
      "[Parallel(n_jobs=4)]: Done  10 out of  10 | elapsed:    0.7s finished\n"
     ]
    },
    {
     "name": "stdout",
     "output_type": "stream",
     "text": [
      "Score vs set train: 0.96712875\n",
      "Score vs set test: 0.93791\n"
     ]
    },
    {
     "name": "stderr",
     "output_type": "stream",
     "text": [
      "[Parallel(n_jobs=4)]: Done   5 out of  10 | elapsed:    0.1s remaining:    0.1s\n",
      "[Parallel(n_jobs=4)]: Done   7 out of  10 | elapsed:    0.1s remaining:    0.1s\n",
      "[Parallel(n_jobs=4)]: Done  10 out of  10 | elapsed:    0.2s finished\n"
     ]
    }
   ],
   "source": [
    "print('Score vs set train:', clasificador.score(X_train, y_train))\n",
    "print('Score vs set test:', clasificador.score(X_test, y_test))"
   ]
  },
  {
   "cell_type": "markdown",
   "metadata": {},
   "source": [
    "### Comienzo del proceso iterativo\n",
    "\n",
    "Esta celda sirve para iniciar/reiniciar las iteraciones."
   ]
  },
  {
   "cell_type": "code",
   "execution_count": 11,
   "metadata": {},
   "outputs": [],
   "source": [
    "iteracion = 0\n",
    "MAX_ITERACIONES = 10\n",
    "no_postulados['sepostulo'] = 0\n",
    "no_postulados['sepostulo_acum'] = 0"
   ]
  },
  {
   "cell_type": "markdown",
   "metadata": {},
   "source": [
    "# for:\n",
    "#### Desde acá arranca un proceso iterativo. Si se quieren hacer 10 iteraciones, las siguientes celdas se ejecutan 10 veces."
   ]
  },
  {
   "cell_type": "code",
   "execution_count": 162,
   "metadata": {},
   "outputs": [
    {
     "name": "stdout",
     "output_type": "stream",
     "text": [
      "Iteracion actual: 10 de 10\n"
     ]
    }
   ],
   "source": [
    "assert iteracion <= MAX_ITERACIONES\n",
    "print('Iteracion actual:', iteracion, 'de', MAX_ITERACIONES)"
   ]
  },
  {
   "cell_type": "code",
   "execution_count": 163,
   "metadata": {},
   "outputs": [
    {
     "name": "stderr",
     "output_type": "stream",
     "text": [
      "[Parallel(n_jobs=4)]: Done   5 out of  10 | elapsed:    0.3s remaining:    0.3s\n",
      "[Parallel(n_jobs=4)]: Done   7 out of  10 | elapsed:    0.3s remaining:    0.1s\n",
      "[Parallel(n_jobs=4)]: Done  10 out of  10 | elapsed:    0.4s finished\n"
     ]
    }
   ],
   "source": [
    "np_sepostulo = pd.DataFrame(clasificador.predict_proba(no_postulados_set)[:, 1], columns=['sepostulo'])"
   ]
  },
  {
   "cell_type": "code",
   "execution_count": 164,
   "metadata": {},
   "outputs": [
    {
     "data": {
      "text/plain": [
       "<matplotlib.axes._subplots.AxesSubplot at 0x7f4e6bce9668>"
      ]
     },
     "execution_count": 164,
     "metadata": {},
     "output_type": "execute_result"
    },
    {
     "data": {
      "image/png": "[encoded data removed]",
      "text/plain": [
       "<Figure size 432x288 with 1 Axes>"
      ]
     },
     "metadata": {},
     "output_type": "display_data"
    }
   ],
   "source": [
    "np_sepostulo['sepostulo'].hist()"
   ]
  },
  {
   "cell_type": "code",
   "execution_count": 165,
   "metadata": {},
   "outputs": [],
   "source": [
    "no_postulados['sepostulo_acum'] += np_sepostulo['sepostulo']\n",
    "no_postulados['sepostulo'] = no_postulados['sepostulo_acum'] / (iteracion + 1)"
   ]
  },
  {
   "cell_type": "markdown",
   "metadata": {},
   "source": [
    "### Fórmula para determinar el umbral de probabilidades aceptado\n",
    "\n",
    "Debido a que en las primeras iteraciones la predicción es muy mala, se debe filtrar con una probabilidad alta de aceptar; a medida que el proceso avanza, la probabilidad se va reduciendo para producir un refinamiento.\n",
    "\n",
    "Para esto se utilizó una fórmula (definida y probada empíricamente) que inicia con probabilidad menor a 0.5 para aceptar un no postulado y finaliza con una probabilidad cercana a 0.1. La fórmula decae como e^-x"
   ]
  },
  {
   "cell_type": "code",
   "execution_count": 166,
   "metadata": {},
   "outputs": [
    {
     "name": "stdout",
     "output_type": "stream",
     "text": [
      "Probabilidad de ser 0 para agarrar un no-postulado: 0.11156508007421492\n"
     ]
    }
   ],
   "source": [
    "# En cada iteración la probabilidad de aceptar un no-postulado es menor, con base en 0.5 y asintótica en 0.1\n",
    "BASE = 0.5\n",
    "ASINT = 0.1\n",
    "prob = lambda x: math.e ** -( ((1.5 * x)/MAX_ITERACIONES) - math.log(BASE) ) \n",
    "#prob_no_postulado = UMBRAL_PROB_NO_POSTULADO * ((total_iteraciones - iteracion + 1) / total_iteraciones)\n",
    "prob_no_postulado = prob(iteracion)\n",
    "print('Probabilidad de ser 0 para agarrar un no-postulado:', prob_no_postulado)"
   ]
  },
  {
   "cell_type": "code",
   "execution_count": 167,
   "metadata": {},
   "outputs": [
    {
     "name": "stdout",
     "output_type": "stream",
     "text": [
      "706803\n"
     ]
    }
   ],
   "source": [
    "print(len(no_postulados[no_postulados['sepostulo'] < prob_no_postulado]))\n",
    "# Prevenir que el umbral elimine todos los resultados\n",
    "assert len(no_postulados[no_postulados['sepostulo'] < prob_no_postulado]) > MIN_SAMPLES_NO_POSTULADOS\n",
    "# Si este assert falla: Verificar UMBRAL_PROB_NO_POSTULADO, MIN_SAMPLES_NO_POSTULADOS, total_iteraciones"
   ]
  },
  {
   "cell_type": "markdown",
   "metadata": {},
   "source": [
    "### Tope de no-postulados\n",
    "\n",
    "Para evitar que el set quede desbalanceado, si la cantidad de resultados devueltos por el filtro es mayor a `DATASET_SAMPLE_SIZE` se toma una muestra de este tamaño de modo que las tres \"clases\" queden con una misma probabilidad.\n",
    "\n",
    "Esto, sin embargo, deja las clases reales desbalanceadas ya que hay un 33% de postulaciones y un 66% de no postulaciones, pero este problema se resolverá al probar el set final."
   ]
  },
  {
   "cell_type": "code",
   "execution_count": 168,
   "metadata": {},
   "outputs": [],
   "source": [
    "no_post_to_concat = no_postulados[no_postulados['sepostulo'] < prob_no_postulado]\n",
    "\n",
    "if len(no_post_to_concat) > DATASET_SAMPLE_SIZE:\n",
    "    no_post_to_concat = no_post_to_concat.sample(n=DATASET_SAMPLE_SIZE)\n",
    "\n",
    "nuevo_entrenamiento = pd.concat([entrenamiento, no_post_to_concat.drop(axis=1, labels=['sepostulo_acum'])])"
   ]
  },
  {
   "cell_type": "code",
   "execution_count": 169,
   "metadata": {},
   "outputs": [],
   "source": [
    "nuevo_entrenamiento.loc[nuevo_entrenamiento['sepostulo'] < prob_no_postulado, 'sepostulo'] = 0"
   ]
  },
  {
   "cell_type": "code",
   "execution_count": 170,
   "metadata": {},
   "outputs": [],
   "source": [
    "nuevo_entrenamiento['sepostulo'] = nuevo_entrenamiento['sepostulo'].astype('int')"
   ]
  },
  {
   "cell_type": "code",
   "execution_count": 171,
   "metadata": {},
   "outputs": [],
   "source": [
    "X = nuevo_entrenamiento.drop(axis=1, labels=['idaviso', 'idpostulante', 'sepostulo'])\n",
    "y = nuevo_entrenamiento['sepostulo']\n",
    "X_train, X_test, y_train, y_test = train_test_split(X, y, test_size=TEST_SIZE_PERCENT, random_state=RANDOM_SEED)"
   ]
  },
  {
   "cell_type": "code",
   "execution_count": 172,
   "metadata": {},
   "outputs": [
    {
     "name": "stdout",
     "output_type": "stream",
     "text": [
      "building tree 1 of 10\n",
      "building tree 2 of 10\n",
      "building tree 3 of 10\n",
      "building tree 4 of 10\n",
      "building tree 5 of 10\n",
      "building tree 6 of 10\n",
      "building tree 7 of 10\n",
      "building tree 8 of 10\n"
     ]
    },
    {
     "name": "stderr",
     "output_type": "stream",
     "text": [
      "[Parallel(n_jobs=-1)]: Done   5 out of  10 | elapsed:   15.0s remaining:   15.0s\n"
     ]
    },
    {
     "name": "stdout",
     "output_type": "stream",
     "text": [
      "building tree 9 of 10\n",
      "building tree 10 of 10\n"
     ]
    },
    {
     "name": "stderr",
     "output_type": "stream",
     "text": [
      "[Parallel(n_jobs=-1)]: Done   7 out of  10 | elapsed:   15.4s remaining:    6.6s\n",
      "[Parallel(n_jobs=-1)]: Done  10 out of  10 | elapsed:   22.1s finished\n"
     ]
    },
    {
     "data": {
      "text/plain": [
       "RandomForestClassifier(bootstrap=True, class_weight=None, criterion='entropy',\n",
       "            max_depth=None, max_features='sqrt', max_leaf_nodes=None,\n",
       "            min_impurity_decrease=0.0, min_impurity_split=None,\n",
       "            min_samples_leaf=1, min_samples_split=20,\n",
       "            min_weight_fraction_leaf=0.0, n_estimators=10, n_jobs=-1,\n",
       "            oob_score=False, random_state=12, verbose=10, warm_start=False)"
      ]
     },
     "execution_count": 172,
     "metadata": {},
     "output_type": "execute_result"
    }
   ],
   "source": [
    "clasificador.fit(X_train, y_train)"
   ]
  },
  {
   "cell_type": "code",
   "execution_count": 173,
   "metadata": {},
   "outputs": [
    {
     "name": "stderr",
     "output_type": "stream",
     "text": [
      "[Parallel(n_jobs=4)]: Done   5 out of  10 | elapsed:    0.6s remaining:    0.6s\n",
      "[Parallel(n_jobs=4)]: Done   7 out of  10 | elapsed:    0.7s remaining:    0.3s\n",
      "[Parallel(n_jobs=4)]: Done  10 out of  10 | elapsed:    0.9s finished\n"
     ]
    },
    {
     "name": "stdout",
     "output_type": "stream",
     "text": [
      "Score vs set train: 0.9784033333333333\n"
     ]
    },
    {
     "name": "stderr",
     "output_type": "stream",
     "text": [
      "[Parallel(n_jobs=4)]: Done   5 out of  10 | elapsed:    0.2s remaining:    0.2s\n",
      "[Parallel(n_jobs=4)]: Done   7 out of  10 | elapsed:    0.2s remaining:    0.1s\n",
      "[Parallel(n_jobs=4)]: Done  10 out of  10 | elapsed:    0.2s finished\n"
     ]
    },
    {
     "name": "stdout",
     "output_type": "stream",
     "text": [
      "Score vs set test: 0.9586833333333333\n"
     ]
    }
   ],
   "source": [
    "print('Score vs set train:', clasificador.score(X_train, y_train))\n",
    "print('Score vs set test:', clasificador.score(X_test, y_test))"
   ]
  },
  {
   "cell_type": "code",
   "execution_count": 174,
   "metadata": {},
   "outputs": [
    {
     "name": "stderr",
     "output_type": "stream",
     "text": [
      "[Parallel(n_jobs=4)]: Done   5 out of  10 | elapsed:    0.3s remaining:    0.3s\n",
      "[Parallel(n_jobs=4)]: Done   7 out of  10 | elapsed:    0.3s remaining:    0.1s\n",
      "[Parallel(n_jobs=4)]: Done  10 out of  10 | elapsed:    0.4s finished\n"
     ]
    }
   ],
   "source": [
    "m = pd.DataFrame(clasificador.predict_proba(no_postulados_set)[:, 1], columns=['sepostulo'])"
   ]
  },
  {
   "cell_type": "code",
   "execution_count": 175,
   "metadata": {},
   "outputs": [
    {
     "data": {
      "text/plain": [
       "<matplotlib.axes._subplots.AxesSubplot at 0x7f4e6bcc0198>"
      ]
     },
     "execution_count": 175,
     "metadata": {},
     "output_type": "execute_result"
    },
    {
     "data": {
      "image/png": "[encoded data removed]",
      "text/plain": [
       "<Figure size 432x288 with 1 Axes>"
      ]
     },
     "metadata": {},
     "output_type": "display_data"
    }
   ],
   "source": [
    "m['sepostulo'].hist()"
   ]
  },
  {
   "cell_type": "code",
   "execution_count": 176,
   "metadata": {},
   "outputs": [],
   "source": [
    "iteracion += 1"
   ]
  },
  {
   "cell_type": "markdown",
   "metadata": {},
   "source": [
    "# endfor\n",
    "#### Hasta acá el proceso iterativo"
   ]
  },
  {
   "cell_type": "markdown",
   "metadata": {},
   "source": [
    "### Guardar resultados \n",
    "\n",
    "A partir de acá se guardan los siguientes archivos CSV:\n",
    "\n",
    "- no-postulantes-random-confirmados.csv: La cantidad de no postulaciones indicada en DATASET_SAMPLE_SIZE\n",
    "- training-set-final.csv: Set de entrenamiento final. Tiene 3 * DATASET_SAMPLE_SIZE filas (postulaciones, vistas no postuladas, no postulaciones)"
   ]
  },
  {
   "cell_type": "code",
   "execution_count": 177,
   "metadata": {},
   "outputs": [
    {
     "name": "stderr",
     "output_type": "stream",
     "text": [
      "[Parallel(n_jobs=4)]: Done   5 out of  10 | elapsed:    0.3s remaining:    0.3s\n",
      "[Parallel(n_jobs=4)]: Done   7 out of  10 | elapsed:    0.3s remaining:    0.1s\n",
      "[Parallel(n_jobs=4)]: Done  10 out of  10 | elapsed:    0.4s finished\n"
     ]
    }
   ],
   "source": [
    "np_sepostulo = pd.DataFrame(clasificador.predict_proba(no_postulados_set)[:, 1], columns=['sepostulo'])"
   ]
  },
  {
   "cell_type": "code",
   "execution_count": 179,
   "metadata": {},
   "outputs": [],
   "source": [
    "no_postulados['sepostulo_acum'] += np_sepostulo['sepostulo']"
   ]
  },
  {
   "cell_type": "code",
   "execution_count": 181,
   "metadata": {},
   "outputs": [],
   "source": [
    "no_postulados['sepostulo'] = no_postulados['sepostulo_acum'] / (iteracion + 1)"
   ]
  },
  {
   "cell_type": "code",
   "execution_count": 188,
   "metadata": {},
   "outputs": [],
   "source": [
    "no_postulados_al_set = no_postulados[no_postulados['sepostulo'] < 0.1].sample(n=DATASET_SAMPLE_SIZE)"
   ]
  },
  {
   "cell_type": "code",
   "execution_count": 190,
   "metadata": {},
   "outputs": [],
   "source": [
    "no_postulados_al_set['sepostulo'] = 0"
   ]
  },
  {
   "cell_type": "code",
   "execution_count": 191,
   "metadata": {},
   "outputs": [],
   "source": [
    "no_postulados_al_set.to_csv('/home/luciano/orga-datos/no-postulados-random-confirmados.csv', index=False)"
   ]
  },
  {
   "cell_type": "code",
   "execution_count": 192,
   "metadata": {},
   "outputs": [
    {
     "data": {
      "text/plain": [
       "500000"
      ]
     },
     "execution_count": 192,
     "metadata": {},
     "output_type": "execute_result"
    }
   ],
   "source": [
    "len(no_postulados_al_set)"
   ]
  },
  {
   "cell_type": "code",
   "execution_count": 193,
   "metadata": {},
   "outputs": [
    {
     "data": {
      "text/plain": [
       "1000000"
      ]
     },
     "execution_count": 193,
     "metadata": {},
     "output_type": "execute_result"
    }
   ],
   "source": [
    "len(entrenamiento)"
   ]
  },
  {
   "cell_type": "code",
   "execution_count": 196,
   "metadata": {},
   "outputs": [],
   "source": [
    "set_test_completo = pd.concat([entrenamiento, no_postulados_al_set.drop(axis=1, labels=['sepostulo_acum'])])"
   ]
  },
  {
   "cell_type": "code",
   "execution_count": 197,
   "metadata": {},
   "outputs": [],
   "source": [
    "set_test_completo = set_test_completo.sample(frac=1)"
   ]
  },
  {
   "cell_type": "code",
   "execution_count": 198,
   "metadata": {},
   "outputs": [],
   "source": [
    "set_test_completo.to_csv('/home/luciano/orga-datos/training-set-final.csv', index=False)"
   ]
  },
  {
   "cell_type": "code",
   "execution_count": null,
   "metadata": {},
   "outputs": [],
   "source": []
  }
 ],
 "metadata": {
  "kernelspec": {
   "display_name": "Python 3",
   "language": "python",
   "name": "python3"
  },
  "language_info": {
   "codemirror_mode": {
    "name": "ipython",
    "version": 3
   },
   "file_extension": ".py",
   "mimetype": "text/x-python",
   "name": "python",
   "nbconvert_exporter": "python",
   "pygments_lexer": "ipython3",
   "version": "3.5.2"
  }
 },
 "nbformat": 4,
 "nbformat_minor": 2
}
