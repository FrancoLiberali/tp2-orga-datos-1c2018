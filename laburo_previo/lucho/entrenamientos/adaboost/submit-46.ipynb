{
 "cells": [
  {
   "cell_type": "markdown",
   "metadata": {},
   "source": [
    "# Pruebas Adaboost + DecisionTree\n",
    "\n",
    "El set de training usado se genera desde `lucho/generar_set_test`\n",
    "\n",
    "Cambios respecto a submit-45:\n",
    "- GridSearch en min_samples_split del DecisionTree"
   ]
  },
  {
   "cell_type": "code",
   "execution_count": 1,
   "metadata": {},
   "outputs": [],
   "source": [
    "import pandas as pd\n",
    "import numpy as np\n",
    "\n",
    "from sklearn.ensemble import AdaBoostClassifier\n",
    "from sklearn.tree import DecisionTreeClassifier\n",
    "from sklearn.model_selection import train_test_split, GridSearchCV\n",
    "from sklearn.metrics import roc_auc_score\n",
    "\n",
    "%matplotlib inline"
   ]
  },
  {
   "cell_type": "code",
   "execution_count": 2,
   "metadata": {},
   "outputs": [],
   "source": [
    "RANDOM_SEED = 12"
   ]
  },
  {
   "cell_type": "code",
   "execution_count": 3,
   "metadata": {},
   "outputs": [],
   "source": [
    "entrenamiento = pd.read_csv('/home/luciano/orga-datos/training-set-final.csv')"
   ]
  },
  {
   "cell_type": "code",
   "execution_count": 4,
   "metadata": {},
   "outputs": [],
   "source": [
    "no_postulaciones = entrenamiento[entrenamiento['sepostulo'] == 0].sample(500000, random_state=RANDOM_SEED)\n",
    "postulaciones    = entrenamiento[entrenamiento['sepostulo'] == 1]\n",
    "\n",
    "entrenamiento = pd.concat([postulaciones, no_postulaciones]).sample(frac=1)"
   ]
  },
  {
   "cell_type": "code",
   "execution_count": 5,
   "metadata": {},
   "outputs": [],
   "source": [
    "kaggle_set = pd.read_csv('/home/luciano/orga-datos/test_final_100k-preprocesado.csv')"
   ]
  },
  {
   "cell_type": "code",
   "execution_count": 6,
   "metadata": {},
   "outputs": [],
   "source": [
    "TEST_SIZE_PERCENT = 0.1"
   ]
  },
  {
   "cell_type": "code",
   "execution_count": 7,
   "metadata": {},
   "outputs": [],
   "source": [
    "X = entrenamiento.drop(axis=1, labels=['idaviso', 'idpostulante', 'sepostulo'])\n",
    "y = entrenamiento['sepostulo']\n",
    "X_train, X_test, y_train, y_test = train_test_split(X, y, test_size=TEST_SIZE_PERCENT, random_state=RANDOM_SEED)"
   ]
  },
  {
   "cell_type": "code",
   "execution_count": 8,
   "metadata": {},
   "outputs": [],
   "source": [
    "X_kaggle = kaggle_set.drop(axis=1, labels=['id', 'idaviso', 'idpostulante'])"
   ]
  },
  {
   "cell_type": "code",
   "execution_count": 11,
   "metadata": {},
   "outputs": [],
   "source": [
    "clasificador = DecisionTreeClassifier(random_state=RANDOM_SEED)\n",
    "gs = GridSearchCV(clasificador, {'min_samples_split': [10, 50, 100, 200, 500, 1000], 'criterion': ('gini', 'entropy'), }, n_jobs=-1)"
   ]
  },
  {
   "cell_type": "code",
   "execution_count": 12,
   "metadata": {},
   "outputs": [
    {
     "data": {
      "text/plain": [
       "GridSearchCV(cv=None, error_score='raise',\n",
       "       estimator=DecisionTreeClassifier(class_weight=None, criterion='gini', max_depth=None,\n",
       "            max_features=None, max_leaf_nodes=None,\n",
       "            min_impurity_decrease=0.0, min_impurity_split=None,\n",
       "            min_samples_leaf=1, min_samples_split=2,\n",
       "            min_weight_fraction_leaf=0.0, presort=False, random_state=12,\n",
       "            splitter='best'),\n",
       "       fit_params=None, iid=True, n_jobs=-1,\n",
       "       param_grid={'criterion': ('gini', 'entropy'), 'min_samples_split': [10, 50, 100, 200, 500, 1000]},\n",
       "       pre_dispatch='2*n_jobs', refit=True, return_train_score='warn',\n",
       "       scoring=None, verbose=0)"
      ]
     },
     "execution_count": 12,
     "metadata": {},
     "output_type": "execute_result"
    }
   ],
   "source": [
    "gs.fit(X_train, y_train)"
   ]
  },
  {
   "cell_type": "code",
   "execution_count": 13,
   "metadata": {},
   "outputs": [
    {
     "name": "stderr",
     "output_type": "stream",
     "text": [
      "/usr/local/lib/python3.5/dist-packages/sklearn/utils/deprecation.py:122: FutureWarning: You are accessing a training score ('mean_train_score'), which will not be available by default any more in 0.21. If you need training scores, please set return_train_score=True\n",
      "  warnings.warn(*warn_args, **warn_kwargs)\n",
      "/usr/local/lib/python3.5/dist-packages/sklearn/utils/deprecation.py:122: FutureWarning: You are accessing a training score ('split0_train_score'), which will not be available by default any more in 0.21. If you need training scores, please set return_train_score=True\n",
      "  warnings.warn(*warn_args, **warn_kwargs)\n",
      "/usr/local/lib/python3.5/dist-packages/sklearn/utils/deprecation.py:122: FutureWarning: You are accessing a training score ('split1_train_score'), which will not be available by default any more in 0.21. If you need training scores, please set return_train_score=True\n",
      "  warnings.warn(*warn_args, **warn_kwargs)\n",
      "/usr/local/lib/python3.5/dist-packages/sklearn/utils/deprecation.py:122: FutureWarning: You are accessing a training score ('split2_train_score'), which will not be available by default any more in 0.21. If you need training scores, please set return_train_score=True\n",
      "  warnings.warn(*warn_args, **warn_kwargs)\n",
      "/usr/local/lib/python3.5/dist-packages/sklearn/utils/deprecation.py:122: FutureWarning: You are accessing a training score ('std_train_score'), which will not be available by default any more in 0.21. If you need training scores, please set return_train_score=True\n",
      "  warnings.warn(*warn_args, **warn_kwargs)\n"
     ]
    },
    {
     "data": {
      "text/plain": [
       "{'mean_fit_time': array([17.86259166, 23.31475091, 21.64008753, 16.16614445, 13.83763512,\n",
       "        11.91094041, 20.46363624, 18.77070133, 17.79727435, 16.53206714,\n",
       "        14.31859565, 11.55481728]),\n",
       " 'mean_score_time': array([0.31116438, 0.26305548, 0.22425898, 0.26655777, 0.16180126,\n",
       "        0.14532963, 0.19051377, 0.14976025, 0.15049656, 0.14726663,\n",
       "        0.14091659, 0.10738357]),\n",
       " 'mean_test_score': array([0.94677444, 0.95820889, 0.96160444, 0.96418   , 0.96596222,\n",
       "        0.96631778, 0.94708   , 0.95840778, 0.96224   , 0.96459778,\n",
       "        0.96623778, 0.9665    ]),\n",
       " 'mean_train_score': array([0.98786278, 0.97440111, 0.971205  , 0.96910944, 0.96768167,\n",
       "        0.96705278, 0.98960111, 0.974755  , 0.971235  , 0.96888333,\n",
       "        0.96752056, 0.96700167]),\n",
       " 'param_criterion': masked_array(data=['gini', 'gini', 'gini', 'gini', 'gini', 'gini',\n",
       "                    'entropy', 'entropy', 'entropy', 'entropy', 'entropy',\n",
       "                    'entropy'],\n",
       "              mask=[False, False, False, False, False, False, False, False,\n",
       "                    False, False, False, False],\n",
       "        fill_value='?',\n",
       "             dtype=object),\n",
       " 'param_min_samples_split': masked_array(data=[10, 50, 100, 200, 500, 1000, 10, 50, 100, 200, 500,\n",
       "                    1000],\n",
       "              mask=[False, False, False, False, False, False, False, False,\n",
       "                    False, False, False, False],\n",
       "        fill_value='?',\n",
       "             dtype=object),\n",
       " 'params': [{'criterion': 'gini', 'min_samples_split': 10},\n",
       "  {'criterion': 'gini', 'min_samples_split': 50},\n",
       "  {'criterion': 'gini', 'min_samples_split': 100},\n",
       "  {'criterion': 'gini', 'min_samples_split': 200},\n",
       "  {'criterion': 'gini', 'min_samples_split': 500},\n",
       "  {'criterion': 'gini', 'min_samples_split': 1000},\n",
       "  {'criterion': 'entropy', 'min_samples_split': 10},\n",
       "  {'criterion': 'entropy', 'min_samples_split': 50},\n",
       "  {'criterion': 'entropy', 'min_samples_split': 100},\n",
       "  {'criterion': 'entropy', 'min_samples_split': 200},\n",
       "  {'criterion': 'entropy', 'min_samples_split': 500},\n",
       "  {'criterion': 'entropy', 'min_samples_split': 1000}],\n",
       " 'rank_test_score': array([12, 10,  8,  6,  4,  2, 11,  9,  7,  5,  3,  1], dtype=int32),\n",
       " 'split0_test_score': array([0.94681351, 0.95831014, 0.96169679, 0.96431012, 0.96626678,\n",
       "        0.96668678, 0.94763017, 0.9587168 , 0.96255012, 0.96479345,\n",
       "        0.96648678, 0.96669678]),\n",
       " 'split0_train_score': array([0.98779498, 0.97436662, 0.97110995, 0.96910828, 0.96761828,\n",
       "        0.96701661, 0.98960332, 0.97460329, 0.97106995, 0.96877661,\n",
       "        0.96743828, 0.96693828]),\n",
       " 'split1_test_score': array([0.94644   , 0.95802   , 0.96111667, 0.96367   , 0.96548333,\n",
       "        0.96598333, 0.94615667, 0.95828667, 0.962     , 0.96434667,\n",
       "        0.96584333, 0.96639   ]),\n",
       " 'split1_train_score': array([0.987795  , 0.97445833, 0.97134667, 0.96934   , 0.96780167,\n",
       "        0.967075  , 0.98953167, 0.974735  , 0.97128   , 0.96906833,\n",
       "        0.96764333, 0.96710833]),\n",
       " 'split2_test_score': array([0.94706982, 0.95829653, 0.96199987, 0.96455988, 0.96613655,\n",
       "        0.96628322, 0.94745316, 0.95821986, 0.96216987, 0.96465322,\n",
       "        0.96638322, 0.96641322]),\n",
       " 'split2_train_score': array([0.98799835, 0.97437838, 0.97115838, 0.96888005, 0.96762505,\n",
       "        0.96706672, 0.98966835, 0.97492671, 0.97135505, 0.96880505,\n",
       "        0.96748005, 0.96695839]),\n",
       " 'std_fit_time': array([0.54227424, 4.13525331, 3.2270158 , 0.14449978, 0.54836842,\n",
       "        0.51146227, 0.20280276, 0.24172047, 0.16235079, 0.24524504,\n",
       "        0.07939054, 0.73230227]),\n",
       " 'std_score_time': array([0.1592296 , 0.05564118, 0.03316258, 0.02968615, 0.0171101 ,\n",
       "        0.00999501, 0.03060913, 0.00624136, 0.00420739, 0.00976402,\n",
       "        0.00834823, 0.01603293]),\n",
       " 'std_test_score': array([0.0002586 , 0.00013368, 0.00036643, 0.00037476, 0.00034277,\n",
       "        0.00028822, 0.00065688, 0.00022021, 0.00023   , 0.00018656,\n",
       "        0.0002821 , 0.00013947]),\n",
       " 'std_train_score': array([9.58664769e-05, 4.07456788e-05, 1.02105973e-04, 1.87774839e-04,\n",
       "        8.48978777e-05, 2.57956178e-05, 5.58227401e-05, 1.32789825e-04,\n",
       "        1.20661198e-04, 1.31328914e-04, 8.84762937e-05, 7.58702396e-05])}"
      ]
     },
     "execution_count": 13,
     "metadata": {},
     "output_type": "execute_result"
    }
   ],
   "source": [
    "gs.cv_results_"
   ]
  },
  {
   "cell_type": "code",
   "execution_count": 14,
   "metadata": {},
   "outputs": [
    {
     "data": {
      "text/plain": [
       "{'cv': None,\n",
       " 'error_score': 'raise',\n",
       " 'estimator': DecisionTreeClassifier(class_weight=None, criterion='gini', max_depth=None,\n",
       "             max_features=None, max_leaf_nodes=None,\n",
       "             min_impurity_decrease=0.0, min_impurity_split=None,\n",
       "             min_samples_leaf=1, min_samples_split=2,\n",
       "             min_weight_fraction_leaf=0.0, presort=False, random_state=12,\n",
       "             splitter='best'),\n",
       " 'estimator__class_weight': None,\n",
       " 'estimator__criterion': 'gini',\n",
       " 'estimator__max_depth': None,\n",
       " 'estimator__max_features': None,\n",
       " 'estimator__max_leaf_nodes': None,\n",
       " 'estimator__min_impurity_decrease': 0.0,\n",
       " 'estimator__min_impurity_split': None,\n",
       " 'estimator__min_samples_leaf': 1,\n",
       " 'estimator__min_samples_split': 2,\n",
       " 'estimator__min_weight_fraction_leaf': 0.0,\n",
       " 'estimator__presort': False,\n",
       " 'estimator__random_state': 12,\n",
       " 'estimator__splitter': 'best',\n",
       " 'fit_params': None,\n",
       " 'iid': True,\n",
       " 'n_jobs': -1,\n",
       " 'param_grid': {'criterion': ('gini', 'entropy'),\n",
       "  'min_samples_split': [10, 50, 100, 200, 500, 1000]},\n",
       " 'pre_dispatch': '2*n_jobs',\n",
       " 'refit': True,\n",
       " 'return_train_score': 'warn',\n",
       " 'scoring': None,\n",
       " 'verbose': 0}"
      ]
     },
     "execution_count": 14,
     "metadata": {},
     "output_type": "execute_result"
    }
   ],
   "source": [
    "gs.get_params()"
   ]
  },
  {
   "cell_type": "code",
   "execution_count": 15,
   "metadata": {},
   "outputs": [
    {
     "data": {
      "text/plain": [
       "DecisionTreeClassifier(class_weight=None, criterion='entropy', max_depth=None,\n",
       "            max_features=None, max_leaf_nodes=None,\n",
       "            min_impurity_decrease=0.0, min_impurity_split=None,\n",
       "            min_samples_leaf=1, min_samples_split=1000,\n",
       "            min_weight_fraction_leaf=0.0, presort=False, random_state=12,\n",
       "            splitter='best')"
      ]
     },
     "execution_count": 15,
     "metadata": {},
     "output_type": "execute_result"
    }
   ],
   "source": [
    "gs.best_estimator_"
   ]
  },
  {
   "cell_type": "code",
   "execution_count": 16,
   "metadata": {},
   "outputs": [],
   "source": [
    "gs.best_estimator_.score(X_test, y_test)"
   ]
  },
  {
   "cell_type": "code",
   "execution_count": 17,
   "metadata": {},
   "outputs": [],
   "source": [
    "clasificador = gs.best_estimator_"
   ]
  },
  {
   "cell_type": "code",
   "execution_count": 18,
   "metadata": {},
   "outputs": [],
   "source": [
    "y_kaggle = clasificador.predict_proba(X_kaggle)[:, 1]"
   ]
  },
  {
   "cell_type": "code",
   "execution_count": 19,
   "metadata": {},
   "outputs": [],
   "source": [
    "kaggle_out = kaggle_set[['id']].copy()\n",
    "kaggle_out['sepostulo'] = y_kaggle"
   ]
  },
  {
   "cell_type": "code",
   "execution_count": 20,
   "metadata": {},
   "outputs": [
    {
     "data": {
      "text/plain": [
       "<matplotlib.axes._subplots.AxesSubplot at 0x7f5b675968d0>"
      ]
     },
     "execution_count": 20,
     "metadata": {},
     "output_type": "execute_result"
    },
    {
     "data": {
      "image/png": "[encoded data removed]",
      "text/plain": [
       "<Figure size 432x288 with 1 Axes>"
      ]
     },
     "metadata": {},
     "output_type": "display_data"
    }
   ],
   "source": [
    "kaggle_out['sepostulo'].hist()"
   ]
  },
  {
   "cell_type": "code",
   "execution_count": 21,
   "metadata": {},
   "outputs": [],
   "source": [
    "kaggle_out.to_csv('/home/luciano/orga-datos/tmp/submits/submit-46.csv', index=False)"
   ]
  },
  {
   "cell_type": "code",
   "execution_count": 22,
   "metadata": {},
   "outputs": [],
   "source": [
    "kaggle_38 = pd.read_csv('/home/luciano/orga-datos/tmp/submits/submit-38.csv')"
   ]
  },
  {
   "cell_type": "code",
   "execution_count": 23,
   "metadata": {},
   "outputs": [
    {
     "name": "stdout",
     "output_type": "stream",
     "text": [
      "ROCAUC 38 vs 41: 0.980440134917592\n"
     ]
    }
   ],
   "source": [
    "print('ROCAUC 38 vs 41:', roc_auc_score(np.round(kaggle_38['sepostulo']), kaggle_out['sepostulo']))"
   ]
  },
  {
   "cell_type": "code",
   "execution_count": 24,
   "metadata": {},
   "outputs": [
    {
     "data": {
      "text/plain": [
       "<matplotlib.axes._subplots.AxesSubplot at 0x7f5b675e9588>"
      ]
     },
     "execution_count": 24,
     "metadata": {},
     "output_type": "execute_result"
    },
    {
     "data": {
      "image/png": "[encoded data removed]",
      "text/plain": [
       "<Figure size 432x288 with 1 Axes>"
      ]
     },
     "metadata": {},
     "output_type": "display_data"
    }
   ],
   "source": [
    "np.abs(kaggle_38['sepostulo'] - kaggle_out['sepostulo']).hist()"
   ]
  },
  {
   "cell_type": "code",
   "execution_count": null,
   "metadata": {},
   "outputs": [],
   "source": [
    "# kaggle score: 0.93573"
   ]
  }
 ],
 "metadata": {
  "kernelspec": {
   "display_name": "Python 3",
   "language": "python",
   "name": "python3"
  },
  "language_info": {
   "codemirror_mode": {
    "name": "ipython",
    "version": 3
   },
   "file_extension": ".py",
   "mimetype": "text/x-python",
   "name": "python",
   "nbconvert_exporter": "python",
   "pygments_lexer": "ipython3",
   "version": "3.5.2"
  }
 },
 "nbformat": 4,
 "nbformat_minor": 2
}
