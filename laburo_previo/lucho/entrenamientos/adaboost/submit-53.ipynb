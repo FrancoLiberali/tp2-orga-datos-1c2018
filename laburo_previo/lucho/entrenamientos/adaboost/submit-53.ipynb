{
 "cells": [
  {
   "cell_type": "markdown",
   "metadata": {},
   "source": [
    "# Pruebas Adaboost + DecisionTree\n",
    "\n",
    "El set de training usado se genera desde `lucho/generar_set_test`\n",
    "\n",
    "Cambios respecto a submit-52:\n",
    "- DecisionTrees en lugar de RandomForest con criterio cambiado de entropy a gini\n",
    "- min_samples_split de 1000 a 1200\n",
    "- n_estimators = 50"
   ]
  },
  {
   "cell_type": "code",
   "execution_count": 1,
   "metadata": {},
   "outputs": [],
   "source": [
    "import pandas as pd\n",
    "import numpy as np\n",
    "\n",
    "from sklearn.ensemble import AdaBoostClassifier\n",
    "from sklearn.tree import DecisionTreeClassifier\n",
    "from sklearn.model_selection import train_test_split, cross_val_score\n",
    "from sklearn.metrics import roc_auc_score\n",
    "\n",
    "%matplotlib inline"
   ]
  },
  {
   "cell_type": "code",
   "execution_count": 2,
   "metadata": {},
   "outputs": [],
   "source": [
    "RANDOM_SEED = 12"
   ]
  },
  {
   "cell_type": "code",
   "execution_count": 3,
   "metadata": {},
   "outputs": [],
   "source": [
    "entrenamiento = pd.read_csv('/home/luciano/orga-datos/training-set-final.csv').drop_duplicates()"
   ]
  },
  {
   "cell_type": "code",
   "execution_count": 4,
   "metadata": {},
   "outputs": [],
   "source": [
    "no_postulaciones = entrenamiento[entrenamiento['sepostulo'] == 0].sample(500000, random_state=RANDOM_SEED)\n",
    "postulaciones    = entrenamiento[entrenamiento['sepostulo'] == 1]\n",
    "\n",
    "entrenamiento = pd.concat([postulaciones, no_postulaciones]).sample(frac=1)"
   ]
  },
  {
   "cell_type": "code",
   "execution_count": 5,
   "metadata": {},
   "outputs": [],
   "source": [
    "kaggle_set = pd.read_csv('/home/luciano/orga-datos/test_final_100k-preprocesado.csv')"
   ]
  },
  {
   "cell_type": "code",
   "execution_count": 6,
   "metadata": {},
   "outputs": [],
   "source": [
    "TEST_SIZE_PERCENT = 0.1"
   ]
  },
  {
   "cell_type": "code",
   "execution_count": 7,
   "metadata": {},
   "outputs": [],
   "source": [
    "X = entrenamiento.drop(axis=1, labels=['idaviso', 'idpostulante', 'sepostulo'])\n",
    "y = entrenamiento['sepostulo']\n",
    "X_train, X_test, y_train, y_test = train_test_split(X, y, test_size=TEST_SIZE_PERCENT, random_state=RANDOM_SEED)"
   ]
  },
  {
   "cell_type": "code",
   "execution_count": 8,
   "metadata": {},
   "outputs": [],
   "source": [
    "X_kaggle = kaggle_set.drop(axis=1, labels=['id', 'idaviso', 'idpostulante'])"
   ]
  },
  {
   "cell_type": "code",
   "execution_count": 9,
   "metadata": {},
   "outputs": [],
   "source": [
    "clasificador = AdaBoostClassifier(\n",
    "    base_estimator = DecisionTreeClassifier(\n",
    "        min_samples_split=1200,\n",
    "        criterion = 'gini',\n",
    "        random_state=RANDOM_SEED\n",
    "    ),\n",
    "    n_estimators=50,\n",
    "    random_state=RANDOM_SEED\n",
    ")"
   ]
  },
  {
   "cell_type": "code",
   "execution_count": null,
   "metadata": {},
   "outputs": [],
   "source": [
    "clasificador.fit(X_train, y_train)"
   ]
  },
  {
   "cell_type": "code",
   "execution_count": null,
   "metadata": {},
   "outputs": [],
   "source": [
    "y_test_predictd = clasificador.predict_proba(X_test)[:, 1]"
   ]
  },
  {
   "cell_type": "code",
   "execution_count": 14,
   "metadata": {},
   "outputs": [
    {
     "data": {
      "text/plain": [
       "0.9928066059115112"
      ]
     },
     "execution_count": 14,
     "metadata": {},
     "output_type": "execute_result"
    }
   ],
   "source": [
    "roc_auc_score(y_test, y_test_predictd)"
   ]
  },
  {
   "cell_type": "code",
   "execution_count": 15,
   "metadata": {},
   "outputs": [
    {
     "name": "stderr",
     "output_type": "stream",
     "text": [
      "[Parallel(n_jobs=4)]: Done  12 out of  12 | elapsed:    0.1s finished\n",
      "[Parallel(n_jobs=4)]: Done  12 out of  12 | elapsed:    0.1s finished\n",
      "[Parallel(n_jobs=4)]: Done  12 out of  12 | elapsed:    0.1s finished\n",
      "[Parallel(n_jobs=4)]: Done  12 out of  12 | elapsed:    0.1s finished\n",
      "[Parallel(n_jobs=4)]: Done  12 out of  12 | elapsed:    0.1s finished\n",
      "[Parallel(n_jobs=4)]: Done  12 out of  12 | elapsed:    0.1s finished\n",
      "[Parallel(n_jobs=4)]: Done  12 out of  12 | elapsed:    0.1s finished\n",
      "[Parallel(n_jobs=4)]: Done  12 out of  12 | elapsed:    0.1s finished\n",
      "[Parallel(n_jobs=4)]: Done  12 out of  12 | elapsed:    0.1s finished\n",
      "[Parallel(n_jobs=4)]: Done  12 out of  12 | elapsed:    0.1s finished\n",
      "[Parallel(n_jobs=4)]: Done  12 out of  12 | elapsed:    0.1s finished\n",
      "[Parallel(n_jobs=4)]: Done  12 out of  12 | elapsed:    0.1s finished\n",
      "[Parallel(n_jobs=4)]: Done  12 out of  12 | elapsed:    0.1s finished\n",
      "[Parallel(n_jobs=4)]: Done  12 out of  12 | elapsed:    0.1s finished\n",
      "[Parallel(n_jobs=4)]: Done  12 out of  12 | elapsed:    0.1s finished\n",
      "[Parallel(n_jobs=4)]: Done  12 out of  12 | elapsed:    0.1s finished\n",
      "[Parallel(n_jobs=4)]: Done  12 out of  12 | elapsed:    0.1s finished\n",
      "[Parallel(n_jobs=4)]: Done  12 out of  12 | elapsed:    0.1s finished\n",
      "[Parallel(n_jobs=4)]: Done  12 out of  12 | elapsed:    0.1s finished\n",
      "[Parallel(n_jobs=4)]: Done  12 out of  12 | elapsed:    0.1s finished\n",
      "[Parallel(n_jobs=4)]: Done  12 out of  12 | elapsed:    0.1s finished\n",
      "[Parallel(n_jobs=4)]: Done  12 out of  12 | elapsed:    0.1s finished\n",
      "[Parallel(n_jobs=4)]: Done  12 out of  12 | elapsed:    0.1s finished\n",
      "[Parallel(n_jobs=4)]: Done  12 out of  12 | elapsed:    0.1s finished\n",
      "[Parallel(n_jobs=4)]: Done  12 out of  12 | elapsed:    0.1s finished\n",
      "[Parallel(n_jobs=4)]: Done  12 out of  12 | elapsed:    0.1s finished\n",
      "[Parallel(n_jobs=4)]: Done  12 out of  12 | elapsed:    0.1s finished\n",
      "[Parallel(n_jobs=4)]: Done  12 out of  12 | elapsed:    0.1s finished\n",
      "[Parallel(n_jobs=4)]: Done  12 out of  12 | elapsed:    0.1s finished\n",
      "[Parallel(n_jobs=4)]: Done  12 out of  12 | elapsed:    0.1s finished\n"
     ]
    },
    {
     "data": {
      "text/plain": [
       "0.96817"
      ]
     },
     "execution_count": 15,
     "metadata": {},
     "output_type": "execute_result"
    }
   ],
   "source": [
    "clasificador.score(X_test, y_test)"
   ]
  },
  {
   "cell_type": "code",
   "execution_count": null,
   "metadata": {},
   "outputs": [],
   "source": [
    "y_kaggle = clasificador.predict_proba(X_kaggle)[:, 1]"
   ]
  },
  {
   "cell_type": "code",
   "execution_count": null,
   "metadata": {},
   "outputs": [],
   "source": [
    "kaggle_out = kaggle_set[['id']].copy()\n",
    "kaggle_out['sepostulo'] = y_kaggle"
   ]
  },
  {
   "cell_type": "code",
   "execution_count": null,
   "metadata": {},
   "outputs": [],
   "source": [
    "kaggle_out['sepostulo'].hist()"
   ]
  },
  {
   "cell_type": "code",
   "execution_count": null,
   "metadata": {},
   "outputs": [],
   "source": [
    "kaggle_out.to_csv('/home/luciano/orga-datos/tmp/submits/submit-53.csv', index=False)"
   ]
  },
  {
   "cell_type": "code",
   "execution_count": 20,
   "metadata": {},
   "outputs": [],
   "source": [
    "kaggle_38 = pd.read_csv('/home/luciano/orga-datos/tmp/submits/submit-38.csv')"
   ]
  },
  {
   "cell_type": "code",
   "execution_count": 21,
   "metadata": {},
   "outputs": [
    {
     "name": "stdout",
     "output_type": "stream",
     "text": [
      "ROCAUC 38 vs 41: 0.9958793798702135\n"
     ]
    }
   ],
   "source": [
    "print('ROCAUC 38 vs 41:', roc_auc_score(np.round(kaggle_38['sepostulo']), kaggle_out['sepostulo']))"
   ]
  },
  {
   "cell_type": "code",
   "execution_count": 22,
   "metadata": {},
   "outputs": [
    {
     "data": {
      "text/plain": [
       "<matplotlib.axes._subplots.AxesSubplot at 0x7fbf8406a2e8>"
      ]
     },
     "execution_count": 22,
     "metadata": {},
     "output_type": "execute_result"
    },
    {
     "data": {
      "image/png": "[encoded data removed]",
      "text/plain": [
       "<Figure size 432x288 with 1 Axes>"
      ]
     },
     "metadata": {},
     "output_type": "display_data"
    }
   ],
   "source": [
    "np.abs(kaggle_38['sepostulo'] - kaggle_out['sepostulo']).hist()"
   ]
  },
  {
   "cell_type": "code",
   "execution_count": null,
   "metadata": {},
   "outputs": [],
   "source": [
    "# kaggle score: 0.85"
   ]
  }
 ],
 "metadata": {
  "kernelspec": {
   "display_name": "Python 3",
   "language": "python",
   "name": "python3"
  },
  "language_info": {
   "codemirror_mode": {
    "name": "ipython",
    "version": 3
   },
   "file_extension": ".py",
   "mimetype": "text/x-python",
   "name": "python",
   "nbconvert_exporter": "python",
   "pygments_lexer": "ipython3",
   "version": "3.5.2"
  }
 },
 "nbformat": 4,
 "nbformat_minor": 2
}
