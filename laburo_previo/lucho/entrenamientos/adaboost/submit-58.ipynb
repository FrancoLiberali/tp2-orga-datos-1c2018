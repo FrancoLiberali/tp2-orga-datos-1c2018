{
 "cells": [
  {
   "cell_type": "markdown",
   "metadata": {},
   "source": [
    "# Pruebas Adaboost + RandomForest\n",
    "\n",
    "El set de training usado se genera desde `lucho/generar_set_test`\n",
    "\n",
    "Cambios respecto a submit-57:\n",
    " - Features por árbol: 0.8\n",
    " - min_samples_split: 700"
   ]
  },
  {
   "cell_type": "code",
   "execution_count": 1,
   "metadata": {},
   "outputs": [],
   "source": [
    "import pandas as pd\n",
    "import numpy as np\n",
    "\n",
    "from sklearn.ensemble import AdaBoostClassifier, RandomForestClassifier\n",
    "from sklearn.model_selection import train_test_split, cross_val_score\n",
    "from sklearn.metrics import roc_auc_score\n",
    "\n",
    "%matplotlib inline"
   ]
  },
  {
   "cell_type": "code",
   "execution_count": 2,
   "metadata": {},
   "outputs": [],
   "source": [
    "RANDOM_SEED = 12"
   ]
  },
  {
   "cell_type": "code",
   "execution_count": 3,
   "metadata": {},
   "outputs": [],
   "source": [
    "entrenamiento = pd.read_csv('/home/luciano/orga-datos/training-set-final.csv')"
   ]
  },
  {
   "cell_type": "code",
   "execution_count": 4,
   "metadata": {},
   "outputs": [],
   "source": [
    "no_postulaciones = entrenamiento[entrenamiento['sepostulo'] == 0].sample(500000, random_state=RANDOM_SEED)\n",
    "postulaciones    = entrenamiento[entrenamiento['sepostulo'] == 1]\n",
    "\n",
    "entrenamiento = pd.concat([postulaciones, no_postulaciones]).sample(frac=1)"
   ]
  },
  {
   "cell_type": "code",
   "execution_count": 5,
   "metadata": {},
   "outputs": [],
   "source": [
    "kaggle_set = pd.read_csv('/home/luciano/orga-datos/test_final_100k-preprocesado.csv')"
   ]
  },
  {
   "cell_type": "code",
   "execution_count": 6,
   "metadata": {},
   "outputs": [],
   "source": [
    "TEST_SIZE_PERCENT = 0.1"
   ]
  },
  {
   "cell_type": "code",
   "execution_count": 7,
   "metadata": {},
   "outputs": [],
   "source": [
    "X = entrenamiento.drop(axis=1, labels=['idaviso', 'idpostulante', 'sepostulo'])\n",
    "y = entrenamiento['sepostulo']\n",
    "X_train, X_test, y_train, y_test = train_test_split(X, y, test_size=TEST_SIZE_PERCENT, random_state=RANDOM_SEED)"
   ]
  },
  {
   "cell_type": "code",
   "execution_count": 8,
   "metadata": {},
   "outputs": [],
   "source": [
    "X_kaggle = kaggle_set.drop(axis=1, labels=['id', 'idaviso', 'idpostulante'])"
   ]
  },
  {
   "cell_type": "code",
   "execution_count": 9,
   "metadata": {},
   "outputs": [],
   "source": [
    "clasificador = AdaBoostClassifier(\n",
    "    base_estimator = RandomForestClassifier(n_estimators=40, max_features=0.8, min_samples_split=700, n_jobs=-1, verbose=1),\n",
    "    n_estimators=50,\n",
    "    random_state=RANDOM_SEED\n",
    ")"
   ]
  },
  {
   "cell_type": "code",
   "execution_count": 10,
   "metadata": {},
   "outputs": [
    {
     "name": "stderr",
     "output_type": "stream",
     "text": [
      "[Parallel(n_jobs=-1)]: Done  40 out of  40 | elapsed:  2.4min finished\n",
      "[Parallel(n_jobs=4)]: Done  40 out of  40 | elapsed:    1.8s finished\n",
      "[Parallel(n_jobs=-1)]: Done  40 out of  40 | elapsed:  4.8min finished\n",
      "[Parallel(n_jobs=4)]: Done  40 out of  40 | elapsed:    2.9s finished\n",
      "[Parallel(n_jobs=-1)]: Done  40 out of  40 | elapsed:  5.3min finished\n",
      "[Parallel(n_jobs=4)]: Done  40 out of  40 | elapsed:    3.0s finished\n",
      "[Parallel(n_jobs=-1)]: Done  40 out of  40 | elapsed:  5.4min finished\n",
      "[Parallel(n_jobs=4)]: Done  40 out of  40 | elapsed:    3.0s finished\n",
      "[Parallel(n_jobs=-1)]: Done  40 out of  40 | elapsed:  5.2min finished\n",
      "[Parallel(n_jobs=4)]: Done  40 out of  40 | elapsed:    3.0s finished\n",
      "[Parallel(n_jobs=-1)]: Done  40 out of  40 | elapsed:  5.2min finished\n",
      "[Parallel(n_jobs=4)]: Done  40 out of  40 | elapsed:    3.0s finished\n",
      "[Parallel(n_jobs=-1)]: Done  40 out of  40 | elapsed:  5.6min finished\n",
      "[Parallel(n_jobs=4)]: Done  40 out of  40 | elapsed:    3.0s finished\n",
      "[Parallel(n_jobs=-1)]: Done  40 out of  40 | elapsed:  5.6min finished\n",
      "[Parallel(n_jobs=4)]: Done  40 out of  40 | elapsed:    3.1s finished\n",
      "[Parallel(n_jobs=-1)]: Done  40 out of  40 | elapsed:  5.7min finished\n",
      "[Parallel(n_jobs=4)]: Done  40 out of  40 | elapsed:    3.1s finished\n",
      "[Parallel(n_jobs=-1)]: Done  40 out of  40 | elapsed:  5.5min finished\n",
      "[Parallel(n_jobs=4)]: Done  40 out of  40 | elapsed:    3.1s finished\n",
      "[Parallel(n_jobs=-1)]: Done  40 out of  40 | elapsed:  5.4min finished\n",
      "[Parallel(n_jobs=4)]: Done  40 out of  40 | elapsed:    3.1s finished\n",
      "[Parallel(n_jobs=-1)]: Done  40 out of  40 | elapsed:  5.7min finished\n",
      "[Parallel(n_jobs=4)]: Done  40 out of  40 | elapsed:    3.1s finished\n",
      "[Parallel(n_jobs=-1)]: Done  40 out of  40 | elapsed:  5.6min finished\n",
      "[Parallel(n_jobs=4)]: Done  40 out of  40 | elapsed:    3.1s finished\n",
      "[Parallel(n_jobs=-1)]: Done  40 out of  40 | elapsed:  5.6min finished\n",
      "[Parallel(n_jobs=4)]: Done  40 out of  40 | elapsed:    3.1s finished\n",
      "[Parallel(n_jobs=-1)]: Done  40 out of  40 | elapsed:  5.7min finished\n",
      "[Parallel(n_jobs=4)]: Done  40 out of  40 | elapsed:    3.1s finished\n",
      "[Parallel(n_jobs=-1)]: Done  40 out of  40 | elapsed:  5.6min finished\n",
      "[Parallel(n_jobs=4)]: Done  40 out of  40 | elapsed:    3.1s finished\n",
      "[Parallel(n_jobs=-1)]: Done  40 out of  40 | elapsed:  5.8min finished\n",
      "[Parallel(n_jobs=4)]: Done  40 out of  40 | elapsed:    3.1s finished\n",
      "[Parallel(n_jobs=-1)]: Done  40 out of  40 | elapsed:  5.8min finished\n",
      "[Parallel(n_jobs=4)]: Done  40 out of  40 | elapsed:    3.1s finished\n",
      "[Parallel(n_jobs=-1)]: Done  40 out of  40 | elapsed:  5.6min finished\n",
      "[Parallel(n_jobs=4)]: Done  40 out of  40 | elapsed:    3.1s finished\n",
      "[Parallel(n_jobs=-1)]: Done  40 out of  40 | elapsed:  6.1min finished\n",
      "[Parallel(n_jobs=4)]: Done  40 out of  40 | elapsed:    3.2s finished\n",
      "[Parallel(n_jobs=-1)]: Done  40 out of  40 | elapsed:  6.1min finished\n",
      "[Parallel(n_jobs=4)]: Done  40 out of  40 | elapsed:    3.1s finished\n",
      "[Parallel(n_jobs=-1)]: Done  40 out of  40 | elapsed:  6.0min finished\n",
      "[Parallel(n_jobs=4)]: Done  40 out of  40 | elapsed:    3.2s finished\n",
      "[Parallel(n_jobs=-1)]: Done  40 out of  40 | elapsed:  6.1min finished\n",
      "[Parallel(n_jobs=4)]: Done  40 out of  40 | elapsed:    3.1s finished\n",
      "[Parallel(n_jobs=-1)]: Done  40 out of  40 | elapsed:  6.1min finished\n",
      "[Parallel(n_jobs=4)]: Done  40 out of  40 | elapsed:    3.2s finished\n",
      "[Parallel(n_jobs=-1)]: Done  40 out of  40 | elapsed:  6.3min finished\n",
      "[Parallel(n_jobs=4)]: Done  40 out of  40 | elapsed:    3.2s finished\n",
      "[Parallel(n_jobs=-1)]: Done  40 out of  40 | elapsed:  6.5min finished\n",
      "[Parallel(n_jobs=4)]: Done  40 out of  40 | elapsed:    3.2s finished\n",
      "[Parallel(n_jobs=-1)]: Done  40 out of  40 | elapsed:  6.5min finished\n",
      "[Parallel(n_jobs=4)]: Done  40 out of  40 | elapsed:    3.2s finished\n",
      "[Parallel(n_jobs=-1)]: Done  40 out of  40 | elapsed:  5.9min finished\n",
      "[Parallel(n_jobs=4)]: Done  40 out of  40 | elapsed:    3.1s finished\n",
      "[Parallel(n_jobs=-1)]: Done  40 out of  40 | elapsed:  6.3min finished\n",
      "[Parallel(n_jobs=4)]: Done  40 out of  40 | elapsed:    3.2s finished\n",
      "[Parallel(n_jobs=-1)]: Done  40 out of  40 | elapsed:  6.3min finished\n",
      "[Parallel(n_jobs=4)]: Done  40 out of  40 | elapsed:    3.2s finished\n",
      "[Parallel(n_jobs=-1)]: Done  40 out of  40 | elapsed:  6.4min finished\n",
      "[Parallel(n_jobs=4)]: Done  40 out of  40 | elapsed:    3.2s finished\n",
      "[Parallel(n_jobs=-1)]: Done  40 out of  40 | elapsed:  7.1min finished\n",
      "[Parallel(n_jobs=4)]: Done  40 out of  40 | elapsed:    3.2s finished\n",
      "[Parallel(n_jobs=-1)]: Done  40 out of  40 | elapsed:  6.6min finished\n",
      "[Parallel(n_jobs=4)]: Done  40 out of  40 | elapsed:    3.2s finished\n",
      "[Parallel(n_jobs=-1)]: Done  40 out of  40 | elapsed:  6.6min finished\n",
      "[Parallel(n_jobs=4)]: Done  40 out of  40 | elapsed:    3.2s finished\n",
      "[Parallel(n_jobs=-1)]: Done  40 out of  40 | elapsed:  7.3min finished\n",
      "[Parallel(n_jobs=4)]: Done  40 out of  40 | elapsed:    3.3s finished\n",
      "[Parallel(n_jobs=-1)]: Done  40 out of  40 | elapsed:  7.4min finished\n",
      "[Parallel(n_jobs=4)]: Done  40 out of  40 | elapsed:    3.3s finished\n",
      "[Parallel(n_jobs=-1)]: Done  40 out of  40 | elapsed:  6.7min finished\n",
      "[Parallel(n_jobs=4)]: Done  40 out of  40 | elapsed:    3.2s finished\n",
      "[Parallel(n_jobs=-1)]: Done  40 out of  40 | elapsed:  7.1min finished\n",
      "[Parallel(n_jobs=4)]: Done  40 out of  40 | elapsed:    3.2s finished\n",
      "[Parallel(n_jobs=-1)]: Done  40 out of  40 | elapsed:  7.1min finished\n",
      "[Parallel(n_jobs=4)]: Done  40 out of  40 | elapsed:    3.3s finished\n",
      "[Parallel(n_jobs=-1)]: Done  40 out of  40 | elapsed:  7.1min finished\n",
      "[Parallel(n_jobs=4)]: Done  40 out of  40 | elapsed:    3.3s finished\n",
      "[Parallel(n_jobs=-1)]: Done  40 out of  40 | elapsed:  7.2min finished\n",
      "[Parallel(n_jobs=4)]: Done  40 out of  40 | elapsed:    3.3s finished\n",
      "[Parallel(n_jobs=-1)]: Done  40 out of  40 | elapsed:  7.3min finished\n",
      "[Parallel(n_jobs=4)]: Done  40 out of  40 | elapsed:    3.3s finished\n",
      "[Parallel(n_jobs=-1)]: Done  40 out of  40 | elapsed:  7.3min finished\n",
      "[Parallel(n_jobs=4)]: Done  40 out of  40 | elapsed:    3.3s finished\n",
      "[Parallel(n_jobs=-1)]: Done  40 out of  40 | elapsed:  7.1min finished\n",
      "[Parallel(n_jobs=4)]: Done  40 out of  40 | elapsed:    3.2s finished\n",
      "[Parallel(n_jobs=-1)]: Done  40 out of  40 | elapsed:  8.2min finished\n",
      "[Parallel(n_jobs=4)]: Done  40 out of  40 | elapsed:    3.3s finished\n",
      "[Parallel(n_jobs=-1)]: Done  40 out of  40 | elapsed:  8.0min finished\n",
      "[Parallel(n_jobs=4)]: Done  40 out of  40 | elapsed:    3.4s finished\n",
      "[Parallel(n_jobs=-1)]: Done  40 out of  40 | elapsed:  8.1min finished\n",
      "[Parallel(n_jobs=4)]: Done  40 out of  40 | elapsed:    3.3s finished\n",
      "[Parallel(n_jobs=-1)]: Done  40 out of  40 | elapsed:  8.0min finished\n",
      "[Parallel(n_jobs=4)]: Done  40 out of  40 | elapsed:    3.3s finished\n",
      "[Parallel(n_jobs=-1)]: Done  40 out of  40 | elapsed:  7.8min finished\n",
      "[Parallel(n_jobs=4)]: Done  40 out of  40 | elapsed:    3.3s finished\n",
      "[Parallel(n_jobs=-1)]: Done  40 out of  40 | elapsed:  8.3min finished\n",
      "[Parallel(n_jobs=4)]: Done  40 out of  40 | elapsed:    3.4s finished\n"
     ]
    },
    {
     "data": {
      "text/plain": [
       "AdaBoostClassifier(algorithm='SAMME.R',\n",
       "          base_estimator=RandomForestClassifier(bootstrap=True, class_weight=None, criterion='gini',\n",
       "            max_depth=None, max_features=0.8, max_leaf_nodes=None,\n",
       "            min_impurity_decrease=0.0, min_impurity_split=None,\n",
       "            min_samples_leaf=1, min_samples_split=700,\n",
       "            min_weight_fraction_leaf=0.0, n_estimators=40, n_jobs=-1,\n",
       "            oob_score=False, random_state=None, verbose=1,\n",
       "            warm_start=False),\n",
       "          learning_rate=1.0, n_estimators=50, random_state=12)"
      ]
     },
     "execution_count": 10,
     "metadata": {},
     "output_type": "execute_result"
    }
   ],
   "source": [
    "clasificador.fit(X_train, y_train)"
   ]
  },
  {
   "cell_type": "code",
   "execution_count": 11,
   "metadata": {},
   "outputs": [
    {
     "name": "stderr",
     "output_type": "stream",
     "text": [
      "[Parallel(n_jobs=4)]: Done  40 out of  40 | elapsed:    0.2s finished\n",
      "[Parallel(n_jobs=4)]: Done  40 out of  40 | elapsed:    0.3s finished\n",
      "[Parallel(n_jobs=4)]: Done  40 out of  40 | elapsed:    0.3s finished\n",
      "[Parallel(n_jobs=4)]: Done  40 out of  40 | elapsed:    0.3s finished\n",
      "[Parallel(n_jobs=4)]: Done  40 out of  40 | elapsed:    0.3s finished\n",
      "[Parallel(n_jobs=4)]: Done  40 out of  40 | elapsed:    0.3s finished\n",
      "[Parallel(n_jobs=4)]: Done  40 out of  40 | elapsed:    0.3s finished\n",
      "[Parallel(n_jobs=4)]: Done  40 out of  40 | elapsed:    0.3s finished\n",
      "[Parallel(n_jobs=4)]: Done  40 out of  40 | elapsed:    0.3s finished\n",
      "[Parallel(n_jobs=4)]: Done  40 out of  40 | elapsed:    0.3s finished\n",
      "[Parallel(n_jobs=4)]: Done  40 out of  40 | elapsed:    0.3s finished\n",
      "[Parallel(n_jobs=4)]: Done  40 out of  40 | elapsed:    0.3s finished\n",
      "[Parallel(n_jobs=4)]: Done  40 out of  40 | elapsed:    0.4s finished\n",
      "[Parallel(n_jobs=4)]: Done  40 out of  40 | elapsed:    0.3s finished\n",
      "[Parallel(n_jobs=4)]: Done  40 out of  40 | elapsed:    0.4s finished\n",
      "[Parallel(n_jobs=4)]: Done  40 out of  40 | elapsed:    0.4s finished\n",
      "[Parallel(n_jobs=4)]: Done  40 out of  40 | elapsed:    0.4s finished\n",
      "[Parallel(n_jobs=4)]: Done  40 out of  40 | elapsed:    0.4s finished\n",
      "[Parallel(n_jobs=4)]: Done  40 out of  40 | elapsed:    0.4s finished\n",
      "[Parallel(n_jobs=4)]: Done  40 out of  40 | elapsed:    0.4s finished\n",
      "[Parallel(n_jobs=4)]: Done  40 out of  40 | elapsed:    0.4s finished\n",
      "[Parallel(n_jobs=4)]: Done  40 out of  40 | elapsed:    0.4s finished\n",
      "[Parallel(n_jobs=4)]: Done  40 out of  40 | elapsed:    0.4s finished\n",
      "[Parallel(n_jobs=4)]: Done  40 out of  40 | elapsed:    0.4s finished\n",
      "[Parallel(n_jobs=4)]: Done  40 out of  40 | elapsed:    0.4s finished\n",
      "[Parallel(n_jobs=4)]: Done  40 out of  40 | elapsed:    0.4s finished\n",
      "[Parallel(n_jobs=4)]: Done  40 out of  40 | elapsed:    0.4s finished\n",
      "[Parallel(n_jobs=4)]: Done  40 out of  40 | elapsed:    0.4s finished\n",
      "[Parallel(n_jobs=4)]: Done  40 out of  40 | elapsed:    0.4s finished\n",
      "[Parallel(n_jobs=4)]: Done  40 out of  40 | elapsed:    0.4s finished\n",
      "[Parallel(n_jobs=4)]: Done  40 out of  40 | elapsed:    0.4s finished\n",
      "[Parallel(n_jobs=4)]: Done  40 out of  40 | elapsed:    0.4s finished\n",
      "[Parallel(n_jobs=4)]: Done  40 out of  40 | elapsed:    0.4s finished\n",
      "[Parallel(n_jobs=4)]: Done  40 out of  40 | elapsed:    0.4s finished\n",
      "[Parallel(n_jobs=4)]: Done  40 out of  40 | elapsed:    0.4s finished\n",
      "[Parallel(n_jobs=4)]: Done  40 out of  40 | elapsed:    0.4s finished\n",
      "[Parallel(n_jobs=4)]: Done  40 out of  40 | elapsed:    0.4s finished\n",
      "[Parallel(n_jobs=4)]: Done  40 out of  40 | elapsed:    0.4s finished\n",
      "[Parallel(n_jobs=4)]: Done  40 out of  40 | elapsed:    0.4s finished\n",
      "[Parallel(n_jobs=4)]: Done  40 out of  40 | elapsed:    0.4s finished\n",
      "[Parallel(n_jobs=4)]: Done  40 out of  40 | elapsed:    0.4s finished\n",
      "[Parallel(n_jobs=4)]: Done  40 out of  40 | elapsed:    0.4s finished\n",
      "[Parallel(n_jobs=4)]: Done  40 out of  40 | elapsed:    0.4s finished\n",
      "[Parallel(n_jobs=4)]: Done  40 out of  40 | elapsed:    0.4s finished\n",
      "[Parallel(n_jobs=4)]: Done  40 out of  40 | elapsed:    0.4s finished\n",
      "[Parallel(n_jobs=4)]: Done  40 out of  40 | elapsed:    0.4s finished\n",
      "[Parallel(n_jobs=4)]: Done  40 out of  40 | elapsed:    0.4s finished\n",
      "[Parallel(n_jobs=4)]: Done  40 out of  40 | elapsed:    0.4s finished\n",
      "[Parallel(n_jobs=4)]: Done  40 out of  40 | elapsed:    0.4s finished\n",
      "[Parallel(n_jobs=4)]: Done  40 out of  40 | elapsed:    0.4s finished\n"
     ]
    }
   ],
   "source": [
    "y_test_predictd = clasificador.predict_proba(X_test)[:, 1]"
   ]
  },
  {
   "cell_type": "code",
   "execution_count": 12,
   "metadata": {},
   "outputs": [
    {
     "data": {
      "text/plain": [
       "0.9925344030880836"
      ]
     },
     "execution_count": 12,
     "metadata": {},
     "output_type": "execute_result"
    }
   ],
   "source": [
    "roc_auc_score(y_test, y_test_predictd)"
   ]
  },
  {
   "cell_type": "code",
   "execution_count": 13,
   "metadata": {},
   "outputs": [
    {
     "name": "stderr",
     "output_type": "stream",
     "text": [
      "[Parallel(n_jobs=4)]: Done  40 out of  40 | elapsed:    0.2s finished\n",
      "[Parallel(n_jobs=4)]: Done  40 out of  40 | elapsed:    0.3s finished\n",
      "[Parallel(n_jobs=4)]: Done  40 out of  40 | elapsed:    0.3s finished\n",
      "[Parallel(n_jobs=4)]: Done  40 out of  40 | elapsed:    0.3s finished\n",
      "[Parallel(n_jobs=4)]: Done  40 out of  40 | elapsed:    0.3s finished\n",
      "[Parallel(n_jobs=4)]: Done  40 out of  40 | elapsed:    0.3s finished\n",
      "[Parallel(n_jobs=4)]: Done  40 out of  40 | elapsed:    0.3s finished\n",
      "[Parallel(n_jobs=4)]: Done  40 out of  40 | elapsed:    0.3s finished\n",
      "[Parallel(n_jobs=4)]: Done  40 out of  40 | elapsed:    0.4s finished\n",
      "[Parallel(n_jobs=4)]: Done  40 out of  40 | elapsed:    0.3s finished\n",
      "[Parallel(n_jobs=4)]: Done  40 out of  40 | elapsed:    0.3s finished\n",
      "[Parallel(n_jobs=4)]: Done  40 out of  40 | elapsed:    0.3s finished\n",
      "[Parallel(n_jobs=4)]: Done  40 out of  40 | elapsed:    0.3s finished\n",
      "[Parallel(n_jobs=4)]: Done  40 out of  40 | elapsed:    0.3s finished\n",
      "[Parallel(n_jobs=4)]: Done  40 out of  40 | elapsed:    0.4s finished\n",
      "[Parallel(n_jobs=4)]: Done  40 out of  40 | elapsed:    0.3s finished\n",
      "[Parallel(n_jobs=4)]: Done  40 out of  40 | elapsed:    0.4s finished\n",
      "[Parallel(n_jobs=4)]: Done  40 out of  40 | elapsed:    0.4s finished\n",
      "[Parallel(n_jobs=4)]: Done  40 out of  40 | elapsed:    0.3s finished\n",
      "[Parallel(n_jobs=4)]: Done  40 out of  40 | elapsed:    0.4s finished\n",
      "[Parallel(n_jobs=4)]: Done  40 out of  40 | elapsed:    0.4s finished\n",
      "[Parallel(n_jobs=4)]: Done  40 out of  40 | elapsed:    0.4s finished\n",
      "[Parallel(n_jobs=4)]: Done  40 out of  40 | elapsed:    0.4s finished\n",
      "[Parallel(n_jobs=4)]: Done  40 out of  40 | elapsed:    0.4s finished\n",
      "[Parallel(n_jobs=4)]: Done  40 out of  40 | elapsed:    0.4s finished\n",
      "[Parallel(n_jobs=4)]: Done  40 out of  40 | elapsed:    0.4s finished\n",
      "[Parallel(n_jobs=4)]: Done  40 out of  40 | elapsed:    0.4s finished\n",
      "[Parallel(n_jobs=4)]: Done  40 out of  40 | elapsed:    0.4s finished\n",
      "[Parallel(n_jobs=4)]: Done  40 out of  40 | elapsed:    0.4s finished\n",
      "[Parallel(n_jobs=4)]: Done  40 out of  40 | elapsed:    0.4s finished\n",
      "[Parallel(n_jobs=4)]: Done  40 out of  40 | elapsed:    0.4s finished\n",
      "[Parallel(n_jobs=4)]: Done  40 out of  40 | elapsed:    0.4s finished\n",
      "[Parallel(n_jobs=4)]: Done  40 out of  40 | elapsed:    0.4s finished\n",
      "[Parallel(n_jobs=4)]: Done  40 out of  40 | elapsed:    0.4s finished\n",
      "[Parallel(n_jobs=4)]: Done  40 out of  40 | elapsed:    0.4s finished\n",
      "[Parallel(n_jobs=4)]: Done  40 out of  40 | elapsed:    0.4s finished\n",
      "[Parallel(n_jobs=4)]: Done  40 out of  40 | elapsed:    0.4s finished\n",
      "[Parallel(n_jobs=4)]: Done  40 out of  40 | elapsed:    0.4s finished\n",
      "[Parallel(n_jobs=4)]: Done  40 out of  40 | elapsed:    0.4s finished\n",
      "[Parallel(n_jobs=4)]: Done  40 out of  40 | elapsed:    0.4s finished\n",
      "[Parallel(n_jobs=4)]: Done  40 out of  40 | elapsed:    0.4s finished\n",
      "[Parallel(n_jobs=4)]: Done  40 out of  40 | elapsed:    0.4s finished\n",
      "[Parallel(n_jobs=4)]: Done  40 out of  40 | elapsed:    0.4s finished\n",
      "[Parallel(n_jobs=4)]: Done  40 out of  40 | elapsed:    0.4s finished\n",
      "[Parallel(n_jobs=4)]: Done  40 out of  40 | elapsed:    0.4s finished\n",
      "[Parallel(n_jobs=4)]: Done  40 out of  40 | elapsed:    0.4s finished\n",
      "[Parallel(n_jobs=4)]: Done  40 out of  40 | elapsed:    0.4s finished\n",
      "[Parallel(n_jobs=4)]: Done  40 out of  40 | elapsed:    0.4s finished\n",
      "[Parallel(n_jobs=4)]: Done  40 out of  40 | elapsed:    0.4s finished\n",
      "[Parallel(n_jobs=4)]: Done  40 out of  40 | elapsed:    0.4s finished\n"
     ]
    },
    {
     "data": {
      "text/plain": [
       "0.96865"
      ]
     },
     "execution_count": 13,
     "metadata": {},
     "output_type": "execute_result"
    }
   ],
   "source": [
    "clasificador.score(X_test, y_test)"
   ]
  },
  {
   "cell_type": "code",
   "execution_count": 14,
   "metadata": {},
   "outputs": [
    {
     "name": "stderr",
     "output_type": "stream",
     "text": [
      "[Parallel(n_jobs=4)]: Done  40 out of  40 | elapsed:    0.2s finished\n",
      "[Parallel(n_jobs=4)]: Done  40 out of  40 | elapsed:    0.3s finished\n",
      "[Parallel(n_jobs=4)]: Done  40 out of  40 | elapsed:    0.3s finished\n",
      "[Parallel(n_jobs=4)]: Done  40 out of  40 | elapsed:    0.3s finished\n",
      "[Parallel(n_jobs=4)]: Done  40 out of  40 | elapsed:    0.3s finished\n",
      "[Parallel(n_jobs=4)]: Done  40 out of  40 | elapsed:    0.3s finished\n",
      "[Parallel(n_jobs=4)]: Done  40 out of  40 | elapsed:    0.3s finished\n",
      "[Parallel(n_jobs=4)]: Done  40 out of  40 | elapsed:    0.3s finished\n",
      "[Parallel(n_jobs=4)]: Done  40 out of  40 | elapsed:    0.3s finished\n",
      "[Parallel(n_jobs=4)]: Done  40 out of  40 | elapsed:    0.3s finished\n",
      "[Parallel(n_jobs=4)]: Done  40 out of  40 | elapsed:    0.3s finished\n",
      "[Parallel(n_jobs=4)]: Done  40 out of  40 | elapsed:    0.3s finished\n",
      "[Parallel(n_jobs=4)]: Done  40 out of  40 | elapsed:    0.3s finished\n",
      "[Parallel(n_jobs=4)]: Done  40 out of  40 | elapsed:    0.3s finished\n",
      "[Parallel(n_jobs=4)]: Done  40 out of  40 | elapsed:    0.3s finished\n",
      "[Parallel(n_jobs=4)]: Done  40 out of  40 | elapsed:    0.3s finished\n",
      "[Parallel(n_jobs=4)]: Done  40 out of  40 | elapsed:    0.3s finished\n",
      "[Parallel(n_jobs=4)]: Done  40 out of  40 | elapsed:    0.3s finished\n",
      "[Parallel(n_jobs=4)]: Done  40 out of  40 | elapsed:    0.3s finished\n",
      "[Parallel(n_jobs=4)]: Done  40 out of  40 | elapsed:    0.3s finished\n",
      "[Parallel(n_jobs=4)]: Done  40 out of  40 | elapsed:    0.3s finished\n",
      "[Parallel(n_jobs=4)]: Done  40 out of  40 | elapsed:    0.3s finished\n",
      "[Parallel(n_jobs=4)]: Done  40 out of  40 | elapsed:    0.3s finished\n",
      "[Parallel(n_jobs=4)]: Done  40 out of  40 | elapsed:    0.3s finished\n",
      "[Parallel(n_jobs=4)]: Done  40 out of  40 | elapsed:    0.3s finished\n",
      "[Parallel(n_jobs=4)]: Done  40 out of  40 | elapsed:    0.3s finished\n",
      "[Parallel(n_jobs=4)]: Done  40 out of  40 | elapsed:    0.3s finished\n",
      "[Parallel(n_jobs=4)]: Done  40 out of  40 | elapsed:    0.3s finished\n",
      "[Parallel(n_jobs=4)]: Done  40 out of  40 | elapsed:    0.3s finished\n",
      "[Parallel(n_jobs=4)]: Done  40 out of  40 | elapsed:    0.3s finished\n",
      "[Parallel(n_jobs=4)]: Done  40 out of  40 | elapsed:    0.3s finished\n",
      "[Parallel(n_jobs=4)]: Done  40 out of  40 | elapsed:    0.3s finished\n",
      "[Parallel(n_jobs=4)]: Done  40 out of  40 | elapsed:    0.3s finished\n",
      "[Parallel(n_jobs=4)]: Done  40 out of  40 | elapsed:    0.3s finished\n",
      "[Parallel(n_jobs=4)]: Done  40 out of  40 | elapsed:    0.3s finished\n",
      "[Parallel(n_jobs=4)]: Done  40 out of  40 | elapsed:    0.3s finished\n",
      "[Parallel(n_jobs=4)]: Done  40 out of  40 | elapsed:    0.3s finished\n",
      "[Parallel(n_jobs=4)]: Done  40 out of  40 | elapsed:    0.3s finished\n",
      "[Parallel(n_jobs=4)]: Done  40 out of  40 | elapsed:    0.3s finished\n",
      "[Parallel(n_jobs=4)]: Done  40 out of  40 | elapsed:    0.3s finished\n",
      "[Parallel(n_jobs=4)]: Done  40 out of  40 | elapsed:    0.3s finished\n",
      "[Parallel(n_jobs=4)]: Done  40 out of  40 | elapsed:    0.3s finished\n",
      "[Parallel(n_jobs=4)]: Done  40 out of  40 | elapsed:    0.3s finished\n",
      "[Parallel(n_jobs=4)]: Done  40 out of  40 | elapsed:    0.3s finished\n",
      "[Parallel(n_jobs=4)]: Done  40 out of  40 | elapsed:    0.3s finished\n",
      "[Parallel(n_jobs=4)]: Done  40 out of  40 | elapsed:    0.3s finished\n",
      "[Parallel(n_jobs=4)]: Done  40 out of  40 | elapsed:    0.3s finished\n",
      "[Parallel(n_jobs=4)]: Done  40 out of  40 | elapsed:    0.3s finished\n",
      "[Parallel(n_jobs=4)]: Done  40 out of  40 | elapsed:    0.3s finished\n",
      "[Parallel(n_jobs=4)]: Done  40 out of  40 | elapsed:    0.4s finished\n"
     ]
    }
   ],
   "source": [
    "y_kaggle = clasificador.predict_proba(X_kaggle)[:, 1]"
   ]
  },
  {
   "cell_type": "code",
   "execution_count": 15,
   "metadata": {},
   "outputs": [],
   "source": [
    "kaggle_out = kaggle_set[['id']].copy()\n",
    "kaggle_out['sepostulo'] = y_kaggle"
   ]
  },
  {
   "cell_type": "code",
   "execution_count": 16,
   "metadata": {},
   "outputs": [
    {
     "data": {
      "text/plain": [
       "<matplotlib.axes._subplots.AxesSubplot at 0x7f68f4bb9f28>"
      ]
     },
     "execution_count": 16,
     "metadata": {},
     "output_type": "execute_result"
    },
    {
     "data": {
      "image/png": "[encoded data removed]",
      "text/plain": [
       "<Figure size 432x288 with 1 Axes>"
      ]
     },
     "metadata": {},
     "output_type": "display_data"
    }
   ],
   "source": [
    "kaggle_out['sepostulo'].hist()"
   ]
  },
  {
   "cell_type": "code",
   "execution_count": 17,
   "metadata": {},
   "outputs": [],
   "source": [
    "kaggle_out.to_csv('/home/luciano/orga-datos/tmp/submits/submit-58.csv', index=False)"
   ]
  },
  {
   "cell_type": "code",
   "execution_count": 18,
   "metadata": {},
   "outputs": [],
   "source": [
    "kaggle_45 = pd.read_csv('/home/luciano/orga-datos/tmp/submits/submit-45.csv')"
   ]
  },
  {
   "cell_type": "code",
   "execution_count": 19,
   "metadata": {},
   "outputs": [
    {
     "name": "stdout",
     "output_type": "stream",
     "text": [
      "ROCAUC 45 vs 57: 0.9947025717485273\n"
     ]
    }
   ],
   "source": [
    "print('ROCAUC 45 vs 57:', roc_auc_score(np.round(kaggle_45['sepostulo']), kaggle_out['sepostulo']))"
   ]
  },
  {
   "cell_type": "code",
   "execution_count": 20,
   "metadata": {},
   "outputs": [
    {
     "data": {
      "text/plain": [
       "<matplotlib.axes._subplots.AxesSubplot at 0x7f68f4c10d30>"
      ]
     },
     "execution_count": 20,
     "metadata": {},
     "output_type": "execute_result"
    },
    {
     "data": {
      "image/png": "[encoded data removed]",
      "text/plain": [
       "<Figure size 432x288 with 1 Axes>"
      ]
     },
     "metadata": {},
     "output_type": "display_data"
    }
   ],
   "source": [
    "np.abs(kaggle_45['sepostulo'] - kaggle_out['sepostulo']).hist()"
   ]
  },
  {
   "cell_type": "code",
   "execution_count": null,
   "metadata": {},
   "outputs": [],
   "source": [
    "# kaggle score: 0.85"
   ]
  }
 ],
 "metadata": {
  "kernelspec": {
   "display_name": "Python 3",
   "language": "python",
   "name": "python3"
  },
  "language_info": {
   "codemirror_mode": {
    "name": "ipython",
    "version": 3
   },
   "file_extension": ".py",
   "mimetype": "text/x-python",
   "name": "python",
   "nbconvert_exporter": "python",
   "pygments_lexer": "ipython3",
   "version": "3.5.2"
  }
 },
 "nbformat": 4,
 "nbformat_minor": 2
}
