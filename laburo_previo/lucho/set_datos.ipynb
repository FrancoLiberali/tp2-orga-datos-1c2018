{
 "cells": [
  {
   "cell_type": "code",
   "execution_count": 1,
   "metadata": {},
   "outputs": [],
   "source": [
    "import pandas as pd\n",
    "import numpy as np"
   ]
  },
  {
   "cell_type": "code",
   "execution_count": 2,
   "metadata": {},
   "outputs": [],
   "source": [
    "vistas = pd.read_csv('/home/luciano/orga-datos/datos_filtrados/vistas.csv')\n",
    "vistas_np = pd.read_csv('/home/luciano/orga-datos/datos_filtrados/vistas_np.csv')"
   ]
  },
  {
   "cell_type": "code",
   "execution_count": 3,
   "metadata": {},
   "outputs": [],
   "source": [
    "kaggle = pd.read_csv('/home/luciano/orga-datos/test_final_100k.csv')"
   ]
  },
  {
   "cell_type": "code",
   "execution_count": 5,
   "metadata": {},
   "outputs": [
    {
     "name": "stdout",
     "output_type": "stream",
     "text": [
      "Cargando postulantes...OK\n"
     ]
    }
   ],
   "source": [
    "import preprocesar_set.datasets.postulantes as postulantes"
   ]
  },
  {
   "cell_type": "code",
   "execution_count": 6,
   "metadata": {},
   "outputs": [],
   "source": [
    "df = pd.merge(kaggle, postulantes.df_genero_edad, how='left', left_on='idpostulante', right_index=True)\n",
    "df = pd.merge(df, postulantes.df_educacion, how='left', left_on='idpostulante', right_index=True)\n",
    "\n",
    "df['hay_informacion_basica'] = 1\n",
    "df[df['sexo'].isna() | df['edad'].isna() | df['nivel_educativo'].isna()] = 0\n",
    "df['sexo'] = df['sexo'].fillna(0)\n",
    "df['edad'] = df['edad'].fillna(0)\n",
    "df['nivel_educativo'] = df['nivel_educativo'].fillna(0)\n",
    "\n",
    "s = df.rename(columns={'sexo': 'sexo_postulante', 'edad': 'edad_postulante', \n",
    "        'nivel_educativo':'nivel_educativo_postulante'})"
   ]
  },
  {
   "cell_type": "code",
   "execution_count": 7,
   "metadata": {},
   "outputs": [
    {
     "name": "stdout",
     "output_type": "stream",
     "text": [
      "Cargando postulaciones...OK\n"
     ]
    }
   ],
   "source": [
    "import preprocesar_set.datasets.postulaciones as postulaciones"
   ]
  },
  {
   "cell_type": "code",
   "execution_count": 8,
   "metadata": {},
   "outputs": [],
   "source": [
    "\n",
    "df_data = pd.merge(df[['idaviso']].drop_duplicates(), postulaciones.df, on='idaviso', how='inner')\n",
    "df_data = pd.merge(df_data, postulantes.df_genero_edad, on='idpostulante', how='right')\n",
    "df_data = pd.merge(df_data, postulantes.df_educacion, on='idpostulante', how='right')\n",
    "df_data = df_data.drop(axis=1, labels=['idpostulante'])\\\n",
    "    .rename(columns={'edad': 'edad_media', 'sexo':'sexo_medio', \n",
    "        'nivel_educativo': 'nivel_educativo_medio'})\n",
    "df_data = df_data.groupby('idaviso').agg('mean').reset_index()\n",
    "df_data = pd.merge(df, df_data, on='idaviso', how='left')\n",
    "df_data['hay_informacion_media_aviso'] = 1\n",
    "df_data[df_data['edad_media'].isna() | df_data['sexo_medio'].isna() | df_data['nivel_educativo_medio'].isna()] = 0"
   ]
  },
  {
   "cell_type": "code",
   "execution_count": null,
   "metadata": {},
   "outputs": [],
   "source": [
    "df = kaggle\n",
    "FACTOR = 2\n",
    "EDAD_MEDIA = 30\n",
    "\n",
    "df_data = pd.merge(df[['idaviso']].drop_duplicates(), postulaciones.df, on='idaviso', how='inner')\n",
    "df_data = pd.merge(df_data, postulantes.df_genero_edad, on='idpostulante', how='right')\n",
    "df_data = pd.merge(df_data, postulantes.df_educacion, on='idpostulante', how='right')\n",
    "df_data = df_data.drop(axis=1, labels=['idpostulante'])\\\n",
    "    .rename(columns={'edad': 'edad_media', 'sexo':'sexo_medio', \n",
    "        'nivel_educativo': 'nivel_educativo_medio'})\n",
    "\n",
    "df_data_2 = df_data.groupby('idaviso')['edad_media'].agg(lambda x: (np.sum(x) + FACTOR * EDAD_MEDIA) / (FACTOR + len(x)))\n",
    "df_data = pd.merge(df, df_data, on='idaviso', how='left')\n",
    "df_data['hay_informacion_media_aviso'] = 1\n",
    "df_data[df_data['edad_media'].isna() | df_data['sexo_medio'].isna() | df_data['nivel_educativo_medio'].isna()] = 0"
   ]
  },
  {
   "cell_type": "code",
   "execution_count": null,
   "metadata": {},
   "outputs": [],
   "source": []
  },
  {
   "cell_type": "code",
   "execution_count": null,
   "metadata": {},
   "outputs": [],
   "source": []
  }
 ],
 "metadata": {
  "kernelspec": {
   "display_name": "Python 3",
   "language": "python",
   "name": "python3"
  },
  "language_info": {
   "codemirror_mode": {
    "name": "ipython",
    "version": 3
   },
   "file_extension": ".py",
   "mimetype": "text/x-python",
   "name": "python",
   "nbconvert_exporter": "python",
   "pygments_lexer": "ipython3",
   "version": "3.5.2"
  }
 },
 "nbformat": 4,
 "nbformat_minor": 2
}
