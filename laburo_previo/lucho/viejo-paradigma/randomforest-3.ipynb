{
 "cells": [
  {
   "cell_type": "code",
   "execution_count": 1,
   "metadata": {},
   "outputs": [],
   "source": [
    "import pandas as pd\n",
    "import numpy as np\n",
    "import matplotlib.pyplot as plt\n",
    "\n",
    "from sklearn.ensemble import RandomForestClassifier, AdaBoostClassifier, ExtraTreesClassifier\n",
    "from sklearn.model_selection import train_test_split, cross_val_score\n",
    "from sklearn.metrics import roc_auc_score\n",
    "\n",
    "from rutas import *\n",
    "\n",
    "%matplotlib inline"
   ]
  },
  {
   "cell_type": "code",
   "execution_count": 2,
   "metadata": {},
   "outputs": [],
   "source": [
    "MAX_SAMPLE_SIZE = 500000\n",
    "TRAINING_SIZE   = int(MAX_SAMPLE_SIZE * 0.9)\n",
    "\n",
    "CANT_POSTULADOS = int(MAX_SAMPLE_SIZE * 0.6)\n",
    "CANT_NO_POSTULADOS = MAX_SAMPLE_SIZE - CANT_POSTULADOS"
   ]
  },
  {
   "cell_type": "code",
   "execution_count": 3,
   "metadata": {},
   "outputs": [],
   "source": [
    "postulados    = pd.read_csv(RUTA_DATOS_PROCESADOS + 'v3/postulados_v3.csv').sample(n=CANT_POSTULADOS)\n",
    "no_postulados = pd.read_csv(RUTA_DATOS_PROCESADOS + 'v3/no_postulados_v3.csv').sample(n=CANT_NO_POSTULADOS)\n",
    "\n",
    "entrenamiento = postulados.append(no_postulados).sample(frac=1).reset_index(drop=True)"
   ]
  },
  {
   "cell_type": "code",
   "execution_count": 4,
   "metadata": {},
   "outputs": [],
   "source": [
    "y_entrenamiento = entrenamiento['sepostulo']\n",
    "entrenamiento = entrenamiento.drop(axis=1, labels=['idpostulante', 'idaviso', 'sepostulo'])\n",
    "X_train, X_test, y_train, y_test = train_test_split(entrenamiento, y_entrenamiento, test_size=0.25, random_state=12)"
   ]
  },
  {
   "cell_type": "code",
   "execution_count": 5,
   "metadata": {},
   "outputs": [],
   "source": [
    "ada = AdaBoostClassifier(\n",
    "    base_estimator=ExtraTreesClassifier(\n",
    "        min_samples_leaf=15,\n",
    "        n_estimators=8, \n",
    "        max_features=4, \n",
    "        criterion='entropy', \n",
    "        n_jobs=-1, \n",
    "        verbose=1,\n",
    "        random_state=12), \n",
    "    n_estimators=15)"
   ]
  },
  {
   "cell_type": "code",
   "execution_count": 6,
   "metadata": {},
   "outputs": [
    {
     "name": "stderr",
     "output_type": "stream",
     "text": [
      "[Parallel(n_jobs=-1)]: Done   8 out of   8 | elapsed:    2.3s finished\n",
      "[Parallel(n_jobs=4)]: Done   8 out of   8 | elapsed:    0.2s finished\n",
      "[Parallel(n_jobs=-1)]: Done   8 out of   8 | elapsed:    2.7s finished\n",
      "[Parallel(n_jobs=4)]: Done   8 out of   8 | elapsed:    0.2s finished\n",
      "[Parallel(n_jobs=-1)]: Done   8 out of   8 | elapsed:    2.8s finished\n",
      "[Parallel(n_jobs=4)]: Done   8 out of   8 | elapsed:    0.3s finished\n",
      "[Parallel(n_jobs=-1)]: Done   8 out of   8 | elapsed:    3.3s finished\n",
      "[Parallel(n_jobs=4)]: Done   8 out of   8 | elapsed:    0.3s finished\n",
      "[Parallel(n_jobs=-1)]: Done   8 out of   8 | elapsed:    3.1s finished\n",
      "[Parallel(n_jobs=4)]: Done   8 out of   8 | elapsed:    0.2s finished\n",
      "[Parallel(n_jobs=-1)]: Done   8 out of   8 | elapsed:    3.2s finished\n",
      "[Parallel(n_jobs=4)]: Done   8 out of   8 | elapsed:    0.2s finished\n",
      "[Parallel(n_jobs=-1)]: Done   8 out of   8 | elapsed:    3.3s finished\n",
      "[Parallel(n_jobs=4)]: Done   8 out of   8 | elapsed:    0.3s finished\n",
      "[Parallel(n_jobs=-1)]: Done   8 out of   8 | elapsed:    3.1s finished\n",
      "[Parallel(n_jobs=4)]: Done   8 out of   8 | elapsed:    0.2s finished\n",
      "[Parallel(n_jobs=-1)]: Done   8 out of   8 | elapsed:    3.4s finished\n",
      "[Parallel(n_jobs=4)]: Done   8 out of   8 | elapsed:    0.2s finished\n",
      "[Parallel(n_jobs=-1)]: Done   8 out of   8 | elapsed:    3.0s finished\n",
      "[Parallel(n_jobs=4)]: Done   8 out of   8 | elapsed:    0.2s finished\n",
      "[Parallel(n_jobs=-1)]: Done   8 out of   8 | elapsed:    2.8s finished\n",
      "[Parallel(n_jobs=4)]: Done   8 out of   8 | elapsed:    0.2s finished\n",
      "[Parallel(n_jobs=-1)]: Done   8 out of   8 | elapsed:    3.0s finished\n",
      "[Parallel(n_jobs=4)]: Done   8 out of   8 | elapsed:    0.3s finished\n",
      "[Parallel(n_jobs=-1)]: Done   8 out of   8 | elapsed:    3.3s finished\n",
      "[Parallel(n_jobs=4)]: Done   8 out of   8 | elapsed:    0.3s finished\n",
      "[Parallel(n_jobs=-1)]: Done   8 out of   8 | elapsed:    3.5s finished\n",
      "[Parallel(n_jobs=4)]: Done   8 out of   8 | elapsed:    0.3s finished\n",
      "[Parallel(n_jobs=-1)]: Done   8 out of   8 | elapsed:    3.5s finished\n",
      "[Parallel(n_jobs=4)]: Done   8 out of   8 | elapsed:    0.3s finished\n"
     ]
    },
    {
     "data": {
      "text/plain": [
       "AdaBoostClassifier(algorithm='SAMME.R',\n",
       "          base_estimator=ExtraTreesClassifier(bootstrap=False, class_weight=None, criterion='entropy',\n",
       "           max_depth=None, max_features=4, max_leaf_nodes=None,\n",
       "           min_impurity_decrease=0.0, min_impurity_split=None,\n",
       "           min_samples_leaf=15, min_samples_split=2,\n",
       "           min_weight_fraction_leaf=0.0, n_estimators=8, n_jobs=-1,\n",
       "           oob_score=False, random_state=12, verbose=1, warm_start=False),\n",
       "          learning_rate=1.0, n_estimators=15, random_state=None)"
      ]
     },
     "execution_count": 6,
     "metadata": {},
     "output_type": "execute_result"
    }
   ],
   "source": [
    "ada.fit(X_train, y_train)"
   ]
  },
  {
   "cell_type": "code",
   "execution_count": 7,
   "metadata": {},
   "outputs": [
    {
     "name": "stderr",
     "output_type": "stream",
     "text": [
      "[Parallel(n_jobs=4)]: Done   8 out of   8 | elapsed:    0.1s finished\n",
      "[Parallel(n_jobs=4)]: Done   8 out of   8 | elapsed:    0.1s finished\n",
      "[Parallel(n_jobs=4)]: Done   8 out of   8 | elapsed:    0.1s finished\n",
      "[Parallel(n_jobs=4)]: Done   8 out of   8 | elapsed:    0.1s finished\n",
      "[Parallel(n_jobs=4)]: Done   8 out of   8 | elapsed:    0.1s finished\n",
      "[Parallel(n_jobs=4)]: Done   8 out of   8 | elapsed:    0.1s finished\n",
      "[Parallel(n_jobs=4)]: Done   8 out of   8 | elapsed:    0.1s finished\n",
      "[Parallel(n_jobs=4)]: Done   8 out of   8 | elapsed:    0.1s finished\n",
      "[Parallel(n_jobs=4)]: Done   8 out of   8 | elapsed:    0.1s finished\n",
      "[Parallel(n_jobs=4)]: Done   8 out of   8 | elapsed:    0.1s finished\n",
      "[Parallel(n_jobs=4)]: Done   8 out of   8 | elapsed:    0.1s finished\n",
      "[Parallel(n_jobs=4)]: Done   8 out of   8 | elapsed:    0.1s finished\n",
      "[Parallel(n_jobs=4)]: Done   8 out of   8 | elapsed:    0.1s finished\n"
     ]
    },
    {
     "name": "stdout",
     "output_type": "stream",
     "text": [
      "Score:  0.995912\n"
     ]
    },
    {
     "name": "stderr",
     "output_type": "stream",
     "text": [
      "[Parallel(n_jobs=4)]: Done   8 out of   8 | elapsed:    0.1s finished\n",
      "[Parallel(n_jobs=4)]: Done   8 out of   8 | elapsed:    0.1s finished\n"
     ]
    }
   ],
   "source": [
    "print('Score: ', ada.score(X_test, y_test))"
   ]
  },
  {
   "cell_type": "code",
   "execution_count": 8,
   "metadata": {},
   "outputs": [
    {
     "name": "stderr",
     "output_type": "stream",
     "text": [
      "[Parallel(n_jobs=4)]: Done   8 out of   8 | elapsed:    0.1s finished\n",
      "[Parallel(n_jobs=4)]: Done   8 out of   8 | elapsed:    0.1s finished\n",
      "[Parallel(n_jobs=4)]: Done   8 out of   8 | elapsed:    0.1s finished\n",
      "[Parallel(n_jobs=4)]: Done   8 out of   8 | elapsed:    0.1s finished\n",
      "[Parallel(n_jobs=4)]: Done   8 out of   8 | elapsed:    0.1s finished\n",
      "[Parallel(n_jobs=4)]: Done   8 out of   8 | elapsed:    0.1s finished\n",
      "[Parallel(n_jobs=4)]: Done   8 out of   8 | elapsed:    0.1s finished\n",
      "[Parallel(n_jobs=4)]: Done   8 out of   8 | elapsed:    0.1s finished\n",
      "[Parallel(n_jobs=4)]: Done   8 out of   8 | elapsed:    0.1s finished\n",
      "[Parallel(n_jobs=4)]: Done   8 out of   8 | elapsed:    0.1s finished\n",
      "[Parallel(n_jobs=4)]: Done   8 out of   8 | elapsed:    0.1s finished\n",
      "[Parallel(n_jobs=4)]: Done   8 out of   8 | elapsed:    0.1s finished\n",
      "[Parallel(n_jobs=4)]: Done   8 out of   8 | elapsed:    0.1s finished\n",
      "[Parallel(n_jobs=4)]: Done   8 out of   8 | elapsed:    0.1s finished\n",
      "[Parallel(n_jobs=4)]: Done   8 out of   8 | elapsed:    0.1s finished\n"
     ]
    }
   ],
   "source": [
    "y_test_predictd = ada.predict_proba(X_test)[:, 1]"
   ]
  },
  {
   "cell_type": "code",
   "execution_count": 9,
   "metadata": {},
   "outputs": [
    {
     "name": "stdout",
     "output_type": "stream",
     "text": [
      "ROC AUC:  0.9989664104481809\n"
     ]
    }
   ],
   "source": [
    "print('ROC AUC: ', roc_auc_score(y_test, y_test_predictd, average='samples'))"
   ]
  },
  {
   "cell_type": "code",
   "execution_count": 10,
   "metadata": {},
   "outputs": [
    {
     "data": {
      "text/plain": [
       "array([[<matplotlib.axes._subplots.AxesSubplot object at 0x7f0868b19400>]],\n",
       "      dtype=object)"
      ]
     },
     "execution_count": 10,
     "metadata": {},
     "output_type": "execute_result"
    },
    {
     "data": {
      "image/png": "[encoded data removed]",
      "text/plain": [
       "<Figure size 432x288 with 1 Axes>"
      ]
     },
     "metadata": {},
     "output_type": "display_data"
    }
   ],
   "source": [
    "pd.DataFrame(y_test).hist()"
   ]
  },
  {
   "cell_type": "code",
   "execution_count": 11,
   "metadata": {},
   "outputs": [
    {
     "data": {
      "text/plain": [
       "array([[<matplotlib.axes._subplots.AxesSubplot object at 0x7f0868b0cba8>]],\n",
       "      dtype=object)"
      ]
     },
     "execution_count": 11,
     "metadata": {},
     "output_type": "execute_result"
    },
    {
     "data": {
      "image/png": "[encoded data removed]",
      "text/plain": [
       "<Figure size 432x288 with 1 Axes>"
      ]
     },
     "metadata": {},
     "output_type": "display_data"
    }
   ],
   "source": [
    "pd.DataFrame(y_test_predictd).hist()"
   ]
  },
  {
   "cell_type": "code",
   "execution_count": null,
   "metadata": {},
   "outputs": [],
   "source": []
  },
  {
   "cell_type": "code",
   "execution_count": 12,
   "metadata": {},
   "outputs": [
    {
     "data": {
      "text/html": [
       "<div>\n",
       "<style scoped>\n",
       "    .dataframe tbody tr th:only-of-type {\n",
       "        vertical-align: middle;\n",
       "    }\n",
       "\n",
       "    .dataframe tbody tr th {\n",
       "        vertical-align: top;\n",
       "    }\n",
       "\n",
       "    .dataframe thead th {\n",
       "        text-align: right;\n",
       "    }\n",
       "</style>\n",
       "<table border=\"1\" class=\"dataframe\">\n",
       "  <thead>\n",
       "    <tr style=\"text-align: right;\">\n",
       "      <th></th>\n",
       "      <th>id</th>\n",
       "      <th>idaviso</th>\n",
       "      <th>idpostulante</th>\n",
       "      <th>cant_vistas</th>\n",
       "      <th>cant_vistas_empresa</th>\n",
       "      <th>cant_vistas_area</th>\n",
       "      <th>cant_postulaciones_empresa</th>\n",
       "      <th>cant_postulaciones_area</th>\n",
       "      <th>lscore</th>\n",
       "      <th>dist_brc</th>\n",
       "      <th>dist_salta</th>\n",
       "      <th>longevidad</th>\n",
       "      <th>carga</th>\n",
       "      <th>edad</th>\n",
       "      <th>sexo</th>\n",
       "      <th>educacion</th>\n",
       "    </tr>\n",
       "  </thead>\n",
       "  <tbody>\n",
       "    <tr>\n",
       "      <th>0</th>\n",
       "      <td>0</td>\n",
       "      <td>739260</td>\n",
       "      <td>6M9ZQR</td>\n",
       "      <td>0</td>\n",
       "      <td>0</td>\n",
       "      <td>4</td>\n",
       "      <td>0</td>\n",
       "      <td>0</td>\n",
       "      <td>0.066964</td>\n",
       "      <td>30.0</td>\n",
       "      <td>7.000000</td>\n",
       "      <td>1</td>\n",
       "      <td>1.000000</td>\n",
       "      <td>1.400000</td>\n",
       "      <td>-0.0</td>\n",
       "      <td>2.0</td>\n",
       "    </tr>\n",
       "    <tr>\n",
       "      <th>1</th>\n",
       "      <td>1</td>\n",
       "      <td>739260</td>\n",
       "      <td>6v1xdL</td>\n",
       "      <td>0</td>\n",
       "      <td>0</td>\n",
       "      <td>0</td>\n",
       "      <td>0</td>\n",
       "      <td>5</td>\n",
       "      <td>0.070028</td>\n",
       "      <td>28.0</td>\n",
       "      <td>6.533333</td>\n",
       "      <td>1</td>\n",
       "      <td>0.902083</td>\n",
       "      <td>1.033333</td>\n",
       "      <td>0.0</td>\n",
       "      <td>0.5</td>\n",
       "    </tr>\n",
       "    <tr>\n",
       "      <th>2</th>\n",
       "      <td>2</td>\n",
       "      <td>739260</td>\n",
       "      <td>ezRKm9</td>\n",
       "      <td>0</td>\n",
       "      <td>0</td>\n",
       "      <td>1</td>\n",
       "      <td>0</td>\n",
       "      <td>0</td>\n",
       "      <td>0.034722</td>\n",
       "      <td>30.0</td>\n",
       "      <td>7.000000</td>\n",
       "      <td>1</td>\n",
       "      <td>1.000000</td>\n",
       "      <td>1.200000</td>\n",
       "      <td>-0.0</td>\n",
       "      <td>2.0</td>\n",
       "    </tr>\n",
       "    <tr>\n",
       "      <th>3</th>\n",
       "      <td>3</td>\n",
       "      <td>758580</td>\n",
       "      <td>1Q35ej</td>\n",
       "      <td>0</td>\n",
       "      <td>0</td>\n",
       "      <td>0</td>\n",
       "      <td>0</td>\n",
       "      <td>0</td>\n",
       "      <td>0.630872</td>\n",
       "      <td>24.0</td>\n",
       "      <td>5.600000</td>\n",
       "      <td>1</td>\n",
       "      <td>1.000000</td>\n",
       "      <td>2.300000</td>\n",
       "      <td>0.0</td>\n",
       "      <td>2.0</td>\n",
       "    </tr>\n",
       "    <tr>\n",
       "      <th>4</th>\n",
       "      <td>4</td>\n",
       "      <td>758580</td>\n",
       "      <td>EAN4J6</td>\n",
       "      <td>0</td>\n",
       "      <td>0</td>\n",
       "      <td>0</td>\n",
       "      <td>0</td>\n",
       "      <td>0</td>\n",
       "      <td>0.862385</td>\n",
       "      <td>30.0</td>\n",
       "      <td>7.000000</td>\n",
       "      <td>1</td>\n",
       "      <td>1.000000</td>\n",
       "      <td>1.066667</td>\n",
       "      <td>-0.0</td>\n",
       "      <td>1.0</td>\n",
       "    </tr>\n",
       "  </tbody>\n",
       "</table>\n",
       "</div>"
      ],
      "text/plain": [
       "   id  idaviso idpostulante  cant_vistas  cant_vistas_empresa  \\\n",
       "0   0   739260       6M9ZQR            0                    0   \n",
       "1   1   739260       6v1xdL            0                    0   \n",
       "2   2   739260       ezRKm9            0                    0   \n",
       "3   3   758580       1Q35ej            0                    0   \n",
       "4   4   758580       EAN4J6            0                    0   \n",
       "\n",
       "   cant_vistas_area  cant_postulaciones_empresa  cant_postulaciones_area  \\\n",
       "0                 4                           0                        0   \n",
       "1                 0                           0                        5   \n",
       "2                 1                           0                        0   \n",
       "3                 0                           0                        0   \n",
       "4                 0                           0                        0   \n",
       "\n",
       "     lscore  dist_brc  dist_salta  longevidad     carga      edad  sexo  \\\n",
       "0  0.066964      30.0    7.000000           1  1.000000  1.400000  -0.0   \n",
       "1  0.070028      28.0    6.533333           1  0.902083  1.033333   0.0   \n",
       "2  0.034722      30.0    7.000000           1  1.000000  1.200000  -0.0   \n",
       "3  0.630872      24.0    5.600000           1  1.000000  2.300000   0.0   \n",
       "4  0.862385      30.0    7.000000           1  1.000000  1.066667  -0.0   \n",
       "\n",
       "   educacion  \n",
       "0        2.0  \n",
       "1        0.5  \n",
       "2        2.0  \n",
       "3        2.0  \n",
       "4        1.0  "
      ]
     },
     "execution_count": 12,
     "metadata": {},
     "output_type": "execute_result"
    }
   ],
   "source": [
    "test_o = pd.read_csv(RUTA_DATOS_PROCESADOS + 'v3/kaggle_v3.csv')\n",
    "test_o.head()"
   ]
  },
  {
   "cell_type": "code",
   "execution_count": 13,
   "metadata": {},
   "outputs": [
    {
     "data": {
      "text/html": [
       "<div>\n",
       "<style scoped>\n",
       "    .dataframe tbody tr th:only-of-type {\n",
       "        vertical-align: middle;\n",
       "    }\n",
       "\n",
       "    .dataframe tbody tr th {\n",
       "        vertical-align: top;\n",
       "    }\n",
       "\n",
       "    .dataframe thead th {\n",
       "        text-align: right;\n",
       "    }\n",
       "</style>\n",
       "<table border=\"1\" class=\"dataframe\">\n",
       "  <thead>\n",
       "    <tr style=\"text-align: right;\">\n",
       "      <th></th>\n",
       "      <th>id</th>\n",
       "      <th>idaviso</th>\n",
       "      <th>idpostulante</th>\n",
       "      <th>cant_vistas</th>\n",
       "      <th>cant_vistas_empresa</th>\n",
       "      <th>cant_vistas_area</th>\n",
       "      <th>cant_postulaciones_empresa</th>\n",
       "      <th>cant_postulaciones_area</th>\n",
       "      <th>lscore</th>\n",
       "      <th>dist_brc</th>\n",
       "      <th>dist_salta</th>\n",
       "      <th>longevidad</th>\n",
       "      <th>carga</th>\n",
       "      <th>edad</th>\n",
       "      <th>sexo</th>\n",
       "      <th>educacion</th>\n",
       "    </tr>\n",
       "  </thead>\n",
       "  <tbody>\n",
       "    <tr>\n",
       "      <th>0</th>\n",
       "      <td>0</td>\n",
       "      <td>739260</td>\n",
       "      <td>6M9ZQR</td>\n",
       "      <td>0</td>\n",
       "      <td>0</td>\n",
       "      <td>4</td>\n",
       "      <td>0</td>\n",
       "      <td>0</td>\n",
       "      <td>0.066964</td>\n",
       "      <td>30.0</td>\n",
       "      <td>7.000000</td>\n",
       "      <td>1</td>\n",
       "      <td>1.000000</td>\n",
       "      <td>1.400000</td>\n",
       "      <td>-0.0</td>\n",
       "      <td>2.0</td>\n",
       "    </tr>\n",
       "    <tr>\n",
       "      <th>1</th>\n",
       "      <td>1</td>\n",
       "      <td>739260</td>\n",
       "      <td>6v1xdL</td>\n",
       "      <td>0</td>\n",
       "      <td>0</td>\n",
       "      <td>0</td>\n",
       "      <td>0</td>\n",
       "      <td>5</td>\n",
       "      <td>0.070028</td>\n",
       "      <td>28.0</td>\n",
       "      <td>6.533333</td>\n",
       "      <td>1</td>\n",
       "      <td>0.902083</td>\n",
       "      <td>1.033333</td>\n",
       "      <td>0.0</td>\n",
       "      <td>0.5</td>\n",
       "    </tr>\n",
       "    <tr>\n",
       "      <th>2</th>\n",
       "      <td>2</td>\n",
       "      <td>739260</td>\n",
       "      <td>ezRKm9</td>\n",
       "      <td>0</td>\n",
       "      <td>0</td>\n",
       "      <td>1</td>\n",
       "      <td>0</td>\n",
       "      <td>0</td>\n",
       "      <td>0.034722</td>\n",
       "      <td>30.0</td>\n",
       "      <td>7.000000</td>\n",
       "      <td>1</td>\n",
       "      <td>1.000000</td>\n",
       "      <td>1.200000</td>\n",
       "      <td>-0.0</td>\n",
       "      <td>2.0</td>\n",
       "    </tr>\n",
       "    <tr>\n",
       "      <th>3</th>\n",
       "      <td>3</td>\n",
       "      <td>758580</td>\n",
       "      <td>1Q35ej</td>\n",
       "      <td>0</td>\n",
       "      <td>0</td>\n",
       "      <td>0</td>\n",
       "      <td>0</td>\n",
       "      <td>0</td>\n",
       "      <td>0.630872</td>\n",
       "      <td>24.0</td>\n",
       "      <td>5.600000</td>\n",
       "      <td>1</td>\n",
       "      <td>1.000000</td>\n",
       "      <td>2.300000</td>\n",
       "      <td>0.0</td>\n",
       "      <td>2.0</td>\n",
       "    </tr>\n",
       "    <tr>\n",
       "      <th>4</th>\n",
       "      <td>4</td>\n",
       "      <td>758580</td>\n",
       "      <td>EAN4J6</td>\n",
       "      <td>0</td>\n",
       "      <td>0</td>\n",
       "      <td>0</td>\n",
       "      <td>0</td>\n",
       "      <td>0</td>\n",
       "      <td>0.862385</td>\n",
       "      <td>30.0</td>\n",
       "      <td>7.000000</td>\n",
       "      <td>1</td>\n",
       "      <td>1.000000</td>\n",
       "      <td>1.066667</td>\n",
       "      <td>-0.0</td>\n",
       "      <td>1.0</td>\n",
       "    </tr>\n",
       "  </tbody>\n",
       "</table>\n",
       "</div>"
      ],
      "text/plain": [
       "   id  idaviso idpostulante  cant_vistas  cant_vistas_empresa  \\\n",
       "0   0   739260       6M9ZQR            0                    0   \n",
       "1   1   739260       6v1xdL            0                    0   \n",
       "2   2   739260       ezRKm9            0                    0   \n",
       "3   3   758580       1Q35ej            0                    0   \n",
       "4   4   758580       EAN4J6            0                    0   \n",
       "\n",
       "   cant_vistas_area  cant_postulaciones_empresa  cant_postulaciones_area  \\\n",
       "0                 4                           0                        0   \n",
       "1                 0                           0                        5   \n",
       "2                 1                           0                        0   \n",
       "3                 0                           0                        0   \n",
       "4                 0                           0                        0   \n",
       "\n",
       "     lscore  dist_brc  dist_salta  longevidad     carga      edad  sexo  \\\n",
       "0  0.066964      30.0    7.000000           1  1.000000  1.400000  -0.0   \n",
       "1  0.070028      28.0    6.533333           1  0.902083  1.033333   0.0   \n",
       "2  0.034722      30.0    7.000000           1  1.000000  1.200000  -0.0   \n",
       "3  0.630872      24.0    5.600000           1  1.000000  2.300000   0.0   \n",
       "4  0.862385      30.0    7.000000           1  1.000000  1.066667  -0.0   \n",
       "\n",
       "   educacion  \n",
       "0        2.0  \n",
       "1        0.5  \n",
       "2        2.0  \n",
       "3        2.0  \n",
       "4        1.0  "
      ]
     },
     "execution_count": 13,
     "metadata": {},
     "output_type": "execute_result"
    }
   ],
   "source": [
    "#test_o = test_o.drop(axis=1, labels=['cant_vistas', 'cant_vistas_empresa', 'cant_vistas_area','cant_postulaciones_empresa', 'cant_postulaciones_area'])\n",
    "#test_o = test_o.drop(axis=1, labels=['cant_vistas'])\n",
    "test_o.head()"
   ]
  },
  {
   "cell_type": "code",
   "execution_count": 14,
   "metadata": {},
   "outputs": [
    {
     "name": "stderr",
     "output_type": "stream",
     "text": [
      "[Parallel(n_jobs=4)]: Done   8 out of   8 | elapsed:    0.1s finished\n",
      "[Parallel(n_jobs=4)]: Done   8 out of   8 | elapsed:    0.1s finished\n",
      "[Parallel(n_jobs=4)]: Done   8 out of   8 | elapsed:    0.1s finished\n",
      "[Parallel(n_jobs=4)]: Done   8 out of   8 | elapsed:    0.1s finished\n",
      "[Parallel(n_jobs=4)]: Done   8 out of   8 | elapsed:    0.1s finished\n",
      "[Parallel(n_jobs=4)]: Done   8 out of   8 | elapsed:    0.1s finished\n",
      "[Parallel(n_jobs=4)]: Done   8 out of   8 | elapsed:    0.1s finished\n",
      "[Parallel(n_jobs=4)]: Done   8 out of   8 | elapsed:    0.1s finished\n",
      "[Parallel(n_jobs=4)]: Done   8 out of   8 | elapsed:    0.1s finished\n",
      "[Parallel(n_jobs=4)]: Done   8 out of   8 | elapsed:    0.1s finished\n",
      "[Parallel(n_jobs=4)]: Done   8 out of   8 | elapsed:    0.1s finished\n",
      "[Parallel(n_jobs=4)]: Done   8 out of   8 | elapsed:    0.1s finished\n",
      "[Parallel(n_jobs=4)]: Done   8 out of   8 | elapsed:    0.1s finished\n",
      "[Parallel(n_jobs=4)]: Done   8 out of   8 | elapsed:    0.1s finished\n",
      "[Parallel(n_jobs=4)]: Done   8 out of   8 | elapsed:    0.1s finished\n"
     ]
    }
   ],
   "source": [
    "kaggle_test = test_o.drop(axis=1, labels=['id', 'idaviso', 'idpostulante'])\n",
    "ret = ada.predict_proba(kaggle_test)"
   ]
  },
  {
   "cell_type": "code",
   "execution_count": 15,
   "metadata": {},
   "outputs": [],
   "source": [
    "test_o['sepostulo'] = pd.DataFrame(ret)[1]"
   ]
  },
  {
   "cell_type": "code",
   "execution_count": 16,
   "metadata": {},
   "outputs": [
    {
     "data": {
      "text/html": [
       "<div>\n",
       "<style scoped>\n",
       "    .dataframe tbody tr th:only-of-type {\n",
       "        vertical-align: middle;\n",
       "    }\n",
       "\n",
       "    .dataframe tbody tr th {\n",
       "        vertical-align: top;\n",
       "    }\n",
       "\n",
       "    .dataframe thead th {\n",
       "        text-align: right;\n",
       "    }\n",
       "</style>\n",
       "<table border=\"1\" class=\"dataframe\">\n",
       "  <thead>\n",
       "    <tr style=\"text-align: right;\">\n",
       "      <th></th>\n",
       "      <th>id</th>\n",
       "      <th>idaviso</th>\n",
       "      <th>idpostulante</th>\n",
       "      <th>cant_vistas</th>\n",
       "      <th>cant_vistas_empresa</th>\n",
       "      <th>cant_vistas_area</th>\n",
       "      <th>cant_postulaciones_empresa</th>\n",
       "      <th>cant_postulaciones_area</th>\n",
       "      <th>lscore</th>\n",
       "      <th>dist_brc</th>\n",
       "      <th>dist_salta</th>\n",
       "      <th>longevidad</th>\n",
       "      <th>carga</th>\n",
       "      <th>edad</th>\n",
       "      <th>sexo</th>\n",
       "      <th>educacion</th>\n",
       "      <th>sepostulo</th>\n",
       "    </tr>\n",
       "  </thead>\n",
       "  <tbody>\n",
       "    <tr>\n",
       "      <th>0</th>\n",
       "      <td>0</td>\n",
       "      <td>739260</td>\n",
       "      <td>6M9ZQR</td>\n",
       "      <td>0</td>\n",
       "      <td>0</td>\n",
       "      <td>4</td>\n",
       "      <td>0</td>\n",
       "      <td>0</td>\n",
       "      <td>0.066964</td>\n",
       "      <td>30.0</td>\n",
       "      <td>7.000000</td>\n",
       "      <td>1</td>\n",
       "      <td>1.000000</td>\n",
       "      <td>1.400000</td>\n",
       "      <td>-0.0</td>\n",
       "      <td>2.0</td>\n",
       "      <td>0.161161</td>\n",
       "    </tr>\n",
       "    <tr>\n",
       "      <th>1</th>\n",
       "      <td>1</td>\n",
       "      <td>739260</td>\n",
       "      <td>6v1xdL</td>\n",
       "      <td>0</td>\n",
       "      <td>0</td>\n",
       "      <td>0</td>\n",
       "      <td>0</td>\n",
       "      <td>5</td>\n",
       "      <td>0.070028</td>\n",
       "      <td>28.0</td>\n",
       "      <td>6.533333</td>\n",
       "      <td>1</td>\n",
       "      <td>0.902083</td>\n",
       "      <td>1.033333</td>\n",
       "      <td>0.0</td>\n",
       "      <td>0.5</td>\n",
       "      <td>0.260856</td>\n",
       "    </tr>\n",
       "    <tr>\n",
       "      <th>2</th>\n",
       "      <td>2</td>\n",
       "      <td>739260</td>\n",
       "      <td>ezRKm9</td>\n",
       "      <td>0</td>\n",
       "      <td>0</td>\n",
       "      <td>1</td>\n",
       "      <td>0</td>\n",
       "      <td>0</td>\n",
       "      <td>0.034722</td>\n",
       "      <td>30.0</td>\n",
       "      <td>7.000000</td>\n",
       "      <td>1</td>\n",
       "      <td>1.000000</td>\n",
       "      <td>1.200000</td>\n",
       "      <td>-0.0</td>\n",
       "      <td>2.0</td>\n",
       "      <td>0.015868</td>\n",
       "    </tr>\n",
       "    <tr>\n",
       "      <th>3</th>\n",
       "      <td>3</td>\n",
       "      <td>758580</td>\n",
       "      <td>1Q35ej</td>\n",
       "      <td>0</td>\n",
       "      <td>0</td>\n",
       "      <td>0</td>\n",
       "      <td>0</td>\n",
       "      <td>0</td>\n",
       "      <td>0.630872</td>\n",
       "      <td>24.0</td>\n",
       "      <td>5.600000</td>\n",
       "      <td>1</td>\n",
       "      <td>1.000000</td>\n",
       "      <td>2.300000</td>\n",
       "      <td>0.0</td>\n",
       "      <td>2.0</td>\n",
       "      <td>0.095876</td>\n",
       "    </tr>\n",
       "    <tr>\n",
       "      <th>4</th>\n",
       "      <td>4</td>\n",
       "      <td>758580</td>\n",
       "      <td>EAN4J6</td>\n",
       "      <td>0</td>\n",
       "      <td>0</td>\n",
       "      <td>0</td>\n",
       "      <td>0</td>\n",
       "      <td>0</td>\n",
       "      <td>0.862385</td>\n",
       "      <td>30.0</td>\n",
       "      <td>7.000000</td>\n",
       "      <td>1</td>\n",
       "      <td>1.000000</td>\n",
       "      <td>1.066667</td>\n",
       "      <td>-0.0</td>\n",
       "      <td>1.0</td>\n",
       "      <td>0.058673</td>\n",
       "    </tr>\n",
       "  </tbody>\n",
       "</table>\n",
       "</div>"
      ],
      "text/plain": [
       "   id  idaviso idpostulante  cant_vistas  cant_vistas_empresa  \\\n",
       "0   0   739260       6M9ZQR            0                    0   \n",
       "1   1   739260       6v1xdL            0                    0   \n",
       "2   2   739260       ezRKm9            0                    0   \n",
       "3   3   758580       1Q35ej            0                    0   \n",
       "4   4   758580       EAN4J6            0                    0   \n",
       "\n",
       "   cant_vistas_area  cant_postulaciones_empresa  cant_postulaciones_area  \\\n",
       "0                 4                           0                        0   \n",
       "1                 0                           0                        5   \n",
       "2                 1                           0                        0   \n",
       "3                 0                           0                        0   \n",
       "4                 0                           0                        0   \n",
       "\n",
       "     lscore  dist_brc  dist_salta  longevidad     carga      edad  sexo  \\\n",
       "0  0.066964      30.0    7.000000           1  1.000000  1.400000  -0.0   \n",
       "1  0.070028      28.0    6.533333           1  0.902083  1.033333   0.0   \n",
       "2  0.034722      30.0    7.000000           1  1.000000  1.200000  -0.0   \n",
       "3  0.630872      24.0    5.600000           1  1.000000  2.300000   0.0   \n",
       "4  0.862385      30.0    7.000000           1  1.000000  1.066667  -0.0   \n",
       "\n",
       "   educacion  sepostulo  \n",
       "0        2.0   0.161161  \n",
       "1        0.5   0.260856  \n",
       "2        2.0   0.015868  \n",
       "3        2.0   0.095876  \n",
       "4        1.0   0.058673  "
      ]
     },
     "execution_count": 16,
     "metadata": {},
     "output_type": "execute_result"
    }
   ],
   "source": [
    "test_o.head()"
   ]
  },
  {
   "cell_type": "code",
   "execution_count": 17,
   "metadata": {},
   "outputs": [
    {
     "data": {
      "text/plain": [
       "<matplotlib.axes._subplots.AxesSubplot at 0x7f0868f7eda0>"
      ]
     },
     "execution_count": 17,
     "metadata": {},
     "output_type": "execute_result"
    },
    {
     "data": {
      "image/png": "[encoded data removed]",
      "text/plain": [
       "<Figure size 432x288 with 1 Axes>"
      ]
     },
     "metadata": {},
     "output_type": "display_data"
    }
   ],
   "source": [
    "test_o['sepostulo'].hist()"
   ]
  },
  {
   "cell_type": "code",
   "execution_count": 18,
   "metadata": {},
   "outputs": [],
   "source": [
    "postulaciones = pd.read_csv(RUTA_POSTULACIONES, usecols=['idaviso', 'idpostulante'])"
   ]
  },
  {
   "cell_type": "code",
   "execution_count": 19,
   "metadata": {},
   "outputs": [],
   "source": [
    "m = pd.merge(postulaciones, test_o, on=['idpostulante', 'idaviso'], how='inner')"
   ]
  },
  {
   "cell_type": "code",
   "execution_count": 26,
   "metadata": {},
   "outputs": [],
   "source": [
    "m['asdasda'] = 1"
   ]
  },
  {
   "cell_type": "code",
   "execution_count": 35,
   "metadata": {},
   "outputs": [],
   "source": [
    "j = pd.merge(test_o, m[['idaviso', 'idpostulante', 'asdasda']], on=['idpostulante', 'idaviso'], how='outer')"
   ]
  },
  {
   "cell_type": "code",
   "execution_count": 38,
   "metadata": {},
   "outputs": [],
   "source": [
    "j.loc[j['asdasda'] == 1, ['sepostulo']] = 1"
   ]
  },
  {
   "cell_type": "code",
   "execution_count": 41,
   "metadata": {},
   "outputs": [],
   "source": [
    "j[['id', 'sepostulo']].to_csv(RUTA_SUBMITS + 'submit-35.csv', index=False)"
   ]
  },
  {
   "cell_type": "code",
   "execution_count": 42,
   "metadata": {},
   "outputs": [
    {
     "data": {
      "text/plain": [
       "<matplotlib.axes._subplots.AxesSubplot at 0x7f0874262cc0>"
      ]
     },
     "execution_count": 42,
     "metadata": {},
     "output_type": "execute_result"
    },
    {
     "data": {
      "image/png": "[encoded data removed]",
      "text/plain": [
       "<Figure size 432x288 with 1 Axes>"
      ]
     },
     "metadata": {},
     "output_type": "display_data"
    }
   ],
   "source": [
    "j['sepostulo'].hist()"
   ]
  },
  {
   "cell_type": "code",
   "execution_count": 34,
   "metadata": {},
   "outputs": [
    {
     "data": {
      "text/html": [
       "<div>\n",
       "<style scoped>\n",
       "    .dataframe tbody tr th:only-of-type {\n",
       "        vertical-align: middle;\n",
       "    }\n",
       "\n",
       "    .dataframe tbody tr th {\n",
       "        vertical-align: top;\n",
       "    }\n",
       "\n",
       "    .dataframe thead th {\n",
       "        text-align: right;\n",
       "    }\n",
       "</style>\n",
       "<table border=\"1\" class=\"dataframe\">\n",
       "  <thead>\n",
       "    <tr style=\"text-align: right;\">\n",
       "      <th></th>\n",
       "      <th>id</th>\n",
       "      <th>sepostulo</th>\n",
       "    </tr>\n",
       "  </thead>\n",
       "  <tbody>\n",
       "    <tr>\n",
       "      <th>0</th>\n",
       "      <td>0</td>\n",
       "      <td>7.625457e-04</td>\n",
       "    </tr>\n",
       "    <tr>\n",
       "      <th>1</th>\n",
       "      <td>1</td>\n",
       "      <td>2.212897e-01</td>\n",
       "    </tr>\n",
       "    <tr>\n",
       "      <th>2</th>\n",
       "      <td>2</td>\n",
       "      <td>8.126894e-04</td>\n",
       "    </tr>\n",
       "    <tr>\n",
       "      <th>3</th>\n",
       "      <td>3</td>\n",
       "      <td>4.510943e-05</td>\n",
       "    </tr>\n",
       "    <tr>\n",
       "      <th>4</th>\n",
       "      <td>4</td>\n",
       "      <td>7.015435e-08</td>\n",
       "    </tr>\n",
       "  </tbody>\n",
       "</table>\n",
       "</div>"
      ],
      "text/plain": [
       "   id     sepostulo\n",
       "0   0  7.625457e-04\n",
       "1   1  2.212897e-01\n",
       "2   2  8.126894e-04\n",
       "3   3  4.510943e-05\n",
       "4   4  7.015435e-08"
      ]
     },
     "execution_count": 34,
     "metadata": {},
     "output_type": "execute_result"
    }
   ],
   "source": [
    "kaggle_output = test_o[['id', 'sepostulo']]\n",
    "kaggle_output.head()"
   ]
  },
  {
   "cell_type": "code",
   "execution_count": 35,
   "metadata": {},
   "outputs": [],
   "source": [
    "kaggle_output.to_csv(RUTA_SUBMITS + 'submit-21.csv', index=False)"
   ]
  },
  {
   "cell_type": "code",
   "execution_count": 9,
   "metadata": {},
   "outputs": [
    {
     "name": "stdout",
     "output_type": "stream",
     "text": [
      "-- Epoch 1\n",
      "Norm: 21.46, NNZs: 13, Bias: -9.211685, T: 2499999, Avg. loss: 9.777965\n",
      "Total training time: 0.88 seconds.\n"
     ]
    },
    {
     "name": "stderr",
     "output_type": "stream",
     "text": [
      "/usr/local/lib/python3.5/dist-packages/sklearn/linear_model/base.py:340: RuntimeWarning: overflow encountered in exp\n",
      "  np.exp(prob, prob)\n"
     ]
    },
    {
     "name": "stdout",
     "output_type": "stream",
     "text": [
      "-- Epoch 1\n",
      "Norm: 15.92, NNZs: 13, Bias: -5.446862, T: 2499999, Avg. loss: 0.545744\n",
      "Total training time: 0.78 seconds.\n",
      "-- Epoch 1\n",
      "Norm: 13.05, NNZs: 13, Bias: -4.250945, T: 2500000, Avg. loss: 0.398045\n",
      "Total training time: 0.79 seconds.\n",
      "-- Epoch 1\n",
      "Norm: 11.64, NNZs: 13, Bias: -3.698427, T: 2500000, Avg. loss: 0.280141\n",
      "Total training time: 0.79 seconds.\n",
      "-- Epoch 1\n",
      "Norm: 10.72, NNZs: 13, Bias: -3.375813, T: 2500001, Avg. loss: 0.242739\n",
      "Total training time: 0.79 seconds.\n",
      "-- Epoch 1\n",
      "Norm: 9.94, NNZs: 13, Bias: -3.179324, T: 2500001, Avg. loss: 0.215983\n",
      "Total training time: 0.81 seconds.\n"
     ]
    },
    {
     "data": {
      "image/png": "[encoded data removed]",
      "text/plain": [
       "<Figure size 432x288 with 1 Axes>"
      ]
     },
     "metadata": {},
     "output_type": "display_data"
    }
   ],
   "source": [
    "from scipy import interp\n",
    "import matplotlib.pyplot as plt\n",
    "from itertools import cycle\n",
    "\n",
    "from sklearn.metrics import roc_curve, auc\n",
    "from sklearn.model_selection import StratifiedKFold\n",
    "from sklearn.linear_model import SGDClassifier\n",
    "\n",
    "X = np.array(X_train)\n",
    "y = np.array(y_train)\n",
    "\n",
    "n_samples, n_features = X.shape\n",
    "\n",
    "# Add noisy features\n",
    "#random_state = np.random.RandomState(0)\n",
    "#X = np.c_[X, random_state.randn(n_samples, 200 * n_features)]\n",
    "\n",
    "# #############################################################################\n",
    "# Classification and ROC analysis\n",
    "\n",
    "# Run classifier with cross-validation and plot ROC curves\n",
    "cv = StratifiedKFold(n_splits=6)\n",
    "#classifier = ExtraTreesClassifier(\n",
    "#        min_samples_leaf=150,\n",
    "#        n_estimators=8, \n",
    "#        max_features=4, \n",
    "#        criterion='entropy', \n",
    "#        n_jobs=-1, \n",
    "#        verbose=1,\n",
    "#        random_state=12)\n",
    "classifier = SGDClassifier(loss='log', max_iter=1000, tol=1e-3, verbose=1, n_jobs=-1)\n",
    "\n",
    "tprs = []\n",
    "aucs = []\n",
    "mean_fpr = np.linspace(0, 1, 100)\n",
    "\n",
    "i = 0\n",
    "for train, test in cv.split(X, y):\n",
    "    probas_ = classifier.fit(X[train], y[train]).predict_proba(X[test])\n",
    "    # Compute ROC curve and area the curve\n",
    "    fpr, tpr, thresholds = roc_curve(y[test], probas_[:, 1])\n",
    "    tprs.append(interp(mean_fpr, fpr, tpr))\n",
    "    tprs[-1][0] = 0.0\n",
    "    roc_auc = auc(fpr, tpr)\n",
    "    aucs.append(roc_auc)\n",
    "    plt.plot(fpr, tpr, lw=1, alpha=0.3,\n",
    "             label='ROC fold %d (AUC = %0.2f)' % (i, roc_auc))\n",
    "\n",
    "    i += 1\n",
    "plt.plot([0, 1], [0, 1], linestyle='--', lw=2, color='r',\n",
    "         label='Luck', alpha=.8)\n",
    "\n",
    "mean_tpr = np.mean(tprs, axis=0)\n",
    "mean_tpr[-1] = 1.0\n",
    "mean_auc = auc(mean_fpr, mean_tpr)\n",
    "std_auc = np.std(aucs)\n",
    "plt.plot(mean_fpr, mean_tpr, color='b',\n",
    "         label=r'Mean ROC (AUC = %0.2f $\\pm$ %0.2f)' % (mean_auc, std_auc),\n",
    "         lw=2, alpha=.8)\n",
    "\n",
    "std_tpr = np.std(tprs, axis=0)\n",
    "tprs_upper = np.minimum(mean_tpr + std_tpr, 1)\n",
    "tprs_lower = np.maximum(mean_tpr - std_tpr, 0)\n",
    "plt.fill_between(mean_fpr, tprs_lower, tprs_upper, color='grey', alpha=.2,\n",
    "                 label=r'$\\pm$ 1 std. dev.')\n",
    "\n",
    "plt.xlim([-0.05, 1.05])\n",
    "plt.ylim([-0.05, 1.05])\n",
    "plt.xlabel('False Positive Rate')\n",
    "plt.ylabel('True Positive Rate')\n",
    "plt.title('Receiver operating characteristic example')\n",
    "plt.legend(loc=\"lower right\")\n",
    "plt.show()"
   ]
  },
  {
   "cell_type": "code",
   "execution_count": null,
   "metadata": {},
   "outputs": [],
   "source": [
    "# Código anterior adaptado de acá: http://scikit-learn.org/stable/auto_examples/model_selection/plot_roc_crossval.html#sphx-glr-auto-examples-model-selection-plot-roc-crossval-py"
   ]
  }
 ],
 "metadata": {
  "kernelspec": {
   "display_name": "Python 3",
   "language": "python",
   "name": "python3"
  },
  "language_info": {
   "codemirror_mode": {
    "name": "ipython",
    "version": 3
   },
   "file_extension": ".py",
   "mimetype": "text/x-python",
   "name": "python",
   "nbconvert_exporter": "python",
   "pygments_lexer": "ipython3",
   "version": "3.5.2"
  }
 },
 "nbformat": 4,
 "nbformat_minor": 2
}
