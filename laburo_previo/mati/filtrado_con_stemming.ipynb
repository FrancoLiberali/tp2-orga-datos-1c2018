{
 "cells": [
  {
   "cell_type": "code",
   "execution_count": 1,
   "metadata": {},
   "outputs": [],
   "source": [
    "import pandas as pd\n",
    "import numpy as np\n",
    "import matplotlib.pyplot as plt\n",
    "\n",
    "%matplotlib inline"
   ]
  },
  {
   "cell_type": "code",
   "execution_count": 2,
   "metadata": {},
   "outputs": [],
   "source": [
    "df2 = pd.read_csv('../orga-datos/datos_preprocesados/fiuba_6_avisos_detalle.csv')"
   ]
  },
  {
   "cell_type": "code",
   "execution_count": 3,
   "metadata": {},
   "outputs": [],
   "source": [
    "cantidad_de_palabras_que_quiero = 500\n",
    "porcetaje=0.01\n",
    "similitud=0.3"
   ]
  },
  {
   "cell_type": "code",
   "execution_count": 4,
   "metadata": {},
   "outputs": [],
   "source": [
    "#from descripcion_parser import parse"
   ]
  },
  {
   "cell_type": "code",
   "execution_count": 5,
   "metadata": {},
   "outputs": [],
   "source": [
    "stopswords=\"a acá ahí ajena ajeno ajenos ajenas al algo algún algúna algúno algúnos algúnas allá allí ambos ante antes aquel aquella aquello aquellos aquellas aquí arriba así atrás aun aunque bajo bastante bien cabe cada casi cierto cierta ciertos ciertas como con conmigo conseguimos conseguir consigo consigue consiguen consigues contigo contra cual cuales cualquier cualquiera cualquieras cuancuando cuanto cuantas cuanta cuantos de dejar del demás demasiada demasiadas demasiado demasiados dentro desde donde dos e el él ella ellas ello ellos empleáis emplean emplear empleas empleo en encima entonces entre era eras eramos eran eres es esa ese eso esos esas esta estas estaba estado estáis estamos están estar este esto estos estas estoy etc fin fue fueron fui fuimos gueno ha hace haces hacéis hacemos hacen hacer hacia hago hasta incluso intenta intentas intentáis intentamos intentan intentar intento ir jamás junto juntos la lo las los largo más me menos mi mis mía mías mientras mío míos misma mismo mismos mismas modo mucha muchas muchísima muchísimos muchísimo muchísimas mucho muchos muy nada ni ningún ningúna ningúnas ningúno ningúnos no nos nosotras nosotros nuestra nuestro nuestros nuestras nunca o os otra otro otras otros para parecer pero poca poco pocas pocos podéis podemos poder podría podrías podríais podríamos podrían por por qué porque primero puede pueden puedo pues que qué querer quién quiénes quienesquiera quienquiera quizá quizás sabe sabes saben sabéis sabemos saber se según ser si sí siempre siendo sin sino so sobre sois solamente solo sólo somos soy sr sra sres sta su sus suyo suyos suya suyas tal tales también tampoco tan tanta tanto tantos tantas te tenéis tenemos tener tengo ti tiempo tiene tienen todo todos toda todas tomar trabaja trabajo trabajáis trabajamos trabajan trabajar trabajas tras tú tu tus tuya tuyas tuyo tuyos último ultimo un una unas uno unos usa usas usáis usamos usan usar uso usted ustedes va van vais valor vamos varias varios vaya verdadera vosotras vosotros voy vuestra vuestros vuestro vuestras y ya yo como donde requisitos requisito buscamos importante buenas muy grandes beneficios encontramos busqueda zona \"\n",
    "stopswords=stopswords.split()"
   ]
  },
  {
   "cell_type": "code",
   "execution_count": 6,
   "metadata": {},
   "outputs": [],
   "source": [
    "from stop_words import ESP_STOP_WORDS as BASE_STOP_WORDS, ENG_STOP_WORDS\n",
    "\n",
    "stopswords = set([ \n",
    " 'preferentemente'\n",
    "]).union(BASE_STOP_WORDS.union(ENG_STOP_WORDS).union(stopswords))"
   ]
  },
  {
   "cell_type": "code",
   "execution_count": 7,
   "metadata": {},
   "outputs": [],
   "source": [
    "from html.parser import HTMLParser\n",
    "\n",
    "class MLStripper(HTMLParser):\n",
    "    def __init__(self):\n",
    "        self.reset()\n",
    "        self.strict = False\n",
    "        self.convert_charrefs= True\n",
    "        self.fed =[]\n",
    "    def handle_data(self, d):\n",
    "        self.fed.append(d)\n",
    "    def get_data(self):\n",
    "        return ' '.join(self.fed)\n",
    "\n",
    "def strip_html_tags(html):\n",
    "    s = MLStripper()\n",
    "    s.feed(html)\n",
    "    return s.get_data()\n",
    "\n",
    "def foldear_simbolos(cadena):\n",
    "    ''' \n",
    "    Elimina los acentos de una cadena en minúsculas. \n",
    "    Ej: descripción -> descripcion\n",
    "    '''\n",
    "    acentos = {'á':'a', 'é':'e', 'í':'i', 'ó':'o', 'ú':'u', 'ü':'u'}\n",
    "    cadena = list(cadena)\n",
    "    for i in range(len(cadena)):\n",
    "        if not cadena[i].isalpha():\n",
    "            cadena[i] = ' '\n",
    "        else:\n",
    "            cadena[i] = acentos.get(cadena[i], cadena[i])\n",
    "    \n",
    "    return ''.join(cadena)\n",
    "\n",
    "def es_palabra_inutil(palabra):\n",
    "    '''\n",
    "    Devuelve True si palabra es una palabra que no aporta\n",
    "    contenido.\n",
    "    '''\n",
    "    return palabra in set(stopswords)\n",
    "\n",
    "def parse(descripcion):\n",
    "    '''\n",
    "    Normaliza una descripción de aviso del set de datos de Navent.\n",
    "    Elimina tags HTML, pasa a minúsculas y la convierte a tokens.\n",
    "    '''\n",
    "    resultado = []\n",
    "    \n",
    "    for palabra in strip_html_tags(descripcion).lower().split():\n",
    "        if es_palabra_inutil(palabra):\n",
    "            continue\n",
    "            \n",
    "        resultado.extend(foldear_simbolos(palabra).split())\n",
    "    \n",
    "    return ' '.join(resultado)"
   ]
  },
  {
   "cell_type": "code",
   "execution_count": 8,
   "metadata": {},
   "outputs": [],
   "source": [
    "words={}\n",
    "def total_freq(description):\n",
    "    #it create a dictionary with the following format (word : #appearances in the sum of descriptions)\n",
    "    words_processed=[]\n",
    "    for word in description.split():\n",
    "        if word not in words_processed:\n",
    "            words[word] = words.get(word, 0) + 1\n",
    "            words_processed.append(word)\n",
    "    return description\n",
    "\n",
    "factor = df2[\"descripcion\"].count()*porcetaje #aca va el porcentaje que se quiere tener\n",
    "\n",
    "def remove_less_frequent_words(description):\n",
    "    # we will remove all the words which appear in less than 1% of the descrptions\n",
    "    result = []\n",
    "    for word in description.lower().split():\n",
    "        if words[word] < factor:\n",
    "            continue\n",
    "            \n",
    "        result.append(word)\n",
    "    \n",
    "    return ' '.join(result)"
   ]
  },
  {
   "cell_type": "code",
   "execution_count": 9,
   "metadata": {},
   "outputs": [],
   "source": [
    "df2[\"descripcion\"]=df2[\"descripcion\"].map(parse)"
   ]
  },
  {
   "cell_type": "code",
   "execution_count": 10,
   "metadata": {},
   "outputs": [],
   "source": [
    "import Stemmer\n",
    "\n",
    "stemmer = Stemmer.Stemmer('spanish')\n",
    "raices={}\n",
    "\n",
    "def conseguir_raices(descripcion):\n",
    "    \n",
    "    for palabra in descripcion.lower().split():\n",
    "        if palabra in raices:\n",
    "            continue\n",
    "        p=stemmer.stemWords([palabra])\n",
    "        raices[palabra]=p[0]\n",
    "    return descripcion\n",
    "    \n",
    "def reempazar_por_raiz(description):\n",
    "    \n",
    "    result = []\n",
    "    for word in description.lower().split():\n",
    "        word=raices[word]    \n",
    "        result.append(word)\n",
    "    \n",
    "    return ' '.join(result)\n",
    "    "
   ]
  },
  {
   "cell_type": "code",
   "execution_count": 11,
   "metadata": {},
   "outputs": [],
   "source": [
    "df2[\"descripcion\"]=df2[\"descripcion\"].map(conseguir_raices)"
   ]
  },
  {
   "cell_type": "code",
   "execution_count": 12,
   "metadata": {},
   "outputs": [],
   "source": [
    "df2[\"descripcion\"]=df2[\"descripcion\"].map(reempazar_por_raiz)"
   ]
  },
  {
   "cell_type": "code",
   "execution_count": 13,
   "metadata": {},
   "outputs": [],
   "source": [
    "df2[\"descripcion\"]=df2[\"descripcion\"].map(total_freq)"
   ]
  },
  {
   "cell_type": "code",
   "execution_count": 14,
   "metadata": {},
   "outputs": [],
   "source": [
    "df2[\"descripcion\"] = df2[\"descripcion\"].map(remove_less_frequent_words)"
   ]
  },
  {
   "cell_type": "code",
   "execution_count": 15,
   "metadata": {},
   "outputs": [
    {
     "name": "stdout",
     "output_type": "stream",
     "text": [
      "Estimated Jaccard for data1 and data2 is 1.0\n",
      "busqued anal credit jr sector entid bancari posicion respons ser analisis evaluacion propuest credit participacion conjunt credit administracion carter requisit postulat si sos profesional estudi avanz carrer cienci econom licenci administracion ingenier ten actitud proactiv manej relacion interpersonal equip orientacion result cont manej paquet offic valor conoc segment experient laboral analisis balanc riesg credit benefici condicion contratacion lun viern jorn tim trabaj microcentr empres ofrec condicion contratacion\n",
      "Estimated Jaccard for data1 and data2 is 0.3046875\n",
      "busqued un estudi carrer cienci econom desempeñ anal junior administracion finanz principal tar ser participacion proces pag proveedor emision valor fisic y o electron confeccion legaj pag proveedor cambi gast estructur confeccion administracion fond fij pag viaj otras busqued orient person agil dinam capac organizacion relacion interpersonal aprend desarroll are ser excluyent cont nivel avanz paquet offic valor cont experient posicion similar ofrec excelent condicion contratacion desarroll trabaj cab jorn laboral lun viern hs hs postulat\n",
      "Estimated Jaccard for data1 and data2 is 0.546875\n",
      "busqued lid cobranz compañi financ grup reconoc entid bancari posicion respons ser organiz grup tare indic seguimient report postulat si sos profesional estudi carrer cienci econom afin ten actitud proactiv manej relacion interpersonal orientacion result cont manej paquet offic valor conoc manej sistem condicion contratacion lun viern jorn tim trabaj microcentr\n",
      "Estimated Jaccard for data1 and data2 is 0.328125\n",
      "busqued anal gerenci analisis credit empres perfil requer profesional estudi avanz cienci econom contador public manej relacion interpersonal equip actitud proactiv orientacion result valor experient laboral y o estudi tem nivel ingles intermedi pos conoc herramient microsoft offic principal respons administracion carter client credit analisis opinion propuest credit flu interaccion are comercial cumplis perfil experient requer postulat\n",
      "Estimated Jaccard for data1 and data2 is 0.3515625\n",
      "empres multinacional busqued anal jr respons ser gestion seguimient cobranz control recib valor recib deposit analisis cuent movimient requisit estudi avanz carrer cs econom afin excluyent manej sistem sap excluyent nivel ingles avanz excluyent trabaj jorn laboral lun viern tim contratacion eventual posibil efectivizacion\n",
      "Estimated Jaccard for data1 and data2 is 0.3046875\n",
      "busqued anal model decision sector desarroll administracion model conoc banc priv posicion respons ser desarroll manten implementacion model analit avanz estadist variabl asist tom decision seguimient model implement cumpl norm realizacion analisis propuest permit riesg proces postulat si sos gradu proxim carrer estadist ingenieri carrer relacion dat dat dat dat cont experient analisis interpretacion dat valor experient are simil generacion model dat empres ofrec condicion contratacion\n",
      "Estimated Jaccard for data1 and data2 is 0.3046875\n",
      "busqued un estudi carrer cienci econom desempeñ anal junior gerenci finanz principal tar ser participacion proces pag proveedor emision valor fisic y o electron confeccion legaj pag proveedor cambi gast estructur confeccion administracion fond fij pag viaj otras busqued orient person agil dinam capac organizacion relacion interpersonal aprend desarroll are ser excluyent cont nivel avanz paquet offic valor cont experient posicion similar ofrec excelent condicion contratacion desarroll trabaj cab jorn laboral lun viern hs hs postulat\n",
      "Estimated Jaccard for data1 and data2 is 0.3046875\n",
      "empres ubic busqued estudi ingenieri industrial logist cubr posicion anal jr logist cont experient comprob posicion similar principal funcion encontr siguient analisis proces oper vigent futur desarroll proces centr distribucion desarroll plan correspondient excelent manej autoc inform analisis oper implementacion propuest mejor valor conoc tecnic proactiv organizacion relacion interpersonal jorn trabaj lun viern tim trabaj\n",
      "ok\n"
     ]
    }
   ],
   "source": [
    "# sudo pip3 install datasketch -U\n",
    "\n",
    "from datasketch import MinHash\n",
    "\n",
    "#te da lasdescripciones que tengan semejanza mayor a 0.3 (este es un buen factor)\n",
    "\n",
    "data1=df2[\"descripcion\"][43]\n",
    "data1=data1.split()\n",
    "    \n",
    "def jac(texto):\n",
    "    \n",
    "    data2=texto.split()\n",
    "    m1, m2 = MinHash(), MinHash()\n",
    "    for d in data1:\n",
    "        m1.update(d.encode('utf8'))\n",
    "    for d in data2:\n",
    "        m2.update(d.encode('utf8'))\n",
    "    if m1.jaccard(m2)> similitud:     \n",
    "        print(\"Estimated Jaccard for data1 and data2 is\", m1.jaccard(m2))\n",
    "        print(\" \".join(data2))\n",
    "\n",
    "d=df2[\"descripcion\"].map(jac)  \n",
    "print(\"ok\")"
   ]
  },
  {
   "cell_type": "code",
   "execution_count": 16,
   "metadata": {},
   "outputs": [
    {
     "name": "stdout",
     "output_type": "stream",
     "text": [
      "ok\n"
     ]
    }
   ],
   "source": [
    "from sklearn.feature_extraction.text import TfidfVectorizer\n",
    "import numpy as np\n",
    "from scipy.sparse.csr import csr_matrix #need this if you want to save tfidf_matrix\n",
    "\n",
    "#tf = TfidfVectorizer(input='/home/iglesias/test', analyzer='word', ngram_range=(1,6),\n",
    "#min_df = 0, stop_words = 'english', sublinear_tf=True)\n",
    "tf = TfidfVectorizer() \n",
    "tfidf_matrix =  tf.fit_transform(df2[\"descripcion\"])\n",
    "\n",
    "\n",
    "feature_names = tf.get_feature_names()\n",
    "\n",
    "\"\"\"doc =0\n",
    "feature_index = tfidf_matrix[doc,:].nonzero()[1]\n",
    "tfidf_scores = zip(feature_index, [tfidf_matrix[doc, x] for x in feature_index])\n",
    "for w, s in [(feature_names[i], s) for (i, s) in tfidf_scores]:\n",
    "  print(w, s)\n",
    "\"\"\"\n",
    "factor=df2[\"descripcion\"].count()\n",
    "\n",
    "scores=[]\n",
    "dos_mil_palabras_importantes = []\n",
    "for doc in range(factor):\n",
    "    feature_index = tfidf_matrix[doc,:].nonzero()[1]\n",
    "    tfidf_scores = zip(feature_index, [tfidf_matrix[doc, x] for x in feature_index])\n",
    "    for w, s in [(feature_names[i], s) for (i, s) in tfidf_scores]:\n",
    "      if not w in dos_mil_palabras_importantes:   \n",
    "          scores.append(-s)\n",
    "          dos_mil_palabras_importantes.append(w)  \n",
    "\n",
    "import heapq\n",
    "\n",
    "scores_mas_importantes=[]\n",
    "heapq.heapify(scores)\n",
    "\n",
    "#fijarse de tener esta cantidad de palabras sino rompe\n",
    "\n",
    "for x in range(cantidad_de_palabras_que_quiero):\n",
    "    scores_mas_importantes.append(heapq.heappop(scores))\n",
    "\n",
    "dos_mil_palabras_importantes = []    \n",
    "    \n",
    "for doc in range(df2[\"descripcion\"].count()):\n",
    "    feature_index = tfidf_matrix[doc,:].nonzero()[1]\n",
    "    tfidf_scores = zip(feature_index, [tfidf_matrix[doc, x] for x in feature_index])\n",
    "    for w, s in [(feature_names[i], s) for (i, s) in tfidf_scores]:\n",
    "      if -s in scores_mas_importantes:   \n",
    "          dos_mil_palabras_importantes.append(w) \n",
    "            \n",
    "print(\"ok\")  \n"
   ]
  },
  {
   "cell_type": "code",
   "execution_count": 17,
   "metadata": {},
   "outputs": [
    {
     "data": {
      "text/plain": [
       "'busqued anal credit jr sector entid bancari posicion respons ser analisis evaluacion propuest credit participacion conjunt credit administracion carter requisit postulat si sos profesional estudi avanz carrer cienci econom licenci administracion ingenier ten actitud proactiv manej relacion interpersonal equip orientacion result cont manej paquet offic valor conoc segment experient laboral analisis balanc riesg credit benefici condicion contratacion lun viern jorn tim trabaj microcentr empres ofrec condicion contratacion'"
      ]
     },
     "execution_count": 17,
     "metadata": {},
     "output_type": "execute_result"
    }
   ],
   "source": [
    "data2=df2[\"descripcion\"][43]\n",
    "data2#nuevo"
   ]
  },
  {
   "cell_type": "code",
   "execution_count": 18,
   "metadata": {},
   "outputs": [],
   "source": [
    "def mas_impor(description):\n",
    "    \n",
    "    resultado = []\n",
    "    \n",
    "    for palabra in description.lower().split():\n",
    "        if palabra not in dos_mil_palabras_importantes:\n",
    "            continue\n",
    "            \n",
    "        resultado.append(palabra)\n",
    "    \n",
    "    return ' '.join(resultado)"
   ]
  },
  {
   "cell_type": "code",
   "execution_count": 19,
   "metadata": {},
   "outputs": [],
   "source": [
    "df2[\"descripcion\"]=df2[\"descripcion\"].map(mas_impor)"
   ]
  },
  {
   "cell_type": "code",
   "execution_count": 20,
   "metadata": {},
   "outputs": [
    {
     "data": {
      "text/plain": [
       "'credit sector entid bancari posicion evaluacion propuest credit conjunt credit postulat si sos profesional licenci actitud proactiv interpersonal cont valor segment balanc credit benefici jorn tim trabaj microcentr'"
      ]
     },
     "execution_count": 20,
     "metadata": {},
     "output_type": "execute_result"
    }
   ],
   "source": [
    "data2=df2[\"descripcion\"][43]\n",
    "data2#nuevo"
   ]
  },
  {
   "cell_type": "code",
   "execution_count": 21,
   "metadata": {},
   "outputs": [
    {
     "name": "stdout",
     "output_type": "stream",
     "text": [
      "Estimated Jaccard for data1 and data2 is 1.0\n",
      "credit sector entid bancari posicion evaluacion propuest credit conjunt credit postulat si sos profesional licenci actitud proactiv interpersonal cont valor segment balanc credit benefici jorn tim trabaj microcentr\n",
      "Estimated Jaccard for data1 and data2 is 0.5859375\n",
      "cobranz compañi financ grup reconoc entid bancari posicion grup postulat si sos profesional actitud proactiv interpersonal cont valor jorn tim trabaj microcentr\n",
      "Estimated Jaccard for data1 and data2 is 0.3203125\n",
      "industrial posicion deseabl cont comprob posicion encontr vigent futur desarroll desarroll plan propuest valor proactiv interpersonal jorn trabaj tim trabaj pod envi cv via\n",
      "Estimated Jaccard for data1 and data2 is 0.3125\n",
      "industrial posicion cont comprob posicion encontr vigent futur desarroll distribucion desarroll plan propuest valor proactiv interpersonal jorn trabaj tim trabaj\n",
      "ok\n"
     ]
    }
   ],
   "source": [
    "from datasketch import MinHash\n",
    "\n",
    "data1=df2[\"descripcion\"][43]\n",
    "data1=data1.split()\n",
    "    \n",
    "def jac(texto):\n",
    "    \n",
    "    data2=texto.split()\n",
    "    m1, m2 = MinHash(), MinHash()\n",
    "    for d in data1:\n",
    "        m1.update(d.encode('utf8'))\n",
    "    for d in data2:\n",
    "        m2.update(d.encode('utf8'))\n",
    "    if m1.jaccard(m2)> similitud:     \n",
    "        print(\"Estimated Jaccard for data1 and data2 is\", m1.jaccard(m2))\n",
    "        print(\" \".join(data2))\n",
    "\n",
    "d=df2[\"descripcion\"].map(jac)\n",
    "print(\"ok\")"
   ]
  },
  {
   "cell_type": "code",
   "execution_count": 22,
   "metadata": {},
   "outputs": [
    {
     "name": "stdout",
     "output_type": "stream",
     "text": [
      "cajer requier secundari complet habil atencion trat client valor perfil proactiv resid plat\n"
     ]
    }
   ],
   "source": [
    "data1=df2[\"descripcion\"][5]\n",
    "print(data1)"
   ]
  },
  {
   "cell_type": "code",
   "execution_count": 23,
   "metadata": {},
   "outputs": [
    {
     "name": "stdout",
     "output_type": "stream",
     "text": [
      "Estimated Jaccard for data1 and data2 is 1.0\n",
      "cajer requier secundari complet habil atencion trat client valor perfil proactiv resid plat\n",
      "Estimated Jaccard for data1 and data2 is 0.3046875\n",
      "caden supermerc cajer repositor cont secundari complet informat valor caj atencion client mercaderi interes cont tim eventual\n",
      "Estimated Jaccard for data1 and data2 is 0.328125\n",
      "caden supermerc cajer cont secundari complet sex masculin edad caj sanitari tim valor caj atencion client interes cont tim\n",
      "Estimated Jaccard for data1 and data2 is 0.3125\n",
      "tim secundari complet basic electron acces basic contact atencion client habil trat interpersonal negociacion proactiv compromis client\n",
      "Estimated Jaccard for data1 and data2 is 0.34375\n",
      "multinacional rubr coordinacion comunic client instalacion carg dat perfil atencion client secundari complet tim client habil empati resolut enfoc proactiv\n",
      "Estimated Jaccard for data1 and data2 is 0.4609375\n",
      "desarroll client maquinari comercial desarroll client requier perfil personal proactiv habil negociacion secundari complet informat valor rubr\n",
      "Estimated Jaccard for data1 and data2 is 0.328125\n",
      "comercial estacion plat perfil proactiv dinam resolut trat atencion client ingres coordin dinam estacion correct requier posicion referent comprob secundari complet tim jorn rotat mensual interes podr siti personal cv fotocopi\n",
      "Estimated Jaccard for data1 and data2 is 0.3125\n",
      "vendedor salon sucursal valor perfil proactiv atencion client cv comprob\n",
      "Estimated Jaccard for data1 and data2 is 0.3046875\n",
      "rubr valor product atencion secundari complet excluyent proactiv comprob res aledañ trabaj sab cort sab atencion atencion client recepcion brind\n",
      "Estimated Jaccard for data1 and data2 is 0.3515625\n",
      "import cajer repositor requier perfil client trat secundari complet interes cv just\n",
      "Estimated Jaccard for data1 and data2 is 0.3203125\n",
      "compañi asegur registr registr cont secundari complet valor candidat negoci perfil client proactiv interpersonal\n",
      "Estimated Jaccard for data1 and data2 is 0.3125\n",
      "seleccion via perfil comercial product intang interes cont atencion client requier tim resid plat valor perfil comercial interes graci\n",
      "Estimated Jaccard for data1 and data2 is 0.3046875\n",
      "seleccion valor candidat inici proactiv interpersonal vocacion ingres argentin edad secundari complet excluyent turn rotat mañan noch excluyent perfil dinam proactiv habil interpersonal atencion client cercan\n",
      "Estimated Jaccard for data1 and data2 is 0.3046875\n",
      "vendedor palerm requier rubr proactiv comercial candidat pos secundari complet pc tim atencion client\n",
      "Estimated Jaccard for data1 and data2 is 0.375\n",
      "habil client intern requier interpersonal diari cont atencion promocion secundari sab proactiv presenci resid\n",
      "Estimated Jaccard for data1 and data2 is 0.3046875\n",
      "seleccion vendedor product product are asign desarroll client cobranz client requier cont secundari complet movil are valor perfil proactiv tim perfil comercial\n",
      "Estimated Jaccard for data1 and data2 is 0.3515625\n",
      "personal caj cont secundari complet sol requier tim valor person rubr client dinam proactiv perfil comercial jorn tim plat cont postulat\n",
      "Estimated Jaccard for data1 and data2 is 0.4296875\n",
      "repositor cajer form tim atencion requier secundari complet analit resid plat interes\n",
      "Estimated Jaccard for data1 and data2 is 0.328125\n",
      "seleccion valor candidat inici proactiv interpersonal vocacion ingres argentin edad secundari complet excluyent turn noch excluyent perfil dinam proactiv habil interpersonal atencion client cercan\n",
      "Estimated Jaccard for data1 and data2 is 0.328125\n",
      "secundari complet excluyent requier cont mercaderi product perfil proactiv\n",
      "Estimated Jaccard for data1 and data2 is 0.3046875\n",
      "seleccion valor candidat inici proactiv interpersonal vocacion ingres argentin edad secundari complet excluyent turn rotat mañan noch excluyent perfil dinam proactiv habil interpersonal atencion client cercan\n",
      "Estimated Jaccard for data1 and data2 is 0.3125\n",
      "red concesionari plan ahorr sucursal posicion secundari complet plan ahorr valor concesionari desarroll plan ahorr client ahorr perfil requier presenci actitud atencion client requier tim resident cercan\n",
      "Estimated Jaccard for data1 and data2 is 0.3203125\n",
      "represent presupuest cotiz ambit atencion client rubr preci requier secundari complet internet valor\n",
      "Estimated Jaccard for data1 and data2 is 0.3828125\n",
      "argentin repositor client trabaj plat perfil proactiv desarroll secundari excluyent excluyent valor candidat\n",
      "Estimated Jaccard for data1 and data2 is 0.3515625\n",
      "vendedor salon person proactiv compromis requier edad secundari complet presenci trat client comprob atencion tim resid cercan line\n",
      "Estimated Jaccard for data1 and data2 is 0.34375\n",
      "caden cajer repositor perfil comercial atencion client capital federal requier resid capital federal cercan secundari complet analit tim ing cv fotocopi analit\n",
      "Estimated Jaccard for data1 and data2 is 0.3125\n",
      "multinacional seleccion atencion client sex indistint edad secundari complet perfil proactiv dinam client interpersonal habil tim franc trabaj vicent lopez dese form rubr expansion crecimient argentin\n",
      "Estimated Jaccard for data1 and data2 is 0.3203125\n",
      "presupuest cotiz ambit atencion client rubr preci requier secundari complet internet valor\n",
      "Estimated Jaccard for data1 and data2 is 0.3046875\n",
      "seleccion valor candidat inici proactiv interpersonal vocacion ingres argentin edad secundari complet excluyent turn rotat mañan noch excluyent perfil dinam proactiv habil interpersonal atencion client cercan\n",
      "Estimated Jaccard for data1 and data2 is 0.3046875\n",
      "seleccion vendedor product product are asign desarroll client cobranz client requier cont secundari complet movil are valor perfil proactiv tim perfil comercial\n",
      "Estimated Jaccard for data1 and data2 is 0.328125\n",
      "client personal cajer valor cobr cont secundari complet excluyent\n",
      "Estimated Jaccard for data1 and data2 is 0.34375\n",
      "perfil atencion client requier industri proactiv vocacion atencion client personal\n",
      "Estimated Jaccard for data1 and data2 is 0.3125\n",
      "seleccion valor candidat inici proactiv interpersonal vocacion ingres argentin edad secundari complet excluyent turn rotat excluyent perfil dinam proactiv habil interpersonal atencion client cercan\n",
      "Estimated Jaccard for data1 and data2 is 0.328125\n",
      "seleccion pos secundari complet comprob tim resid recepcion atencion colabor pos sos person proactiv dinam perfil client postulat\n",
      "Estimated Jaccard for data1 and data2 is 0.3046875\n",
      "seleccion vendedor product product are asign desarroll client cobranz client requier cont secundari complet movil are valor perfil proactiv tim perfil comercial\n",
      "Estimated Jaccard for data1 and data2 is 0.328125\n",
      "cobranz tramit bancari ingres atencion client impuest requier secundari complet basic resid aledañ valor sab\n",
      "Estimated Jaccard for data1 and data2 is 0.3046875\n",
      "cajer secundari complet analit requier pos atencion resid aledañ quilm sab doming modal tim\n",
      "Estimated Jaccard for data1 and data2 is 0.3984375\n",
      "seleccion personal atencion client via requier tim secundari complet resid plat valor perfil comercial cont interes propuest cv\n",
      "ok\n"
     ]
    }
   ],
   "source": [
    "from datasketch import MinHash\n",
    "\n",
    "data1=df2[\"descripcion\"][5]\n",
    "data1=data1.split()\n",
    "    \n",
    "def jac(texto):\n",
    "    \n",
    "    data2=texto.split()\n",
    "    m1, m2 = MinHash(), MinHash()\n",
    "    for d in data1:\n",
    "        m1.update(d.encode('utf8'))\n",
    "    for d in data2:\n",
    "        m2.update(d.encode('utf8'))\n",
    "    if m1.jaccard(m2)> similitud:     \n",
    "        print(\"Estimated Jaccard for data1 and data2 is\", m1.jaccard(m2))\n",
    "        print(\" \".join(data2))\n",
    "\n",
    "d=df2[\"descripcion\"].map(jac)  \n",
    "print(\"ok\")"
   ]
  },
  {
   "cell_type": "code",
   "execution_count": 24,
   "metadata": {},
   "outputs": [
    {
     "name": "stdout",
     "output_type": "stream",
     "text": [
      "impuest belgran capital federal junior impuest client global capital federal belgran encuentr contador impuest contabl basic imposit form are encuentr impuest nacional informacion impuest basic ingres imposit contabl cont tim trabaj interes profesional global postulat contador resident capital federal edad salari complet salari tim trabaj belgran are impuest interes envi cv com ar referent junior impuest\n"
     ]
    }
   ],
   "source": [
    "data1=df2[\"descripcion\"][10]\n",
    "print(data1)"
   ]
  },
  {
   "cell_type": "code",
   "execution_count": 25,
   "metadata": {},
   "outputs": [
    {
     "name": "stdout",
     "output_type": "stream",
     "text": [
      "Estimated Jaccard for data1 and data2 is 1.0\n",
      "impuest belgran capital federal junior impuest client global capital federal belgran encuentr contador impuest contabl basic imposit form are encuentr impuest nacional informacion impuest basic ingres imposit contabl cont tim trabaj interes profesional global postulat contador resident capital federal edad salari complet salari tim trabaj belgran are impuest interes envi cv com ar referent junior impuest\n",
      "Estimated Jaccard for data1 and data2 is 0.328125\n",
      "crecimient seleccion contabl contador nacional desempeñ contabl bancari contabl fond caj requier are contabl contabl capital federal trabaj tim interes envi cv\n",
      "Estimated Jaccard for data1 and data2 is 0.328125\n",
      "form trabaj trat client intern cont atencion valor are legal cobranz rubr inmobiliari sex edad tim resident capital federal interes envi cv\n",
      "Estimated Jaccard for data1 and data2 is 0.3359375\n",
      "nacional crecimient seleccion contabl contador nacional desempeñ bancari contabl requier contabl capital federal trabaj tim interes envi cv\n",
      "Estimated Jaccard for data1 and data2 is 0.75\n",
      "agenci cont brind trabaj encuentr contador impuest contabl basic imposit form are impuest encuentr impuest nacional informacion impuest basic ingres imposit contabl contador resident capital federal edad salari complet salari tim trabaj belgran are impuest interes envi cv ref impuest man excluyent cont tim trabaj interes profesional global postulat red\n",
      "Estimated Jaccard for data1 and data2 is 0.3359375\n",
      "nacional crecimient seleccion contabl contador nacional desempeñ bancari contabl requier contabl capital federal trabaj tim interes envi cv\n",
      "Estimated Jaccard for data1 and data2 is 0.3046875\n",
      "seleccion contador contabl impuest contabil auditori visit client person proactiv dependent trabaj capital federal envi cv\n",
      "Estimated Jaccard for data1 and data2 is 0.40625\n",
      "contabl capital federal seleccion contador impuest profesional impuest nacional trabaj client median valor perfil contabl impuest mensual anual trabaj encuentr interes envi cv\n",
      "Estimated Jaccard for data1 and data2 is 0.3046875\n",
      "salud presenci nacional capital federal sur form sur encuentr cas sector informacion complet form cas person perfil analit alt valor sur crecimient desarroll cont perfil postulat envi cv\n",
      "Estimated Jaccard for data1 and data2 is 0.3125\n",
      "nacional contabl cs contador lic inherent are ingres dat informat atencion valor cont registr contabl comprob salari plant flexibl excluyent resident sur trabaj interes deber envi cv\n",
      "Estimated Jaccard for data1 and data2 is 0.359375\n",
      "nacional crecimient seleccion contabl junior contador nacional desempeñ bancari contabl requier contabl capital federal trabaj tim interes envi cv\n",
      "ok\n"
     ]
    }
   ],
   "source": [
    "from datasketch import MinHash\n",
    "\n",
    "data1=df2[\"descripcion\"][10]\n",
    "data1=data1.split()\n",
    "    \n",
    "def jac(texto):\n",
    "    \n",
    "    data2=texto.split()\n",
    "    m1, m2 = MinHash(), MinHash()\n",
    "    for d in data1:\n",
    "        m1.update(d.encode('utf8'))\n",
    "    for d in data2:\n",
    "        m2.update(d.encode('utf8'))\n",
    "    if m1.jaccard(m2)> similitud:     \n",
    "        print(\"Estimated Jaccard for data1 and data2 is\", m1.jaccard(m2))\n",
    "        print(\" \".join(data2))\n",
    "\n",
    "d=df2[\"descripcion\"].map(jac)\n",
    "print(\"ok\")"
   ]
  }
 ],
 "metadata": {
  "kernelspec": {
   "display_name": "Python 3",
   "language": "python",
   "name": "python3"
  },
  "language_info": {
   "codemirror_mode": {
    "name": "ipython",
    "version": 3
   },
   "file_extension": ".py",
   "mimetype": "text/x-python",
   "name": "python",
   "nbconvert_exporter": "python",
   "pygments_lexer": "ipython3",
   "version": "3.5.2"
  }
 },
 "nbformat": 4,
 "nbformat_minor": 2
}
