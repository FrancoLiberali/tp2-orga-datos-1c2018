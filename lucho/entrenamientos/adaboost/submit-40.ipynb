{
 "cells": [
  {
   "cell_type": "markdown",
   "metadata": {},
   "source": [
    "# Pruebas Adaboost + RandomForest\n",
    "\n",
    "El set de training usado se genera desde `lucho/generar_set_test`\n",
    "\n",
    "Cambios respecto a submit-38:\n",
    "- Estimadores de los RandomForest aumentados de 10 a 16"
   ]
  },
  {
   "cell_type": "code",
   "execution_count": 1,
   "metadata": {},
   "outputs": [],
   "source": [
    "import pandas as pd\n",
    "import numpy as np\n",
    "\n",
    "from sklearn.ensemble import RandomForestClassifier, AdaBoostClassifier\n",
    "from sklearn.model_selection import train_test_split, cross_val_score\n",
    "from sklearn.metrics import roc_auc_score\n",
    "\n",
    "%matplotlib inline"
   ]
  },
  {
   "cell_type": "code",
   "execution_count": 2,
   "metadata": {},
   "outputs": [],
   "source": [
    "RANDOM_SEED = 12"
   ]
  },
  {
   "cell_type": "code",
   "execution_count": 3,
   "metadata": {},
   "outputs": [],
   "source": [
    "entrenamiento = pd.read_csv('/home/luciano/orga-datos/training-set-final.csv')"
   ]
  },
  {
   "cell_type": "code",
   "execution_count": 4,
   "metadata": {},
   "outputs": [],
   "source": [
    "no_postulaciones = entrenamiento[entrenamiento['sepostulo'] == 0].sample(500000, random_state=RANDOM_SEED)\n",
    "postulaciones    = entrenamiento[entrenamiento['sepostulo'] == 1]\n",
    "\n",
    "entrenamiento = pd.concat([postulaciones, no_postulaciones]).sample(frac=1)"
   ]
  },
  {
   "cell_type": "code",
   "execution_count": 5,
   "metadata": {},
   "outputs": [],
   "source": [
    "kaggle_set = pd.read_csv('/home/luciano/orga-datos/test_final_100k-preprocesado.csv')"
   ]
  },
  {
   "cell_type": "code",
   "execution_count": 6,
   "metadata": {},
   "outputs": [],
   "source": [
    "TEST_SIZE_PERCENT = 0.1"
   ]
  },
  {
   "cell_type": "code",
   "execution_count": 7,
   "metadata": {},
   "outputs": [],
   "source": [
    "X = entrenamiento.drop(axis=1, labels=['idaviso', 'idpostulante', 'sepostulo'])\n",
    "y = entrenamiento['sepostulo']\n",
    "X_train, X_test, y_train, y_test = train_test_split(X, y, test_size=TEST_SIZE_PERCENT, random_state=RANDOM_SEED)"
   ]
  },
  {
   "cell_type": "code",
   "execution_count": 8,
   "metadata": {},
   "outputs": [],
   "source": [
    "X_kaggle = kaggle_set.drop(axis=1, labels=['id', 'idaviso', 'idpostulante'])"
   ]
  },
  {
   "cell_type": "code",
   "execution_count": 9,
   "metadata": {},
   "outputs": [],
   "source": [
    "clasificador = AdaBoostClassifier(\n",
    "    base_estimator = RandomForestClassifier(\n",
    "        n_estimators=16, \n",
    "        criterion='entropy', \n",
    "        max_features='sqrt', \n",
    "        min_samples_split=100, \n",
    "        n_jobs=-1, \n",
    "        random_state=RANDOM_SEED, \n",
    "        verbose=10\n",
    "    ),\n",
    "    n_estimators=15,\n",
    "    random_state=RANDOM_SEED\n",
    ")"
   ]
  },
  {
   "cell_type": "code",
   "execution_count": 10,
   "metadata": {},
   "outputs": [
    {
     "name": "stdout",
     "output_type": "stream",
     "text": [
      "building tree 1 of 16\n",
      "building tree 2 of 16\n",
      "building tree 3 of 16\n",
      "building tree 4 of 16\n",
      "building tree 5 of 16\n",
      "building tree 6 of 16\n",
      "building tree 7 of 16\n",
      "building tree 8 of 16\n"
     ]
    },
    {
     "name": "stderr",
     "output_type": "stream",
     "text": [
      "[Parallel(n_jobs=-1)]: Done   5 tasks      | elapsed:   11.1s\n"
     ]
    },
    {
     "name": "stdout",
     "output_type": "stream",
     "text": [
      "building tree 9 of 16\n",
      "building tree 10 of 16\n",
      "building tree 11 of 16\n",
      "building tree 12 of 16\n",
      "building tree 13 of 16\n",
      "building tree 14 of 16\n"
     ]
    },
    {
     "name": "stderr",
     "output_type": "stream",
     "text": [
      "[Parallel(n_jobs=-1)]: Done  11 out of  16 | elapsed:   18.0s remaining:    8.2s\n"
     ]
    },
    {
     "name": "stdout",
     "output_type": "stream",
     "text": [
      "building tree 15 of 16\n",
      "building tree 16 of 16\n"
     ]
    },
    {
     "name": "stderr",
     "output_type": "stream",
     "text": [
      "[Parallel(n_jobs=-1)]: Done  13 out of  16 | elapsed:   22.8s remaining:    5.3s\n",
      "[Parallel(n_jobs=-1)]: Done  16 out of  16 | elapsed:   24.5s finished\n",
      "[Parallel(n_jobs=4)]: Done   5 tasks      | elapsed:    0.4s\n",
      "[Parallel(n_jobs=4)]: Done  11 out of  16 | elapsed:    0.7s remaining:    0.3s\n",
      "[Parallel(n_jobs=4)]: Done  13 out of  16 | elapsed:    0.9s remaining:    0.2s\n",
      "[Parallel(n_jobs=4)]: Done  16 out of  16 | elapsed:    0.9s finished\n"
     ]
    },
    {
     "name": "stdout",
     "output_type": "stream",
     "text": [
      "building tree 1 of 16building tree 2 of 16\n",
      "\n",
      "building tree 3 of 16\n",
      "building tree 4 of 16\n",
      "building tree 5 of 16\n",
      "building tree 6 of 16\n",
      "building tree 7 of 16\n",
      "building tree 8 of 16\n"
     ]
    },
    {
     "name": "stderr",
     "output_type": "stream",
     "text": [
      "[Parallel(n_jobs=-1)]: Done   5 tasks      | elapsed:   14.3s\n"
     ]
    },
    {
     "name": "stdout",
     "output_type": "stream",
     "text": [
      "building tree 9 of 16\n",
      "building tree 10 of 16\n",
      "building tree 11 of 16\n",
      "building tree 12 of 16\n",
      "building tree 13 of 16\n",
      "building tree 14 of 16\n"
     ]
    },
    {
     "name": "stderr",
     "output_type": "stream",
     "text": [
      "[Parallel(n_jobs=-1)]: Done  11 out of  16 | elapsed:   21.8s remaining:    9.9s\n"
     ]
    },
    {
     "name": "stdout",
     "output_type": "stream",
     "text": [
      "building tree 15 of 16\n",
      "building tree 16 of 16\n"
     ]
    },
    {
     "name": "stderr",
     "output_type": "stream",
     "text": [
      "[Parallel(n_jobs=-1)]: Done  13 out of  16 | elapsed:   28.7s remaining:    6.6s\n",
      "[Parallel(n_jobs=-1)]: Done  16 out of  16 | elapsed:   29.5s finished\n",
      "[Parallel(n_jobs=4)]: Done   5 tasks      | elapsed:    0.5s\n",
      "[Parallel(n_jobs=4)]: Done  11 out of  16 | elapsed:    0.7s remaining:    0.3s\n",
      "[Parallel(n_jobs=4)]: Done  13 out of  16 | elapsed:    1.0s remaining:    0.2s\n",
      "[Parallel(n_jobs=4)]: Done  16 out of  16 | elapsed:    1.0s finished\n"
     ]
    },
    {
     "name": "stdout",
     "output_type": "stream",
     "text": [
      "building tree 1 of 16\n",
      "building tree 2 of 16\n",
      "building tree 3 of 16\n",
      "building tree 4 of 16\n",
      "building tree 5 of 16\n",
      "building tree 6 of 16\n",
      "building tree 7 of 16\n",
      "building tree 8 of 16\n"
     ]
    },
    {
     "name": "stderr",
     "output_type": "stream",
     "text": [
      "[Parallel(n_jobs=-1)]: Done   5 tasks      | elapsed:   17.8s\n"
     ]
    },
    {
     "name": "stdout",
     "output_type": "stream",
     "text": [
      "building tree 9 of 16\n",
      "building tree 10 of 16\n",
      "building tree 11 of 16\n",
      "building tree 12 of 16\n",
      "building tree 13 of 16\n",
      "building tree 14 of 16\n"
     ]
    },
    {
     "name": "stderr",
     "output_type": "stream",
     "text": [
      "[Parallel(n_jobs=-1)]: Done  11 out of  16 | elapsed:   28.4s remaining:   12.9s\n"
     ]
    },
    {
     "name": "stdout",
     "output_type": "stream",
     "text": [
      "building tree 15 of 16\n",
      "building tree 16 of 16\n"
     ]
    },
    {
     "name": "stderr",
     "output_type": "stream",
     "text": [
      "[Parallel(n_jobs=-1)]: Done  13 out of  16 | elapsed:   32.7s remaining:    7.5s\n",
      "[Parallel(n_jobs=-1)]: Done  16 out of  16 | elapsed:   39.0s finished\n",
      "[Parallel(n_jobs=4)]: Done   5 tasks      | elapsed:    0.5s\n",
      "[Parallel(n_jobs=4)]: Done  11 out of  16 | elapsed:    0.8s remaining:    0.4s\n",
      "[Parallel(n_jobs=4)]: Done  13 out of  16 | elapsed:    1.0s remaining:    0.2s\n",
      "[Parallel(n_jobs=4)]: Done  16 out of  16 | elapsed:    1.1s finished\n"
     ]
    },
    {
     "name": "stdout",
     "output_type": "stream",
     "text": [
      "building tree 1 of 16\n",
      "building tree 2 of 16\n",
      "building tree 3 of 16\n",
      "building tree 4 of 16\n",
      "building tree 5 of 16\n",
      "building tree 6 of 16\n",
      "building tree 7 of 16\n",
      "building tree 8 of 16\n"
     ]
    },
    {
     "name": "stderr",
     "output_type": "stream",
     "text": [
      "[Parallel(n_jobs=-1)]: Done   5 tasks      | elapsed:   21.2s\n"
     ]
    },
    {
     "name": "stdout",
     "output_type": "stream",
     "text": [
      "building tree 9 of 16\n",
      "building tree 10 of 16\n",
      "building tree 11 of 16\n",
      "building tree 12 of 16\n",
      "building tree 13 of 16\n",
      "building tree 14 of 16\n"
     ]
    },
    {
     "name": "stderr",
     "output_type": "stream",
     "text": [
      "[Parallel(n_jobs=-1)]: Done  11 out of  16 | elapsed:   35.7s remaining:   16.2s\n"
     ]
    },
    {
     "name": "stdout",
     "output_type": "stream",
     "text": [
      "building tree 15 of 16\n",
      "building tree 16 of 16\n"
     ]
    },
    {
     "name": "stderr",
     "output_type": "stream",
     "text": [
      "[Parallel(n_jobs=-1)]: Done  13 out of  16 | elapsed:   45.7s remaining:   10.5s\n",
      "[Parallel(n_jobs=-1)]: Done  16 out of  16 | elapsed:   47.7s finished\n",
      "[Parallel(n_jobs=4)]: Done   5 tasks      | elapsed:    0.6s\n",
      "[Parallel(n_jobs=4)]: Done  11 out of  16 | elapsed:    1.1s remaining:    0.5s\n",
      "[Parallel(n_jobs=4)]: Done  13 out of  16 | elapsed:    1.4s remaining:    0.3s\n",
      "[Parallel(n_jobs=4)]: Done  16 out of  16 | elapsed:    1.5s finished\n"
     ]
    },
    {
     "name": "stdout",
     "output_type": "stream",
     "text": [
      "building tree 1 of 16building tree 2 of 16building tree 3 of 16\n",
      "\n",
      "building tree 4 of 16\n",
      "\n",
      "building tree 5 of 16\n",
      "building tree 6 of 16\n",
      "building tree 7 of 16\n",
      "building tree 8 of 16\n"
     ]
    },
    {
     "name": "stderr",
     "output_type": "stream",
     "text": [
      "[Parallel(n_jobs=-1)]: Done   5 tasks      | elapsed:   23.0s\n"
     ]
    },
    {
     "name": "stdout",
     "output_type": "stream",
     "text": [
      "building tree 9 of 16\n",
      "building tree 10 of 16\n",
      "building tree 11 of 16\n",
      "building tree 12 of 16\n",
      "building tree 13 of 16\n",
      "building tree 14 of 16\n"
     ]
    },
    {
     "name": "stderr",
     "output_type": "stream",
     "text": [
      "[Parallel(n_jobs=-1)]: Done  11 out of  16 | elapsed:   37.6s remaining:   17.1s\n"
     ]
    },
    {
     "name": "stdout",
     "output_type": "stream",
     "text": [
      "building tree 15 of 16\n",
      "building tree 16 of 16\n"
     ]
    },
    {
     "name": "stderr",
     "output_type": "stream",
     "text": [
      "[Parallel(n_jobs=-1)]: Done  13 out of  16 | elapsed:   45.8s remaining:   10.6s\n",
      "[Parallel(n_jobs=-1)]: Done  16 out of  16 | elapsed:   50.1s finished\n",
      "[Parallel(n_jobs=4)]: Done   5 tasks      | elapsed:    0.8s\n",
      "[Parallel(n_jobs=4)]: Done  11 out of  16 | elapsed:    1.2s remaining:    0.6s\n",
      "[Parallel(n_jobs=4)]: Done  13 out of  16 | elapsed:    1.5s remaining:    0.4s\n",
      "[Parallel(n_jobs=4)]: Done  16 out of  16 | elapsed:    1.6s finished\n"
     ]
    },
    {
     "name": "stdout",
     "output_type": "stream",
     "text": [
      "building tree 1 of 16building tree 2 of 16\n",
      "\n",
      "building tree 3 of 16\n",
      "building tree 4 of 16\n",
      "building tree 5 of 16\n",
      "building tree 6 of 16\n",
      "building tree 7 of 16\n",
      "building tree 8 of 16\n"
     ]
    },
    {
     "name": "stderr",
     "output_type": "stream",
     "text": [
      "[Parallel(n_jobs=-1)]: Done   5 tasks      | elapsed:   22.1s\n"
     ]
    },
    {
     "name": "stdout",
     "output_type": "stream",
     "text": [
      "building tree 9 of 16\n",
      "building tree 10 of 16\n",
      "building tree 11 of 16\n",
      "building tree 12 of 16\n",
      "building tree 13 of 16\n",
      "building tree 14 of 16\n"
     ]
    },
    {
     "name": "stderr",
     "output_type": "stream",
     "text": [
      "[Parallel(n_jobs=-1)]: Done  11 out of  16 | elapsed:   35.3s remaining:   16.0s\n"
     ]
    },
    {
     "name": "stdout",
     "output_type": "stream",
     "text": [
      "building tree 15 of 16\n",
      "building tree 16 of 16\n"
     ]
    },
    {
     "name": "stderr",
     "output_type": "stream",
     "text": [
      "[Parallel(n_jobs=-1)]: Done  13 out of  16 | elapsed:   44.4s remaining:   10.2s\n",
      "[Parallel(n_jobs=-1)]: Done  16 out of  16 | elapsed:   46.5s finished\n",
      "[Parallel(n_jobs=4)]: Done   5 tasks      | elapsed:    0.7s\n",
      "[Parallel(n_jobs=4)]: Done  11 out of  16 | elapsed:    1.2s remaining:    0.5s\n",
      "[Parallel(n_jobs=4)]: Done  13 out of  16 | elapsed:    1.5s remaining:    0.4s\n",
      "[Parallel(n_jobs=4)]: Done  16 out of  16 | elapsed:    1.5s finished\n"
     ]
    },
    {
     "name": "stdout",
     "output_type": "stream",
     "text": [
      "building tree 1 of 16building tree 2 of 16\n",
      "building tree 3 of 16\n",
      "\n",
      "building tree 4 of 16\n",
      "building tree 5 of 16\n",
      "building tree 6 of 16\n",
      "building tree 7 of 16\n",
      "building tree 8 of 16\n"
     ]
    },
    {
     "name": "stderr",
     "output_type": "stream",
     "text": [
      "[Parallel(n_jobs=-1)]: Done   5 tasks      | elapsed:   21.3s\n"
     ]
    },
    {
     "name": "stdout",
     "output_type": "stream",
     "text": [
      "building tree 9 of 16\n",
      "building tree 10 of 16\n",
      "building tree 11 of 16\n",
      "building tree 12 of 16\n",
      "building tree 13 of 16\n",
      "building tree 14 of 16\n"
     ]
    },
    {
     "name": "stderr",
     "output_type": "stream",
     "text": [
      "[Parallel(n_jobs=-1)]: Done  11 out of  16 | elapsed:   33.4s remaining:   15.2s\n"
     ]
    },
    {
     "name": "stdout",
     "output_type": "stream",
     "text": [
      "building tree 15 of 16\n",
      "building tree 16 of 16\n"
     ]
    },
    {
     "name": "stderr",
     "output_type": "stream",
     "text": [
      "[Parallel(n_jobs=-1)]: Done  13 out of  16 | elapsed:   44.4s remaining:   10.2s\n",
      "[Parallel(n_jobs=-1)]: Done  16 out of  16 | elapsed:   45.1s finished\n",
      "[Parallel(n_jobs=4)]: Done   5 tasks      | elapsed:    0.7s\n",
      "[Parallel(n_jobs=4)]: Done  11 out of  16 | elapsed:    1.1s remaining:    0.5s\n",
      "[Parallel(n_jobs=4)]: Done  13 out of  16 | elapsed:    1.5s remaining:    0.3s\n",
      "[Parallel(n_jobs=4)]: Done  16 out of  16 | elapsed:    1.5s finished\n"
     ]
    },
    {
     "name": "stdout",
     "output_type": "stream",
     "text": [
      "building tree 1 of 16\n",
      "building tree 2 of 16\n",
      "building tree 3 of 16\n",
      "building tree 4 of 16\n",
      "building tree 5 of 16\n",
      "building tree 6 of 16\n",
      "building tree 7 of 16\n",
      "building tree 8 of 16\n"
     ]
    },
    {
     "name": "stderr",
     "output_type": "stream",
     "text": [
      "[Parallel(n_jobs=-1)]: Done   5 tasks      | elapsed:   21.7s\n"
     ]
    },
    {
     "name": "stdout",
     "output_type": "stream",
     "text": [
      "building tree 9 of 16\n",
      "building tree 10 of 16\n",
      "building tree 11 of 16\n",
      "building tree 12 of 16\n",
      "building tree 13 of 16\n",
      "building tree 14 of 16\n",
      "building tree 15 of 16\n"
     ]
    },
    {
     "name": "stderr",
     "output_type": "stream",
     "text": [
      "[Parallel(n_jobs=-1)]: Done  11 out of  16 | elapsed:   34.1s remaining:   15.5s\n"
     ]
    },
    {
     "name": "stdout",
     "output_type": "stream",
     "text": [
      "building tree 16 of 16\n"
     ]
    },
    {
     "name": "stderr",
     "output_type": "stream",
     "text": [
      "[Parallel(n_jobs=-1)]: Done  13 out of  16 | elapsed:   44.2s remaining:   10.2s\n",
      "[Parallel(n_jobs=-1)]: Done  16 out of  16 | elapsed:   45.6s finished\n",
      "[Parallel(n_jobs=4)]: Done   5 tasks      | elapsed:    0.7s\n",
      "[Parallel(n_jobs=4)]: Done  11 out of  16 | elapsed:    1.2s remaining:    0.5s\n",
      "[Parallel(n_jobs=4)]: Done  13 out of  16 | elapsed:    1.5s remaining:    0.3s\n",
      "[Parallel(n_jobs=4)]: Done  16 out of  16 | elapsed:    1.5s finished\n"
     ]
    },
    {
     "name": "stdout",
     "output_type": "stream",
     "text": [
      "building tree 1 of 16building tree 2 of 16\n",
      "\n",
      "building tree 3 of 16\n",
      "building tree 4 of 16\n",
      "building tree 5 of 16\n",
      "building tree 6 of 16\n",
      "building tree 7 of 16\n",
      "building tree 8 of 16\n"
     ]
    },
    {
     "name": "stderr",
     "output_type": "stream",
     "text": [
      "[Parallel(n_jobs=-1)]: Done   5 tasks      | elapsed:   22.0s\n"
     ]
    },
    {
     "name": "stdout",
     "output_type": "stream",
     "text": [
      "building tree 9 of 16\n",
      "building tree 10 of 16\n",
      "building tree 11 of 16\n",
      "building tree 12 of 16\n",
      "building tree 13 of 16\n",
      "building tree 14 of 16\n"
     ]
    },
    {
     "name": "stderr",
     "output_type": "stream",
     "text": [
      "[Parallel(n_jobs=-1)]: Done  11 out of  16 | elapsed:   34.8s remaining:   15.8s\n"
     ]
    },
    {
     "name": "stdout",
     "output_type": "stream",
     "text": [
      "building tree 15 of 16\n",
      "building tree 16 of 16\n"
     ]
    },
    {
     "name": "stderr",
     "output_type": "stream",
     "text": [
      "[Parallel(n_jobs=-1)]: Done  13 out of  16 | elapsed:   45.0s remaining:   10.4s\n",
      "[Parallel(n_jobs=-1)]: Done  16 out of  16 | elapsed:   46.5s finished\n",
      "[Parallel(n_jobs=4)]: Done   5 tasks      | elapsed:    0.7s\n",
      "[Parallel(n_jobs=4)]: Done  11 out of  16 | elapsed:    1.2s remaining:    0.5s\n",
      "[Parallel(n_jobs=4)]: Done  13 out of  16 | elapsed:    1.5s remaining:    0.4s\n",
      "[Parallel(n_jobs=4)]: Done  16 out of  16 | elapsed:    1.6s finished\n"
     ]
    },
    {
     "name": "stdout",
     "output_type": "stream",
     "text": [
      "building tree 1 of 16\n",
      "building tree 2 of 16\n",
      "building tree 3 of 16\n",
      "building tree 4 of 16\n",
      "building tree 5 of 16\n",
      "building tree 6 of 16\n",
      "building tree 7 of 16\n",
      "building tree 8 of 16\n"
     ]
    },
    {
     "name": "stderr",
     "output_type": "stream",
     "text": [
      "[Parallel(n_jobs=-1)]: Done   5 tasks      | elapsed:   21.4s\n"
     ]
    },
    {
     "name": "stdout",
     "output_type": "stream",
     "text": [
      "building tree 9 of 16\n",
      "building tree 10 of 16\n",
      "building tree 11 of 16\n",
      "building tree 12 of 16\n",
      "building tree 13 of 16\n",
      "building tree 14 of 16\n"
     ]
    },
    {
     "name": "stderr",
     "output_type": "stream",
     "text": [
      "[Parallel(n_jobs=-1)]: Done  11 out of  16 | elapsed:   33.6s remaining:   15.3s\n"
     ]
    },
    {
     "name": "stdout",
     "output_type": "stream",
     "text": [
      "building tree 15 of 16\n",
      "building tree 16 of 16\n"
     ]
    },
    {
     "name": "stderr",
     "output_type": "stream",
     "text": [
      "[Parallel(n_jobs=-1)]: Done  13 out of  16 | elapsed:   43.1s remaining:   10.0s\n",
      "[Parallel(n_jobs=-1)]: Done  16 out of  16 | elapsed:   44.6s finished\n",
      "[Parallel(n_jobs=4)]: Done   5 tasks      | elapsed:    0.7s\n",
      "[Parallel(n_jobs=4)]: Done  11 out of  16 | elapsed:    1.1s remaining:    0.5s\n",
      "[Parallel(n_jobs=4)]: Done  13 out of  16 | elapsed:    1.4s remaining:    0.3s\n",
      "[Parallel(n_jobs=4)]: Done  16 out of  16 | elapsed:    1.5s finished\n"
     ]
    },
    {
     "name": "stdout",
     "output_type": "stream",
     "text": [
      "building tree 1 of 16\n",
      "building tree 2 of 16\n",
      "building tree 3 of 16building tree 4 of 16\n",
      "\n",
      "building tree 5 of 16\n",
      "building tree 6 of 16\n",
      "building tree 7 of 16\n",
      "building tree 8 of 16\n"
     ]
    },
    {
     "name": "stderr",
     "output_type": "stream",
     "text": [
      "[Parallel(n_jobs=-1)]: Done   5 tasks      | elapsed:   21.0s\n"
     ]
    },
    {
     "name": "stdout",
     "output_type": "stream",
     "text": [
      "building tree 9 of 16\n",
      "building tree 10 of 16\n",
      "building tree 11 of 16\n",
      "building tree 12 of 16\n",
      "building tree 13 of 16\n",
      "building tree 14 of 16\n"
     ]
    },
    {
     "name": "stderr",
     "output_type": "stream",
     "text": [
      "[Parallel(n_jobs=-1)]: Done  11 out of  16 | elapsed:   33.4s remaining:   15.2s\n"
     ]
    },
    {
     "name": "stdout",
     "output_type": "stream",
     "text": [
      "building tree 15 of 16\n",
      "building tree 16 of 16\n"
     ]
    },
    {
     "name": "stderr",
     "output_type": "stream",
     "text": [
      "[Parallel(n_jobs=-1)]: Done  13 out of  16 | elapsed:   42.1s remaining:    9.7s\n",
      "[Parallel(n_jobs=-1)]: Done  16 out of  16 | elapsed:   45.5s finished\n",
      "[Parallel(n_jobs=4)]: Done   5 tasks      | elapsed:    0.7s\n",
      "[Parallel(n_jobs=4)]: Done  11 out of  16 | elapsed:    1.1s remaining:    0.5s\n",
      "[Parallel(n_jobs=4)]: Done  13 out of  16 | elapsed:    1.5s remaining:    0.3s\n",
      "[Parallel(n_jobs=4)]: Done  16 out of  16 | elapsed:    1.5s finished\n"
     ]
    },
    {
     "name": "stdout",
     "output_type": "stream",
     "text": [
      "building tree 1 of 16building tree 2 of 16\n",
      "\n",
      "building tree 3 of 16\n",
      "building tree 4 of 16\n",
      "building tree 5 of 16\n",
      "building tree 6 of 16\n",
      "building tree 7 of 16\n",
      "building tree 8 of 16\n"
     ]
    },
    {
     "name": "stderr",
     "output_type": "stream",
     "text": [
      "[Parallel(n_jobs=-1)]: Done   5 tasks      | elapsed:   20.3s\n"
     ]
    },
    {
     "name": "stdout",
     "output_type": "stream",
     "text": [
      "building tree 9 of 16\n",
      "building tree 10 of 16\n",
      "building tree 11 of 16\n",
      "building tree 12 of 16\n",
      "building tree 13 of 16\n",
      "building tree 14 of 16\n",
      "building tree 15 of 16\n"
     ]
    },
    {
     "name": "stderr",
     "output_type": "stream",
     "text": [
      "[Parallel(n_jobs=-1)]: Done  11 out of  16 | elapsed:   32.9s remaining:   15.0s\n"
     ]
    },
    {
     "name": "stdout",
     "output_type": "stream",
     "text": [
      "building tree 16 of 16\n"
     ]
    },
    {
     "name": "stderr",
     "output_type": "stream",
     "text": [
      "[Parallel(n_jobs=-1)]: Done  13 out of  16 | elapsed:   43.4s remaining:   10.0s\n",
      "[Parallel(n_jobs=-1)]: Done  16 out of  16 | elapsed:   46.8s finished\n",
      "[Parallel(n_jobs=4)]: Done   5 tasks      | elapsed:    0.7s\n",
      "[Parallel(n_jobs=4)]: Done  11 out of  16 | elapsed:    1.1s remaining:    0.5s\n",
      "[Parallel(n_jobs=4)]: Done  13 out of  16 | elapsed:    1.5s remaining:    0.3s\n",
      "[Parallel(n_jobs=4)]: Done  16 out of  16 | elapsed:    1.5s finished\n"
     ]
    },
    {
     "name": "stdout",
     "output_type": "stream",
     "text": [
      "building tree 1 of 16building tree 2 of 16building tree 3 of 16\n",
      "\n",
      "\n",
      "building tree 4 of 16\n",
      "building tree 5 of 16\n",
      "building tree 6 of 16\n",
      "building tree 7 of 16\n",
      "building tree 8 of 16\n"
     ]
    },
    {
     "name": "stderr",
     "output_type": "stream",
     "text": [
      "[Parallel(n_jobs=-1)]: Done   5 tasks      | elapsed:   22.1s\n"
     ]
    },
    {
     "name": "stdout",
     "output_type": "stream",
     "text": [
      "building tree 9 of 16\n",
      "building tree 10 of 16\n",
      "building tree 11 of 16\n",
      "building tree 12 of 16\n",
      "building tree 13 of 16\n",
      "building tree 14 of 16\n"
     ]
    },
    {
     "name": "stderr",
     "output_type": "stream",
     "text": [
      "[Parallel(n_jobs=-1)]: Done  11 out of  16 | elapsed:   33.4s remaining:   15.2s\n"
     ]
    },
    {
     "name": "stdout",
     "output_type": "stream",
     "text": [
      "building tree 15 of 16\n",
      "building tree 16 of 16\n"
     ]
    },
    {
     "name": "stderr",
     "output_type": "stream",
     "text": [
      "[Parallel(n_jobs=-1)]: Done  13 out of  16 | elapsed:   42.0s remaining:    9.7s\n",
      "[Parallel(n_jobs=-1)]: Done  16 out of  16 | elapsed:   44.4s finished\n",
      "[Parallel(n_jobs=4)]: Done   5 tasks      | elapsed:    0.8s\n",
      "[Parallel(n_jobs=4)]: Done  11 out of  16 | elapsed:    1.1s remaining:    0.5s\n",
      "[Parallel(n_jobs=4)]: Done  13 out of  16 | elapsed:    1.4s remaining:    0.3s\n",
      "[Parallel(n_jobs=4)]: Done  16 out of  16 | elapsed:    1.5s finished\n"
     ]
    },
    {
     "name": "stdout",
     "output_type": "stream",
     "text": [
      "building tree 1 of 16building tree 2 of 16building tree 3 of 16\n",
      "\n",
      "building tree 4 of 16\n",
      "\n",
      "building tree 5 of 16\n",
      "building tree 6 of 16\n",
      "building tree 7 of 16\n",
      "building tree 8 of 16\n"
     ]
    },
    {
     "name": "stderr",
     "output_type": "stream",
     "text": [
      "[Parallel(n_jobs=-1)]: Done   5 tasks      | elapsed:   21.8s\n"
     ]
    },
    {
     "name": "stdout",
     "output_type": "stream",
     "text": [
      "building tree 9 of 16\n",
      "building tree 10 of 16\n",
      "building tree 11 of 16\n",
      "building tree 12 of 16\n",
      "building tree 13 of 16\n",
      "building tree 14 of 16\n",
      "building tree 15 of 16\n"
     ]
    },
    {
     "name": "stderr",
     "output_type": "stream",
     "text": [
      "[Parallel(n_jobs=-1)]: Done  11 out of  16 | elapsed:   34.2s remaining:   15.6s\n"
     ]
    },
    {
     "name": "stdout",
     "output_type": "stream",
     "text": [
      "building tree 16 of 16\n"
     ]
    },
    {
     "name": "stderr",
     "output_type": "stream",
     "text": [
      "[Parallel(n_jobs=-1)]: Done  13 out of  16 | elapsed:   45.1s remaining:   10.4s\n",
      "[Parallel(n_jobs=-1)]: Done  16 out of  16 | elapsed:   45.6s finished\n",
      "[Parallel(n_jobs=4)]: Done   5 tasks      | elapsed:    0.7s\n",
      "[Parallel(n_jobs=4)]: Done  11 out of  16 | elapsed:    1.2s remaining:    0.5s\n",
      "[Parallel(n_jobs=4)]: Done  13 out of  16 | elapsed:    1.5s remaining:    0.3s\n",
      "[Parallel(n_jobs=4)]: Done  16 out of  16 | elapsed:    1.5s finished\n"
     ]
    },
    {
     "name": "stdout",
     "output_type": "stream",
     "text": [
      "building tree 1 of 16building tree 2 of 16building tree 3 of 16building tree 4 of 16\n",
      "\n",
      "\n",
      "\n",
      "building tree 5 of 16\n",
      "building tree 6 of 16\n",
      "building tree 7 of 16\n",
      "building tree 8 of 16\n"
     ]
    },
    {
     "name": "stderr",
     "output_type": "stream",
     "text": [
      "[Parallel(n_jobs=-1)]: Done   5 tasks      | elapsed:   19.7s\n"
     ]
    },
    {
     "name": "stdout",
     "output_type": "stream",
     "text": [
      "building tree 9 of 16\n",
      "building tree 10 of 16\n",
      "building tree 11 of 16\n",
      "building tree 12 of 16\n",
      "building tree 13 of 16\n",
      "building tree 14 of 16\n"
     ]
    },
    {
     "name": "stderr",
     "output_type": "stream",
     "text": [
      "[Parallel(n_jobs=-1)]: Done  11 out of  16 | elapsed:   31.9s remaining:   14.5s\n"
     ]
    },
    {
     "name": "stdout",
     "output_type": "stream",
     "text": [
      "building tree 15 of 16\n",
      "building tree 16 of 16\n"
     ]
    },
    {
     "name": "stderr",
     "output_type": "stream",
     "text": [
      "[Parallel(n_jobs=-1)]: Done  13 out of  16 | elapsed:   40.3s remaining:    9.3s\n",
      "[Parallel(n_jobs=-1)]: Done  16 out of  16 | elapsed:   43.2s finished\n",
      "[Parallel(n_jobs=4)]: Done   5 tasks      | elapsed:    0.7s\n",
      "[Parallel(n_jobs=4)]: Done  11 out of  16 | elapsed:    1.1s remaining:    0.5s\n",
      "[Parallel(n_jobs=4)]: Done  13 out of  16 | elapsed:    1.4s remaining:    0.3s\n",
      "[Parallel(n_jobs=4)]: Done  16 out of  16 | elapsed:    1.5s finished\n"
     ]
    },
    {
     "data": {
      "text/plain": [
       "AdaBoostClassifier(algorithm='SAMME.R',\n",
       "          base_estimator=RandomForestClassifier(bootstrap=True, class_weight=None, criterion='entropy',\n",
       "            max_depth=None, max_features='sqrt', max_leaf_nodes=None,\n",
       "            min_impurity_decrease=0.0, min_impurity_split=None,\n",
       "            min_samples_leaf=1, min_samples_split=100,\n",
       "            min_weight_fraction_leaf=0.0, n_estimators=16, n_jobs=-1,\n",
       "            oob_score=False, random_state=12, verbose=10, warm_start=False),\n",
       "          learning_rate=1.0, n_estimators=15, random_state=12)"
      ]
     },
     "execution_count": 10,
     "metadata": {},
     "output_type": "execute_result"
    }
   ],
   "source": [
    "clasificador.fit(X_train, y_train)"
   ]
  },
  {
   "cell_type": "code",
   "execution_count": 17,
   "metadata": {},
   "outputs": [
    {
     "name": "stderr",
     "output_type": "stream",
     "text": [
      "[Parallel(n_jobs=4)]: Done   5 tasks      | elapsed:    0.1s\n",
      "[Parallel(n_jobs=4)]: Done  11 out of  16 | elapsed:    0.1s remaining:    0.0s\n",
      "[Parallel(n_jobs=4)]: Done  13 out of  16 | elapsed:    0.1s remaining:    0.0s\n",
      "[Parallel(n_jobs=4)]: Done  16 out of  16 | elapsed:    0.1s finished\n",
      "[Parallel(n_jobs=4)]: Done   5 tasks      | elapsed:    0.1s\n",
      "[Parallel(n_jobs=4)]: Done  11 out of  16 | elapsed:    0.1s remaining:    0.0s\n",
      "[Parallel(n_jobs=4)]: Done  13 out of  16 | elapsed:    0.1s remaining:    0.0s\n",
      "[Parallel(n_jobs=4)]: Done  16 out of  16 | elapsed:    0.1s finished\n",
      "[Parallel(n_jobs=4)]: Done   5 tasks      | elapsed:    0.1s\n",
      "[Parallel(n_jobs=4)]: Done  11 out of  16 | elapsed:    0.1s remaining:    0.0s\n",
      "[Parallel(n_jobs=4)]: Done  13 out of  16 | elapsed:    0.1s remaining:    0.0s\n",
      "[Parallel(n_jobs=4)]: Done  16 out of  16 | elapsed:    0.1s finished\n",
      "[Parallel(n_jobs=4)]: Done   5 tasks      | elapsed:    0.1s\n",
      "[Parallel(n_jobs=4)]: Done  11 out of  16 | elapsed:    0.1s remaining:    0.1s\n",
      "[Parallel(n_jobs=4)]: Done  13 out of  16 | elapsed:    0.2s remaining:    0.0s\n",
      "[Parallel(n_jobs=4)]: Done  16 out of  16 | elapsed:    0.2s finished\n",
      "[Parallel(n_jobs=4)]: Done   5 tasks      | elapsed:    0.1s\n",
      "[Parallel(n_jobs=4)]: Done  11 out of  16 | elapsed:    0.1s remaining:    0.1s\n",
      "[Parallel(n_jobs=4)]: Done  13 out of  16 | elapsed:    0.2s remaining:    0.0s\n",
      "[Parallel(n_jobs=4)]: Done  16 out of  16 | elapsed:    0.2s finished\n",
      "[Parallel(n_jobs=4)]: Done   5 tasks      | elapsed:    0.1s\n",
      "[Parallel(n_jobs=4)]: Done  11 out of  16 | elapsed:    0.1s remaining:    0.1s\n",
      "[Parallel(n_jobs=4)]: Done  13 out of  16 | elapsed:    0.2s remaining:    0.0s\n",
      "[Parallel(n_jobs=4)]: Done  16 out of  16 | elapsed:    0.2s finished\n",
      "[Parallel(n_jobs=4)]: Done   5 tasks      | elapsed:    0.1s\n",
      "[Parallel(n_jobs=4)]: Done  11 out of  16 | elapsed:    0.1s remaining:    0.1s\n",
      "[Parallel(n_jobs=4)]: Done  13 out of  16 | elapsed:    0.2s remaining:    0.0s\n",
      "[Parallel(n_jobs=4)]: Done  16 out of  16 | elapsed:    0.2s finished\n",
      "[Parallel(n_jobs=4)]: Done   5 tasks      | elapsed:    0.1s\n",
      "[Parallel(n_jobs=4)]: Done  11 out of  16 | elapsed:    0.1s remaining:    0.1s\n",
      "[Parallel(n_jobs=4)]: Done  13 out of  16 | elapsed:    0.2s remaining:    0.0s\n",
      "[Parallel(n_jobs=4)]: Done  16 out of  16 | elapsed:    0.2s finished\n",
      "[Parallel(n_jobs=4)]: Done   5 tasks      | elapsed:    0.1s\n",
      "[Parallel(n_jobs=4)]: Done  11 out of  16 | elapsed:    0.1s remaining:    0.1s\n",
      "[Parallel(n_jobs=4)]: Done  13 out of  16 | elapsed:    0.2s remaining:    0.0s\n",
      "[Parallel(n_jobs=4)]: Done  16 out of  16 | elapsed:    0.2s finished\n",
      "[Parallel(n_jobs=4)]: Done   5 tasks      | elapsed:    0.1s\n",
      "[Parallel(n_jobs=4)]: Done  11 out of  16 | elapsed:    0.1s remaining:    0.1s\n",
      "[Parallel(n_jobs=4)]: Done  13 out of  16 | elapsed:    0.2s remaining:    0.0s\n",
      "[Parallel(n_jobs=4)]: Done  16 out of  16 | elapsed:    0.2s finished\n",
      "[Parallel(n_jobs=4)]: Done   5 tasks      | elapsed:    0.1s\n",
      "[Parallel(n_jobs=4)]: Done  11 out of  16 | elapsed:    0.1s remaining:    0.1s\n",
      "[Parallel(n_jobs=4)]: Done  13 out of  16 | elapsed:    0.2s remaining:    0.0s\n",
      "[Parallel(n_jobs=4)]: Done  16 out of  16 | elapsed:    0.2s finished\n",
      "[Parallel(n_jobs=4)]: Done   5 tasks      | elapsed:    0.1s\n",
      "[Parallel(n_jobs=4)]: Done  11 out of  16 | elapsed:    0.1s remaining:    0.1s\n",
      "[Parallel(n_jobs=4)]: Done  13 out of  16 | elapsed:    0.2s remaining:    0.0s\n",
      "[Parallel(n_jobs=4)]: Done  16 out of  16 | elapsed:    0.2s finished\n",
      "[Parallel(n_jobs=4)]: Done   5 tasks      | elapsed:    0.1s\n",
      "[Parallel(n_jobs=4)]: Done  11 out of  16 | elapsed:    0.1s remaining:    0.1s\n",
      "[Parallel(n_jobs=4)]: Done  13 out of  16 | elapsed:    0.2s remaining:    0.0s\n",
      "[Parallel(n_jobs=4)]: Done  16 out of  16 | elapsed:    0.2s finished\n",
      "[Parallel(n_jobs=4)]: Done   5 tasks      | elapsed:    0.1s\n",
      "[Parallel(n_jobs=4)]: Done  11 out of  16 | elapsed:    0.1s remaining:    0.1s\n",
      "[Parallel(n_jobs=4)]: Done  13 out of  16 | elapsed:    0.2s remaining:    0.0s\n",
      "[Parallel(n_jobs=4)]: Done  16 out of  16 | elapsed:    0.2s finished\n",
      "[Parallel(n_jobs=4)]: Done   5 tasks      | elapsed:    0.1s\n",
      "[Parallel(n_jobs=4)]: Done  11 out of  16 | elapsed:    0.1s remaining:    0.1s\n",
      "[Parallel(n_jobs=4)]: Done  13 out of  16 | elapsed:    0.2s remaining:    0.0s\n",
      "[Parallel(n_jobs=4)]: Done  16 out of  16 | elapsed:    0.2s finished\n"
     ]
    }
   ],
   "source": [
    "y_test_predictd = clasificador.predict_proba(X_test)[:, 1]"
   ]
  },
  {
   "cell_type": "code",
   "execution_count": 18,
   "metadata": {},
   "outputs": [
    {
     "data": {
      "text/plain": [
       "0.992375345506603"
      ]
     },
     "execution_count": 18,
     "metadata": {},
     "output_type": "execute_result"
    }
   ],
   "source": [
    "roc_auc_score(y_test, y_test_predictd)"
   ]
  },
  {
   "cell_type": "code",
   "execution_count": 19,
   "metadata": {},
   "outputs": [
    {
     "name": "stderr",
     "output_type": "stream",
     "text": [
      "[Parallel(n_jobs=4)]: Done   5 tasks      | elapsed:    0.1s\n",
      "[Parallel(n_jobs=4)]: Done  11 out of  16 | elapsed:    0.1s remaining:    0.0s\n",
      "[Parallel(n_jobs=4)]: Done  13 out of  16 | elapsed:    0.1s remaining:    0.0s\n",
      "[Parallel(n_jobs=4)]: Done  16 out of  16 | elapsed:    0.1s finished\n",
      "[Parallel(n_jobs=4)]: Done   5 tasks      | elapsed:    0.1s\n",
      "[Parallel(n_jobs=4)]: Done  11 out of  16 | elapsed:    0.1s remaining:    0.0s\n",
      "[Parallel(n_jobs=4)]: Done  13 out of  16 | elapsed:    0.1s remaining:    0.0s\n",
      "[Parallel(n_jobs=4)]: Done  16 out of  16 | elapsed:    0.1s finished\n",
      "[Parallel(n_jobs=4)]: Done   5 tasks      | elapsed:    0.1s\n",
      "[Parallel(n_jobs=4)]: Done  11 out of  16 | elapsed:    0.1s remaining:    0.0s\n",
      "[Parallel(n_jobs=4)]: Done  13 out of  16 | elapsed:    0.1s remaining:    0.0s\n",
      "[Parallel(n_jobs=4)]: Done  16 out of  16 | elapsed:    0.1s finished\n",
      "[Parallel(n_jobs=4)]: Done   5 tasks      | elapsed:    0.1s\n",
      "[Parallel(n_jobs=4)]: Done  11 out of  16 | elapsed:    0.1s remaining:    0.1s\n",
      "[Parallel(n_jobs=4)]: Done  13 out of  16 | elapsed:    0.2s remaining:    0.0s\n",
      "[Parallel(n_jobs=4)]: Done  16 out of  16 | elapsed:    0.2s finished\n",
      "[Parallel(n_jobs=4)]: Done   5 tasks      | elapsed:    0.1s\n",
      "[Parallel(n_jobs=4)]: Done  11 out of  16 | elapsed:    0.1s remaining:    0.1s\n",
      "[Parallel(n_jobs=4)]: Done  13 out of  16 | elapsed:    0.2s remaining:    0.0s\n",
      "[Parallel(n_jobs=4)]: Done  16 out of  16 | elapsed:    0.2s finished\n",
      "[Parallel(n_jobs=4)]: Done   5 tasks      | elapsed:    0.1s\n",
      "[Parallel(n_jobs=4)]: Done  11 out of  16 | elapsed:    0.1s remaining:    0.1s\n",
      "[Parallel(n_jobs=4)]: Done  13 out of  16 | elapsed:    0.2s remaining:    0.0s\n",
      "[Parallel(n_jobs=4)]: Done  16 out of  16 | elapsed:    0.2s finished\n",
      "[Parallel(n_jobs=4)]: Done   5 tasks      | elapsed:    0.1s\n",
      "[Parallel(n_jobs=4)]: Done  11 out of  16 | elapsed:    0.1s remaining:    0.1s\n",
      "[Parallel(n_jobs=4)]: Done  13 out of  16 | elapsed:    0.2s remaining:    0.0s\n",
      "[Parallel(n_jobs=4)]: Done  16 out of  16 | elapsed:    0.2s finished\n",
      "[Parallel(n_jobs=4)]: Done   5 tasks      | elapsed:    0.1s\n",
      "[Parallel(n_jobs=4)]: Done  11 out of  16 | elapsed:    0.1s remaining:    0.1s\n",
      "[Parallel(n_jobs=4)]: Done  13 out of  16 | elapsed:    0.2s remaining:    0.0s\n",
      "[Parallel(n_jobs=4)]: Done  16 out of  16 | elapsed:    0.2s finished\n",
      "[Parallel(n_jobs=4)]: Done   5 tasks      | elapsed:    0.1s\n",
      "[Parallel(n_jobs=4)]: Done  11 out of  16 | elapsed:    0.1s remaining:    0.1s\n",
      "[Parallel(n_jobs=4)]: Done  13 out of  16 | elapsed:    0.2s remaining:    0.0s\n",
      "[Parallel(n_jobs=4)]: Done  16 out of  16 | elapsed:    0.2s finished\n",
      "[Parallel(n_jobs=4)]: Done   5 tasks      | elapsed:    0.1s\n",
      "[Parallel(n_jobs=4)]: Done  11 out of  16 | elapsed:    0.1s remaining:    0.1s\n",
      "[Parallel(n_jobs=4)]: Done  13 out of  16 | elapsed:    0.2s remaining:    0.0s\n",
      "[Parallel(n_jobs=4)]: Done  16 out of  16 | elapsed:    0.2s finished\n",
      "[Parallel(n_jobs=4)]: Done   5 tasks      | elapsed:    0.1s\n",
      "[Parallel(n_jobs=4)]: Done  11 out of  16 | elapsed:    0.1s remaining:    0.1s\n",
      "[Parallel(n_jobs=4)]: Done  13 out of  16 | elapsed:    0.2s remaining:    0.0s\n",
      "[Parallel(n_jobs=4)]: Done  16 out of  16 | elapsed:    0.2s finished\n",
      "[Parallel(n_jobs=4)]: Done   5 tasks      | elapsed:    0.1s\n",
      "[Parallel(n_jobs=4)]: Done  11 out of  16 | elapsed:    0.1s remaining:    0.1s\n",
      "[Parallel(n_jobs=4)]: Done  13 out of  16 | elapsed:    0.2s remaining:    0.0s\n",
      "[Parallel(n_jobs=4)]: Done  16 out of  16 | elapsed:    0.2s finished\n",
      "[Parallel(n_jobs=4)]: Done   5 tasks      | elapsed:    0.1s\n",
      "[Parallel(n_jobs=4)]: Done  11 out of  16 | elapsed:    0.1s remaining:    0.1s\n",
      "[Parallel(n_jobs=4)]: Done  13 out of  16 | elapsed:    0.2s remaining:    0.0s\n",
      "[Parallel(n_jobs=4)]: Done  16 out of  16 | elapsed:    0.2s finished\n",
      "[Parallel(n_jobs=4)]: Done   5 tasks      | elapsed:    0.1s\n",
      "[Parallel(n_jobs=4)]: Done  11 out of  16 | elapsed:    0.1s remaining:    0.1s\n",
      "[Parallel(n_jobs=4)]: Done  13 out of  16 | elapsed:    0.2s remaining:    0.0s\n",
      "[Parallel(n_jobs=4)]: Done  16 out of  16 | elapsed:    0.2s finished\n",
      "[Parallel(n_jobs=4)]: Done   5 tasks      | elapsed:    0.1s\n",
      "[Parallel(n_jobs=4)]: Done  11 out of  16 | elapsed:    0.1s remaining:    0.1s\n",
      "[Parallel(n_jobs=4)]: Done  13 out of  16 | elapsed:    0.2s remaining:    0.0s\n",
      "[Parallel(n_jobs=4)]: Done  16 out of  16 | elapsed:    0.2s finished\n"
     ]
    },
    {
     "data": {
      "text/plain": [
       "0.96813"
      ]
     },
     "execution_count": 19,
     "metadata": {},
     "output_type": "execute_result"
    }
   ],
   "source": [
    "clasificador.score(X_test, y_test)"
   ]
  },
  {
   "cell_type": "code",
   "execution_count": 20,
   "metadata": {},
   "outputs": [
    {
     "name": "stderr",
     "output_type": "stream",
     "text": [
      "[Parallel(n_jobs=4)]: Done   5 tasks      | elapsed:    0.1s\n",
      "[Parallel(n_jobs=4)]: Done  11 out of  16 | elapsed:    0.1s remaining:    0.0s\n",
      "[Parallel(n_jobs=4)]: Done  13 out of  16 | elapsed:    0.1s remaining:    0.0s\n",
      "[Parallel(n_jobs=4)]: Done  16 out of  16 | elapsed:    0.1s finished\n",
      "[Parallel(n_jobs=4)]: Done   5 tasks      | elapsed:    0.0s\n",
      "[Parallel(n_jobs=4)]: Done  11 out of  16 | elapsed:    0.1s remaining:    0.0s\n",
      "[Parallel(n_jobs=4)]: Done  13 out of  16 | elapsed:    0.1s remaining:    0.0s\n",
      "[Parallel(n_jobs=4)]: Done  16 out of  16 | elapsed:    0.1s finished\n",
      "[Parallel(n_jobs=4)]: Done   5 tasks      | elapsed:    0.1s\n",
      "[Parallel(n_jobs=4)]: Done  11 out of  16 | elapsed:    0.1s remaining:    0.0s\n",
      "[Parallel(n_jobs=4)]: Done  13 out of  16 | elapsed:    0.1s remaining:    0.0s\n",
      "[Parallel(n_jobs=4)]: Done  16 out of  16 | elapsed:    0.1s finished\n",
      "[Parallel(n_jobs=4)]: Done   5 tasks      | elapsed:    0.1s\n",
      "[Parallel(n_jobs=4)]: Done  11 out of  16 | elapsed:    0.1s remaining:    0.0s\n",
      "[Parallel(n_jobs=4)]: Done  13 out of  16 | elapsed:    0.1s remaining:    0.0s\n",
      "[Parallel(n_jobs=4)]: Done  16 out of  16 | elapsed:    0.1s finished\n",
      "[Parallel(n_jobs=4)]: Done   5 tasks      | elapsed:    0.1s\n",
      "[Parallel(n_jobs=4)]: Done  11 out of  16 | elapsed:    0.1s remaining:    0.1s\n",
      "[Parallel(n_jobs=4)]: Done  13 out of  16 | elapsed:    0.1s remaining:    0.0s\n",
      "[Parallel(n_jobs=4)]: Done  16 out of  16 | elapsed:    0.2s finished\n",
      "[Parallel(n_jobs=4)]: Done   5 tasks      | elapsed:    0.1s\n",
      "[Parallel(n_jobs=4)]: Done  11 out of  16 | elapsed:    0.1s remaining:    0.1s\n",
      "[Parallel(n_jobs=4)]: Done  13 out of  16 | elapsed:    0.1s remaining:    0.0s\n",
      "[Parallel(n_jobs=4)]: Done  16 out of  16 | elapsed:    0.2s finished\n",
      "[Parallel(n_jobs=4)]: Done   5 tasks      | elapsed:    0.1s\n",
      "[Parallel(n_jobs=4)]: Done  11 out of  16 | elapsed:    0.1s remaining:    0.0s\n",
      "[Parallel(n_jobs=4)]: Done  13 out of  16 | elapsed:    0.1s remaining:    0.0s\n",
      "[Parallel(n_jobs=4)]: Done  16 out of  16 | elapsed:    0.1s finished\n",
      "[Parallel(n_jobs=4)]: Done   5 tasks      | elapsed:    0.1s\n",
      "[Parallel(n_jobs=4)]: Done  11 out of  16 | elapsed:    0.1s remaining:    0.1s\n",
      "[Parallel(n_jobs=4)]: Done  13 out of  16 | elapsed:    0.1s remaining:    0.0s\n",
      "[Parallel(n_jobs=4)]: Done  16 out of  16 | elapsed:    0.1s finished\n",
      "[Parallel(n_jobs=4)]: Done   5 tasks      | elapsed:    0.1s\n",
      "[Parallel(n_jobs=4)]: Done  11 out of  16 | elapsed:    0.1s remaining:    0.1s\n",
      "[Parallel(n_jobs=4)]: Done  13 out of  16 | elapsed:    0.1s remaining:    0.0s\n",
      "[Parallel(n_jobs=4)]: Done  16 out of  16 | elapsed:    0.2s finished\n",
      "[Parallel(n_jobs=4)]: Done   5 tasks      | elapsed:    0.1s\n",
      "[Parallel(n_jobs=4)]: Done  11 out of  16 | elapsed:    0.1s remaining:    0.1s\n",
      "[Parallel(n_jobs=4)]: Done  13 out of  16 | elapsed:    0.1s remaining:    0.0s\n",
      "[Parallel(n_jobs=4)]: Done  16 out of  16 | elapsed:    0.1s finished\n",
      "[Parallel(n_jobs=4)]: Done   5 tasks      | elapsed:    0.1s\n",
      "[Parallel(n_jobs=4)]: Done  11 out of  16 | elapsed:    0.1s remaining:    0.0s\n",
      "[Parallel(n_jobs=4)]: Done  13 out of  16 | elapsed:    0.1s remaining:    0.0s\n",
      "[Parallel(n_jobs=4)]: Done  16 out of  16 | elapsed:    0.1s finished\n",
      "[Parallel(n_jobs=4)]: Done   5 tasks      | elapsed:    0.1s\n",
      "[Parallel(n_jobs=4)]: Done  11 out of  16 | elapsed:    0.1s remaining:    0.0s\n",
      "[Parallel(n_jobs=4)]: Done  13 out of  16 | elapsed:    0.1s remaining:    0.0s\n",
      "[Parallel(n_jobs=4)]: Done  16 out of  16 | elapsed:    0.1s finished\n",
      "[Parallel(n_jobs=4)]: Done   5 tasks      | elapsed:    0.1s\n",
      "[Parallel(n_jobs=4)]: Done  11 out of  16 | elapsed:    0.1s remaining:    0.1s\n",
      "[Parallel(n_jobs=4)]: Done  13 out of  16 | elapsed:    0.1s remaining:    0.0s\n",
      "[Parallel(n_jobs=4)]: Done  16 out of  16 | elapsed:    0.1s finished\n",
      "[Parallel(n_jobs=4)]: Done   5 tasks      | elapsed:    0.1s\n",
      "[Parallel(n_jobs=4)]: Done  11 out of  16 | elapsed:    0.1s remaining:    0.1s\n",
      "[Parallel(n_jobs=4)]: Done  13 out of  16 | elapsed:    0.1s remaining:    0.0s\n",
      "[Parallel(n_jobs=4)]: Done  16 out of  16 | elapsed:    0.1s finished\n",
      "[Parallel(n_jobs=4)]: Done   5 tasks      | elapsed:    0.1s\n",
      "[Parallel(n_jobs=4)]: Done  11 out of  16 | elapsed:    0.1s remaining:    0.0s\n",
      "[Parallel(n_jobs=4)]: Done  13 out of  16 | elapsed:    0.1s remaining:    0.0s\n",
      "[Parallel(n_jobs=4)]: Done  16 out of  16 | elapsed:    0.1s finished\n"
     ]
    }
   ],
   "source": [
    "y_kaggle = clasificador.predict_proba(X_kaggle)[:, 1]"
   ]
  },
  {
   "cell_type": "code",
   "execution_count": 21,
   "metadata": {},
   "outputs": [],
   "source": [
    "kaggle_out = kaggle_set[['id']].copy()\n",
    "kaggle_out['sepostulo'] = y_kaggle"
   ]
  },
  {
   "cell_type": "code",
   "execution_count": 22,
   "metadata": {},
   "outputs": [
    {
     "data": {
      "text/plain": [
       "<matplotlib.axes._subplots.AxesSubplot at 0x7fe6bc545fd0>"
      ]
     },
     "execution_count": 22,
     "metadata": {},
     "output_type": "execute_result"
    },
    {
     "data": {
      "image/png": "[encoded data removed]",
      "text/plain": [
       "<Figure size 432x288 with 1 Axes>"
      ]
     },
     "metadata": {},
     "output_type": "display_data"
    }
   ],
   "source": [
    "kaggle_out['sepostulo'].hist()"
   ]
  },
  {
   "cell_type": "code",
   "execution_count": 23,
   "metadata": {},
   "outputs": [],
   "source": [
    "kaggle_out.to_csv('/home/luciano/orga-datos/tmp/submits/submit-40.csv', index=False)"
   ]
  },
  {
   "cell_type": "code",
   "execution_count": 24,
   "metadata": {},
   "outputs": [],
   "source": [
    "kaggle_37 = pd.read_csv('/home/luciano/orga-datos/tmp/submits/submit-37.csv')\n",
    "kaggle_38 = pd.read_csv('/home/luciano/orga-datos/tmp/submits/submit-38.csv')"
   ]
  },
  {
   "cell_type": "code",
   "execution_count": 25,
   "metadata": {},
   "outputs": [
    {
     "name": "stdout",
     "output_type": "stream",
     "text": [
      "ROCAUC 37 vs 38: 0.9957863005835678\n",
      "ROCAUC 37 vs 40: 0.9967739487850068\n",
      "ROCAUC 38 vs 40: 0.9981499594111478\n"
     ]
    }
   ],
   "source": [
    "print('ROCAUC 37 vs 38:', roc_auc_score(np.round(kaggle_37['sepostulo']), kaggle_38['sepostulo']))\n",
    "print('ROCAUC 37 vs 40:', roc_auc_score(np.round(kaggle_37['sepostulo']), kaggle_out['sepostulo']))\n",
    "print('ROCAUC 38 vs 40:', roc_auc_score(np.round(kaggle_38['sepostulo']), kaggle_out['sepostulo']))"
   ]
  },
  {
   "cell_type": "code",
   "execution_count": 26,
   "metadata": {},
   "outputs": [
    {
     "data": {
      "text/plain": [
       "<matplotlib.axes._subplots.AxesSubplot at 0x7fe6bc520710>"
      ]
     },
     "execution_count": 26,
     "metadata": {},
     "output_type": "execute_result"
    },
    {
     "data": {
      "image/png": "[encoded data removed]",
      "text/plain": [
       "<Figure size 432x288 with 1 Axes>"
      ]
     },
     "metadata": {},
     "output_type": "display_data"
    }
   ],
   "source": [
    "np.abs(kaggle_37['sepostulo'] - kaggle_out['sepostulo']).hist()"
   ]
  },
  {
   "cell_type": "code",
   "execution_count": 27,
   "metadata": {},
   "outputs": [
    {
     "data": {
      "text/plain": [
       "<matplotlib.axes._subplots.AxesSubplot at 0x7fe6bc532e10>"
      ]
     },
     "execution_count": 27,
     "metadata": {},
     "output_type": "execute_result"
    },
    {
     "data": {
      "image/png": "[encoded data removed]",
      "text/plain": [
       "<Figure size 432x288 with 1 Axes>"
      ]
     },
     "metadata": {},
     "output_type": "display_data"
    }
   ],
   "source": [
    "np.abs(kaggle_38['sepostulo'] - kaggle_out['sepostulo']).hist()"
   ]
  },
  {
   "cell_type": "code",
   "execution_count": 28,
   "metadata": {},
   "outputs": [
    {
     "data": {
      "text/plain": [
       "<matplotlib.axes._subplots.AxesSubplot at 0x7fe6bc521128>"
      ]
     },
     "execution_count": 28,
     "metadata": {},
     "output_type": "execute_result"
    },
    {
     "data": {
      "image/png": "[encoded data removed]",
      "text/plain": [
       "<Figure size 432x288 with 1 Axes>"
      ]
     },
     "metadata": {},
     "output_type": "display_data"
    }
   ],
   "source": [
    "np.abs(kaggle_37['sepostulo'] - kaggle_38['sepostulo']).hist()"
   ]
  },
  {
   "cell_type": "code",
   "execution_count": null,
   "metadata": {},
   "outputs": [],
   "source": [
    "# kaggle score: 0.93479"
   ]
  }
 ],
 "metadata": {
  "kernelspec": {
   "display_name": "Python 3",
   "language": "python",
   "name": "python3"
  },
  "language_info": {
   "codemirror_mode": {
    "name": "ipython",
    "version": 3
   },
   "file_extension": ".py",
   "mimetype": "text/x-python",
   "name": "python",
   "nbconvert_exporter": "python",
   "pygments_lexer": "ipython3",
   "version": "3.5.2"
  }
 },
 "nbformat": 4,
 "nbformat_minor": 2
}
