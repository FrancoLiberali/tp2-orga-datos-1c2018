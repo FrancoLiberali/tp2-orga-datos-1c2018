{
 "cells": [
  {
   "cell_type": "markdown",
   "metadata": {},
   "source": [
    "# Pruebas GradientBoost\n",
    "\n",
    "El set de training usado se genera desde `lucho/generar_set_test`\n"
   ]
  },
  {
   "cell_type": "code",
   "execution_count": 2,
   "metadata": {},
   "outputs": [],
   "source": [
    "import pandas as pd\n",
    "import numpy as np\n",
    "\n",
    "from sklearn.ensemble import GradientBoostingClassifier\n",
    "from sklearn.model_selection import train_test_split, cross_val_score\n",
    "from sklearn.metrics import roc_auc_score\n",
    "\n",
    "%matplotlib inline"
   ]
  },
  {
   "cell_type": "code",
   "execution_count": 3,
   "metadata": {},
   "outputs": [],
   "source": [
    "entrenamiento = pd.read_csv('/home/luciano/orga-datos/training-set-final.csv')"
   ]
  },
  {
   "cell_type": "code",
   "execution_count": 4,
   "metadata": {},
   "outputs": [],
   "source": [
    "no_postulaciones = entrenamiento[entrenamiento['sepostulo'] == 0].sample(500000)\n",
    "postulaciones    = entrenamiento[entrenamiento['sepostulo'] == 1]\n",
    "\n",
    "entrenamiento = pd.concat([postulaciones, no_postulaciones]).sample(frac=1)"
   ]
  },
  {
   "cell_type": "code",
   "execution_count": 5,
   "metadata": {},
   "outputs": [],
   "source": [
    "kaggle_set = pd.read_csv('/home/luciano/orga-datos/test_final_100k-preprocesado.csv')"
   ]
  },
  {
   "cell_type": "code",
   "execution_count": 6,
   "metadata": {},
   "outputs": [],
   "source": [
    "TEST_SIZE_PERCENT = 0.1\n",
    "RANDOM_SEED = 12"
   ]
  },
  {
   "cell_type": "code",
   "execution_count": 7,
   "metadata": {},
   "outputs": [],
   "source": [
    "X = entrenamiento.drop(axis=1, labels=['idaviso', 'idpostulante', 'sepostulo'])\n",
    "y = entrenamiento['sepostulo']\n",
    "X_train, X_test, y_train, y_test = train_test_split(X, y, test_size=TEST_SIZE_PERCENT, random_state=RANDOM_SEED)"
   ]
  },
  {
   "cell_type": "code",
   "execution_count": 8,
   "metadata": {},
   "outputs": [],
   "source": [
    "X_kaggle = kaggle_set.drop(axis=1, labels=['id', 'idaviso', 'idpostulante'])"
   ]
  },
  {
   "cell_type": "code",
   "execution_count": 12,
   "metadata": {},
   "outputs": [],
   "source": [
    "clasificador = GradientBoostingClassifier(\n",
    "    max_features='sqrt', \n",
    "    min_samples_split=100, \n",
    "    random_state=RANDOM_SEED, \n",
    "    verbose=10\n",
    ")"
   ]
  },
  {
   "cell_type": "code",
   "execution_count": 13,
   "metadata": {},
   "outputs": [
    {
     "name": "stdout",
     "output_type": "stream",
     "text": [
      "      Iter       Train Loss   Remaining Time \n",
      "         1           1.2619            1.39m\n",
      "         2           1.2098            1.35m\n",
      "         3           1.1412            1.28m\n",
      "         4           1.0316            1.29m\n",
      "         5           0.9985            1.30m\n",
      "         6           0.9143            1.28m\n",
      "         7           0.8692            1.28m\n",
      "         8           0.7955            1.26m\n",
      "         9           0.7364            1.25m\n",
      "        10           0.7127            1.25m\n",
      "        11           0.6621            1.24m\n",
      "        12           0.6455            1.23m\n",
      "        13           0.6069            1.22m\n",
      "        14           0.5747            1.22m\n",
      "        15           0.5629            1.21m\n",
      "        16           0.5283            1.21m\n",
      "        17           0.5023            1.20m\n",
      "        18           0.4844            1.20m\n",
      "        19           0.4717            1.19m\n",
      "        20           0.4628            1.19m\n",
      "        21           0.4456            1.18m\n",
      "        22           0.4340            1.17m\n",
      "        23           0.4213            1.16m\n",
      "        24           0.4091            1.16m\n",
      "        25           0.4028            1.15m\n",
      "        26           0.3978            1.14m\n",
      "        27           0.3890            1.13m\n",
      "        28           0.3802            1.11m\n",
      "        29           0.3709            1.10m\n",
      "        30           0.3597            1.09m\n",
      "        31           0.3455            1.07m\n",
      "        32           0.3368            1.06m\n",
      "        33           0.3307            1.05m\n",
      "        34           0.3196            1.03m\n",
      "        35           0.3161            1.02m\n",
      "        36           0.3143            1.00m\n",
      "        37           0.3049           59.21s\n",
      "        38           0.3036           58.33s\n",
      "        39           0.2999           57.49s\n",
      "        40           0.2933           56.68s\n",
      "        41           0.2860           55.74s\n",
      "        42           0.2830           54.76s\n",
      "        43           0.2800           53.71s\n",
      "        44           0.2762           52.93s\n",
      "        45           0.2727           52.09s\n",
      "        46           0.2691           51.26s\n",
      "        47           0.2668           50.35s\n",
      "        48           0.2644           49.48s\n",
      "        49           0.2610           48.68s\n",
      "        50           0.2576           47.80s\n",
      "        51           0.2565           46.88s\n",
      "        52           0.2521           46.02s\n",
      "        53           0.2490           45.06s\n",
      "        54           0.2482           44.12s\n",
      "        55           0.2453           43.22s\n",
      "        56           0.2439           42.27s\n",
      "        57           0.2422           41.36s\n",
      "        58           0.2406           40.39s\n",
      "        59           0.2379           39.51s\n",
      "        60           0.2367           38.56s\n",
      "        61           0.2349           37.63s\n",
      "        62           0.2341           36.68s\n",
      "        63           0.2333           35.68s\n",
      "        64           0.2330           34.73s\n",
      "        65           0.2319           33.81s\n",
      "        66           0.2314           32.86s\n",
      "        67           0.2296           31.90s\n",
      "        68           0.2293           30.94s\n",
      "        69           0.2290           29.94s\n",
      "        70           0.2284           28.97s\n",
      "        71           0.2264           28.02s\n",
      "        72           0.2258           27.05s\n",
      "        73           0.2241           26.10s\n",
      "        74           0.2238           25.12s\n",
      "        75           0.2231           24.13s\n",
      "        76           0.2220           23.18s\n",
      "        77           0.2216           22.23s\n",
      "        78           0.2209           21.27s\n",
      "        79           0.2200           20.32s\n",
      "        80           0.2186           19.36s\n",
      "        81           0.2182           18.38s\n",
      "        82           0.2177           17.41s\n",
      "        83           0.2170           16.45s\n",
      "        84           0.2164           15.49s\n",
      "        85           0.2153           14.52s\n",
      "        86           0.2151           13.57s\n",
      "        87           0.2148           12.58s\n",
      "        88           0.2143           11.62s\n",
      "        89           0.2142           10.65s\n",
      "        90           0.2140            9.67s\n",
      "        91           0.2130            8.71s\n",
      "        92           0.2129            7.74s\n",
      "        93           0.2119            6.78s\n",
      "        94           0.2110            5.81s\n",
      "        95           0.2106            4.84s\n",
      "        96           0.2096            3.87s\n",
      "        97           0.2090            2.90s\n",
      "        98           0.2087            1.94s\n",
      "        99           0.2084            0.97s\n",
      "       100           0.2077            0.00s\n"
     ]
    },
    {
     "data": {
      "text/plain": [
       "GradientBoostingClassifier(criterion='friedman_mse', init=None,\n",
       "              learning_rate=0.1, loss='deviance', max_depth=3,\n",
       "              max_features='sqrt', max_leaf_nodes=None,\n",
       "              min_impurity_decrease=0.0, min_impurity_split=None,\n",
       "              min_samples_leaf=1, min_samples_split=100,\n",
       "              min_weight_fraction_leaf=0.0, n_estimators=100,\n",
       "              presort='auto', random_state=12, subsample=1.0, verbose=10,\n",
       "              warm_start=False)"
      ]
     },
     "execution_count": 13,
     "metadata": {},
     "output_type": "execute_result"
    }
   ],
   "source": [
    "clasificador.fit(X_train, y_train)"
   ]
  },
  {
   "cell_type": "code",
   "execution_count": 14,
   "metadata": {},
   "outputs": [],
   "source": [
    "y_test_predictd = clasificador.predict_proba(X_test)[:, 1]"
   ]
  },
  {
   "cell_type": "code",
   "execution_count": 15,
   "metadata": {},
   "outputs": [
    {
     "data": {
      "text/plain": [
       "0.9895349675996439"
      ]
     },
     "execution_count": 15,
     "metadata": {},
     "output_type": "execute_result"
    }
   ],
   "source": [
    "roc_auc_score(y_test, y_test_predictd)"
   ]
  },
  {
   "cell_type": "code",
   "execution_count": 16,
   "metadata": {},
   "outputs": [
    {
     "data": {
      "text/plain": [
       "0.96441"
      ]
     },
     "execution_count": 16,
     "metadata": {},
     "output_type": "execute_result"
    }
   ],
   "source": [
    "clasificador.score(X_test, y_test)"
   ]
  },
  {
   "cell_type": "code",
   "execution_count": 17,
   "metadata": {},
   "outputs": [],
   "source": [
    "y_kaggle = clasificador.predict_proba(X_kaggle)[:, 1]"
   ]
  },
  {
   "cell_type": "code",
   "execution_count": 18,
   "metadata": {},
   "outputs": [],
   "source": [
    "kaggle_out = kaggle_set[['id']].copy()\n",
    "kaggle_out['sepostulo'] = y_kaggle"
   ]
  },
  {
   "cell_type": "code",
   "execution_count": 19,
   "metadata": {},
   "outputs": [
    {
     "data": {
      "text/plain": [
       "<matplotlib.axes._subplots.AxesSubplot at 0x7f8b27de5f98>"
      ]
     },
     "execution_count": 19,
     "metadata": {},
     "output_type": "execute_result"
    },
    {
     "data": {
      "image/png": "[encoded data removed]",
      "text/plain": [
       "<Figure size 432x288 with 1 Axes>"
      ]
     },
     "metadata": {},
     "output_type": "display_data"
    }
   ],
   "source": [
    "kaggle_out['sepostulo'].hist()"
   ]
  },
  {
   "cell_type": "code",
   "execution_count": 28,
   "metadata": {},
   "outputs": [],
   "source": [
    "kaggle_out.to_csv('/home/luciano/orga-datos/tmp/submits/submit-39.csv', index=False)"
   ]
  },
  {
   "cell_type": "code",
   "execution_count": 20,
   "metadata": {},
   "outputs": [],
   "source": [
    "kaggle_37 = pd.read_csv('/home/luciano/orga-datos/tmp/submits/submit-37.csv')\n",
    "kaggle_38 = pd.read_csv('/home/luciano/orga-datos/tmp/submits/submit-38.csv')"
   ]
  },
  {
   "cell_type": "code",
   "execution_count": 22,
   "metadata": {},
   "outputs": [
    {
     "name": "stdout",
     "output_type": "stream",
     "text": [
      "roc auc 38 vs 37: 0.9957863005835678\n",
      "roc auc 39 vs 37: 0.9958944519985307\n",
      "roc auc 39 vs 38: 0.9980707607092361\n"
     ]
    }
   ],
   "source": [
    "print('roc auc 38 vs 37:', roc_auc_score(np.round(kaggle_37['sepostulo']), kaggle_38['sepostulo']))\n",
    "print('roc auc 39 vs 37:', roc_auc_score(np.round(kaggle_37['sepostulo']), kaggle_out['sepostulo']))\n",
    "print('roc auc 39 vs 38:', roc_auc_score(np.round(kaggle_38['sepostulo']), kaggle_out['sepostulo']))"
   ]
  },
  {
   "cell_type": "code",
   "execution_count": 25,
   "metadata": {},
   "outputs": [
    {
     "data": {
      "text/plain": [
       "<matplotlib.axes._subplots.AxesSubplot at 0x7f8b27e77080>"
      ]
     },
     "execution_count": 25,
     "metadata": {},
     "output_type": "execute_result"
    },
    {
     "data": {
      "image/png": "[encoded data removed]",
      "text/plain": [
       "<Figure size 432x288 with 1 Axes>"
      ]
     },
     "metadata": {},
     "output_type": "display_data"
    }
   ],
   "source": [
    "np.abs(kaggle_37['sepostulo'] - kaggle_38['sepostulo']).hist()"
   ]
  },
  {
   "cell_type": "code",
   "execution_count": 26,
   "metadata": {},
   "outputs": [
    {
     "data": {
      "text/plain": [
       "<matplotlib.axes._subplots.AxesSubplot at 0x7f8b27e0eb00>"
      ]
     },
     "execution_count": 26,
     "metadata": {},
     "output_type": "execute_result"
    },
    {
     "data": {
      "image/png": "[encoded data removed]",
      "text/plain": [
       "<Figure size 432x288 with 1 Axes>"
      ]
     },
     "metadata": {},
     "output_type": "display_data"
    }
   ],
   "source": [
    "np.abs(kaggle_37['sepostulo'] - kaggle_out['sepostulo']).hist()"
   ]
  },
  {
   "cell_type": "code",
   "execution_count": 27,
   "metadata": {},
   "outputs": [
    {
     "data": {
      "text/plain": [
       "<matplotlib.axes._subplots.AxesSubplot at 0x7f8b27de7eb8>"
      ]
     },
     "execution_count": 27,
     "metadata": {},
     "output_type": "execute_result"
    },
    {
     "data": {
      "image/png": "[encoded data removed]",
      "text/plain": [
       "<Figure size 432x288 with 1 Axes>"
      ]
     },
     "metadata": {},
     "output_type": "display_data"
    }
   ],
   "source": [
    "np.abs(kaggle_38['sepostulo'] - kaggle_out['sepostulo']).hist()"
   ]
  },
  {
   "cell_type": "code",
   "execution_count": 29,
   "metadata": {},
   "outputs": [],
   "source": [
    "# Score kaggle: 0.88467"
   ]
  },
  {
   "cell_type": "code",
   "execution_count": null,
   "metadata": {},
   "outputs": [],
   "source": []
  }
 ],
 "metadata": {
  "kernelspec": {
   "display_name": "Python 3",
   "language": "python",
   "name": "python3"
  },
  "language_info": {
   "codemirror_mode": {
    "name": "ipython",
    "version": 3
   },
   "file_extension": ".py",
   "mimetype": "text/x-python",
   "name": "python",
   "nbconvert_exporter": "python",
   "pygments_lexer": "ipython3",
   "version": "3.5.2"
  }
 },
 "nbformat": 4,
 "nbformat_minor": 2
}
