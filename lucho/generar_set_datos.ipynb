{
 "cells": [
  {
   "cell_type": "markdown",
   "metadata": {},
   "source": [
    "## Generación de los set de entrenamiento y test.\n",
    "\n",
    "El objetivo de este notebook es generar un set de pruebas con la misma estructura estadística del cual hay que predecir.\n",
    "\n",
    "Esto nos permitirá luego hacer verificaciones \"off-line\" de los algoritmos utilizados y los distintos tipos de entrenamiento."
   ]
  },
  {
   "cell_type": "code",
   "execution_count": 1,
   "metadata": {},
   "outputs": [],
   "source": [
    "import pandas as pd\n",
    "import numpy as np\n",
    "\n",
    "from rutas import *\n",
    "\n",
    "%matplotlib inline"
   ]
  },
  {
   "cell_type": "code",
   "execution_count": 45,
   "metadata": {},
   "outputs": [
    {
     "name": "stderr",
     "output_type": "stream",
     "text": [
      "/usr/local/lib/python3.5/dist-packages/IPython/core/interactiveshell.py:2785: DtypeWarning: Columns (1,2,3,4,5,6,7) have mixed types. Specify dtype option on import or set low_memory=False.\n",
      "  interactivity=interactivity, compiler=compiler, result=result)\n"
     ]
    }
   ],
   "source": [
    "postulantes = pd.read_csv(RUTA_BASE + 'postulantes.csv')"
   ]
  },
  {
   "cell_type": "code",
   "execution_count": 46,
   "metadata": {},
   "outputs": [
    {
     "data": {
      "text/html": [
       "<div>\n",
       "<style scoped>\n",
       "    .dataframe tbody tr th:only-of-type {\n",
       "        vertical-align: middle;\n",
       "    }\n",
       "\n",
       "    .dataframe tbody tr th {\n",
       "        vertical-align: top;\n",
       "    }\n",
       "\n",
       "    .dataframe thead th {\n",
       "        text-align: right;\n",
       "    }\n",
       "</style>\n",
       "<table border=\"1\" class=\"dataframe\">\n",
       "  <thead>\n",
       "    <tr style=\"text-align: right;\">\n",
       "      <th></th>\n",
       "      <th>idpostulante</th>\n",
       "      <th>Doctorado</th>\n",
       "      <th>Master</th>\n",
       "      <th>Otro</th>\n",
       "      <th>Posgrado</th>\n",
       "      <th>Secundario</th>\n",
       "      <th>Terciario/Técnico</th>\n",
       "      <th>Universitario</th>\n",
       "      <th>fechanacimiento</th>\n",
       "      <th>sexo</th>\n",
       "    </tr>\n",
       "  </thead>\n",
       "  <tbody>\n",
       "    <tr>\n",
       "      <th>0</th>\n",
       "      <td>0z5Dmrd</td>\n",
       "      <td>0</td>\n",
       "      <td>0</td>\n",
       "      <td>0</td>\n",
       "      <td>0</td>\n",
       "      <td>0</td>\n",
       "      <td>0</td>\n",
       "      <td>Graduado</td>\n",
       "      <td>1965-10-22</td>\n",
       "      <td>MASC</td>\n",
       "    </tr>\n",
       "    <tr>\n",
       "      <th>1</th>\n",
       "      <td>0z5JW1r</td>\n",
       "      <td>0</td>\n",
       "      <td>0</td>\n",
       "      <td>0</td>\n",
       "      <td>0</td>\n",
       "      <td>0</td>\n",
       "      <td>0</td>\n",
       "      <td>Abandonado</td>\n",
       "      <td>1971-04-09</td>\n",
       "      <td>MASC</td>\n",
       "    </tr>\n",
       "    <tr>\n",
       "      <th>2</th>\n",
       "      <td>0z5VvGv</td>\n",
       "      <td>0</td>\n",
       "      <td>0</td>\n",
       "      <td>0</td>\n",
       "      <td>0</td>\n",
       "      <td>Graduado</td>\n",
       "      <td>0</td>\n",
       "      <td>0</td>\n",
       "      <td>1987-10-18</td>\n",
       "      <td>MASC</td>\n",
       "    </tr>\n",
       "    <tr>\n",
       "      <th>3</th>\n",
       "      <td>0zB01pE</td>\n",
       "      <td>0</td>\n",
       "      <td>0</td>\n",
       "      <td>0</td>\n",
       "      <td>0</td>\n",
       "      <td>0</td>\n",
       "      <td>0</td>\n",
       "      <td>Abandonado</td>\n",
       "      <td>1989-12-01</td>\n",
       "      <td>MASC</td>\n",
       "    </tr>\n",
       "    <tr>\n",
       "      <th>4</th>\n",
       "      <td>0zB026d</td>\n",
       "      <td>0</td>\n",
       "      <td>0</td>\n",
       "      <td>0</td>\n",
       "      <td>0</td>\n",
       "      <td>0</td>\n",
       "      <td>Graduado</td>\n",
       "      <td>0</td>\n",
       "      <td>1978-02-23</td>\n",
       "      <td>FEM</td>\n",
       "    </tr>\n",
       "  </tbody>\n",
       "</table>\n",
       "</div>"
      ],
      "text/plain": [
       "  idpostulante Doctorado Master Otro Posgrado Secundario Terciario/Técnico  \\\n",
       "0      0z5Dmrd         0      0    0        0          0                 0   \n",
       "1      0z5JW1r         0      0    0        0          0                 0   \n",
       "2      0z5VvGv         0      0    0        0   Graduado                 0   \n",
       "3      0zB01pE         0      0    0        0          0                 0   \n",
       "4      0zB026d         0      0    0        0          0          Graduado   \n",
       "\n",
       "  Universitario fechanacimiento  sexo  \n",
       "0      Graduado      1965-10-22  MASC  \n",
       "1    Abandonado      1971-04-09  MASC  \n",
       "2             0      1987-10-18  MASC  \n",
       "3    Abandonado      1989-12-01  MASC  \n",
       "4             0      1978-02-23   FEM  "
      ]
     },
     "execution_count": 46,
     "metadata": {},
     "output_type": "execute_result"
    }
   ],
   "source": [
    "postulantes.head()"
   ]
  },
  {
   "cell_type": "code",
   "execution_count": 47,
   "metadata": {},
   "outputs": [],
   "source": [
    "kaggle_avisos = pd.read_csv(RUTA_SET_KAGGLE)\n",
    "kaggle_postulantes = pd.DataFrame(kaggle_avisos['idpostulante']).drop_duplicates()\n",
    "kaggle_avisos = pd.DataFrame(kaggle_avisos['idaviso']).drop_duplicates()"
   ]
  },
  {
   "cell_type": "code",
   "execution_count": 48,
   "metadata": {},
   "outputs": [
    {
     "data": {
      "text/html": [
       "<div>\n",
       "<style scoped>\n",
       "    .dataframe tbody tr th:only-of-type {\n",
       "        vertical-align: middle;\n",
       "    }\n",
       "\n",
       "    .dataframe tbody tr th {\n",
       "        vertical-align: top;\n",
       "    }\n",
       "\n",
       "    .dataframe thead th {\n",
       "        text-align: right;\n",
       "    }\n",
       "</style>\n",
       "<table border=\"1\" class=\"dataframe\">\n",
       "  <thead>\n",
       "    <tr style=\"text-align: right;\">\n",
       "      <th></th>\n",
       "      <th>idpostulante</th>\n",
       "    </tr>\n",
       "  </thead>\n",
       "  <tbody>\n",
       "    <tr>\n",
       "      <th>0</th>\n",
       "      <td>6M9ZQR</td>\n",
       "    </tr>\n",
       "    <tr>\n",
       "      <th>1</th>\n",
       "      <td>6v1xdL</td>\n",
       "    </tr>\n",
       "    <tr>\n",
       "      <th>2</th>\n",
       "      <td>ezRKm9</td>\n",
       "    </tr>\n",
       "    <tr>\n",
       "      <th>3</th>\n",
       "      <td>1Q35ej</td>\n",
       "    </tr>\n",
       "    <tr>\n",
       "      <th>4</th>\n",
       "      <td>EAN4J6</td>\n",
       "    </tr>\n",
       "  </tbody>\n",
       "</table>\n",
       "</div>"
      ],
      "text/plain": [
       "  idpostulante\n",
       "0       6M9ZQR\n",
       "1       6v1xdL\n",
       "2       ezRKm9\n",
       "3       1Q35ej\n",
       "4       EAN4J6"
      ]
     },
     "execution_count": 48,
     "metadata": {},
     "output_type": "execute_result"
    }
   ],
   "source": [
    "kaggle_postulantes.head()"
   ]
  },
  {
   "cell_type": "code",
   "execution_count": 49,
   "metadata": {},
   "outputs": [
    {
     "data": {
      "text/plain": [
       "64646"
      ]
     },
     "execution_count": 49,
     "metadata": {},
     "output_type": "execute_result"
    }
   ],
   "source": [
    "len(kaggle_postulantes)"
   ]
  },
  {
   "cell_type": "code",
   "execution_count": 50,
   "metadata": {},
   "outputs": [],
   "source": [
    "kaggle_postulantes = pd.merge(\n",
    "    kaggle_postulantes.set_index('idpostulante'), \n",
    "    pd.read_csv(RUTA_BASE + 'fiuba_1_postulantes_educacion.csv', usecols=['idpostulante', 'estado']).groupby('idpostulante').agg('count'),\n",
    "    left_index=True,\n",
    "    right_index=True,\n",
    "    how='left'\n",
    ").rename(columns={'estado': 'hay_datos_educacion'}).reset_index()\n",
    "kaggle_postulantes['hay_datos_educacion'] = kaggle_postulantes['hay_datos_educacion'].fillna(0).map(lambda x: 1 if x else 0)\n",
    "\n",
    "kaggle_postulantes = pd.merge(\n",
    "    kaggle_postulantes, \n",
    "    pd.read_csv(RUTA_BASE + 'fiuba_2_postulantes_genero_y_edad.csv'),\n",
    "    on='idpostulante',\n",
    "    how='left'\n",
    ")\n",
    "\n",
    "kaggle_postulantes['edad'] = kaggle_postulantes['fechanacimiento'].fillna('2018-00-00').map(lambda x: 2018 - int(x.split('-')[0])).map(lambda x: x if 14 < x < 90 else 0)\n",
    "kaggle_postulantes = kaggle_postulantes.drop(axis=1, labels=['fechanacimiento'])\n",
    "\n",
    "kaggle_postulantes = pd.merge(\n",
    "    kaggle_postulantes.set_index('idpostulante'), \n",
    "    pd.read_csv(RUTA_BASE + 'fiuba_3_vistas.csv', usecols=['idpostulante', 'idAviso']).groupby('idpostulante').agg('count'),\n",
    "    left_index=True,\n",
    "    right_index=True,\n",
    "    how='left'\n",
    ").rename(columns={'idAviso': 'cantidad_vistas'})\n",
    "kaggle_postulantes['cantidad_vistas'] = kaggle_postulantes['cantidad_vistas'].fillna(0)\n",
    "\n",
    "kaggle_postulantes = pd.merge(\n",
    "    kaggle_postulantes, \n",
    "    pd.read_csv(RUTA_BASE + 'fiuba_4_postulaciones.csv', usecols=['idpostulante', 'idaviso']).groupby('idpostulante').agg('count'),\n",
    "    left_index=True,\n",
    "    right_index=True,\n",
    "    how='left'\n",
    ").rename(columns={'idaviso': 'cantidad_postulaciones'})\n",
    "kaggle_postulantes['cantidad_postulaciones'] = kaggle_postulantes['cantidad_postulaciones'].fillna(0)"
   ]
  },
  {
   "cell_type": "code",
   "execution_count": 51,
   "metadata": {},
   "outputs": [],
   "source": [
    "postulantes['edad'] = postulantes['fechanacimiento'].fillna('0000-00-00').map(lambda x: 2018 - int(x.split('-')[0])).map(lambda x: x if 14 < x < 90 else 0)\n",
    "postulantes = postulantes.drop(axis=1, labels=['fechanacimiento'])\n",
    "\n",
    "postulantes = pd.merge(\n",
    "    postulantes.set_index('idpostulante'), \n",
    "    pd.read_csv(RUTA_BASE + 'fiuba_3_vistas.csv', usecols=['idpostulante', 'idAviso']).groupby('idpostulante').agg('count'),\n",
    "    left_index=True,\n",
    "    right_index=True,\n",
    "    how='left'\n",
    ").rename(columns={'idAviso': 'cantidad_vistas'})\n",
    "postulantes['cantidad_vistas'] = postulantes['cantidad_vistas'].fillna(0)\n",
    "\n",
    "postulantes = pd.merge(\n",
    "    postulantes, \n",
    "    pd.read_csv(RUTA_BASE + 'fiuba_4_postulaciones.csv', usecols=['idpostulante', 'idaviso']).groupby('idpostulante').agg('count'),\n",
    "    left_index=True,\n",
    "    right_index=True,\n",
    "    how='left'\n",
    ").rename(columns={'idaviso': 'cantidad_postulaciones'})\n",
    "postulantes['cantidad_postulaciones'] = postulantes['cantidad_postulaciones'].fillna(0)"
   ]
  },
  {
   "cell_type": "code",
   "execution_count": 52,
   "metadata": {},
   "outputs": [
    {
     "data": {
      "text/html": [
       "<div>\n",
       "<style scoped>\n",
       "    .dataframe tbody tr th:only-of-type {\n",
       "        vertical-align: middle;\n",
       "    }\n",
       "\n",
       "    .dataframe tbody tr th {\n",
       "        vertical-align: top;\n",
       "    }\n",
       "\n",
       "    .dataframe thead th {\n",
       "        text-align: right;\n",
       "    }\n",
       "</style>\n",
       "<table border=\"1\" class=\"dataframe\">\n",
       "  <thead>\n",
       "    <tr style=\"text-align: right;\">\n",
       "      <th></th>\n",
       "      <th>hay_datos_educacion</th>\n",
       "      <th>sexo</th>\n",
       "      <th>edad</th>\n",
       "      <th>cantidad_vistas</th>\n",
       "      <th>cantidad_postulaciones</th>\n",
       "    </tr>\n",
       "    <tr>\n",
       "      <th>idpostulante</th>\n",
       "      <th></th>\n",
       "      <th></th>\n",
       "      <th></th>\n",
       "      <th></th>\n",
       "      <th></th>\n",
       "    </tr>\n",
       "  </thead>\n",
       "  <tbody>\n",
       "    <tr>\n",
       "      <th>6M9ZQR</th>\n",
       "      <td>1</td>\n",
       "      <td>FEM</td>\n",
       "      <td>42</td>\n",
       "      <td>33.0</td>\n",
       "      <td>2.0</td>\n",
       "    </tr>\n",
       "    <tr>\n",
       "      <th>6v1xdL</th>\n",
       "      <td>1</td>\n",
       "      <td>MASC</td>\n",
       "      <td>31</td>\n",
       "      <td>8.0</td>\n",
       "      <td>68.0</td>\n",
       "    </tr>\n",
       "    <tr>\n",
       "      <th>ezRKm9</th>\n",
       "      <td>1</td>\n",
       "      <td>FEM</td>\n",
       "      <td>36</td>\n",
       "      <td>12.0</td>\n",
       "      <td>1.0</td>\n",
       "    </tr>\n",
       "    <tr>\n",
       "      <th>1Q35ej</th>\n",
       "      <td>1</td>\n",
       "      <td>MASC</td>\n",
       "      <td>69</td>\n",
       "      <td>0.0</td>\n",
       "      <td>0.0</td>\n",
       "    </tr>\n",
       "    <tr>\n",
       "      <th>EAN4J6</th>\n",
       "      <td>1</td>\n",
       "      <td>FEM</td>\n",
       "      <td>32</td>\n",
       "      <td>3.0</td>\n",
       "      <td>1.0</td>\n",
       "    </tr>\n",
       "  </tbody>\n",
       "</table>\n",
       "</div>"
      ],
      "text/plain": [
       "              hay_datos_educacion  sexo  edad  cantidad_vistas  \\\n",
       "idpostulante                                                     \n",
       "6M9ZQR                          1   FEM    42             33.0   \n",
       "6v1xdL                          1  MASC    31              8.0   \n",
       "ezRKm9                          1   FEM    36             12.0   \n",
       "1Q35ej                          1  MASC    69              0.0   \n",
       "EAN4J6                          1   FEM    32              3.0   \n",
       "\n",
       "              cantidad_postulaciones  \n",
       "idpostulante                          \n",
       "6M9ZQR                           2.0  \n",
       "6v1xdL                          68.0  \n",
       "ezRKm9                           1.0  \n",
       "1Q35ej                           0.0  \n",
       "EAN4J6                           1.0  "
      ]
     },
     "execution_count": 52,
     "metadata": {},
     "output_type": "execute_result"
    }
   ],
   "source": [
    "kaggle_postulantes.head()"
   ]
  },
  {
   "cell_type": "code",
   "execution_count": 53,
   "metadata": {},
   "outputs": [
    {
     "data": {
      "text/plain": [
       "1    59929\n",
       "0     4717\n",
       "Name: hay_datos_educacion, dtype: int64"
      ]
     },
     "execution_count": 53,
     "metadata": {},
     "output_type": "execute_result"
    }
   ],
   "source": [
    "kaggle_postulantes['hay_datos_educacion'].value_counts()"
   ]
  },
  {
   "cell_type": "code",
   "execution_count": 54,
   "metadata": {},
   "outputs": [
    {
     "data": {
      "text/plain": [
       "MASC          31286\n",
       "FEM           31037\n",
       "NO_DECLARA     2323\n",
       "Name: sexo, dtype: int64"
      ]
     },
     "execution_count": 54,
     "metadata": {},
     "output_type": "execute_result"
    }
   ],
   "source": [
    "kaggle_postulantes['sexo'].value_counts()"
   ]
  },
  {
   "cell_type": "code",
   "execution_count": 55,
   "metadata": {},
   "outputs": [
    {
     "data": {
      "text/plain": [
       "count    64646.000000\n",
       "mean        35.462766\n",
       "std         11.073239\n",
       "min          0.000000\n",
       "25%         30.000000\n",
       "50%         35.000000\n",
       "75%         42.000000\n",
       "max         81.000000\n",
       "Name: edad, dtype: float64"
      ]
     },
     "execution_count": 55,
     "metadata": {},
     "output_type": "execute_result"
    }
   ],
   "source": [
    "kaggle_postulantes['edad'].describe()"
   ]
  },
  {
   "cell_type": "code",
   "execution_count": 56,
   "metadata": {},
   "outputs": [
    {
     "data": {
      "text/plain": [
       "count    64646.000000\n",
       "mean        20.797404\n",
       "std         56.902917\n",
       "min          0.000000\n",
       "25%          0.000000\n",
       "50%          5.000000\n",
       "75%         19.000000\n",
       "max       3520.000000\n",
       "Name: cantidad_postulaciones, dtype: float64"
      ]
     },
     "execution_count": 56,
     "metadata": {},
     "output_type": "execute_result"
    }
   ],
   "source": [
    "kaggle_postulantes['cantidad_postulaciones'].describe()"
   ]
  },
  {
   "cell_type": "code",
   "execution_count": 57,
   "metadata": {},
   "outputs": [
    {
     "data": {
      "text/plain": [
       "count    64646.000000\n",
       "mean        42.354670\n",
       "std         89.342421\n",
       "min          0.000000\n",
       "25%          4.000000\n",
       "50%         14.000000\n",
       "75%         44.000000\n",
       "max       4443.000000\n",
       "Name: cantidad_vistas, dtype: float64"
      ]
     },
     "execution_count": 57,
     "metadata": {},
     "output_type": "execute_result"
    }
   ],
   "source": [
    "kaggle_postulantes['cantidad_vistas'].describe()"
   ]
  },
  {
   "cell_type": "code",
   "execution_count": 149,
   "metadata": {},
   "outputs": [
    {
     "data": {
      "text/plain": [
       "count    100000.000000\n",
       "mean         17.168700\n",
       "std          44.472391\n",
       "min           0.000000\n",
       "25%           0.000000\n",
       "50%           5.000000\n",
       "75%          17.000000\n",
       "max        3520.000000\n",
       "Name: cantidad_postulaciones, dtype: float64"
      ]
     },
     "execution_count": 149,
     "metadata": {},
     "output_type": "execute_result"
    }
   ],
   "source": [
    "mascara = lambda clave, min_c, max_c: (postulantes[clave] > min_c) & (postulantes[clave] <= max_c)\n",
    "\n",
    "postulantes_a = postulantes[mascara('cantidad_postulaciones', -1, 0)]\n",
    "postulantes_b = postulantes[mascara('cantidad_postulaciones', 0, 5)]\n",
    "postulantes_c = postulantes[mascara('cantidad_postulaciones', 5, 19)]\n",
    "postulantes_d = postulantes[mascara('cantidad_postulaciones', 19, 3520)]\n",
    "\n",
    "postulantes_for_sample = \\\n",
    "    pd.DataFrame(postulantes[mascara('cantidad_vistas', -1, 4)].sample(n=25000)).append(\n",
    "        pd.DataFrame(postulantes[mascara('cantidad_vistas', 4, 14)].sample(n=25000)).append(\n",
    "            pd.DataFrame(postulantes[mascara('cantidad_vistas', 14, 44)].sample(n=25000)).append(\n",
    "                pd.DataFrame(postulantes[mascara('cantidad_vistas', 44, 4443)].sample(n=25000))\n",
    "            )\n",
    "        )\n",
    "    )\n",
    "\n",
    "postulantes_for_sample['cantidad_postulaciones'].describe()"
   ]
  },
  {
   "cell_type": "code",
   "execution_count": 150,
   "metadata": {},
   "outputs": [
    {
     "data": {
      "text/plain": [
       "count    100000.000000\n",
       "mean         37.809520\n",
       "std          72.989258\n",
       "min           0.000000\n",
       "25%           4.750000\n",
       "50%          14.500000\n",
       "75%          44.250000\n",
       "max        4443.000000\n",
       "Name: cantidad_vistas, dtype: float64"
      ]
     },
     "execution_count": 150,
     "metadata": {},
     "output_type": "execute_result"
    }
   ],
   "source": [
    "postulantes_for_sample['cantidad_vistas'].describe()"
   ]
  },
  {
   "cell_type": "code",
   "execution_count": 151,
   "metadata": {},
   "outputs": [
    {
     "data": {
      "text/plain": [
       "count    100000.000000\n",
       "mean         29.807300\n",
       "std          10.928338\n",
       "min           0.000000\n",
       "25%          24.000000\n",
       "50%          29.000000\n",
       "75%          36.000000\n",
       "max          78.000000\n",
       "Name: edad, dtype: float64"
      ]
     },
     "execution_count": 151,
     "metadata": {},
     "output_type": "execute_result"
    }
   ],
   "source": [
    "postulantes_for_sample['edad'].describe()"
   ]
  },
  {
   "cell_type": "code",
   "execution_count": 155,
   "metadata": {},
   "outputs": [
    {
     "data": {
      "text/plain": [
       "100000"
      ]
     },
     "execution_count": 155,
     "metadata": {},
     "output_type": "execute_result"
    }
   ],
   "source": [
    "len(postulantes_for_sample.reset_index().drop_duplicates())"
   ]
  },
  {
   "cell_type": "code",
   "execution_count": 78,
   "metadata": {},
   "outputs": [
    {
     "data": {
      "text/html": [
       "<div>\n",
       "<style scoped>\n",
       "    .dataframe tbody tr th:only-of-type {\n",
       "        vertical-align: middle;\n",
       "    }\n",
       "\n",
       "    .dataframe tbody tr th {\n",
       "        vertical-align: top;\n",
       "    }\n",
       "\n",
       "    .dataframe thead th {\n",
       "        text-align: right;\n",
       "    }\n",
       "</style>\n",
       "<table border=\"1\" class=\"dataframe\">\n",
       "  <thead>\n",
       "    <tr style=\"text-align: right;\">\n",
       "      <th></th>\n",
       "      <th>Doctorado</th>\n",
       "      <th>Master</th>\n",
       "      <th>Otro</th>\n",
       "      <th>Posgrado</th>\n",
       "      <th>Secundario</th>\n",
       "      <th>Terciario/Técnico</th>\n",
       "      <th>Universitario</th>\n",
       "      <th>sexo</th>\n",
       "      <th>edad</th>\n",
       "      <th>cantidad_vistas</th>\n",
       "      <th>cantidad_postulaciones</th>\n",
       "    </tr>\n",
       "    <tr>\n",
       "      <th>idpostulante</th>\n",
       "      <th></th>\n",
       "      <th></th>\n",
       "      <th></th>\n",
       "      <th></th>\n",
       "      <th></th>\n",
       "      <th></th>\n",
       "      <th></th>\n",
       "      <th></th>\n",
       "      <th></th>\n",
       "      <th></th>\n",
       "      <th></th>\n",
       "    </tr>\n",
       "  </thead>\n",
       "  <tbody>\n",
       "    <tr>\n",
       "      <th>YVK45Y</th>\n",
       "      <td>0</td>\n",
       "      <td>0</td>\n",
       "      <td>0</td>\n",
       "      <td>0</td>\n",
       "      <td>0</td>\n",
       "      <td>0</td>\n",
       "      <td>0</td>\n",
       "      <td>FEM</td>\n",
       "      <td>55</td>\n",
       "      <td>0.0</td>\n",
       "      <td>0.0</td>\n",
       "    </tr>\n",
       "    <tr>\n",
       "      <th>dYjVe2A</th>\n",
       "      <td>0</td>\n",
       "      <td>0</td>\n",
       "      <td>0</td>\n",
       "      <td>0</td>\n",
       "      <td>Graduado</td>\n",
       "      <td>0</td>\n",
       "      <td>0</td>\n",
       "      <td>MASC</td>\n",
       "      <td>22</td>\n",
       "      <td>0.0</td>\n",
       "      <td>0.0</td>\n",
       "    </tr>\n",
       "    <tr>\n",
       "      <th>rmdap1A</th>\n",
       "      <td>0</td>\n",
       "      <td>0</td>\n",
       "      <td>0</td>\n",
       "      <td>0</td>\n",
       "      <td>0</td>\n",
       "      <td>0</td>\n",
       "      <td>Abandonado</td>\n",
       "      <td>FEM</td>\n",
       "      <td>37</td>\n",
       "      <td>4.0</td>\n",
       "      <td>0.0</td>\n",
       "    </tr>\n",
       "    <tr>\n",
       "      <th>0zPbW8Y</th>\n",
       "      <td>0</td>\n",
       "      <td>0</td>\n",
       "      <td>0</td>\n",
       "      <td>0</td>\n",
       "      <td>Graduado</td>\n",
       "      <td>0</td>\n",
       "      <td>0</td>\n",
       "      <td>FEM</td>\n",
       "      <td>20</td>\n",
       "      <td>0.0</td>\n",
       "      <td>0.0</td>\n",
       "    </tr>\n",
       "    <tr>\n",
       "      <th>QNr9x2N</th>\n",
       "      <td>0</td>\n",
       "      <td>0</td>\n",
       "      <td>0</td>\n",
       "      <td>0</td>\n",
       "      <td>Graduado</td>\n",
       "      <td>0</td>\n",
       "      <td>0</td>\n",
       "      <td>MASC</td>\n",
       "      <td>24</td>\n",
       "      <td>1.0</td>\n",
       "      <td>0.0</td>\n",
       "    </tr>\n",
       "  </tbody>\n",
       "</table>\n",
       "</div>"
      ],
      "text/plain": [
       "             Doctorado Master Otro Posgrado Secundario Terciario/Técnico  \\\n",
       "idpostulante                                                               \n",
       "YVK45Y               0      0    0        0          0                 0   \n",
       "dYjVe2A              0      0    0        0   Graduado                 0   \n",
       "rmdap1A              0      0    0        0          0                 0   \n",
       "0zPbW8Y              0      0    0        0   Graduado                 0   \n",
       "QNr9x2N              0      0    0        0   Graduado                 0   \n",
       "\n",
       "             Universitario  sexo  edad  cantidad_vistas  \\\n",
       "idpostulante                                              \n",
       "YVK45Y                   0   FEM    55              0.0   \n",
       "dYjVe2A                  0  MASC    22              0.0   \n",
       "rmdap1A         Abandonado   FEM    37              4.0   \n",
       "0zPbW8Y                  0   FEM    20              0.0   \n",
       "QNr9x2N                  0  MASC    24              1.0   \n",
       "\n",
       "              cantidad_postulaciones  \n",
       "idpostulante                          \n",
       "YVK45Y                           0.0  \n",
       "dYjVe2A                          0.0  \n",
       "rmdap1A                          0.0  \n",
       "0zPbW8Y                          0.0  \n",
       "QNr9x2N                          0.0  "
      ]
     },
     "execution_count": 78,
     "metadata": {},
     "output_type": "execute_result"
    }
   ],
   "source": [
    "postulantes_for_sample.head()"
   ]
  },
  {
   "cell_type": "code",
   "execution_count": 79,
   "metadata": {},
   "outputs": [],
   "source": [
    "postulantes_for_sample.to_csv('/home/luciano/orga-datos/nuevo_set/postulantes_for_sample.csv', index=False)"
   ]
  },
  {
   "cell_type": "code",
   "execution_count": null,
   "metadata": {},
   "outputs": [],
   "source": []
  }
 ],
 "metadata": {
  "kernelspec": {
   "display_name": "Python 3",
   "language": "python",
   "name": "python3"
  },
  "language_info": {
   "codemirror_mode": {
    "name": "ipython",
    "version": 3
   },
   "file_extension": ".py",
   "mimetype": "text/x-python",
   "name": "python",
   "nbconvert_exporter": "python",
   "pygments_lexer": "ipython3",
   "version": "3.5.2"
  }
 },
 "nbformat": 4,
 "nbformat_minor": 2
}
