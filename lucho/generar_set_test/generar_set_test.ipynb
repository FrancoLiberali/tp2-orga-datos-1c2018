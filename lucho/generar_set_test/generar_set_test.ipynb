{
 "cells": [
  {
   "cell_type": "code",
   "execution_count": 1,
   "metadata": {},
   "outputs": [],
   "source": [
    "import pandas as pd\n",
    "import numpy as np\n",
    "\n",
    "from rutas import *\n",
    "\n",
    "%matplotlib inline\n",
    "\n",
    "#kaggle competitions submissions -c navent\n",
    "#kaggle competitions submit -c navent -f submit-.csv -m \"Submit message\""
   ]
  },
  {
   "cell_type": "code",
   "execution_count": 2,
   "metadata": {},
   "outputs": [],
   "source": [
    "DATASET_SAMPLE_SIZE = 500000"
   ]
  },
  {
   "cell_type": "markdown",
   "metadata": {},
   "source": [
    "#### Generar 500.000 postulaciones y 500.000 no postulaciones (que provienen de avisos vistos pero no postulados)"
   ]
  },
  {
   "cell_type": "code",
   "execution_count": 3,
   "metadata": {},
   "outputs": [],
   "source": [
    "postulaciones = pd.read_csv(RUTA_POSTULACIONES)"
   ]
  },
  {
   "cell_type": "code",
   "execution_count": 4,
   "metadata": {},
   "outputs": [],
   "source": [
    "postulaciones['fechapostulacion'] = pd.to_datetime(postulaciones['fechapostulacion'], format='%Y-%m-%d %H:%M:%S')"
   ]
  },
  {
   "cell_type": "code",
   "execution_count": 5,
   "metadata": {},
   "outputs": [],
   "source": [
    "vistas = pd.read_csv(RUTA_VISTAS).rename(columns={'idAviso': 'idaviso'})"
   ]
  },
  {
   "cell_type": "code",
   "execution_count": 6,
   "metadata": {},
   "outputs": [],
   "source": [
    "vistas['timestamp'] = pd.to_datetime(vistas['timestamp']) #2018-02-23T13:38:13.187-0500"
   ]
  },
  {
   "cell_type": "code",
   "execution_count": 7,
   "metadata": {},
   "outputs": [
    {
     "data": {
      "text/plain": [
       "Timestamp('2018-02-23 18:38:10.808000')"
      ]
     },
     "execution_count": 7,
     "metadata": {},
     "output_type": "execute_result"
    }
   ],
   "source": [
    "min(vistas['timestamp'])"
   ]
  },
  {
   "cell_type": "code",
   "execution_count": 8,
   "metadata": {},
   "outputs": [
    {
     "data": {
      "text/plain": [
       "Timestamp('2018-05-01 03:59:59.976000')"
      ]
     },
     "execution_count": 8,
     "metadata": {},
     "output_type": "execute_result"
    }
   ],
   "source": [
    "max(vistas['timestamp'])"
   ]
  },
  {
   "cell_type": "code",
   "execution_count": 9,
   "metadata": {},
   "outputs": [
    {
     "data": {
      "text/plain": [
       "Timestamp('2018-01-15 00:00:01')"
      ]
     },
     "execution_count": 9,
     "metadata": {},
     "output_type": "execute_result"
    }
   ],
   "source": [
    "min(postulaciones['fechapostulacion'])"
   ]
  },
  {
   "cell_type": "code",
   "execution_count": 10,
   "metadata": {},
   "outputs": [
    {
     "data": {
      "text/plain": [
       "Timestamp('2018-04-17 10:42:39')"
      ]
     },
     "execution_count": 10,
     "metadata": {},
     "output_type": "execute_result"
    }
   ],
   "source": [
    "max(postulaciones['fechapostulacion'])"
   ]
  },
  {
   "cell_type": "code",
   "execution_count": 11,
   "metadata": {},
   "outputs": [],
   "source": [
    "min_fecha = max(pd.Timestamp('2018-02-23 18:38:10.808000'), pd.Timestamp('2018-01-15 00:00:01'))\n",
    "max_fecha = min(pd.Timestamp('2018-04-17 10:42:39'), pd.Timestamp('2018-05-01 03:59:59.976000'))\n",
    "mascara_temporal = lambda df, col: (df[col] > min_fecha) & (df[col] < max_fecha)"
   ]
  },
  {
   "cell_type": "code",
   "execution_count": 14,
   "metadata": {},
   "outputs": [],
   "source": [
    "postulaciones_en_periodo = postulaciones[mascara_temporal(postulaciones, 'fechapostulacion')].drop(axis=1, labels=['fechapostulacion']).drop_duplicates()\n",
    "vistas_en_periodo = vistas[mascara_temporal(vistas, 'timestamp')].drop(axis=1, labels=['timestamp']).drop_duplicates()"
   ]
  },
  {
   "cell_type": "code",
   "execution_count": 15,
   "metadata": {},
   "outputs": [
    {
     "data": {
      "text/plain": [
       "3519581"
      ]
     },
     "execution_count": 15,
     "metadata": {},
     "output_type": "execute_result"
    }
   ],
   "source": [
    "len(postulaciones_en_periodo)"
   ]
  },
  {
   "cell_type": "code",
   "execution_count": 16,
   "metadata": {},
   "outputs": [],
   "source": [
    "# Eliminar las vistas que se convirtieron en postulaciones\n",
    "vistas_no_postuladas = pd.merge(vistas_en_periodo, postulaciones_en_periodo[['idaviso', 'idpostulante']], on=['idaviso', 'idpostulante'], how='left', indicator=True)\n",
    "vistas_no_postuladas = vistas_no_postuladas[~(vistas_no_postuladas['_merge'] == 'both')]\n",
    "vistas_no_postuladas = vistas_no_postuladas.drop(axis=1, labels=['_merge'])"
   ]
  },
  {
   "cell_type": "code",
   "execution_count": 17,
   "metadata": {},
   "outputs": [
    {
     "data": {
      "text/plain": [
       "2447237"
      ]
     },
     "execution_count": 17,
     "metadata": {},
     "output_type": "execute_result"
    }
   ],
   "source": [
    "len(vistas_no_postuladas)"
   ]
  },
  {
   "cell_type": "code",
   "execution_count": 18,
   "metadata": {},
   "outputs": [],
   "source": [
    "postulaciones_dataset = postulaciones_en_periodo.sample(n=DATASET_SAMPLE_SIZE)"
   ]
  },
  {
   "cell_type": "code",
   "execution_count": 19,
   "metadata": {},
   "outputs": [],
   "source": [
    "vistas_dataset = vistas_no_postuladas.sample(n=DATASET_SAMPLE_SIZE)"
   ]
  },
  {
   "cell_type": "code",
   "execution_count": 20,
   "metadata": {},
   "outputs": [],
   "source": [
    "postulaciones_dataset['sepostulo'] = 1\n",
    "vistas_dataset['sepostulo'] = 0"
   ]
  },
  {
   "cell_type": "code",
   "execution_count": 21,
   "metadata": {},
   "outputs": [],
   "source": [
    "postulaciones_dataset = postulaciones_dataset[['idaviso', 'idpostulante', 'sepostulo']]\n",
    "vistas_dataset = vistas_dataset[['idaviso', 'idpostulante', 'sepostulo']]"
   ]
  },
  {
   "cell_type": "code",
   "execution_count": 22,
   "metadata": {},
   "outputs": [],
   "source": [
    "df = pd.merge(postulaciones_dataset, vistas_dataset, on=['idpostulante', 'idaviso'], how='outer')"
   ]
  },
  {
   "cell_type": "code",
   "execution_count": 23,
   "metadata": {},
   "outputs": [
    {
     "data": {
      "text/plain": [
       "1000000"
      ]
     },
     "execution_count": 23,
     "metadata": {},
     "output_type": "execute_result"
    }
   ],
   "source": [
    "len(df)"
   ]
  },
  {
   "cell_type": "code",
   "execution_count": 24,
   "metadata": {},
   "outputs": [],
   "source": [
    "df['sepostulo_x'] = df['sepostulo_x'].fillna(0).astype('int')\n",
    "df = df.drop(axis=1, labels=['sepostulo_y']).rename(columns={'sepostulo_x': 'sepostulo'})"
   ]
  },
  {
   "cell_type": "code",
   "execution_count": 25,
   "metadata": {},
   "outputs": [
    {
     "data": {
      "text/html": [
       "<div>\n",
       "<style scoped>\n",
       "    .dataframe tbody tr th:only-of-type {\n",
       "        vertical-align: middle;\n",
       "    }\n",
       "\n",
       "    .dataframe tbody tr th {\n",
       "        vertical-align: top;\n",
       "    }\n",
       "\n",
       "    .dataframe thead th {\n",
       "        text-align: right;\n",
       "    }\n",
       "</style>\n",
       "<table border=\"1\" class=\"dataframe\">\n",
       "  <thead>\n",
       "    <tr style=\"text-align: right;\">\n",
       "      <th></th>\n",
       "      <th>idaviso</th>\n",
       "      <th>idpostulante</th>\n",
       "      <th>sepostulo</th>\n",
       "    </tr>\n",
       "  </thead>\n",
       "  <tbody>\n",
       "    <tr>\n",
       "      <th>0</th>\n",
       "      <td>1112370921</td>\n",
       "      <td>LNKj9Jr</td>\n",
       "      <td>1</td>\n",
       "    </tr>\n",
       "    <tr>\n",
       "      <th>1</th>\n",
       "      <td>1112353843</td>\n",
       "      <td>YdDO2V</td>\n",
       "      <td>0</td>\n",
       "    </tr>\n",
       "    <tr>\n",
       "      <th>2</th>\n",
       "      <td>1112448587</td>\n",
       "      <td>6QY4DR</td>\n",
       "      <td>0</td>\n",
       "    </tr>\n",
       "    <tr>\n",
       "      <th>3</th>\n",
       "      <td>1112468192</td>\n",
       "      <td>wVYmGBL</td>\n",
       "      <td>0</td>\n",
       "    </tr>\n",
       "    <tr>\n",
       "      <th>4</th>\n",
       "      <td>1112451122</td>\n",
       "      <td>aa1LaN</td>\n",
       "      <td>0</td>\n",
       "    </tr>\n",
       "  </tbody>\n",
       "</table>\n",
       "</div>"
      ],
      "text/plain": [
       "      idaviso idpostulante  sepostulo\n",
       "0  1112370921      LNKj9Jr          1\n",
       "1  1112353843       YdDO2V          0\n",
       "2  1112448587       6QY4DR          0\n",
       "3  1112468192      wVYmGBL          0\n",
       "4  1112451122       aa1LaN          0"
      ]
     },
     "execution_count": 25,
     "metadata": {},
     "output_type": "execute_result"
    }
   ],
   "source": [
    "df = df.sample(frac=1).reset_index(drop=True)\n",
    "df.head()"
   ]
  },
  {
   "cell_type": "code",
   "execution_count": 26,
   "metadata": {},
   "outputs": [],
   "source": [
    "df.to_csv('/home/luciano/orga-datos/training-set-no-random.csv', index=False)"
   ]
  },
  {
   "cell_type": "markdown",
   "metadata": {},
   "source": [
    "#### Generar 1.000.000 de pares aleatorios de no-postulaciones, verificando que no estén en fiuba_4_postulaciones.csv\n",
    "\n",
    "Estos pares luego van ser pasados por un random forest para revisar cuales realmente no van a ser postulados y reducidos de 1.000.000 a 500.000"
   ]
  },
  {
   "cell_type": "code",
   "execution_count": 6,
   "metadata": {},
   "outputs": [],
   "source": [
    "avisos = pd.read_csv(RUTA_AVISOS_DETALLE, usecols=['idaviso'])"
   ]
  },
  {
   "cell_type": "code",
   "execution_count": 7,
   "metadata": {},
   "outputs": [],
   "source": [
    "postulantes = pd.read_csv(RUTA_POSTULANTES, usecols=['idpostulante'])"
   ]
  },
  {
   "cell_type": "code",
   "execution_count": 10,
   "metadata": {},
   "outputs": [
    {
     "data": {
      "text/plain": [
       "12748839682"
      ]
     },
     "execution_count": 10,
     "metadata": {},
     "output_type": "execute_result"
    }
   ],
   "source": [
    "(len(avisos) * len(postulantes)) - len(postulaciones)"
   ]
  },
  {
   "cell_type": "code",
   "execution_count": 11,
   "metadata": {},
   "outputs": [],
   "source": [
    "# En total hay 12.700 millones de pares posibles"
   ]
  },
  {
   "cell_type": "code",
   "execution_count": 86,
   "metadata": {},
   "outputs": [],
   "source": [
    "RANDOM_SEED = 12\n",
    "np.random.seed(RANDOM_SEED)\n",
    "rnd_keys = np.random.rand(1100000, 2)"
   ]
  },
  {
   "cell_type": "code",
   "execution_count": 87,
   "metadata": {},
   "outputs": [],
   "source": [
    "rnd_keys[:, 0] = rnd_keys[:, 0] * len(avisos)"
   ]
  },
  {
   "cell_type": "code",
   "execution_count": 88,
   "metadata": {},
   "outputs": [],
   "source": [
    "rnd_keys[:, 1] = rnd_keys[:, 1] * len(postulantes)"
   ]
  },
  {
   "cell_type": "code",
   "execution_count": 89,
   "metadata": {},
   "outputs": [],
   "source": [
    "rnd_keys = pd.DataFrame(rnd_keys, columns=['idaviso', 'idpostulante'])\n",
    "rnd_keys['idaviso'] = rnd_keys['idaviso'].astype('int')\n",
    "rnd_keys['idpostulante'] = rnd_keys['idpostulante'].astype('int')\n",
    "assert len(rnd_keys.drop_duplicates()) > 1000000"
   ]
  },
  {
   "cell_type": "code",
   "execution_count": 90,
   "metadata": {},
   "outputs": [],
   "source": [
    "no_postulados = pd.DataFrame()"
   ]
  },
  {
   "cell_type": "code",
   "execution_count": 91,
   "metadata": {},
   "outputs": [],
   "source": [
    "no_postulados['idaviso'] = pd.merge(rnd_keys[['idaviso']], avisos, left_on='idaviso', right_index=True, how='inner')['idaviso_y']"
   ]
  },
  {
   "cell_type": "code",
   "execution_count": 92,
   "metadata": {},
   "outputs": [],
   "source": [
    "no_postulados = no_postulados.sample(frac=1).reset_index(drop=True)"
   ]
  },
  {
   "cell_type": "code",
   "execution_count": 93,
   "metadata": {},
   "outputs": [],
   "source": [
    "idpostulantes = pd.merge(rnd_keys[['idpostulante']], postulantes, left_on='idpostulante', right_index=True, how='inner')"
   ]
  },
  {
   "cell_type": "code",
   "execution_count": 94,
   "metadata": {},
   "outputs": [],
   "source": [
    "idpostulantes = idpostulantes[['idpostulante_y']].sample(frac=1).reset_index(drop=True).rename(columns={'idpostulante_y': 'idpostulante'})"
   ]
  },
  {
   "cell_type": "code",
   "execution_count": 95,
   "metadata": {},
   "outputs": [],
   "source": [
    "no_postulados = pd.merge(no_postulados, idpostulantes, left_index=True, right_index=True, how='inner')"
   ]
  },
  {
   "cell_type": "code",
   "execution_count": 98,
   "metadata": {},
   "outputs": [],
   "source": [
    "no_postulados = pd.merge(no_postulados, postulaciones[['idaviso', 'idpostulante']], on=['idaviso', 'idpostulante'], how='left', indicator=True)"
   ]
  },
  {
   "cell_type": "code",
   "execution_count": 99,
   "metadata": {},
   "outputs": [],
   "source": [
    "no_postulados = no_postulados[no_postulados['_merge'] == 'left_only']"
   ]
  },
  {
   "cell_type": "code",
   "execution_count": 101,
   "metadata": {},
   "outputs": [],
   "source": [
    "no_postulados = no_postulados[:1000000].drop(axis=1, labels=['_merge'])"
   ]
  },
  {
   "cell_type": "code",
   "execution_count": 104,
   "metadata": {},
   "outputs": [],
   "source": [
    "no_postulados.to_csv('/home/luciano/orga-datos/training-set-no-postulados-random.csv', index=False)"
   ]
  },
  {
   "cell_type": "code",
   "execution_count": null,
   "metadata": {},
   "outputs": [],
   "source": []
  }
 ],
 "metadata": {
  "kernelspec": {
   "display_name": "Python 3",
   "language": "python",
   "name": "python3"
  },
  "language_info": {
   "codemirror_mode": {
    "name": "ipython",
    "version": 3
   },
   "file_extension": ".py",
   "mimetype": "text/x-python",
   "name": "python",
   "nbconvert_exporter": "python",
   "pygments_lexer": "ipython3",
   "version": "3.5.2"
  }
 },
 "nbformat": 4,
 "nbformat_minor": 2
}
