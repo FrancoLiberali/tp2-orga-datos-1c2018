{
 "cells": [
  {
   "cell_type": "code",
   "execution_count": 1,
   "metadata": {},
   "outputs": [],
   "source": [
    "import pandas as pd\n",
    "import numpy as np\n",
    "import matplotlib.pyplot as plt\n",
    "\n",
    "from rutas import *\n",
    "\n",
    "%matplotlib inline"
   ]
  },
  {
   "cell_type": "code",
   "execution_count": 47,
   "metadata": {},
   "outputs": [],
   "source": [
    "avisos_detalle = pd.read_csv(RUTA_AVISOS_DETALLE)[['idaviso', 'nombre_area']]"
   ]
  },
  {
   "cell_type": "code",
   "execution_count": 48,
   "metadata": {},
   "outputs": [],
   "source": [
    "postulantes = pd.read_csv(RUTA_VECTOR_POSTULANTES)"
   ]
  },
  {
   "cell_type": "code",
   "execution_count": 49,
   "metadata": {},
   "outputs": [],
   "source": [
    "avisos_detalle = pd.get_dummies(avisos_detalle, columns=['nombre_area'])"
   ]
  },
  {
   "cell_type": "code",
   "execution_count": 50,
   "metadata": {},
   "outputs": [],
   "source": [
    "for c in avisos_detalle.columns[1:]:\n",
    "    postulantes[c] = 0"
   ]
  },
  {
   "cell_type": "code",
   "execution_count": 51,
   "metadata": {},
   "outputs": [],
   "source": [
    "postulantes.head()"
   ]
  },
  {
   "cell_type": "code",
   "execution_count": 53,
   "metadata": {},
   "outputs": [],
   "source": [
    "postulantes.to_csv(RUTA_TMP + 'postulantes_v2.csv', index=False)"
   ]
  },
  {
   "cell_type": "code",
   "execution_count": 33,
   "metadata": {},
   "outputs": [],
   "source": [
    "postulaciones = pd.merge(postulaciones, avisos_detalle, on='idaviso', how='inner')"
   ]
  },
  {
   "cell_type": "code",
   "execution_count": 3,
   "metadata": {},
   "outputs": [],
   "source": [
    "postus_v2 = pd.read_csv(RUTA_TMP + 'postulantes_v2.csv')"
   ]
  },
  {
   "cell_type": "code",
   "execution_count": 5,
   "metadata": {},
   "outputs": [],
   "source": [
    "for c in postus_v2.columns:\n",
    "    if c.startswith('nombre_area_'):\n",
    "        postus_v2[c] = postus_v2[c].astype('int')"
   ]
  },
  {
   "cell_type": "code",
   "execution_count": 6,
   "metadata": {},
   "outputs": [
    {
     "data": {
      "text/html": [
       "<div>\n",
       "<style scoped>\n",
       "    .dataframe tbody tr th:only-of-type {\n",
       "        vertical-align: middle;\n",
       "    }\n",
       "\n",
       "    .dataframe tbody tr th {\n",
       "        vertical-align: top;\n",
       "    }\n",
       "\n",
       "    .dataframe thead th {\n",
       "        text-align: right;\n",
       "    }\n",
       "</style>\n",
       "<table border=\"1\" class=\"dataframe\">\n",
       "  <thead>\n",
       "    <tr style=\"text-align: right;\">\n",
       "      <th></th>\n",
       "      <th>idpostulante</th>\n",
       "      <th>sexo</th>\n",
       "      <th>edad</th>\n",
       "      <th>nivel_educativo</th>\n",
       "      <th>nombre_area_Abastecimiento</th>\n",
       "      <th>nombre_area_Administracion de Seguros</th>\n",
       "      <th>nombre_area_Administración</th>\n",
       "      <th>nombre_area_Administración de Base de Datos</th>\n",
       "      <th>nombre_area_Administración de Personal</th>\n",
       "      <th>nombre_area_Almacén / Depósito / Expedición</th>\n",
       "      <th>...</th>\n",
       "      <th>nombre_area_Trabajo Social</th>\n",
       "      <th>nombre_area_Trabajo social</th>\n",
       "      <th>nombre_area_Traduccion</th>\n",
       "      <th>nombre_area_Transporte</th>\n",
       "      <th>nombre_area_Turismo</th>\n",
       "      <th>nombre_area_Urbanismo</th>\n",
       "      <th>nombre_area_Venta de Seguros</th>\n",
       "      <th>nombre_area_Ventas</th>\n",
       "      <th>nombre_area_Ventas Internacionales/Exportación</th>\n",
       "      <th>nombre_area_Veterinaria</th>\n",
       "    </tr>\n",
       "  </thead>\n",
       "  <tbody>\n",
       "    <tr>\n",
       "      <th>0</th>\n",
       "      <td>rmRbOvO</td>\n",
       "      <td>-1.0</td>\n",
       "      <td>23.0</td>\n",
       "      <td>0.0</td>\n",
       "      <td>0</td>\n",
       "      <td>0</td>\n",
       "      <td>0</td>\n",
       "      <td>0</td>\n",
       "      <td>0</td>\n",
       "      <td>0</td>\n",
       "      <td>...</td>\n",
       "      <td>0</td>\n",
       "      <td>0</td>\n",
       "      <td>0</td>\n",
       "      <td>0</td>\n",
       "      <td>0</td>\n",
       "      <td>0</td>\n",
       "      <td>0</td>\n",
       "      <td>0</td>\n",
       "      <td>0</td>\n",
       "      <td>0</td>\n",
       "    </tr>\n",
       "    <tr>\n",
       "      <th>1</th>\n",
       "      <td>96LQkRP</td>\n",
       "      <td>1.0</td>\n",
       "      <td>41.0</td>\n",
       "      <td>2.0</td>\n",
       "      <td>0</td>\n",
       "      <td>0</td>\n",
       "      <td>0</td>\n",
       "      <td>0</td>\n",
       "      <td>0</td>\n",
       "      <td>4</td>\n",
       "      <td>...</td>\n",
       "      <td>0</td>\n",
       "      <td>0</td>\n",
       "      <td>0</td>\n",
       "      <td>0</td>\n",
       "      <td>0</td>\n",
       "      <td>0</td>\n",
       "      <td>0</td>\n",
       "      <td>0</td>\n",
       "      <td>0</td>\n",
       "      <td>0</td>\n",
       "    </tr>\n",
       "    <tr>\n",
       "      <th>2</th>\n",
       "      <td>MV6dwZL</td>\n",
       "      <td>-1.0</td>\n",
       "      <td>21.0</td>\n",
       "      <td>2.0</td>\n",
       "      <td>0</td>\n",
       "      <td>0</td>\n",
       "      <td>0</td>\n",
       "      <td>0</td>\n",
       "      <td>0</td>\n",
       "      <td>0</td>\n",
       "      <td>...</td>\n",
       "      <td>0</td>\n",
       "      <td>0</td>\n",
       "      <td>0</td>\n",
       "      <td>0</td>\n",
       "      <td>0</td>\n",
       "      <td>0</td>\n",
       "      <td>0</td>\n",
       "      <td>0</td>\n",
       "      <td>0</td>\n",
       "      <td>0</td>\n",
       "    </tr>\n",
       "    <tr>\n",
       "      <th>3</th>\n",
       "      <td>96zxl09</td>\n",
       "      <td>1.0</td>\n",
       "      <td>24.0</td>\n",
       "      <td>2.5</td>\n",
       "      <td>0</td>\n",
       "      <td>0</td>\n",
       "      <td>0</td>\n",
       "      <td>0</td>\n",
       "      <td>0</td>\n",
       "      <td>0</td>\n",
       "      <td>...</td>\n",
       "      <td>0</td>\n",
       "      <td>0</td>\n",
       "      <td>0</td>\n",
       "      <td>0</td>\n",
       "      <td>0</td>\n",
       "      <td>0</td>\n",
       "      <td>0</td>\n",
       "      <td>0</td>\n",
       "      <td>0</td>\n",
       "      <td>0</td>\n",
       "    </tr>\n",
       "    <tr>\n",
       "      <th>4</th>\n",
       "      <td>N1W3qD</td>\n",
       "      <td>-1.0</td>\n",
       "      <td>27.0</td>\n",
       "      <td>0.0</td>\n",
       "      <td>0</td>\n",
       "      <td>0</td>\n",
       "      <td>6</td>\n",
       "      <td>0</td>\n",
       "      <td>9</td>\n",
       "      <td>0</td>\n",
       "      <td>...</td>\n",
       "      <td>0</td>\n",
       "      <td>0</td>\n",
       "      <td>0</td>\n",
       "      <td>0</td>\n",
       "      <td>0</td>\n",
       "      <td>0</td>\n",
       "      <td>0</td>\n",
       "      <td>0</td>\n",
       "      <td>0</td>\n",
       "      <td>0</td>\n",
       "    </tr>\n",
       "  </tbody>\n",
       "</table>\n",
       "<p>5 rows × 192 columns</p>\n",
       "</div>"
      ],
      "text/plain": [
       "  idpostulante  sexo  edad  nivel_educativo  nombre_area_Abastecimiento  \\\n",
       "0      rmRbOvO  -1.0  23.0              0.0                           0   \n",
       "1      96LQkRP   1.0  41.0              2.0                           0   \n",
       "2      MV6dwZL  -1.0  21.0              2.0                           0   \n",
       "3      96zxl09   1.0  24.0              2.5                           0   \n",
       "4       N1W3qD  -1.0  27.0              0.0                           0   \n",
       "\n",
       "   nombre_area_Administracion de Seguros  nombre_area_Administración  \\\n",
       "0                                      0                           0   \n",
       "1                                      0                           0   \n",
       "2                                      0                           0   \n",
       "3                                      0                           0   \n",
       "4                                      0                           6   \n",
       "\n",
       "   nombre_area_Administración de Base de Datos  \\\n",
       "0                                            0   \n",
       "1                                            0   \n",
       "2                                            0   \n",
       "3                                            0   \n",
       "4                                            0   \n",
       "\n",
       "   nombre_area_Administración de Personal  \\\n",
       "0                                       0   \n",
       "1                                       0   \n",
       "2                                       0   \n",
       "3                                       0   \n",
       "4                                       9   \n",
       "\n",
       "   nombre_area_Almacén / Depósito / Expedición           ...             \\\n",
       "0                                            0           ...              \n",
       "1                                            4           ...              \n",
       "2                                            0           ...              \n",
       "3                                            0           ...              \n",
       "4                                            0           ...              \n",
       "\n",
       "   nombre_area_Trabajo Social  nombre_area_Trabajo social  \\\n",
       "0                           0                           0   \n",
       "1                           0                           0   \n",
       "2                           0                           0   \n",
       "3                           0                           0   \n",
       "4                           0                           0   \n",
       "\n",
       "   nombre_area_Traduccion  nombre_area_Transporte  nombre_area_Turismo  \\\n",
       "0                       0                       0                    0   \n",
       "1                       0                       0                    0   \n",
       "2                       0                       0                    0   \n",
       "3                       0                       0                    0   \n",
       "4                       0                       0                    0   \n",
       "\n",
       "   nombre_area_Urbanismo  nombre_area_Venta de Seguros  nombre_area_Ventas  \\\n",
       "0                      0                             0                   0   \n",
       "1                      0                             0                   0   \n",
       "2                      0                             0                   0   \n",
       "3                      0                             0                   0   \n",
       "4                      0                             0                   0   \n",
       "\n",
       "   nombre_area_Ventas Internacionales/Exportación  nombre_area_Veterinaria  \n",
       "0                                               0                        0  \n",
       "1                                               0                        0  \n",
       "2                                               0                        0  \n",
       "3                                               0                        0  \n",
       "4                                               0                        0  \n",
       "\n",
       "[5 rows x 192 columns]"
      ]
     },
     "execution_count": 6,
     "metadata": {},
     "output_type": "execute_result"
    }
   ],
   "source": [
    "postus_v2.head()"
   ]
  },
  {
   "cell_type": "code",
   "execution_count": 7,
   "metadata": {},
   "outputs": [
    {
     "data": {
      "text/plain": [
       "88"
      ]
     },
     "execution_count": 7,
     "metadata": {},
     "output_type": "execute_result"
    }
   ],
   "source": [
    "max(postus_v2['nombre_area_Abastecimiento'])"
   ]
  },
  {
   "cell_type": "code",
   "execution_count": 8,
   "metadata": {},
   "outputs": [],
   "source": [
    "postus_v2.to_csv(RUTA_TMP + 'postulantes_v2.csv', index=False)"
   ]
  },
  {
   "cell_type": "code",
   "execution_count": null,
   "metadata": {},
   "outputs": [],
   "source": []
  }
 ],
 "metadata": {
  "kernelspec": {
   "display_name": "Python 3",
   "language": "python",
   "name": "python3"
  },
  "language_info": {
   "codemirror_mode": {
    "name": "ipython",
    "version": 3
   },
   "file_extension": ".py",
   "mimetype": "text/x-python",
   "name": "python",
   "nbconvert_exporter": "python",
   "pygments_lexer": "ipython3",
   "version": "3.5.2"
  }
 },
 "nbformat": 4,
 "nbformat_minor": 2
}
