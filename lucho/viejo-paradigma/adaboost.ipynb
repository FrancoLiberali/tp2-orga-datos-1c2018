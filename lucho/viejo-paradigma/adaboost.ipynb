{
 "cells": [
  {
   "cell_type": "code",
   "execution_count": 1,
   "metadata": {},
   "outputs": [],
   "source": [
    "import pandas as pd\n",
    "import numpy as np\n",
    "import matplotlib.pyplot as plt\n",
    "\n",
    "from rutas import *\n",
    "\n",
    "%matplotlib inline"
   ]
  },
  {
   "cell_type": "code",
   "execution_count": 2,
   "metadata": {},
   "outputs": [],
   "source": [
    "avisos_detalle = pd.read_csv(RUTA_DATOS_PROCESADOS + 'avisos_detalle.csv')\n",
    "entrenamiento = pd.read_csv(RUTA_DATOS_PROCESADOS + 'entrenamiento.csv')\n",
    "no_postulados = pd.read_csv(RUTA_SET_NO_POSTULADOS)\n",
    "postulantes = pd.read_csv(RUTA_TMP + 'postulantes_v2.csv') #RUTA_VECTOR_POSTULANTES)"
   ]
  },
  {
   "cell_type": "code",
   "execution_count": 3,
   "metadata": {},
   "outputs": [],
   "source": [
    "no_postulados = no_postulados.drop(labels='Unnamed: 0',axis=1)"
   ]
  },
  {
   "cell_type": "code",
   "execution_count": 4,
   "metadata": {},
   "outputs": [],
   "source": [
    "no_postulados = no_postulados.append(entrenamiento[entrenamiento['sepostulo'] == 0], sort=False).drop_duplicates()\n",
    "entrenamiento = entrenamiento[entrenamiento['sepostulo'] == 1]\n",
    "#entrenamiento = pd.concat([entrenamiento,no_postulados], sort=False)"
   ]
  },
  {
   "cell_type": "code",
   "execution_count": 5,
   "metadata": {},
   "outputs": [],
   "source": [
    "from sklearn.ensemble import RandomForestClassifier, AdaBoostClassifier, ExtraTreesClassifier\n",
    "ada = AdaBoostClassifier(base_estimator=RandomForestClassifier(n_estimators=40, max_features=200, min_samples_split=15, criterion='entropy', n_jobs=-1, verbose=1), n_estimators=15)\n",
    "#ada = AdaBoostClassifier(base_estimator=ExtraTreesClassifier(n_estimators=10, max_features=100, min_samples_split=10, n_jobs=-1, verbose=1), n_estimators=10)"
   ]
  },
  {
   "cell_type": "code",
   "execution_count": 6,
   "metadata": {},
   "outputs": [],
   "source": [
    "MAX_SAMPLE_SIZE = 2000000\n",
    "TRAINING_SIZE   = int(MAX_SAMPLE_SIZE * 0.7)\n",
    "CANT_POSTULADOS = int(MAX_SAMPLE_SIZE * 0.4)\n",
    "entrenamiento = entrenamiento.sample(n=CANT_POSTULADOS)\n",
    "no_postulados = no_postulados.sample(n=(MAX_SAMPLE_SIZE - CANT_POSTULADOS))"
   ]
  },
  {
   "cell_type": "code",
   "execution_count": 7,
   "metadata": {},
   "outputs": [],
   "source": [
    "entrenamiento = pd.concat([entrenamiento, no_postulados], sort=False).sample(n=MAX_SAMPLE_SIZE)"
   ]
  },
  {
   "cell_type": "code",
   "execution_count": 8,
   "metadata": {},
   "outputs": [],
   "source": [
    "entrenamiento = pd.merge(entrenamiento, postulantes, on='idpostulante', how='inner')\n",
    "entrenamiento = pd.merge(entrenamiento, avisos_detalle, on='idaviso', how='inner')"
   ]
  },
  {
   "cell_type": "code",
   "execution_count": 9,
   "metadata": {},
   "outputs": [],
   "source": [
    "entrenamiento.drop(axis=1, labels=['idaviso', 'idpostulante'], inplace=True)"
   ]
  },
  {
   "cell_type": "code",
   "execution_count": 10,
   "metadata": {},
   "outputs": [],
   "source": [
    "entrenamiento.loc[entrenamiento['sexo_y'].isna(),'sexo_y'] = 0\n",
    "entrenamiento.loc[entrenamiento['edad_y'].isna(),'edad_y'] = 30\n",
    "entrenamiento.loc[entrenamiento['cant_postulaciones_area'].isna(),'cant_postulaciones_area'] = 0\n",
    "entrenamiento.loc[entrenamiento['cant_postulaciones_empresa'].isna(),'cant_postulaciones_empresa'] = 0\n",
    "entrenamiento.loc[entrenamiento['cant_vistas'].isna(),'cant_vistas'] = 0\n",
    "entrenamiento.loc[entrenamiento['cant_vistas_area'].isna(),'cant_vistas_area'] = 0\n",
    "entrenamiento.loc[entrenamiento['cant_vistas_empresa'].isna(),'cant_vistas_empresa'] = 0\n",
    "training = entrenamiento[:TRAINING_SIZE]\n",
    "test = entrenamiento[TRAINING_SIZE:]\n",
    "y_training = training['sepostulo']\n",
    "training = training.drop(axis=1, labels=['sepostulo'])"
   ]
  },
  {
   "cell_type": "code",
   "execution_count": 11,
   "metadata": {},
   "outputs": [
    {
     "name": "stderr",
     "output_type": "stream",
     "text": [
      "[Parallel(n_jobs=-1)]: Done  40 out of  40 | elapsed:  8.6min finished\n",
      "[Parallel(n_jobs=4)]: Done  40 out of  40 | elapsed:    3.5s finished\n",
      "[Parallel(n_jobs=-1)]: Done  40 out of  40 | elapsed: 35.4min finished\n",
      "[Parallel(n_jobs=4)]: Done  40 out of  40 | elapsed:    9.2s finished\n",
      "[Parallel(n_jobs=-1)]: Done  40 out of  40 | elapsed: 57.8min finished\n",
      "[Parallel(n_jobs=4)]: Done  40 out of  40 | elapsed:   12.5s finished\n",
      "[Parallel(n_jobs=-1)]: Done  40 out of  40 | elapsed: 58.3min finished\n",
      "[Parallel(n_jobs=4)]: Done  40 out of  40 | elapsed:   13.4s finished\n",
      "[Parallel(n_jobs=-1)]: Done  40 out of  40 | elapsed: 58.1min finished\n",
      "[Parallel(n_jobs=4)]: Done  40 out of  40 | elapsed:   14.8s finished\n",
      "[Parallel(n_jobs=-1)]: Done  40 out of  40 | elapsed: 55.2min finished\n",
      "[Parallel(n_jobs=4)]: Done  40 out of  40 | elapsed:   13.5s finished\n",
      "[Parallel(n_jobs=-1)]: Done  40 out of  40 | elapsed: 54.1min finished\n",
      "[Parallel(n_jobs=4)]: Done  40 out of  40 | elapsed:   13.4s finished\n",
      "[Parallel(n_jobs=-1)]: Done  40 out of  40 | elapsed: 52.9min finished\n",
      "[Parallel(n_jobs=4)]: Done  40 out of  40 | elapsed:   13.1s finished\n",
      "[Parallel(n_jobs=-1)]: Done  40 out of  40 | elapsed: 50.9min finished\n",
      "[Parallel(n_jobs=4)]: Done  40 out of  40 | elapsed:   13.0s finished\n",
      "[Parallel(n_jobs=-1)]: Done  40 out of  40 | elapsed: 51.5min finished\n",
      "[Parallel(n_jobs=4)]: Done  40 out of  40 | elapsed:   13.6s finished\n",
      "[Parallel(n_jobs=-1)]: Done  40 out of  40 | elapsed: 50.4min finished\n",
      "[Parallel(n_jobs=4)]: Done  40 out of  40 | elapsed:   12.7s finished\n",
      "[Parallel(n_jobs=-1)]: Done  40 out of  40 | elapsed: 48.0min finished\n",
      "[Parallel(n_jobs=4)]: Done  40 out of  40 | elapsed:   12.3s finished\n",
      "[Parallel(n_jobs=-1)]: Done  40 out of  40 | elapsed: 47.8min finished\n",
      "[Parallel(n_jobs=4)]: Done  40 out of  40 | elapsed:   12.2s finished\n",
      "[Parallel(n_jobs=-1)]: Done  40 out of  40 | elapsed: 47.9min finished\n",
      "[Parallel(n_jobs=4)]: Done  40 out of  40 | elapsed:   12.7s finished\n",
      "[Parallel(n_jobs=-1)]: Done  40 out of  40 | elapsed: 48.7min finished\n",
      "[Parallel(n_jobs=4)]: Done  40 out of  40 | elapsed:   12.3s finished\n"
     ]
    },
    {
     "data": {
      "text/plain": [
       "AdaBoostClassifier(algorithm='SAMME.R',\n",
       "          base_estimator=RandomForestClassifier(bootstrap=True, class_weight=None, criterion='entropy',\n",
       "            max_depth=None, max_features=200, max_leaf_nodes=None,\n",
       "            min_impurity_decrease=0.0, min_impurity_split=None,\n",
       "            min_samples_leaf=1, min_samples_split=15,\n",
       "            min_weight_fraction_leaf=0.0, n_estimators=40, n_jobs=-1,\n",
       "            oob_score=False, random_state=None, verbose=1,\n",
       "            warm_start=False),\n",
       "          learning_rate=1.0, n_estimators=15, random_state=None)"
      ]
     },
     "execution_count": 11,
     "metadata": {},
     "output_type": "execute_result"
    }
   ],
   "source": [
    "ada.fit(training, y_training)"
   ]
  },
  {
   "cell_type": "code",
   "execution_count": 17,
   "metadata": {},
   "outputs": [
    {
     "ename": "KeyError",
     "evalue": "'sepostulo'",
     "output_type": "error",
     "traceback": [
      "\u001b[0;31m---------------------------------------------------------------------------\u001b[0m",
      "\u001b[0;31mKeyError\u001b[0m                                  Traceback (most recent call last)",
      "\u001b[0;32m/usr/local/lib/python3.5/dist-packages/pandas/core/indexes/base.py\u001b[0m in \u001b[0;36mget_loc\u001b[0;34m(self, key, method, tolerance)\u001b[0m\n\u001b[1;32m   3062\u001b[0m             \u001b[0;32mtry\u001b[0m\u001b[0;34m:\u001b[0m\u001b[0;34m\u001b[0m\u001b[0m\n\u001b[0;32m-> 3063\u001b[0;31m                 \u001b[0;32mreturn\u001b[0m \u001b[0mself\u001b[0m\u001b[0;34m.\u001b[0m\u001b[0m_engine\u001b[0m\u001b[0;34m.\u001b[0m\u001b[0mget_loc\u001b[0m\u001b[0;34m(\u001b[0m\u001b[0mkey\u001b[0m\u001b[0;34m)\u001b[0m\u001b[0;34m\u001b[0m\u001b[0m\n\u001b[0m\u001b[1;32m   3064\u001b[0m             \u001b[0;32mexcept\u001b[0m \u001b[0mKeyError\u001b[0m\u001b[0;34m:\u001b[0m\u001b[0;34m\u001b[0m\u001b[0m\n",
      "\u001b[0;32mpandas/_libs/index.pyx\u001b[0m in \u001b[0;36mpandas._libs.index.IndexEngine.get_loc\u001b[0;34m()\u001b[0m\n",
      "\u001b[0;32mpandas/_libs/index.pyx\u001b[0m in \u001b[0;36mpandas._libs.index.IndexEngine.get_loc\u001b[0;34m()\u001b[0m\n",
      "\u001b[0;32mpandas/_libs/hashtable_class_helper.pxi\u001b[0m in \u001b[0;36mpandas._libs.hashtable.PyObjectHashTable.get_item\u001b[0;34m()\u001b[0m\n",
      "\u001b[0;32mpandas/_libs/hashtable_class_helper.pxi\u001b[0m in \u001b[0;36mpandas._libs.hashtable.PyObjectHashTable.get_item\u001b[0;34m()\u001b[0m\n",
      "\u001b[0;31mKeyError\u001b[0m: 'sepostulo'",
      "\nDuring handling of the above exception, another exception occurred:\n",
      "\u001b[0;31mKeyError\u001b[0m                                  Traceback (most recent call last)",
      "\u001b[0;32m<ipython-input-17-95aef7439421>\u001b[0m in \u001b[0;36m<module>\u001b[0;34m()\u001b[0m\n\u001b[0;32m----> 1\u001b[0;31m \u001b[0my_test\u001b[0m \u001b[0;34m=\u001b[0m \u001b[0mtest\u001b[0m\u001b[0;34m[\u001b[0m\u001b[0;34m'sepostulo'\u001b[0m\u001b[0;34m]\u001b[0m\u001b[0;34m\u001b[0m\u001b[0m\n\u001b[0m\u001b[1;32m      2\u001b[0m \u001b[0mtest\u001b[0m \u001b[0;34m=\u001b[0m \u001b[0mtest\u001b[0m\u001b[0;34m.\u001b[0m\u001b[0mdrop\u001b[0m\u001b[0;34m(\u001b[0m\u001b[0maxis\u001b[0m\u001b[0;34m=\u001b[0m\u001b[0;36m1\u001b[0m\u001b[0;34m,\u001b[0m \u001b[0mlabels\u001b[0m\u001b[0;34m=\u001b[0m\u001b[0;34m[\u001b[0m\u001b[0;34m'sepostulo'\u001b[0m\u001b[0;34m]\u001b[0m\u001b[0;34m)\u001b[0m\u001b[0;34m\u001b[0m\u001b[0m\n",
      "\u001b[0;32m/usr/local/lib/python3.5/dist-packages/pandas/core/frame.py\u001b[0m in \u001b[0;36m__getitem__\u001b[0;34m(self, key)\u001b[0m\n\u001b[1;32m   2683\u001b[0m             \u001b[0;32mreturn\u001b[0m \u001b[0mself\u001b[0m\u001b[0;34m.\u001b[0m\u001b[0m_getitem_multilevel\u001b[0m\u001b[0;34m(\u001b[0m\u001b[0mkey\u001b[0m\u001b[0;34m)\u001b[0m\u001b[0;34m\u001b[0m\u001b[0m\n\u001b[1;32m   2684\u001b[0m         \u001b[0;32melse\u001b[0m\u001b[0;34m:\u001b[0m\u001b[0;34m\u001b[0m\u001b[0m\n\u001b[0;32m-> 2685\u001b[0;31m             \u001b[0;32mreturn\u001b[0m \u001b[0mself\u001b[0m\u001b[0;34m.\u001b[0m\u001b[0m_getitem_column\u001b[0m\u001b[0;34m(\u001b[0m\u001b[0mkey\u001b[0m\u001b[0;34m)\u001b[0m\u001b[0;34m\u001b[0m\u001b[0m\n\u001b[0m\u001b[1;32m   2686\u001b[0m \u001b[0;34m\u001b[0m\u001b[0m\n\u001b[1;32m   2687\u001b[0m     \u001b[0;32mdef\u001b[0m \u001b[0m_getitem_column\u001b[0m\u001b[0;34m(\u001b[0m\u001b[0mself\u001b[0m\u001b[0;34m,\u001b[0m \u001b[0mkey\u001b[0m\u001b[0;34m)\u001b[0m\u001b[0;34m:\u001b[0m\u001b[0;34m\u001b[0m\u001b[0m\n",
      "\u001b[0;32m/usr/local/lib/python3.5/dist-packages/pandas/core/frame.py\u001b[0m in \u001b[0;36m_getitem_column\u001b[0;34m(self, key)\u001b[0m\n\u001b[1;32m   2690\u001b[0m         \u001b[0;31m# get column\u001b[0m\u001b[0;34m\u001b[0m\u001b[0;34m\u001b[0m\u001b[0m\n\u001b[1;32m   2691\u001b[0m         \u001b[0;32mif\u001b[0m \u001b[0mself\u001b[0m\u001b[0;34m.\u001b[0m\u001b[0mcolumns\u001b[0m\u001b[0;34m.\u001b[0m\u001b[0mis_unique\u001b[0m\u001b[0;34m:\u001b[0m\u001b[0;34m\u001b[0m\u001b[0m\n\u001b[0;32m-> 2692\u001b[0;31m             \u001b[0;32mreturn\u001b[0m \u001b[0mself\u001b[0m\u001b[0;34m.\u001b[0m\u001b[0m_get_item_cache\u001b[0m\u001b[0;34m(\u001b[0m\u001b[0mkey\u001b[0m\u001b[0;34m)\u001b[0m\u001b[0;34m\u001b[0m\u001b[0m\n\u001b[0m\u001b[1;32m   2693\u001b[0m \u001b[0;34m\u001b[0m\u001b[0m\n\u001b[1;32m   2694\u001b[0m         \u001b[0;31m# duplicate columns & possible reduce dimensionality\u001b[0m\u001b[0;34m\u001b[0m\u001b[0;34m\u001b[0m\u001b[0m\n",
      "\u001b[0;32m/usr/local/lib/python3.5/dist-packages/pandas/core/generic.py\u001b[0m in \u001b[0;36m_get_item_cache\u001b[0;34m(self, item)\u001b[0m\n\u001b[1;32m   2484\u001b[0m         \u001b[0mres\u001b[0m \u001b[0;34m=\u001b[0m \u001b[0mcache\u001b[0m\u001b[0;34m.\u001b[0m\u001b[0mget\u001b[0m\u001b[0;34m(\u001b[0m\u001b[0mitem\u001b[0m\u001b[0;34m)\u001b[0m\u001b[0;34m\u001b[0m\u001b[0m\n\u001b[1;32m   2485\u001b[0m         \u001b[0;32mif\u001b[0m \u001b[0mres\u001b[0m \u001b[0;32mis\u001b[0m \u001b[0;32mNone\u001b[0m\u001b[0;34m:\u001b[0m\u001b[0;34m\u001b[0m\u001b[0m\n\u001b[0;32m-> 2486\u001b[0;31m             \u001b[0mvalues\u001b[0m \u001b[0;34m=\u001b[0m \u001b[0mself\u001b[0m\u001b[0;34m.\u001b[0m\u001b[0m_data\u001b[0m\u001b[0;34m.\u001b[0m\u001b[0mget\u001b[0m\u001b[0;34m(\u001b[0m\u001b[0mitem\u001b[0m\u001b[0;34m)\u001b[0m\u001b[0;34m\u001b[0m\u001b[0m\n\u001b[0m\u001b[1;32m   2487\u001b[0m             \u001b[0mres\u001b[0m \u001b[0;34m=\u001b[0m \u001b[0mself\u001b[0m\u001b[0;34m.\u001b[0m\u001b[0m_box_item_values\u001b[0m\u001b[0;34m(\u001b[0m\u001b[0mitem\u001b[0m\u001b[0;34m,\u001b[0m \u001b[0mvalues\u001b[0m\u001b[0;34m)\u001b[0m\u001b[0;34m\u001b[0m\u001b[0m\n\u001b[1;32m   2488\u001b[0m             \u001b[0mcache\u001b[0m\u001b[0;34m[\u001b[0m\u001b[0mitem\u001b[0m\u001b[0;34m]\u001b[0m \u001b[0;34m=\u001b[0m \u001b[0mres\u001b[0m\u001b[0;34m\u001b[0m\u001b[0m\n",
      "\u001b[0;32m/usr/local/lib/python3.5/dist-packages/pandas/core/internals.py\u001b[0m in \u001b[0;36mget\u001b[0;34m(self, item, fastpath)\u001b[0m\n\u001b[1;32m   4113\u001b[0m \u001b[0;34m\u001b[0m\u001b[0m\n\u001b[1;32m   4114\u001b[0m             \u001b[0;32mif\u001b[0m \u001b[0;32mnot\u001b[0m \u001b[0misna\u001b[0m\u001b[0;34m(\u001b[0m\u001b[0mitem\u001b[0m\u001b[0;34m)\u001b[0m\u001b[0;34m:\u001b[0m\u001b[0;34m\u001b[0m\u001b[0m\n\u001b[0;32m-> 4115\u001b[0;31m                 \u001b[0mloc\u001b[0m \u001b[0;34m=\u001b[0m \u001b[0mself\u001b[0m\u001b[0;34m.\u001b[0m\u001b[0mitems\u001b[0m\u001b[0;34m.\u001b[0m\u001b[0mget_loc\u001b[0m\u001b[0;34m(\u001b[0m\u001b[0mitem\u001b[0m\u001b[0;34m)\u001b[0m\u001b[0;34m\u001b[0m\u001b[0m\n\u001b[0m\u001b[1;32m   4116\u001b[0m             \u001b[0;32melse\u001b[0m\u001b[0;34m:\u001b[0m\u001b[0;34m\u001b[0m\u001b[0m\n\u001b[1;32m   4117\u001b[0m                 \u001b[0mindexer\u001b[0m \u001b[0;34m=\u001b[0m \u001b[0mnp\u001b[0m\u001b[0;34m.\u001b[0m\u001b[0marange\u001b[0m\u001b[0;34m(\u001b[0m\u001b[0mlen\u001b[0m\u001b[0;34m(\u001b[0m\u001b[0mself\u001b[0m\u001b[0;34m.\u001b[0m\u001b[0mitems\u001b[0m\u001b[0;34m)\u001b[0m\u001b[0;34m)\u001b[0m\u001b[0;34m[\u001b[0m\u001b[0misna\u001b[0m\u001b[0;34m(\u001b[0m\u001b[0mself\u001b[0m\u001b[0;34m.\u001b[0m\u001b[0mitems\u001b[0m\u001b[0;34m)\u001b[0m\u001b[0;34m]\u001b[0m\u001b[0;34m\u001b[0m\u001b[0m\n",
      "\u001b[0;32m/usr/local/lib/python3.5/dist-packages/pandas/core/indexes/base.py\u001b[0m in \u001b[0;36mget_loc\u001b[0;34m(self, key, method, tolerance)\u001b[0m\n\u001b[1;32m   3063\u001b[0m                 \u001b[0;32mreturn\u001b[0m \u001b[0mself\u001b[0m\u001b[0;34m.\u001b[0m\u001b[0m_engine\u001b[0m\u001b[0;34m.\u001b[0m\u001b[0mget_loc\u001b[0m\u001b[0;34m(\u001b[0m\u001b[0mkey\u001b[0m\u001b[0;34m)\u001b[0m\u001b[0;34m\u001b[0m\u001b[0m\n\u001b[1;32m   3064\u001b[0m             \u001b[0;32mexcept\u001b[0m \u001b[0mKeyError\u001b[0m\u001b[0;34m:\u001b[0m\u001b[0;34m\u001b[0m\u001b[0m\n\u001b[0;32m-> 3065\u001b[0;31m                 \u001b[0;32mreturn\u001b[0m \u001b[0mself\u001b[0m\u001b[0;34m.\u001b[0m\u001b[0m_engine\u001b[0m\u001b[0;34m.\u001b[0m\u001b[0mget_loc\u001b[0m\u001b[0;34m(\u001b[0m\u001b[0mself\u001b[0m\u001b[0;34m.\u001b[0m\u001b[0m_maybe_cast_indexer\u001b[0m\u001b[0;34m(\u001b[0m\u001b[0mkey\u001b[0m\u001b[0;34m)\u001b[0m\u001b[0;34m)\u001b[0m\u001b[0;34m\u001b[0m\u001b[0m\n\u001b[0m\u001b[1;32m   3066\u001b[0m \u001b[0;34m\u001b[0m\u001b[0m\n\u001b[1;32m   3067\u001b[0m         \u001b[0mindexer\u001b[0m \u001b[0;34m=\u001b[0m \u001b[0mself\u001b[0m\u001b[0;34m.\u001b[0m\u001b[0mget_indexer\u001b[0m\u001b[0;34m(\u001b[0m\u001b[0;34m[\u001b[0m\u001b[0mkey\u001b[0m\u001b[0;34m]\u001b[0m\u001b[0;34m,\u001b[0m \u001b[0mmethod\u001b[0m\u001b[0;34m=\u001b[0m\u001b[0mmethod\u001b[0m\u001b[0;34m,\u001b[0m \u001b[0mtolerance\u001b[0m\u001b[0;34m=\u001b[0m\u001b[0mtolerance\u001b[0m\u001b[0;34m)\u001b[0m\u001b[0;34m\u001b[0m\u001b[0m\n",
      "\u001b[0;32mpandas/_libs/index.pyx\u001b[0m in \u001b[0;36mpandas._libs.index.IndexEngine.get_loc\u001b[0;34m()\u001b[0m\n",
      "\u001b[0;32mpandas/_libs/index.pyx\u001b[0m in \u001b[0;36mpandas._libs.index.IndexEngine.get_loc\u001b[0;34m()\u001b[0m\n",
      "\u001b[0;32mpandas/_libs/hashtable_class_helper.pxi\u001b[0m in \u001b[0;36mpandas._libs.hashtable.PyObjectHashTable.get_item\u001b[0;34m()\u001b[0m\n",
      "\u001b[0;32mpandas/_libs/hashtable_class_helper.pxi\u001b[0m in \u001b[0;36mpandas._libs.hashtable.PyObjectHashTable.get_item\u001b[0;34m()\u001b[0m\n",
      "\u001b[0;31mKeyError\u001b[0m: 'sepostulo'"
     ]
    }
   ],
   "source": [
    "y_test = test['sepostulo']\n",
    "test = test.drop(axis=1, labels=['sepostulo'])"
   ]
  },
  {
   "cell_type": "code",
   "execution_count": 18,
   "metadata": {},
   "outputs": [
    {
     "name": "stderr",
     "output_type": "stream",
     "text": [
      "[Parallel(n_jobs=4)]: Done  40 out of  40 | elapsed:    3.8s finished\n",
      "[Parallel(n_jobs=4)]: Done  40 out of  40 | elapsed:    5.6s finished\n",
      "[Parallel(n_jobs=4)]: Done  40 out of  40 | elapsed:    7.6s finished\n",
      "[Parallel(n_jobs=4)]: Done  40 out of  40 | elapsed:    8.9s finished\n",
      "[Parallel(n_jobs=4)]: Done  40 out of  40 | elapsed:   10.4s finished\n",
      "[Parallel(n_jobs=4)]: Done  40 out of  40 | elapsed:    9.8s finished\n",
      "[Parallel(n_jobs=4)]: Done  40 out of  40 | elapsed:    9.3s finished\n",
      "[Parallel(n_jobs=4)]: Done  40 out of  40 | elapsed:    9.8s finished\n",
      "[Parallel(n_jobs=4)]: Done  40 out of  40 | elapsed:    9.0s finished\n",
      "[Parallel(n_jobs=4)]: Done  40 out of  40 | elapsed:    9.1s finished\n",
      "[Parallel(n_jobs=4)]: Done  40 out of  40 | elapsed:    8.3s finished\n",
      "[Parallel(n_jobs=4)]: Done  40 out of  40 | elapsed:    8.9s finished\n",
      "[Parallel(n_jobs=4)]: Done  40 out of  40 | elapsed:    8.6s finished\n",
      "[Parallel(n_jobs=4)]: Done  40 out of  40 | elapsed:    8.8s finished\n",
      "[Parallel(n_jobs=4)]: Done  40 out of  40 | elapsed:    9.2s finished\n"
     ]
    },
    {
     "data": {
      "text/plain": [
       "0.9852228637199028"
      ]
     },
     "execution_count": 18,
     "metadata": {},
     "output_type": "execute_result"
    }
   ],
   "source": [
    "ada.score(test, y_test)"
   ]
  },
  {
   "cell_type": "code",
   "execution_count": 19,
   "metadata": {},
   "outputs": [
    {
     "name": "stderr",
     "output_type": "stream",
     "text": [
      "[Parallel(n_jobs=4)]: Done  40 out of  40 | elapsed:    4.0s finished\n",
      "[Parallel(n_jobs=4)]: Done  40 out of  40 | elapsed:    6.1s finished\n",
      "[Parallel(n_jobs=4)]: Done  40 out of  40 | elapsed:    8.0s finished\n",
      "[Parallel(n_jobs=4)]: Done  40 out of  40 | elapsed:    8.3s finished\n",
      "[Parallel(n_jobs=4)]: Done  40 out of  40 | elapsed:    9.6s finished\n",
      "[Parallel(n_jobs=4)]: Done  40 out of  40 | elapsed:    9.4s finished\n",
      "[Parallel(n_jobs=4)]: Done  40 out of  40 | elapsed:    9.8s finished\n",
      "[Parallel(n_jobs=4)]: Done  40 out of  40 | elapsed:   10.0s finished\n",
      "[Parallel(n_jobs=4)]: Done  40 out of  40 | elapsed:    9.0s finished\n",
      "[Parallel(n_jobs=4)]: Done  40 out of  40 | elapsed:    8.3s finished\n",
      "[Parallel(n_jobs=4)]: Done  40 out of  40 | elapsed:    7.8s finished\n",
      "[Parallel(n_jobs=4)]: Done  40 out of  40 | elapsed:    7.7s finished\n",
      "[Parallel(n_jobs=4)]: Done  40 out of  40 | elapsed:    7.8s finished\n",
      "[Parallel(n_jobs=4)]: Done  40 out of  40 | elapsed:    9.0s finished\n",
      "[Parallel(n_jobs=4)]: Done  40 out of  40 | elapsed:    8.7s finished\n"
     ]
    }
   ],
   "source": [
    "ret = ada.predict_proba(test)"
   ]
  },
  {
   "cell_type": "code",
   "execution_count": 20,
   "metadata": {},
   "outputs": [],
   "source": [
    "ret = pd.DataFrame(ret)"
   ]
  },
  {
   "cell_type": "code",
   "execution_count": 21,
   "metadata": {},
   "outputs": [],
   "source": [
    "ret[1].hist()"
   ]
  },
  {
   "cell_type": "code",
   "execution_count": 22,
   "metadata": {},
   "outputs": [],
   "source": [
    "from sklearn.metrics import roc_auc_score"
   ]
  },
  {
   "cell_type": "code",
   "execution_count": 25,
   "metadata": {},
   "outputs": [
    {
     "data": {
      "text/plain": [
       "0.9989840786301447"
      ]
     },
     "execution_count": 25,
     "metadata": {},
     "output_type": "execute_result"
    }
   ],
   "source": [
    "roc_auc_score(y_test, ret[1], average=None)"
   ]
  },
  {
   "cell_type": "code",
   "execution_count": 26,
   "metadata": {},
   "outputs": [
    {
     "name": "stderr",
     "output_type": "stream",
     "text": [
      "[Parallel(n_jobs=4)]: Done  40 out of  40 | elapsed:    2.9s finished\n",
      "[Parallel(n_jobs=4)]: Done  40 out of  40 | elapsed:    5.5s finished\n",
      "[Parallel(n_jobs=4)]: Done  40 out of  40 | elapsed:    6.1s finished\n",
      "[Parallel(n_jobs=4)]: Done  40 out of  40 | elapsed:    7.1s finished\n",
      "[Parallel(n_jobs=4)]: Done  40 out of  40 | elapsed:    7.1s finished\n",
      "[Parallel(n_jobs=4)]: Done  40 out of  40 | elapsed:    7.7s finished\n",
      "[Parallel(n_jobs=4)]: Done  40 out of  40 | elapsed:    6.4s finished\n",
      "[Parallel(n_jobs=4)]: Done  40 out of  40 | elapsed:    7.0s finished\n",
      "[Parallel(n_jobs=4)]: Done  40 out of  40 | elapsed:    8.4s finished\n",
      "[Parallel(n_jobs=4)]: Done  40 out of  40 | elapsed:    9.0s finished\n",
      "[Parallel(n_jobs=4)]: Done  40 out of  40 | elapsed:    8.3s finished\n",
      "[Parallel(n_jobs=4)]: Done  40 out of  40 | elapsed:    8.1s finished\n",
      "[Parallel(n_jobs=4)]: Done  40 out of  40 | elapsed:    7.2s finished\n",
      "[Parallel(n_jobs=4)]: Done  40 out of  40 | elapsed:    6.8s finished\n",
      "[Parallel(n_jobs=4)]: Done  40 out of  40 | elapsed:    7.5s finished\n"
     ]
    }
   ],
   "source": [
    "test_o = pd.read_csv(RUTA_DATOS_PROCESADOS + 'kaggle.csv')\n",
    "test = pd.merge(test_o, postulantes, on='idpostulante', how='left')\n",
    "test = pd.merge(test, avisos_detalle, on='idaviso', how='left')\n",
    "test = test.drop(axis=1, labels=['id', 'idaviso', 'idpostulante'])\n",
    "test[test['sexo_y'].isna()] = 0\n",
    "test[test['edad_y'].isna()] = 30\n",
    "test[test['sexo_x'].isna()] = 0\n",
    "test[test['edad_x'].isna()] = 30\n",
    "test[test['cant_postulaciones_area'].isna()] = 0\n",
    "test[test['cant_postulaciones_empresa'].isna()] = 0\n",
    "test[test['cant_vistas'].isna()] = 0\n",
    "test[test['cant_vistas_area'].isna()] = 0\n",
    "test[test['cant_vistas_empresa'].isna()] = 0\n",
    "test[test['nivel_educativo_x'].isna()] = 0\n",
    "ret = ada.predict_proba(test)"
   ]
  },
  {
   "cell_type": "code",
   "execution_count": 27,
   "metadata": {},
   "outputs": [
    {
     "data": {
      "text/plain": [
       "<matplotlib.axes._subplots.AxesSubplot at 0x7f6936e6cf60>"
      ]
     },
     "execution_count": 27,
     "metadata": {},
     "output_type": "execute_result"
    },
    {
     "data": {
      "image/png": "[encoded data removed]",
      "text/plain": [
       "<Figure size 432x288 with 1 Axes>"
      ]
     },
     "metadata": {},
     "output_type": "display_data"
    }
   ],
   "source": [
    "test_o['sepostulo'] = pd.DataFrame(ret)[1]\n",
    "test_o['sepostulo'].hist()"
   ]
  },
  {
   "cell_type": "code",
   "execution_count": 28,
   "metadata": {},
   "outputs": [],
   "source": [
    "test_o = test_o.drop(axis=1, labels=['idaviso', 'idpostulante','cant_vistas', 'cant_vistas_empresa', 'cant_vistas_area','cant_postulaciones_empresa', 'cant_postulaciones_area'])\n",
    "test_o.to_csv(RUTA_SUBMITS + 'submit-19.csv', index=False)"
   ]
  },
  {
   "cell_type": "code",
   "execution_count": null,
   "metadata": {},
   "outputs": [],
   "source": []
  }
 ],
 "metadata": {
  "kernelspec": {
   "display_name": "Python 3",
   "language": "python",
   "name": "python3"
  },
  "language_info": {
   "codemirror_mode": {
    "name": "ipython",
    "version": 3
   },
   "file_extension": ".py",
   "mimetype": "text/x-python",
   "name": "python",
   "nbconvert_exporter": "python",
   "pygments_lexer": "ipython3",
   "version": "3.5.2"
  }
 },
 "nbformat": 4,
 "nbformat_minor": 2
}
