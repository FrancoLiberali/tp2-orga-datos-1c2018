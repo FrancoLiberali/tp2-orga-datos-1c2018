{
 "cells": [
  {
   "cell_type": "code",
   "execution_count": 1,
   "metadata": {},
   "outputs": [],
   "source": [
    "import pandas as pd\n",
    "import numpy as np"
   ]
  },
  {
   "cell_type": "code",
   "execution_count": 2,
   "metadata": {},
   "outputs": [],
   "source": [
    "df2 = pd.read_csv('~/orga-datos/hasta_15_abril/fiuba_1_postulantes_educacion.csv')\n",
    "df3 = pd.read_csv('~/orga-datos/datos_navent_fiuba/fiuba_1_postulantes_educacion.csv')"
   ]
  },
  {
   "cell_type": "code",
   "execution_count": 3,
   "metadata": {},
   "outputs": [],
   "source": [
    "df = df3.append(df2)"
   ]
  },
  {
   "cell_type": "code",
   "execution_count": 4,
   "metadata": {},
   "outputs": [
    {
     "name": "stdout",
     "output_type": "stream",
     "text": [
      "<class 'pandas.core.frame.DataFrame'>\n",
      "Int64Index: 705684 entries, 0 to 407452\n",
      "Data columns (total 3 columns):\n",
      "idpostulante    705684 non-null object\n",
      "nombre          705684 non-null object\n",
      "estado          705684 non-null object\n",
      "dtypes: object(3)\n",
      "memory usage: 21.5+ MB\n"
     ]
    }
   ],
   "source": [
    "df.info()"
   ]
  },
  {
   "cell_type": "code",
   "execution_count": 5,
   "metadata": {},
   "outputs": [],
   "source": [
    "df = df.drop_duplicates()"
   ]
  },
  {
   "cell_type": "code",
   "execution_count": 6,
   "metadata": {},
   "outputs": [],
   "source": [
    "df.to_csv('~/orga-datos/datos_preprocesados/fiuba_1_postulantes_educacion.csv', index=False)"
   ]
  },
  {
   "cell_type": "code",
   "execution_count": 7,
   "metadata": {},
   "outputs": [],
   "source": [
    "df2 = pd.read_csv('~/orga-datos/hasta_15_abril/fiuba_2_postulantes_genero_y_edad.csv')\n",
    "df3 = pd.read_csv('~/orga-datos/datos_navent_fiuba/fiuba_2_postulantes_genero_y_edad.csv')\n",
    "df = df3.append(df2).drop_duplicates()\n",
    "df.to_csv('~/orga-datos/datos_preprocesados/fiuba_2_postulantes_genero_y_edad.csv', index=False)"
   ]
  },
  {
   "cell_type": "code",
   "execution_count": 8,
   "metadata": {},
   "outputs": [],
   "source": [
    "archivo = 'fiuba_3_vistas.csv'\n",
    "df2 = pd.read_csv('~/orga-datos/hasta_15_abril/' + archivo)\n",
    "df3 = pd.read_csv('~/orga-datos/datos_navent_fiuba/' + archivo)\n",
    "df = df3.append(df2).drop_duplicates()\n",
    "df.to_csv('~/orga-datos/datos_preprocesados/' + archivo, index=False)"
   ]
  },
  {
   "cell_type": "code",
   "execution_count": 3,
   "metadata": {},
   "outputs": [],
   "source": [
    "archivo = 'fiuba_4_postulaciones.csv'\n",
    "df2 = pd.read_csv('~/orga-datos/hasta_15_abril/' + archivo)\n",
    "df3 = pd.read_csv('~/orga-datos/datos_navent_fiuba/' + archivo)\n",
    "df = df3.append(df2).drop_duplicates()\n",
    "df.to_csv('~/orga-datos/datos_preprocesados/' + archivo, index=False)"
   ]
  },
  {
   "cell_type": "code",
   "execution_count": 4,
   "metadata": {},
   "outputs": [],
   "source": [
    "archivo = 'fiuba_5_avisos_online.csv'\n",
    "df2 = pd.read_csv('~/orga-datos/hasta_15_abril/' + archivo)\n",
    "df3 = pd.read_csv('~/orga-datos/datos_navent_fiuba/' + archivo)\n",
    "df = df3.append(df2).drop_duplicates()\n",
    "df.to_csv('~/orga-datos/datos_preprocesados/' + archivo, index=False)"
   ]
  },
  {
   "cell_type": "code",
   "execution_count": 5,
   "metadata": {},
   "outputs": [],
   "source": [
    "archivo = 'fiuba_6_avisos_detalle.csv'\n",
    "df2 = pd.read_csv('~/orga-datos/hasta_15_abril/' + archivo)\n",
    "df3 = pd.read_csv('~/orga-datos/datos_navent_fiuba/' + archivo)\n",
    "df = df3.append(df2).drop_duplicates()\n",
    "df.to_csv('~/orga-datos/datos_preprocesados/' + archivo, index=False)"
   ]
  },
  {
   "cell_type": "code",
   "execution_count": null,
   "metadata": {},
   "outputs": [],
   "source": []
  }
 ],
 "metadata": {
  "kernelspec": {
   "display_name": "Python 3",
   "language": "python",
   "name": "python3"
  },
  "language_info": {
   "codemirror_mode": {
    "name": "ipython",
    "version": 3
   },
   "file_extension": ".py",
   "mimetype": "text/x-python",
   "name": "python",
   "nbconvert_exporter": "python",
   "pygments_lexer": "ipython3",
   "version": "3.5.2"
  }
 },
 "nbformat": 4,
 "nbformat_minor": 2
}
