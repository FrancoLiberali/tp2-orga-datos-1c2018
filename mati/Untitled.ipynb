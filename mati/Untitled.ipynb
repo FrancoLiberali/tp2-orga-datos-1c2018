{
 "cells": [
  {
   "cell_type": "code",
   "execution_count": 1,
   "metadata": {},
   "outputs": [],
   "source": [
    "import pandas as pd\n",
    "import numpy as np\n",
    "import matplotlib.pyplot as plt\n",
    "\n",
    "%matplotlib inline"
   ]
  },
  {
   "cell_type": "code",
   "execution_count": 2,
   "metadata": {},
   "outputs": [],
   "source": [
    " df2 = pd.read_csv('../orga-datos/datos_preprocesados/fiuba_6_avisos_detalle.csv')"
   ]
  },
  {
   "cell_type": "code",
   "execution_count": 3,
   "metadata": {},
   "outputs": [
    {
     "data": {
      "text/plain": [
       "'<p><span style=\"\">Nos encontramos en la búsqueda de un Analista de Créditos Jr sector Agro, para Importante Entidad Bancaria.</span></p><p>\\xa0</p><p>\\xa0</p><p><span style=\"\">En esta posición, tus responsabilidades serán:</span></p><ul><li><p><span style=\"\">Análisis y evaluación de propuestas de créditos</span></p></li><li><p><span style=\"\">Participación conjunta en Comité de Créditos</span></p></li><li><p><span style=\"\">Administración de cartera</span></p></li></ul><p>\\xa0</p><p>\\xa0</p><p>Requisitos:</p><p>\\xa0</p><p><span style=\"\">Postulate si:</span></p><ul><li><p><span style=\"\">Sos profesional o estudiante avanzado de las carreras de Ciencias Económicas / Licenciado en Administración Agraria / Ingeniero Agrónomo</span></p></li><li><p><span style=\"\">Tenés actitud proactiva y muy buen manejo de relaciones interpersonales para trabajar en equipo y orientación a resultados</span></p></li><li><p><span style=\"\">Contás con muy buen manejo del Paquete Office</span></p></li></ul><p>\\xa0</p><p><span style=\"\">Valoraremos conocimientos del segmento Agro y experiencia laboral en análisis de balance y de riesgo de crédito</span></p><p>\\xa0</p><p>\\xa0</p><p>Beneficios:</p><p>\\xa0</p><p><span style=\"\">Condiciones de Contratación:</span></p><ul><li><p><span style=\"\">Lunes a viernes Jornada Full time</span></p></li><li><p><span style=\"\">Lugar de trabajo: Microcentro</span></p></li><li><p><span style=\"\">La empresa ofrece muy buenas condiciones de contratación</span></p></li></ul>'"
      ]
     },
     "execution_count": 3,
     "metadata": {},
     "output_type": "execute_result"
    }
   ],
   "source": [
    "data1=df2[\"descripcion\"][43]\n",
    "data1\n"
   ]
  },
  {
   "cell_type": "code",
   "execution_count": 4,
   "metadata": {},
   "outputs": [],
   "source": [
    "stopswords=\"a acá ahí ajena ajeno ajenos ajenas al algo algún algúna algúno algúnos algúnas allá allí ambos ante antes aquel aquella aquello aquellos aquellas aquí arriba así atrás aun aunque bajo bastante bien cabe cada casi cierto cierta ciertos ciertas como con conmigo conseguimos conseguir consigo consigue consiguen consigues contigo contra cual cuales cualquier cualquiera cualquieras cuancuando cuanto cuantas cuanta cuantos de dejar del demás demasiada demasiadas demasiado demasiados dentro desde donde dos e el él ella ellas ello ellos empleáis emplean emplear empleas empleo en encima entonces entre era eras eramos eran eres es esa ese eso esos esas esta estas estaba estado estáis estamos están estar este esto estos estas estoy etc fin fue fueron fui fuimos gueno ha hace haces hacéis hacemos hacen hacer hacia hago hasta incluso intenta intentas intentáis intentamos intentan intentar intento ir jamás junto juntos la lo las los largo más me menos mi mis mía mías mientras mío míos misma mismo mismos mismas modo mucha muchas muchísima muchísimos muchísimo muchísimas mucho muchos muy nada ni ningún ningúna ningúnas ningúno ningúnos no nos nosotras nosotros nuestra nuestro nuestros nuestras nunca o os otra otro otras otros para parecer pero poca poco pocas pocos podéis podemos poder podría podrías podríais podríamos podrían por por qué porque primero puede pueden puedo pues que qué querer quién quiénes quienesquiera quienquiera quizá quizás sabe sabes saben sabéis sabemos saber se según ser si sí siempre siendo sin sino so sobre sois solamente solo sólo somos soy sr sra sres sta su sus suyo suyos suya suyas tal tales también tampoco tan tanta tanto tantos tantas te tenéis tenemos tener tengo ti tiempo tiene tienen todo todos toda todas tomar trabaja trabajo trabajáis trabajamos trabajan trabajar trabajas tras tú tu tus tuya tuyas tuyo tuyos último ultimo un una unas uno unos usa usas usáis usamos usan usar uso usted ustedes va van vais valor vamos varias varios vaya verdadera vosotras vosotros voy vuestra vuestros vuestro vuestras y ya yo como donde requisitos requisito buscamos importante buenas muy grandes beneficios \"\n",
    "stopswords=stopswords.split()"
   ]
  },
  {
   "cell_type": "code",
   "execution_count": 5,
   "metadata": {},
   "outputs": [],
   "source": [
    "from html.parser import HTMLParser\n",
    "\n",
    "class MLStripper(HTMLParser):\n",
    "    def __init__(self):\n",
    "        self.reset()\n",
    "        self.strict = False\n",
    "        self.convert_charrefs= True\n",
    "        self.fed =[]\n",
    "    def handle_data(self, d):\n",
    "        self.fed.append(d)\n",
    "    def get_data(self):\n",
    "        return ' '.join(self.fed)\n",
    "\n",
    "def strip_html_tags(html):\n",
    "    s = MLStripper()\n",
    "    s.feed(html)\n",
    "    return s.get_data()\n",
    "\n",
    "def foldear_simbolos(cadena):\n",
    "    ''' \n",
    "    Elimina los acentos de una cadena en minúsculas. \n",
    "    Ej: descripción -> descripcion\n",
    "    '''\n",
    "    acentos = {'á':'a', 'é':'e', 'í':'i', 'ó':'o', 'ú':'u', 'ü':'u'}\n",
    "    cadena = list(cadena)\n",
    "    for i in range(len(cadena)):\n",
    "        if not cadena[i].isalpha():\n",
    "            cadena[i] = ' '\n",
    "        else:\n",
    "            cadena[i] = acentos.get(cadena[i], cadena[i])\n",
    "    \n",
    "    return ''.join(cadena)\n",
    "\n",
    "def es_palabra_inutil(palabra):\n",
    "    '''\n",
    "    Devuelve True si palabra es una palabra que no aporta\n",
    "    contenido.\n",
    "    '''\n",
    "    return palabra in set(stopswords)\n",
    "\n",
    "def parse(descripcion):\n",
    "    '''\n",
    "    Normaliza una descripción de aviso del set de datos de Navent.\n",
    "    Elimina tags HTML, pasa a minúsculas y la convierte a tokens.\n",
    "    '''\n",
    "    resultado = []\n",
    "    \n",
    "    for palabra in strip_html_tags(descripcion).lower().split():\n",
    "        if es_palabra_inutil(palabra):\n",
    "            continue\n",
    "            \n",
    "        resultado.extend(foldear_simbolos(palabra).split())\n",
    "    \n",
    "    return ' '.join(resultado)\n",
    "    \n",
    "  "
   ]
  },
  {
   "cell_type": "code",
   "execution_count": 6,
   "metadata": {},
   "outputs": [],
   "source": [
    "words={}\n",
    "def total_freq(description):\n",
    "    #it create a dictionary with the following format (word : #appearances in the sum of descriptions)\n",
    "    words_processed=[]\n",
    "    for word in description.split():\n",
    "        if word not in words_processed:\n",
    "            words[word] = words.get(word, 0) + 1\n",
    "            words_processed.append(word)\n",
    "    return description\n",
    "\n",
    "factor = df2[\"descripcion\"].count()*0.01 # %1 aca va el porcentaje que se quiere tener\n",
    "\n",
    "def remove_less_frequent_words(description):\n",
    "    # we will remove all the words which appear in less than 1% of the descrptions\n",
    "    result = []\n",
    "    for word in description.lower().split():\n",
    "        if words[word] < factor:\n",
    "            continue\n",
    "            \n",
    "        result.append(word)\n",
    "    \n",
    "    return ' '.join(result)"
   ]
  },
  {
   "cell_type": "code",
   "execution_count": 7,
   "metadata": {},
   "outputs": [],
   "source": [
    "df2[\"descripcion\"]=df2[\"descripcion\"].map(parse)"
   ]
  },
  {
   "cell_type": "code",
   "execution_count": 8,
   "metadata": {},
   "outputs": [
    {
     "name": "stdout",
     "output_type": "stream",
     "text": [
      "['experiencia', 'busqueda', 'empresa', 'años', 'zona', 'tareas', 'equipo', 'trabajo', 'excluyente', 'manejo', 'hs', 'lunes', 'disponibilidad', 'conocimientos', 'laboral', 'principales', 'viernes', 'cliente', 'contratacion', 'horario', 'condiciones', 'requisitos', 'clientes', 'area', 'responsabilidades', 'empresas', 'time', 'desarrollo', 'edad', 'servicios', 'seran', 'gestion', 'capacidad', 'excelente', 'administracion', 'contar', 'lugar', 'cv', 'personal', 'ingles', 'realizar', 'full', 'orientacion', 'puesto', 'encontramos', 'encuentra', 'posicion', 'secundario', 'nivel', 'ofrece']\n",
      "****************************************************************************************************************\n",
      "['bcom', 'envasamientos', 'parametrizado', 'entidadesfinancieras', 'zendesck', 'lapatagonica', 'desobstruccion', 'hedging', 'xbox', 'hifu', 'ingeniara', 'caracterizandonos', 'ifttt', 'escencial', 'faevyt', 'interpreting', 'belgano', 'disuadir', 'siporte', 'volanteros', 'salio', 'chaqueta', 'mobilfunk', 'amarula', 'frontline', 'leernos', 'graphon', 'arquitecura', 'beps', 'cabezal', 'virgen', 'reconfigurations', 'ferry', 'prämien', 'rdlc', 'jpmc', 'obs', 'predictable', 'ferrica', 'indicamos', 'calidadcontrol', 'internetsecundario', 'temprada', 'industrialexperiencia', 'roomnights', 'agroalimentaria', 'encuadrado', 'reclamando', 'rcsa', 'pressblower']\n"
     ]
    }
   ],
   "source": [
    "df2[\"descripcion\"]=df2[\"descripcion\"].map(total_freq)\n",
    "s = sorted(words, key=words.get, reverse=True)#mayor a menor frecuencia\n",
    "print(s[:50])\n",
    "print(\"****************************************************************************************************************\")\n",
    "s = sorted(words, key=words.get, reverse=False)#menor a mayor frecuencia\n",
    "print(s[:50])"
   ]
  },
  {
   "cell_type": "code",
   "execution_count": 9,
   "metadata": {},
   "outputs": [
    {
     "name": "stdout",
     "output_type": "stream",
     "text": [
      "36663\n"
     ]
    }
   ],
   "source": [
    "number_of_unique_words = len(words)\n",
    "print(number_of_unique_words)"
   ]
  },
  {
   "cell_type": "code",
   "execution_count": 10,
   "metadata": {},
   "outputs": [
    {
     "name": "stdout",
     "output_type": "stream",
     "text": [
      "72.9837867763\n"
     ]
    }
   ],
   "source": [
    "contador=0\n",
    "for word in words:\n",
    "    contador += words[word]\n",
    "    \n",
    "average_words_by_description = contador/df2[\"descripcion\"].count()\n",
    "\n",
    "print(average_words_by_description)  "
   ]
  },
  {
   "cell_type": "code",
   "execution_count": 21,
   "metadata": {},
   "outputs": [
    {
     "name": "stdout",
     "output_type": "stream",
     "text": [
      "1222\n"
     ]
    }
   ],
   "source": [
    "#print the number of words whose frequencies are bigger than 1%\n",
    "number_of_words = 0\n",
    "factor = df2[\"descripcion\"].count()*0.01 # %1\n",
    "for x in words:\n",
    "    if words[x] > factor:\n",
    "        number_of_words +=1\n",
    "print(number_of_words)    \n",
    "\n",
    "#posible problema"
   ]
  },
  {
   "cell_type": "code",
   "execution_count": 12,
   "metadata": {},
   "outputs": [],
   "source": [
    "df2[\"descripcion\"] = df2[\"descripcion\"].map(remove_less_frequent_words)"
   ]
  },
  {
   "cell_type": "code",
   "execution_count": 13,
   "metadata": {},
   "outputs": [
    {
     "data": {
      "text/plain": [
       "'encontramos busqueda analista sector posicion responsabilidades seran analisis evaluacion participacion administracion cartera requisitos postulate sos profesional estudiante avanzado carreras ciencias economicas administracion ingeniero actitud proactiva buen manejo relaciones interpersonales equipo orientacion resultados buen manejo paquete office conocimientos experiencia laboral analisis beneficios condiciones contratacion lunes viernes jornada full time lugar trabajo microcentro empresa ofrece condiciones contratacion'"
      ]
     },
     "execution_count": 13,
     "metadata": {},
     "output_type": "execute_result"
    }
   ],
   "source": [
    "data1=df2[\"descripcion\"][43]\n",
    "data1"
   ]
  },
  {
   "cell_type": "markdown",
   "metadata": {},
   "source": [
    "'encontramos busqueda analista creditos jr sector agro entidad bancaria posicion responsabilidades seran analisis evaluacion propuestas creditos participacion conjunta comite creditos administracion cartera requisitos postulate si sos profesional estudiante avanzado carreras ciencias economicas licenciado administracion agraria ingeniero agronomo tenes actitud proactiva buen manejo relaciones interpersonales equipo orientacion resultados contas buen manejo paquete office valoraremos conocimientos segmento agro experiencia laboral analisis balance riesgo credito beneficios condiciones contratacion lunes viernes jornada full time lugar trabajo microcentro empresa ofrece condiciones contratacion'\n"
   ]
  },
  {
   "cell_type": "code",
   "execution_count": 14,
   "metadata": {},
   "outputs": [
    {
     "name": "stdout",
     "output_type": "stream",
     "text": [
      "Estimated Jaccard for data1 and data2 is 1.0\n",
      "encontramos busqueda analista sector posicion responsabilidades seran analisis evaluacion participacion administracion cartera requisitos postulate sos profesional estudiante avanzado carreras ciencias economicas administracion ingeniero actitud proactiva buen manejo relaciones interpersonales equipo orientacion resultados buen manejo paquete office conocimientos experiencia laboral analisis beneficios condiciones contratacion lunes viernes jornada full time lugar trabajo microcentro empresa ofrece condiciones contratacion\n",
      "Estimated Jaccard for data1 and data2 is 0.453125\n",
      "encontramos busqueda lider cobranzas compañia financiera grupo reconocida posicion responsabilidades seran grupo tarea realizar indicadores seguimiento reportes postulate sos profesional estudiante carreras ciencias economicas afin actitud proactiva buen manejo relaciones interpersonales orientacion resultados buen manejo paquete office conocimiento manejo sistema condiciones contratacion lunes viernes jornada full time lugar trabajo microcentro\n",
      "Estimated Jaccard for data1 and data2 is 0.3203125\n",
      "encontramos busqueda analista gerencia analisis empresas perfil requerido profesional estudiante avanzado ciencias economicas contador publico buen manejo relaciones interpersonales equipo actitud proactiva orientacion resultados experiencia laboral y o estudios nivel ingles intermedio poseer conocimiento herramientas microsoft office principales responsabilidades administracion cartera clientes analisis opinion areas comerciales perfil experiencia postulate\n",
      "Estimated Jaccard for data1 and data2 is 0.3359375\n",
      "en sos estudiante universitario carrera ciencias comunicacion formar parte gran equipo trabajo postularte encontramos busqueda departamento calidad area principales funciones seran con procesos mejora cumplimiento indicadores gestion calidad capacidad manejo mensuales acuerdo sector seran excluyentes posicion excluyente contar experiencia minima años comprobable area especializados areas ventas reportes calidad preferentemente experiencia linea capacidad analisis gran capacidad orientacion resultados capacidad condiciones laborales jornada laboral lunes viernes hs lugar microcentro\n",
      "Estimated Jaccard for data1 and data2 is 0.3046875\n",
      "empresa desarrollo software especializada logistica distribucion informacion encontramos busqueda responsabilidades aplicaciones negocio web nuevos equipo desarrollo ejecutar analisis resultados reportes documentacion seguimiento equipo desarrollo servicios requisitos experiencia comprobable tres años buen dominio sql habilidades estudiante avanzado graduado carreras sistemas beneficios prepaga objetivos zona trabajo caba microcentro tipo contratacion relacion dependencia directa empresa horario laboral lunes viernes hs\n"
     ]
    }
   ],
   "source": [
    "# sudo pip3 install datasketch -U\n",
    "\n",
    "from datasketch import MinHash\n",
    "\n",
    "#te da lasdescripciones que tengan semejanza mayor a 0.3 (este es un buen factor)\n",
    "\n",
    "data1=df2[\"descripcion\"][43]\n",
    "data1=data1.split()\n",
    "    \n",
    "def jac(texto):\n",
    "    \n",
    "    data2=texto.split()\n",
    "    m1, m2 = MinHash(), MinHash()\n",
    "    for d in data1:\n",
    "        m1.update(d.encode('utf8'))\n",
    "    for d in data2:\n",
    "        m2.update(d.encode('utf8'))\n",
    "    if m1.jaccard(m2)> 0.3:     \n",
    "        print(\"Estimated Jaccard for data1 and data2 is\", m1.jaccard(m2))\n",
    "        print(\" \".join(data2))\n",
    "\n",
    "d=df2[\"descripcion\"].map(jac)  "
   ]
  },
  {
   "cell_type": "code",
   "execution_count": 19,
   "metadata": {},
   "outputs": [
    {
     "name": "stdout",
     "output_type": "stream",
     "text": [
      "Estimated Jaccard for data1 and data2 is 0.1328125\n",
      "Actual Jaccard for data1 and data2 is 0.10588235294117647\n"
     ]
    }
   ],
   "source": [
    "#no usar\n",
    "from datasketch import MinHash\n",
    "#data1 = ['minhash', 'is', 'a', 'probabilistic', 'data', 'structure', 'for',\n",
    "#        'estimating', 'the', 'similarity', 'between', 'datasets']\n",
    "#data2 = ['minhash', 'is', 'a', 'probability', 'data', 'structure', 'for',\n",
    "#        'estimating', 'the', 'similarity', 'between', 'documents']\n",
    "data1=data1.split()\n",
    "data2=data2.split()\n",
    "m1, m2 = MinHash(), MinHash()\n",
    "for d in data1:\n",
    "    m1.update(d.encode('utf8'))\n",
    "for d in data2:\n",
    "    m2.update(d.encode('utf8'))\n",
    "print(\"Estimated Jaccard for data1 and data2 is\", m1.jaccard(m2))\n",
    "\n",
    "s1 = set(data1)\n",
    "s2 = set(data2)\n",
    "actual_jaccard = float(len(s1.intersection(s2)))/float(len(s1.union(s2)))\n",
    "print(\"Actual Jaccard for data1 and data2 is\", actual_jaccard)"
   ]
  },
  {
   "cell_type": "markdown",
   "metadata": {},
   "source": [
    "Hasta aca es sin tf-idf ahora se le aplica tf-idf para calcular las palabras mas importantes \n",
    "y quedarme solo con esas palabras"
   ]
  },
  {
   "cell_type": "code",
   "execution_count": 15,
   "metadata": {},
   "outputs": [
    {
     "name": "stdout",
     "output_type": "stream",
     "text": [
      "ok\n"
     ]
    }
   ],
   "source": [
    "from sklearn.feature_extraction.text import TfidfVectorizer\n",
    "import numpy as np\n",
    "from scipy.sparse.csr import csr_matrix #need this if you want to save tfidf_matrix\n",
    "\n",
    "#tf = TfidfVectorizer(input='/home/iglesias/test', analyzer='word', ngram_range=(1,6),\n",
    "#min_df = 0, stop_words = 'english', sublinear_tf=True)\n",
    "tf = TfidfVectorizer() \n",
    "tfidf_matrix =  tf.fit_transform(df2[\"descripcion\"])\n",
    "\n",
    "\n",
    "feature_names = tf.get_feature_names()\n",
    "\n",
    "\"\"\"doc =0\n",
    "feature_index = tfidf_matrix[doc,:].nonzero()[1]\n",
    "tfidf_scores = zip(feature_index, [tfidf_matrix[doc, x] for x in feature_index])\n",
    "for w, s in [(feature_names[i], s) for (i, s) in tfidf_scores]:\n",
    "  print(w, s)\n",
    "\"\"\"\n",
    "factor=df2[\"descripcion\"].count()\n",
    "\n",
    "scores=[]\n",
    "dos_mil_palabras_importantes = []\n",
    "for doc in range(factor):\n",
    "    feature_index = tfidf_matrix[doc,:].nonzero()[1]\n",
    "    tfidf_scores = zip(feature_index, [tfidf_matrix[doc, x] for x in feature_index])\n",
    "    for w, s in [(feature_names[i], s) for (i, s) in tfidf_scores]:\n",
    "      if not w in dos_mil_palabras_importantes:   \n",
    "          scores.append(-s)\n",
    "          dos_mil_palabras_importantes.append(w)  \n",
    "\n",
    "import heapq\n",
    "\n",
    "scores_mas_importantes=[]\n",
    "heapq.heapify(scores)\n",
    "\n",
    "cantidad_de_palabras_que_quiero = 500 #fijarse de tener esta cantidad de palabras sino rompe\n",
    "\n",
    "for x in range(cantidad_de_palabras_que_quiero):\n",
    "    scores_mas_importantes.append(heapq.heappop(scores))\n",
    "\n",
    "dos_mil_palabras_importantes = []    \n",
    "    \n",
    "for doc in range(df2[\"descripcion\"].count()):\n",
    "    feature_index = tfidf_matrix[doc,:].nonzero()[1]\n",
    "    tfidf_scores = zip(feature_index, [tfidf_matrix[doc, x] for x in feature_index])\n",
    "    for w, s in [(feature_names[i], s) for (i, s) in tfidf_scores]:\n",
    "      if -s in scores_mas_importantes:   \n",
    "          dos_mil_palabras_importantes.append(w) \n",
    "            \n",
    "print(\"ok\")        "
   ]
  },
  {
   "cell_type": "code",
   "execution_count": 16,
   "metadata": {},
   "outputs": [
    {
     "data": {
      "text/plain": [
       "'encontramos busqueda analista sector posicion responsabilidades seran analisis evaluacion participacion administracion cartera requisitos postulate sos profesional estudiante avanzado carreras ciencias economicas administracion ingeniero actitud proactiva buen manejo relaciones interpersonales equipo orientacion resultados buen manejo paquete office conocimientos experiencia laboral analisis beneficios condiciones contratacion lunes viernes jornada full time lugar trabajo microcentro empresa ofrece condiciones contratacion'"
      ]
     },
     "execution_count": 16,
     "metadata": {},
     "output_type": "execute_result"
    }
   ],
   "source": [
    "data2=df2[\"descripcion\"][43]\n",
    "data2"
   ]
  },
  {
   "cell_type": "code",
   "execution_count": 17,
   "metadata": {},
   "outputs": [],
   "source": [
    "def mas_impor(description):\n",
    "    \n",
    "    resultado = []\n",
    "    \n",
    "    for palabra in description.lower().split():\n",
    "        if palabra not in dos_mil_palabras_importantes:\n",
    "            continue\n",
    "            \n",
    "        resultado.append(palabra)\n",
    "    \n",
    "    return ' '.join(resultado)"
   ]
  },
  {
   "cell_type": "code",
   "execution_count": 18,
   "metadata": {},
   "outputs": [],
   "source": [
    "df2[\"descripcion\"]=df2[\"descripcion\"].map(mas_impor)"
   ]
  },
  {
   "cell_type": "code",
   "execution_count": 19,
   "metadata": {},
   "outputs": [
    {
     "data": {
      "text/plain": [
       "'encontramos busqueda analista sector posicion evaluacion participacion cartera requisitos postulate sos profesional estudiante avanzado ciencias economicas actitud proactiva buen manejo relaciones interpersonales equipo buen manejo conocimientos beneficios lunes jornada full time lugar trabajo microcentro'"
      ]
     },
     "execution_count": 19,
     "metadata": {},
     "output_type": "execute_result"
    }
   ],
   "source": [
    "data2=df2[\"descripcion\"][43]\n",
    "data2"
   ]
  },
  {
   "cell_type": "code",
   "execution_count": 20,
   "metadata": {},
   "outputs": [
    {
     "name": "stdout",
     "output_type": "stream",
     "text": [
      "Estimated Jaccard for data1 and data2 is 1.0\n",
      "encontramos busqueda analista sector posicion evaluacion participacion cartera requisitos postulate sos profesional estudiante avanzado ciencias economicas actitud proactiva buen manejo relaciones interpersonales equipo buen manejo conocimientos beneficios lunes jornada full time lugar trabajo microcentro\n",
      "Estimated Jaccard for data1 and data2 is 0.53125\n",
      "encontramos busqueda lider cobranzas compañia financiera grupo reconocida posicion grupo realizar indicadores reportes postulate sos profesional estudiante ciencias economicas afin actitud proactiva buen manejo relaciones interpersonales buen manejo manejo lunes jornada full time lugar trabajo microcentro\n",
      "Estimated Jaccard for data1 and data2 is 0.34375\n",
      "encontramos busqueda analista gerencia empresas perfil requerido profesional estudiante avanzado ciencias economicas contador publico buen manejo relaciones interpersonales equipo actitud proactiva estudios intermedio microsoft cartera clientes comerciales perfil postulate\n",
      "Estimated Jaccard for data1 and data2 is 0.3046875\n",
      "en encontramos busqueda horario hs tareas carga datos facturacion atencion cliente tareas administrativas requisitos secundario completo atencion cliente valoraran candidatos manejo avanzado excluyente horario trabajo lunes lugar trabajo microcentro excelentes buen acorde posicion\n",
      "Estimated Jaccard for data1 and data2 is 0.3515625\n",
      "multinacional busqueda analista cobranzas requisitos estudiante avanzado economicas afines excluyente manejo sap excluyente avanzado excluyente lugar trabajo jornada lunes full time eventual\n",
      "Estimated Jaccard for data1 and data2 is 0.328125\n",
      "lider limpieza encontramos busqueda analista cobranzas sumarse departamento mantenimiento cobranzas mantenimiento confeccion realizar cartera cliente realizacion cobranzas participacion funcion zona estudiante ciencias economicas trabajos cobranzas buen excel actitud proactiva intermedio modalidad ingreso trabajo beneficios jornada lunes hs zona\n",
      "Estimated Jaccard for data1 and data2 is 0.3515625\n",
      "en sos estudiante ciencias formar parte equipo trabajo postularte encontramos busqueda departamento calidad area con mejora cumplimiento indicadores calidad manejo mensuales acuerdo sector posicion excluyente contar minima comprobable area especializados reportes calidad linea laborales jornada lunes hs lugar microcentro\n",
      "Estimated Jaccard for data1 and data2 is 0.359375\n",
      "seleccionaremos multinacional analista software desempeñarse requisitos estudiante avanzado dominio manejo avanzado software no excluyente conocimientos sap no excluyente jornada full time hs lugar trabajo posicion interesantes\n",
      "Estimated Jaccard for data1 and data2 is 0.359375\n",
      "seleccionaremos multinacional analista software desempeñarse requisitos estudiante avanzado dominio avanzado excluyente manejo avanzado software no excluyente conocimientos sap no excluyente jornada full time hs lugar trabajo posicion interesantes\n",
      "Estimated Jaccard for data1 and data2 is 0.3515625\n",
      "encontramos busqueda analista estudiante avanzado graduado contador publico lic empresas funcion empresas afines buen manejo relaciones interpersonales actitud proactiva lugar trabajo capital federal\n",
      "Estimated Jaccard for data1 and data2 is 0.359375\n",
      "seleccionaremos multinacional analista desempeñarse requisitos estudiante avanzado dominio avanzado excluyente manejo avanzado software no excluyente conocimientos sap no excluyente jornada full time hs lugar trabajo posicion interesantes\n"
     ]
    }
   ],
   "source": [
    "from datasketch import MinHash\n",
    "\n",
    "data1=df2[\"descripcion\"][43]\n",
    "data1=data1.split()\n",
    "    \n",
    "def jac(texto):\n",
    "    \n",
    "    data2=texto.split()\n",
    "    m1, m2 = MinHash(), MinHash()\n",
    "    for d in data1:\n",
    "        m1.update(d.encode('utf8'))\n",
    "    for d in data2:\n",
    "        m2.update(d.encode('utf8'))\n",
    "    if m1.jaccard(m2)> 0.3:     \n",
    "        print(\"Estimated Jaccard for data1 and data2 is\", m1.jaccard(m2))\n",
    "        print(\" \".join(data2))\n",
    "\n",
    "d=df2[\"descripcion\"].map(jac)  "
   ]
  },
  {
   "cell_type": "code",
   "execution_count": null,
   "metadata": {},
   "outputs": [],
   "source": []
  }
 ],
 "metadata": {
  "kernelspec": {
   "display_name": "Python 3",
   "language": "python",
   "name": "python3"
  },
  "language_info": {
   "codemirror_mode": {
    "name": "ipython",
    "version": 3
   },
   "file_extension": ".py",
   "mimetype": "text/x-python",
   "name": "python",
   "nbconvert_exporter": "python",
   "pygments_lexer": "ipython3",
   "version": "3.5.2"
  }
 },
 "nbformat": 4,
 "nbformat_minor": 2
}
