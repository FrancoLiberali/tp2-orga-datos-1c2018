{
 "cells": [
  {
   "cell_type": "code",
   "execution_count": 1,
   "metadata": {},
   "outputs": [],
   "source": [
    "import pandas as pd\n",
    "import numpy as np\n",
    "import matplotlib.pyplot as plt\n",
    "\n",
    "%matplotlib inline"
   ]
  },
  {
   "cell_type": "code",
   "execution_count": 3,
   "metadata": {},
   "outputs": [],
   "source": [
    "avisos_detalle = pd.read_csv('~/orga-datos/datos_preprocesados/fiuba_6_avisos_detalle.csv')\n",
    "# Estas columnas no aportan suficiente información\n",
    "# idpais: Siempre vale 1\n",
    "# ciudad: Hay alrededor de 50 registros con esta información, el resto es NaN\n",
    "# mapacalle: Hay sólo 683 registros con esta información.\n",
    "avisos_detalle = avisos_detalle.drop(axis=1, labels=['idpais', 'ciudad', 'mapacalle', 'titulo', 'descripcion', 'nivel_laboral', 'denominacion_empresa'])\n",
    "avisos_detalle['nombre_zona'] = avisos_detalle['nombre_zona'].astype('category')\n",
    "avisos_detalle = pd.get_dummies(avisos_detalle, columns=['nombre_zona', 'nombre_area', 'tipo_de_trabajo'])"
   ]
  },
  {
   "cell_type": "code",
   "execution_count": 6,
   "metadata": {},
   "outputs": [],
   "source": [
    "postulantes = pd.read_csv('~/orga-datos/datos_procesados/vector_postulantes.csv') # Este archivo se genera en postulantes.py"
   ]
  },
  {
   "cell_type": "code",
   "execution_count": 5,
   "metadata": {},
   "outputs": [],
   "source": [
    "postulaciones = pd.read_csv('~/orga-datos/tmp/set_entrenamiento.csv') # El set tiene filtrado que avisos se vieron y que avisos se postularon.\n",
    "postulaciones = pd.merge(postulaciones, postulantes, on='idpostulante', how='inner')\n",
    "postulaciones = postulaciones.drop(axis=1, labels=['idpostulante'])\n",
    "postulaciones = postulaciones[postulaciones['sepostulo'] == 1]\n",
    "postulaciones = postulaciones.drop(axis=1, labels=['sepostulo'])"
   ]
  },
  {
   "cell_type": "code",
   "execution_count": 6,
   "metadata": {},
   "outputs": [
    {
     "data": {
      "text/html": [
       "<div>\n",
       "<style scoped>\n",
       "    .dataframe tbody tr th:only-of-type {\n",
       "        vertical-align: middle;\n",
       "    }\n",
       "\n",
       "    .dataframe tbody tr th {\n",
       "        vertical-align: top;\n",
       "    }\n",
       "\n",
       "    .dataframe thead th {\n",
       "        text-align: right;\n",
       "    }\n",
       "</style>\n",
       "<table border=\"1\" class=\"dataframe\">\n",
       "  <thead>\n",
       "    <tr style=\"text-align: right;\">\n",
       "      <th></th>\n",
       "      <th>sexo</th>\n",
       "      <th>edad</th>\n",
       "      <th>nivel_educativo</th>\n",
       "    </tr>\n",
       "    <tr>\n",
       "      <th>idaviso</th>\n",
       "      <th></th>\n",
       "      <th></th>\n",
       "      <th></th>\n",
       "    </tr>\n",
       "  </thead>\n",
       "  <tbody>\n",
       "    <tr>\n",
       "      <th>8725750</th>\n",
       "      <td>0.196721</td>\n",
       "      <td>31.434426</td>\n",
       "      <td>2.282787</td>\n",
       "    </tr>\n",
       "    <tr>\n",
       "      <th>12543760</th>\n",
       "      <td>-0.148674</td>\n",
       "      <td>29.317235</td>\n",
       "      <td>2.752367</td>\n",
       "    </tr>\n",
       "    <tr>\n",
       "      <th>12812680</th>\n",
       "      <td>-0.798658</td>\n",
       "      <td>24.610738</td>\n",
       "      <td>2.137584</td>\n",
       "    </tr>\n",
       "    <tr>\n",
       "      <th>17903700</th>\n",
       "      <td>-0.754717</td>\n",
       "      <td>33.490566</td>\n",
       "      <td>2.748428</td>\n",
       "    </tr>\n",
       "    <tr>\n",
       "      <th>1000132160</th>\n",
       "      <td>0.666667</td>\n",
       "      <td>37.833333</td>\n",
       "      <td>2.833333</td>\n",
       "    </tr>\n",
       "  </tbody>\n",
       "</table>\n",
       "</div>"
      ],
      "text/plain": [
       "                sexo       edad  nivel_educativo\n",
       "idaviso                                         \n",
       "8725750     0.196721  31.434426         2.282787\n",
       "12543760   -0.148674  29.317235         2.752367\n",
       "12812680   -0.798658  24.610738         2.137584\n",
       "17903700   -0.754717  33.490566         2.748428\n",
       "1000132160  0.666667  37.833333         2.833333"
      ]
     },
     "execution_count": 6,
     "metadata": {},
     "output_type": "execute_result"
    }
   ],
   "source": [
    "avisos_postulantes_data = postulaciones.groupby('idaviso').agg('mean')\n",
    "avisos_postulantes_data.head()"
   ]
  },
  {
   "cell_type": "code",
   "execution_count": 7,
   "metadata": {},
   "outputs": [],
   "source": [
    "avisos_detalle = avisos_detalle.set_index('idaviso')\n",
    "avisos_detalle['edad'] = avisos_postulantes_data['edad']\n",
    "avisos_detalle['sexo'] = avisos_postulantes_data['sexo']\n",
    "avisos_detalle['nivel_educativo'] = avisos_postulantes_data['nivel_educativo']\n",
    "avisos_detalle = avisos_detalle.reset_index('idaviso')"
   ]
  },
  {
   "cell_type": "code",
   "execution_count": 8,
   "metadata": {},
   "outputs": [],
   "source": [
    "avisos_detalle.head()"
   ]
  },
  {
   "cell_type": "markdown",
   "metadata": {},
   "source": [
    "#### Hasta acá: Generación de datos\n",
    "\n",
    "\n",
    "#### Desde acá: Uso de resultados cacheados porque soy pobre y no tengo tanta RAM"
   ]
  },
  {
   "cell_type": "code",
   "execution_count": 31,
   "metadata": {},
   "outputs": [],
   "source": [
    "avisos_detalle = pd.read_csv('/home/luciano/orga-datos/datos_procesados/avisos_mas_postulantes.csv')\n",
    "avisos_detalle = pd.get_dummies(avisos_detalle, columns=['nombre_zona', 'nombre_area', 'tipo_de_trabajo'])"
   ]
  },
  {
   "cell_type": "code",
   "execution_count": 3,
   "metadata": {},
   "outputs": [],
   "source": [
    "from sklearn.ensemble import RandomForestClassifier\n",
    "rdf = RandomForestClassifier(criterion='entropy', n_jobs=-1, verbose=1)"
   ]
  },
  {
   "cell_type": "code",
   "execution_count": 9,
   "metadata": {},
   "outputs": [
    {
     "name": "stderr",
     "output_type": "stream",
     "text": [
      "[Parallel(n_jobs=-1)]: Done  10 out of  10 | elapsed:    2.4s finished\n",
      "[Parallel(n_jobs=-1)]: Done  10 out of  10 | elapsed:    2.3s finished\n",
      "[Parallel(n_jobs=-1)]: Done  10 out of  10 | elapsed:    2.4s finished\n",
      "[Parallel(n_jobs=-1)]: Done  10 out of  10 | elapsed:    2.4s finished\n",
      "[Parallel(n_jobs=-1)]: Done  10 out of  10 | elapsed:    2.5s finished\n",
      "[Parallel(n_jobs=-1)]: Done  10 out of  10 | elapsed:    2.4s finished\n",
      "[Parallel(n_jobs=-1)]: Done  10 out of  10 | elapsed:    2.5s finished\n",
      "[Parallel(n_jobs=-1)]: Done  10 out of  10 | elapsed:    2.4s finished\n",
      "[Parallel(n_jobs=-1)]: Done  10 out of  10 | elapsed:    2.3s finished\n",
      "[Parallel(n_jobs=-1)]: Done  10 out of  10 | elapsed:    2.4s finished\n",
      "[Parallel(n_jobs=-1)]: Done  10 out of  10 | elapsed:    2.6s finished\n",
      "[Parallel(n_jobs=-1)]: Done  10 out of  10 | elapsed:    2.6s finished\n",
      "[Parallel(n_jobs=-1)]: Done  10 out of  10 | elapsed:    2.5s finished\n",
      "[Parallel(n_jobs=-1)]: Done  10 out of  10 | elapsed:    2.5s finished\n",
      "[Parallel(n_jobs=-1)]: Done  10 out of  10 | elapsed:    2.5s finished\n",
      "[Parallel(n_jobs=-1)]: Done  10 out of  10 | elapsed:    2.5s finished\n",
      "[Parallel(n_jobs=-1)]: Done  10 out of  10 | elapsed:    2.4s finished\n",
      "[Parallel(n_jobs=-1)]: Done  10 out of  10 | elapsed:    2.5s finished\n",
      "[Parallel(n_jobs=-1)]: Done  10 out of  10 | elapsed:    2.7s finished\n",
      "[Parallel(n_jobs=-1)]: Done  10 out of  10 | elapsed:    2.5s finished\n",
      "[Parallel(n_jobs=-1)]: Done  10 out of  10 | elapsed:    2.5s finished\n",
      "[Parallel(n_jobs=-1)]: Done  10 out of  10 | elapsed:    2.4s finished\n",
      "[Parallel(n_jobs=-1)]: Done  10 out of  10 | elapsed:    2.4s finished\n",
      "[Parallel(n_jobs=-1)]: Done  10 out of  10 | elapsed:    2.4s finished\n",
      "[Parallel(n_jobs=-1)]: Done  10 out of  10 | elapsed:    2.3s finished\n",
      "[Parallel(n_jobs=-1)]: Done  10 out of  10 | elapsed:    2.3s finished\n",
      "[Parallel(n_jobs=-1)]: Done  10 out of  10 | elapsed:    2.5s finished\n",
      "[Parallel(n_jobs=-1)]: Done  10 out of  10 | elapsed:    2.5s finished\n",
      "[Parallel(n_jobs=-1)]: Done  10 out of  10 | elapsed:    2.4s finished\n",
      "[Parallel(n_jobs=-1)]: Done  10 out of  10 | elapsed:    2.4s finished\n",
      "[Parallel(n_jobs=-1)]: Done  10 out of  10 | elapsed:    2.4s finished\n",
      "[Parallel(n_jobs=-1)]: Done  10 out of  10 | elapsed:    2.4s finished\n",
      "[Parallel(n_jobs=-1)]: Done  10 out of  10 | elapsed:    2.5s finished\n",
      "[Parallel(n_jobs=-1)]: Done  10 out of  10 | elapsed:    2.5s finished\n",
      "[Parallel(n_jobs=-1)]: Done  10 out of  10 | elapsed:    2.6s finished\n",
      "[Parallel(n_jobs=-1)]: Done  10 out of  10 | elapsed:    2.6s finished\n",
      "[Parallel(n_jobs=-1)]: Done  10 out of  10 | elapsed:    2.4s finished\n",
      "[Parallel(n_jobs=-1)]: Done  10 out of  10 | elapsed:    2.5s finished\n",
      "[Parallel(n_jobs=-1)]: Done  10 out of  10 | elapsed:    2.3s finished\n",
      "[Parallel(n_jobs=-1)]: Done  10 out of  10 | elapsed:    2.5s finished\n",
      "[Parallel(n_jobs=-1)]: Done  10 out of  10 | elapsed:    2.5s finished\n",
      "[Parallel(n_jobs=-1)]: Done  10 out of  10 | elapsed:    2.4s finished\n",
      "[Parallel(n_jobs=-1)]: Done  10 out of  10 | elapsed:    2.5s finished\n",
      "[Parallel(n_jobs=-1)]: Done  10 out of  10 | elapsed:    2.3s finished\n",
      "[Parallel(n_jobs=-1)]: Done  10 out of  10 | elapsed:    2.4s finished\n",
      "[Parallel(n_jobs=-1)]: Done  10 out of  10 | elapsed:    2.5s finished\n",
      "[Parallel(n_jobs=-1)]: Done  10 out of  10 | elapsed:    2.4s finished\n",
      "[Parallel(n_jobs=-1)]: Done  10 out of  10 | elapsed:    2.5s finished\n",
      "[Parallel(n_jobs=-1)]: Done  10 out of  10 | elapsed:    2.4s finished\n",
      "[Parallel(n_jobs=-1)]: Done  10 out of  10 | elapsed:    2.3s finished\n",
      "[Parallel(n_jobs=-1)]: Done  10 out of  10 | elapsed:    2.3s finished\n",
      "[Parallel(n_jobs=-1)]: Done  10 out of  10 | elapsed:    2.4s finished\n",
      "[Parallel(n_jobs=-1)]: Done  10 out of  10 | elapsed:    2.4s finished\n",
      "[Parallel(n_jobs=-1)]: Done  10 out of  10 | elapsed:    2.3s finished\n",
      "[Parallel(n_jobs=-1)]: Done  10 out of  10 | elapsed:    2.3s finished\n",
      "[Parallel(n_jobs=-1)]: Done  10 out of  10 | elapsed:    2.3s finished\n",
      "[Parallel(n_jobs=-1)]: Done  10 out of  10 | elapsed:    2.5s finished\n",
      "[Parallel(n_jobs=-1)]: Done  10 out of  10 | elapsed:    2.4s finished\n",
      "[Parallel(n_jobs=-1)]: Done  10 out of  10 | elapsed:    2.5s finished\n",
      "[Parallel(n_jobs=-1)]: Done  10 out of  10 | elapsed:    2.4s finished\n",
      "[Parallel(n_jobs=-1)]: Done  10 out of  10 | elapsed:    2.3s finished\n",
      "[Parallel(n_jobs=-1)]: Done  10 out of  10 | elapsed:    2.5s finished\n",
      "[Parallel(n_jobs=-1)]: Done  10 out of  10 | elapsed:    2.5s finished\n",
      "[Parallel(n_jobs=-1)]: Done  10 out of  10 | elapsed:    2.4s finished\n",
      "[Parallel(n_jobs=-1)]: Done  10 out of  10 | elapsed:    2.4s finished\n",
      "[Parallel(n_jobs=-1)]: Done  10 out of  10 | elapsed:    2.4s finished\n",
      "[Parallel(n_jobs=-1)]: Done  10 out of  10 | elapsed:    2.3s finished\n",
      "[Parallel(n_jobs=-1)]: Done  10 out of  10 | elapsed:    2.4s finished\n",
      "[Parallel(n_jobs=-1)]: Done  10 out of  10 | elapsed:    2.5s finished\n",
      "[Parallel(n_jobs=-1)]: Done  10 out of  10 | elapsed:    2.4s finished\n",
      "[Parallel(n_jobs=-1)]: Done  10 out of  10 | elapsed:    2.4s finished\n",
      "[Parallel(n_jobs=-1)]: Done  10 out of  10 | elapsed:    2.4s finished\n",
      "[Parallel(n_jobs=-1)]: Done  10 out of  10 | elapsed:    2.5s finished\n",
      "[Parallel(n_jobs=-1)]: Done  10 out of  10 | elapsed:    2.4s finished\n",
      "[Parallel(n_jobs=-1)]: Done  10 out of  10 | elapsed:    2.3s finished\n",
      "[Parallel(n_jobs=-1)]: Done  10 out of  10 | elapsed:    2.3s finished\n",
      "[Parallel(n_jobs=-1)]: Done  10 out of  10 | elapsed:    2.4s finished\n",
      "[Parallel(n_jobs=-1)]: Done  10 out of  10 | elapsed:    2.4s finished\n",
      "[Parallel(n_jobs=-1)]: Done  10 out of  10 | elapsed:    2.5s finished\n",
      "[Parallel(n_jobs=-1)]: Done  10 out of  10 | elapsed:    2.3s finished\n",
      "[Parallel(n_jobs=-1)]: Done  10 out of  10 | elapsed:    2.6s finished\n",
      "[Parallel(n_jobs=-1)]: Done  10 out of  10 | elapsed:    2.5s finished\n",
      "[Parallel(n_jobs=-1)]: Done  10 out of  10 | elapsed:    2.5s finished\n",
      "[Parallel(n_jobs=-1)]: Done  10 out of  10 | elapsed:    2.4s finished\n",
      "[Parallel(n_jobs=-1)]: Done  10 out of  10 | elapsed:    2.4s finished\n",
      "[Parallel(n_jobs=-1)]: Done  10 out of  10 | elapsed:    2.4s finished\n",
      "[Parallel(n_jobs=-1)]: Done  10 out of  10 | elapsed:    2.5s finished\n"
     ]
    }
   ],
   "source": [
    "paso = 100000\n",
    "total_lineas = 9560544\n",
    "lineas_train = int(total_lineas * 0.9)\n",
    "lineas_test  = int(total_lineas * 0.1)\n",
    "\n",
    "CSV_POSTULACIONES = '/home/luciano/orga-datos/tmp/set_entrenamiento.csv'\n",
    "\n",
    "for i in range(0, lineas_train, paso): # 9560544 = cantidad de lineas en set_entrenamiento.csv\n",
    "    entrenamiento = pd.read_csv(CSV_POSTULACIONES, skiprows=range(1, i), nrows=paso)\n",
    "    entrenamiento = pd.merge(entrenamiento, postulantes, on='idpostulante', how='inner')\n",
    "    entrenamiento = pd.merge(entrenamiento, avisos_detalle, on='idaviso', how='inner')\n",
    "    entrenamiento = entrenamiento.drop(axis=1, labels=['idaviso', 'idpostulante'])\n",
    "    entrenamiento[entrenamiento['sexo_y'].isna()] = 0\n",
    "    entrenamiento[entrenamiento['edad_y'].isna()] = 30\n",
    "    y = entrenamiento['sepostulo']\n",
    "    entrenamiento = entrenamiento.drop(axis=1, labels=['sepostulo'])\n",
    "    rdf.fit(entrenamiento, y)"
   ]
  },
  {
   "cell_type": "code",
   "execution_count": 11,
   "metadata": {},
   "outputs": [
    {
     "name": "stderr",
     "output_type": "stream",
     "text": [
      "[Parallel(n_jobs=4)]: Done  10 out of  10 | elapsed:    0.2s finished\n"
     ]
    },
    {
     "name": "stdout",
     "output_type": "stream",
     "text": [
      "0.95501\n"
     ]
    },
    {
     "name": "stderr",
     "output_type": "stream",
     "text": [
      "[Parallel(n_jobs=4)]: Done  10 out of  10 | elapsed:    0.2s finished\n"
     ]
    },
    {
     "name": "stdout",
     "output_type": "stream",
     "text": [
      "0.7248934936096165\n"
     ]
    },
    {
     "name": "stderr",
     "output_type": "stream",
     "text": [
      "[Parallel(n_jobs=4)]: Done  10 out of  10 | elapsed:    0.2s finished\n"
     ]
    },
    {
     "name": "stdout",
     "output_type": "stream",
     "text": [
      "0.7249117473524206\n"
     ]
    },
    {
     "name": "stderr",
     "output_type": "stream",
     "text": [
      "[Parallel(n_jobs=4)]: Done  10 out of  10 | elapsed:    0.2s finished\n"
     ]
    },
    {
     "name": "stdout",
     "output_type": "stream",
     "text": [
      "0.72287\n"
     ]
    },
    {
     "name": "stderr",
     "output_type": "stream",
     "text": [
      "[Parallel(n_jobs=4)]: Done  10 out of  10 | elapsed:    0.2s finished\n"
     ]
    },
    {
     "name": "stdout",
     "output_type": "stream",
     "text": [
      "0.7242644852897058\n"
     ]
    },
    {
     "name": "stderr",
     "output_type": "stream",
     "text": [
      "[Parallel(n_jobs=4)]: Done  10 out of  10 | elapsed:    0.2s finished\n"
     ]
    },
    {
     "name": "stdout",
     "output_type": "stream",
     "text": [
      "0.7206460323016151\n"
     ]
    },
    {
     "name": "stderr",
     "output_type": "stream",
     "text": [
      "[Parallel(n_jobs=4)]: Done  10 out of  10 | elapsed:    0.2s finished\n"
     ]
    },
    {
     "name": "stdout",
     "output_type": "stream",
     "text": [
      "0.7212644252885058\n"
     ]
    },
    {
     "name": "stderr",
     "output_type": "stream",
     "text": [
      "[Parallel(n_jobs=4)]: Done  10 out of  10 | elapsed:    0.2s finished\n"
     ]
    },
    {
     "name": "stdout",
     "output_type": "stream",
     "text": [
      "0.7202516075482265\n"
     ]
    },
    {
     "name": "stderr",
     "output_type": "stream",
     "text": [
      "[Parallel(n_jobs=4)]: Done  10 out of  10 | elapsed:    0.2s finished\n"
     ]
    },
    {
     "name": "stdout",
     "output_type": "stream",
     "text": [
      "0.7229716891506746\n",
      "0.7246405252078353\n"
     ]
    },
    {
     "name": "stderr",
     "output_type": "stream",
     "text": [
      "[Parallel(n_jobs=4)]: Done  10 out of  10 | elapsed:    0.1s finished\n"
     ]
    }
   ],
   "source": [
    "scores = []\n",
    "for i in range(lineas_train, total_lineas, paso):\n",
    "    test = pd.read_csv(CSV_POSTULACIONES, skiprows=range(1, i), nrows=paso)\n",
    "    test = pd.merge(test, postulantes, on='idpostulante', how='inner')\n",
    "    test = pd.merge(test, avisos_detalle, on='idaviso', how='inner')\n",
    "    test = test.drop(axis=1, labels=['idaviso', 'idpostulante'])\n",
    "    test[test['sexo_y'].isna()] = 0\n",
    "    test[test['edad_y'].isna()] = 30\n",
    "    y = test['sepostulo']\n",
    "    test = test.drop(axis=1, labels=['sepostulo'])\n",
    "    scores.append(rdf.score(test, y))\n",
    "    print(scores[-1])"
   ]
  },
  {
   "cell_type": "code",
   "execution_count": 50,
   "metadata": {},
   "outputs": [
    {
     "name": "stderr",
     "output_type": "stream",
     "text": [
      "[Parallel(n_jobs=4)]: Done  10 out of  10 | elapsed:    0.2s finished\n"
     ]
    }
   ],
   "source": [
    "CSV_TEST = '/home/luciano/orga-datos/test_final_100k.csv'\n",
    "test_o = pd.read_csv(CSV_TEST)\n",
    "test = pd.merge(test_o, postulantes, on='idpostulante', how='left')\n",
    "test = pd.merge(test, avisos_detalle, on='idaviso', how='left')\n",
    "test = test.drop(axis=1, labels=['id', 'idaviso', 'idpostulante'])\n",
    "test[test['sexo_y'].isna()] = 0\n",
    "test[test['edad_y'].isna()] = 30\n",
    "test[test['sexo_x'].isna()] = 0\n",
    "test[test['edad_x'].isna()] = 30\n",
    "test[test['nivel_educativo_x'].isna()] = 0\n",
    "ret = rdf.predict_proba(test)"
   ]
  },
  {
   "cell_type": "code",
   "execution_count": 53,
   "metadata": {},
   "outputs": [],
   "source": [
    "test_o['sepostulo'] = pd.DataFrame(ret)[1]"
   ]
  },
  {
   "cell_type": "code",
   "execution_count": 55,
   "metadata": {},
   "outputs": [
    {
     "data": {
      "text/plain": [
       "<matplotlib.axes._subplots.AxesSubplot at 0x7f9ac1fcdbe0>"
      ]
     },
     "execution_count": 55,
     "metadata": {},
     "output_type": "execute_result"
    },
    {
     "data": {
      "image/png": "[encoded data removed]",
      "text/plain": [
       "<Figure size 432x288 with 1 Axes>"
      ]
     },
     "metadata": {},
     "output_type": "display_data"
    }
   ],
   "source": [
    "test_o['sepostulo'].hist()"
   ]
  },
  {
   "cell_type": "code",
   "execution_count": null,
   "metadata": {},
   "outputs": [],
   "source": []
  }
 ],
 "metadata": {
  "kernelspec": {
   "display_name": "Python 3",
   "language": "python",
   "name": "python3"
  },
  "language_info": {
   "codemirror_mode": {
    "name": "ipython",
    "version": 3
   },
   "file_extension": ".py",
   "mimetype": "text/x-python",
   "name": "python",
   "nbconvert_exporter": "python",
   "pygments_lexer": "ipython3",
   "version": "3.5.2"
  }
 },
 "nbformat": 4,
 "nbformat_minor": 2
}
